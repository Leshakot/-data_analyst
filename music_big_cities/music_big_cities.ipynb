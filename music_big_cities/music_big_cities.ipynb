{
 "cells": [
  {
   "cell_type": "markdown",
   "metadata": {
    "deletable": false,
    "editable": false,
    "id": "E0vqbgi9ay0H"
   },
   "source": [
    "# Яндекс Музыка"
   ]
  },
  {
   "cell_type": "markdown",
   "metadata": {
    "deletable": false,
    "editable": false,
    "id": "VUC88oWjTJw2"
   },
   "source": [
    "Сравнение Москвы и Петербурга окружено мифами. Например:\n",
    " * Москва — мегаполис, подчинённый жёсткому ритму рабочей недели;\n",
    " * Петербург — культурная столица, со своими вкусами.\n",
    "\n",
    "На данных Яндекс Музыки вы сравните поведение пользователей двух столиц.\n",
    "\n",
    "**Цель исследования** — проверьте три гипотезы:\n",
    "1. Активность пользователей зависит от дня недели. Причём в Москве и Петербурге это проявляется по-разному.\n",
    "2. В понедельник утром в Москве преобладают одни жанры, а в Петербурге — другие. Так же и вечером пятницы преобладают разные жанры — в зависимости от города. \n",
    "3. Москва и Петербург предпочитают разные жанры музыки. В Москве чаще слушают поп-музыку, в Петербурге — русский рэп.\n",
    "\n",
    "**Ход исследования**\n",
    "\n",
    "Данные о поведении пользователей вы получите из файла `yandex_music_project.csv`. О качестве данных ничего не известно. Поэтому перед проверкой гипотез понадобится обзор данных. \n",
    "\n",
    "Вы проверите данные на ошибки и оцените их влияние на исследование. Затем, на этапе предобработки вы поищете возможность исправить самые критичные ошибки данных.\n",
    " \n",
    "Таким образом, исследование пройдёт в три этапа:\n",
    " 1. Обзор данных.\n",
    " 2. Предобработка данных.\n",
    " 3. Проверка гипотез.\n",
    "\n"
   ]
  },
  {
   "cell_type": "markdown",
   "metadata": {
    "deletable": false,
    "editable": false,
    "id": "Ml1hmfXC_Zcs"
   },
   "source": [
    "## Обзор данных\n",
    "\n",
    "Составьте первое представление о данных Яндекс Музыки.\n",
    "\n",
    "\n"
   ]
  },
  {
   "cell_type": "markdown",
   "metadata": {
    "deletable": false,
    "editable": false,
    "id": "57eAOGIz_Zcs",
    "tags": [
     "start_task"
    ]
   },
   "source": [
    "**Задание 1**\n",
    "\n",
    "Основной инструмент аналитика — `pandas`. Импортируйте эту библиотеку."
   ]
  },
  {
   "cell_type": "code",
   "execution_count": 1,
   "metadata": {
    "deletable": false,
    "id": "AXN7PHPN_Zcs"
   },
   "outputs": [],
   "source": [
    "import pandas as pd # импорт библиотеки pandas"
   ]
  },
  {
   "cell_type": "markdown",
   "metadata": {
    "deletable": false,
    "editable": false,
    "id": "SG23P8tt_Zcs",
    "tags": [
     "start_task"
    ]
   },
   "source": [
    "**Задание 2**\n",
    "\n",
    "Прочитайте файл `yandex_music_project.csv` из папки `/datasets` и сохраните его в переменной `df`:"
   ]
  },
  {
   "cell_type": "code",
   "execution_count": 2,
   "metadata": {
    "deletable": false,
    "id": "fFVu7vqh_Zct"
   },
   "outputs": [],
   "source": [
    "df = pd.read_csv('/datasets/yandex_music_project.csv') # чтение файла с данными и сохранение в df"
   ]
  },
  {
   "cell_type": "markdown",
   "metadata": {
    "deletable": false,
    "editable": false,
    "id": "rDoOMd3uTqnZ",
    "tags": [
     "start_task"
    ]
   },
   "source": [
    "**Задание 3**\n",
    "\n",
    "\n",
    "Выведите на экран первые десять строк таблицы:"
   ]
  },
  {
   "cell_type": "code",
   "execution_count": 3,
   "metadata": {},
   "outputs": [],
   "source": [
    "# df.to_csv('yandex_music_project.csv', index=False)"
   ]
  },
  {
   "cell_type": "code",
   "execution_count": 4,
   "metadata": {
    "deletable": false,
    "id": "oWTVX3gW_Zct"
   },
   "outputs": [
    {
     "data": {
      "text/html": [
       "<div>\n",
       "<style scoped>\n",
       "    .dataframe tbody tr th:only-of-type {\n",
       "        vertical-align: middle;\n",
       "    }\n",
       "\n",
       "    .dataframe tbody tr th {\n",
       "        vertical-align: top;\n",
       "    }\n",
       "\n",
       "    .dataframe thead th {\n",
       "        text-align: right;\n",
       "    }\n",
       "</style>\n",
       "<table border=\"1\" class=\"dataframe\">\n",
       "  <thead>\n",
       "    <tr style=\"text-align: right;\">\n",
       "      <th></th>\n",
       "      <th>userID</th>\n",
       "      <th>Track</th>\n",
       "      <th>artist</th>\n",
       "      <th>genre</th>\n",
       "      <th>City</th>\n",
       "      <th>time</th>\n",
       "      <th>Day</th>\n",
       "    </tr>\n",
       "  </thead>\n",
       "  <tbody>\n",
       "    <tr>\n",
       "      <th>0</th>\n",
       "      <td>FFB692EC</td>\n",
       "      <td>Kamigata To Boots</td>\n",
       "      <td>The Mass Missile</td>\n",
       "      <td>rock</td>\n",
       "      <td>Saint-Petersburg</td>\n",
       "      <td>20:28:33</td>\n",
       "      <td>Wednesday</td>\n",
       "    </tr>\n",
       "    <tr>\n",
       "      <th>1</th>\n",
       "      <td>55204538</td>\n",
       "      <td>Delayed Because of Accident</td>\n",
       "      <td>Andreas Rönnberg</td>\n",
       "      <td>rock</td>\n",
       "      <td>Moscow</td>\n",
       "      <td>14:07:09</td>\n",
       "      <td>Friday</td>\n",
       "    </tr>\n",
       "    <tr>\n",
       "      <th>2</th>\n",
       "      <td>20EC38</td>\n",
       "      <td>Funiculì funiculà</td>\n",
       "      <td>Mario Lanza</td>\n",
       "      <td>pop</td>\n",
       "      <td>Saint-Petersburg</td>\n",
       "      <td>20:58:07</td>\n",
       "      <td>Wednesday</td>\n",
       "    </tr>\n",
       "    <tr>\n",
       "      <th>3</th>\n",
       "      <td>A3DD03C9</td>\n",
       "      <td>Dragons in the Sunset</td>\n",
       "      <td>Fire + Ice</td>\n",
       "      <td>folk</td>\n",
       "      <td>Saint-Petersburg</td>\n",
       "      <td>08:37:09</td>\n",
       "      <td>Monday</td>\n",
       "    </tr>\n",
       "    <tr>\n",
       "      <th>4</th>\n",
       "      <td>E2DC1FAE</td>\n",
       "      <td>Soul People</td>\n",
       "      <td>Space Echo</td>\n",
       "      <td>dance</td>\n",
       "      <td>Moscow</td>\n",
       "      <td>08:34:34</td>\n",
       "      <td>Monday</td>\n",
       "    </tr>\n",
       "    <tr>\n",
       "      <th>5</th>\n",
       "      <td>842029A1</td>\n",
       "      <td>Преданная</td>\n",
       "      <td>IMPERVTOR</td>\n",
       "      <td>rusrap</td>\n",
       "      <td>Saint-Petersburg</td>\n",
       "      <td>13:09:41</td>\n",
       "      <td>Friday</td>\n",
       "    </tr>\n",
       "    <tr>\n",
       "      <th>6</th>\n",
       "      <td>4CB90AA5</td>\n",
       "      <td>True</td>\n",
       "      <td>Roman Messer</td>\n",
       "      <td>dance</td>\n",
       "      <td>Moscow</td>\n",
       "      <td>13:00:07</td>\n",
       "      <td>Wednesday</td>\n",
       "    </tr>\n",
       "    <tr>\n",
       "      <th>7</th>\n",
       "      <td>F03E1C1F</td>\n",
       "      <td>Feeling This Way</td>\n",
       "      <td>Polina Griffith</td>\n",
       "      <td>dance</td>\n",
       "      <td>Moscow</td>\n",
       "      <td>20:47:49</td>\n",
       "      <td>Wednesday</td>\n",
       "    </tr>\n",
       "    <tr>\n",
       "      <th>8</th>\n",
       "      <td>8FA1D3BE</td>\n",
       "      <td>И вновь продолжается бой</td>\n",
       "      <td>NaN</td>\n",
       "      <td>ruspop</td>\n",
       "      <td>Moscow</td>\n",
       "      <td>09:17:40</td>\n",
       "      <td>Friday</td>\n",
       "    </tr>\n",
       "    <tr>\n",
       "      <th>9</th>\n",
       "      <td>E772D5C0</td>\n",
       "      <td>Pessimist</td>\n",
       "      <td>NaN</td>\n",
       "      <td>dance</td>\n",
       "      <td>Saint-Petersburg</td>\n",
       "      <td>21:20:49</td>\n",
       "      <td>Wednesday</td>\n",
       "    </tr>\n",
       "  </tbody>\n",
       "</table>\n",
       "</div>"
      ],
      "text/plain": [
       "     userID                        Track            artist   genre  \\\n",
       "0  FFB692EC            Kamigata To Boots  The Mass Missile    rock   \n",
       "1  55204538  Delayed Because of Accident  Andreas Rönnberg    rock   \n",
       "2    20EC38            Funiculì funiculà       Mario Lanza     pop   \n",
       "3  A3DD03C9        Dragons in the Sunset        Fire + Ice    folk   \n",
       "4  E2DC1FAE                  Soul People        Space Echo   dance   \n",
       "5  842029A1                    Преданная         IMPERVTOR  rusrap   \n",
       "6  4CB90AA5                         True      Roman Messer   dance   \n",
       "7  F03E1C1F             Feeling This Way   Polina Griffith   dance   \n",
       "8  8FA1D3BE     И вновь продолжается бой               NaN  ruspop   \n",
       "9  E772D5C0                    Pessimist               NaN   dance   \n",
       "\n",
       "             City        time        Day  \n",
       "0  Saint-Petersburg  20:28:33  Wednesday  \n",
       "1            Moscow  14:07:09     Friday  \n",
       "2  Saint-Petersburg  20:58:07  Wednesday  \n",
       "3  Saint-Petersburg  08:37:09     Monday  \n",
       "4            Moscow  08:34:34     Monday  \n",
       "5  Saint-Petersburg  13:09:41     Friday  \n",
       "6            Moscow  13:00:07  Wednesday  \n",
       "7            Moscow  20:47:49  Wednesday  \n",
       "8            Moscow  09:17:40     Friday  \n",
       "9  Saint-Petersburg  21:20:49  Wednesday  "
      ]
     },
     "execution_count": 4,
     "metadata": {},
     "output_type": "execute_result"
    }
   ],
   "source": [
    "df.head(10) # получение первых 10 строк таблицы df"
   ]
  },
  {
   "cell_type": "markdown",
   "metadata": {
    "deletable": false,
    "editable": false,
    "id": "EO73Kwic_Zct",
    "tags": [
     "start_task"
    ]
   },
   "source": [
    "**Задание 4**\n",
    "\n",
    "\n",
    "Одной командой получить общую информацию о таблице c помощью метода `info()`:"
   ]
  },
  {
   "cell_type": "code",
   "execution_count": 5,
   "metadata": {
    "deletable": false,
    "id": "DSf2kIb-_Zct"
   },
   "outputs": [
    {
     "name": "stdout",
     "output_type": "stream",
     "text": [
      "<class 'pandas.core.frame.DataFrame'>\n",
      "RangeIndex: 65079 entries, 0 to 65078\n",
      "Data columns (total 7 columns):\n",
      " #   Column    Non-Null Count  Dtype \n",
      "---  ------    --------------  ----- \n",
      " 0     userID  65079 non-null  object\n",
      " 1   Track     63848 non-null  object\n",
      " 2   artist    57876 non-null  object\n",
      " 3   genre     63881 non-null  object\n",
      " 4     City    65079 non-null  object\n",
      " 5   time      65079 non-null  object\n",
      " 6   Day       65079 non-null  object\n",
      "dtypes: object(7)\n",
      "memory usage: 3.5+ MB\n"
     ]
    }
   ],
   "source": [
    "df.info() # получение общей информации о данных в таблице df"
   ]
  },
  {
   "cell_type": "markdown",
   "metadata": {
    "deletable": false,
    "editable": false,
    "id": "TaQ2Iwbr_Zct"
   },
   "source": [
    "Итак, в таблице семь столбцов. Тип данных во всех столбцах — `object`.\n",
    "\n",
    "Согласно документации к данным:\n",
    "* `userID` — идентификатор пользователя;\n",
    "* `Track` — название трека;  \n",
    "* `artist` — имя исполнителя;\n",
    "* `genre` — название жанра;\n",
    "* `City` — город пользователя;\n",
    "* `time` — время начала прослушивания;\n",
    "* `Day` — день недели.\n",
    "\n",
    "Количество значений в столбцах различается. Значит, в данных есть пропущенные значения."
   ]
  },
  {
   "cell_type": "markdown",
   "metadata": {
    "deletable": false,
    "editable": false,
    "id": "rAfziTBDmf2h",
    "tags": [
     "start_task"
    ]
   },
   "source": [
    "**Задание 5**\n",
    "\n",
    "**Вопрос со свободной формой ответа**\n",
    "\n",
    "В названиях колонок видны нарушения стиля:\n",
    "* Строчные буквы сочетаются с прописными.\n",
    "* Встречаются пробелы.\n",
    "\n",
    "Какое третье нарушение?"
   ]
  },
  {
   "cell_type": "code",
   "execution_count": 6,
   "metadata": {
    "id": "jD8EXEIvmf2h"
   },
   "outputs": [],
   "source": [
    "# прпопуски Напишите ваш ответ здесь комментарием. Не удаляйте символ #. Не меняйте тип этой ячейки на Markdown."
   ]
  },
  {
   "cell_type": "markdown",
   "metadata": {
    "deletable": false,
    "editable": false,
    "id": "MCB6-dXG_Zct"
   },
   "source": [
    "**Выводы**\n",
    "\n",
    "В каждой строке таблицы — данные о прослушанном треке. Часть колонок описывает саму композицию: название, исполнителя и жанр. Остальные данные рассказывают о пользователе: из какого он города, когда он слушал музыку. \n",
    "\n",
    "Предварительно можно утверждать, что данных достаточно для проверки гипотез. Но встречаются пропуски в данных, а в названиях колонок — расхождения с хорошим стилем.\n",
    "\n",
    "Чтобы двигаться дальше, нужно устранить проблемы в данных."
   ]
  },
  {
   "cell_type": "markdown",
   "metadata": {
    "deletable": false,
    "editable": false,
    "id": "SjYF6Ub9_Zct"
   },
   "source": [
    "## Предобработка данных\n",
    "Исправьте стиль в заголовках столбцов, исключите пропуски. Затем проверьте данные на дубликаты."
   ]
  },
  {
   "cell_type": "markdown",
   "metadata": {
    "deletable": false,
    "editable": false,
    "id": "dIaKXr29_Zct",
    "tags": [
     "start_task"
    ]
   },
   "source": [
    "### Стиль заголовков\n",
    "\n",
    "**Задание 6**\n",
    "\n",
    "Выведите на экран названия столбцов:"
   ]
  },
  {
   "cell_type": "code",
   "execution_count": 7,
   "metadata": {
    "deletable": false,
    "id": "oKOTdF_Q_Zct"
   },
   "outputs": [
    {
     "data": {
      "text/plain": [
       "Index(['  userID', 'Track', 'artist', 'genre', '  City  ', 'time', 'Day'], dtype='object')"
      ]
     },
     "execution_count": 7,
     "metadata": {},
     "output_type": "execute_result"
    }
   ],
   "source": [
    "df.columns # перечень названий столбцов таблицы df"
   ]
  },
  {
   "cell_type": "markdown",
   "metadata": {
    "deletable": false,
    "editable": false,
    "id": "zj5534cv_Zct",
    "tags": [
     "start_task"
    ]
   },
   "source": [
    "**Задание 7**\n",
    "\n",
    "\n",
    "Приведите названия в соответствие с хорошим стилем:\n",
    "* несколько слов в названии запишите в «змеином_регистре»,\n",
    "* все символы сделайте строчными,\n",
    "* устраните пробелы.\n",
    "\n",
    "Для этого переименуйте колонки так:\n",
    "* `'  userID'` → `'user_id'`;\n",
    "* `'Track'` → `'track'`;\n",
    "* `'  City  '` → `'city'`;\n",
    "* `'Day'` → `'day'`."
   ]
  },
  {
   "cell_type": "code",
   "execution_count": 8,
   "metadata": {
    "deletable": false,
    "id": "ISlFqs5y_Zct"
   },
   "outputs": [],
   "source": [
    "df = df.rename(columns={'  userID':'user_id', 'Track': 'track', '  City  ': 'city', 'Day' : 'day'})    # переименование столбцов"
   ]
  },
  {
   "cell_type": "markdown",
   "metadata": {
    "deletable": false,
    "editable": false,
    "id": "1dqbh00J_Zct",
    "tags": [
     "start_task"
    ]
   },
   "source": [
    "**Задание 8**\n",
    "\n",
    "\n",
    "Проверьте результат. Для этого ещё раз выведите на экран названия столбцов:"
   ]
  },
  {
   "cell_type": "code",
   "execution_count": 9,
   "metadata": {
    "deletable": false,
    "id": "d4NOAmTW_Zct"
   },
   "outputs": [
    {
     "data": {
      "text/plain": [
       "Index(['user_id', 'track', 'artist', 'genre', 'city', 'time', 'day'], dtype='object')"
      ]
     },
     "execution_count": 9,
     "metadata": {},
     "output_type": "execute_result"
    }
   ],
   "source": [
    "df.columns # проверка результатов - перечень названий столбцов"
   ]
  },
  {
   "cell_type": "markdown",
   "metadata": {
    "deletable": false,
    "editable": false,
    "id": "5ISfbcfY_Zct",
    "tags": [
     "start_task"
    ]
   },
   "source": [
    "### Пропуски значений\n",
    "\n",
    "**Задание 9**\n",
    "\n",
    "Сначала посчитайте, сколько в таблице пропущенных значений. Для этого достаточно двух методов `pandas`:"
   ]
  },
  {
   "cell_type": "code",
   "execution_count": 10,
   "metadata": {
    "deletable": false,
    "id": "RskX29qr_Zct"
   },
   "outputs": [
    {
     "data": {
      "text/plain": [
       "user_id       0\n",
       "track      1231\n",
       "artist     7203\n",
       "genre      1198\n",
       "city          0\n",
       "time          0\n",
       "day           0\n",
       "dtype: int64"
      ]
     },
     "execution_count": 10,
     "metadata": {},
     "output_type": "execute_result"
    }
   ],
   "source": [
    "df.isna().sum() # подсчёт пропусков"
   ]
  },
  {
   "cell_type": "markdown",
   "metadata": {
    "deletable": false,
    "editable": false,
    "id": "qubhgnlO_Zct"
   },
   "source": [
    "Не все пропущенные значения влияют на исследование. Так в `track` и `artist` пропуски не важны для вашей работы. Достаточно заменить их явными обозначениями.\n",
    "\n",
    "Но пропуски в `genre` могут помешать сравнению музыкальных вкусов в Москве и Санкт-Петербурге. На практике было бы правильно установить причину пропусков и восстановить данные. Такой возможности нет в учебном проекте. Придётся:\n",
    "* заполнить и эти пропуски явными обозначениями;\n",
    "* оценить, насколько они повредят расчётам. "
   ]
  },
  {
   "cell_type": "markdown",
   "metadata": {
    "deletable": false,
    "editable": false,
    "id": "fSv2laPA_Zct",
    "tags": [
     "start_task"
    ]
   },
   "source": [
    "**Задание 10**\n",
    "\n",
    "Замените пропущенные значения в столбцах `track`, `artist` и `genre` на строку `'unknown'`. Для этого создайте список `columns_to_replace`, переберите его элементы циклом `for` и для каждого столбца выполните замену пропущенных значений:"
   ]
  },
  {
   "cell_type": "code",
   "execution_count": 11,
   "metadata": {
    "deletable": false,
    "id": "KplB5qWs_Zct"
   },
   "outputs": [],
   "source": [
    "columns_to_replace = ['track', 'artist', 'genre'] # перебор названий столбцов в цикле и замена пропущенных значений на 'unknown'\n",
    "for column in columns_to_replace:\n",
    "    df[column] = df[column].fillna('unknown')    "
   ]
  },
  {
   "cell_type": "markdown",
   "metadata": {
    "deletable": false,
    "editable": false,
    "id": "Ilsm-MZo_Zct",
    "tags": [
     "start_task"
    ]
   },
   "source": [
    "**Задание 11**\n",
    "\n",
    "Убедитесь, что в таблице не осталось пропусков. Для этого ещё раз посчитайте пропущенные значения."
   ]
  },
  {
   "cell_type": "code",
   "execution_count": 12,
   "metadata": {
    "deletable": false,
    "id": "Tq4nYRX4_Zct"
   },
   "outputs": [
    {
     "data": {
      "text/plain": [
       "user_id    0\n",
       "track      0\n",
       "artist     0\n",
       "genre      0\n",
       "city       0\n",
       "time       0\n",
       "day        0\n",
       "dtype: int64"
      ]
     },
     "execution_count": 12,
     "metadata": {},
     "output_type": "execute_result"
    }
   ],
   "source": [
    "df.isna().sum() # подсчёт пропусков"
   ]
  },
  {
   "cell_type": "markdown",
   "metadata": {
    "deletable": false,
    "editable": false,
    "id": "BWKRtBJ3_Zct",
    "tags": [
     "start_task"
    ]
   },
   "source": [
    "### Дубликаты\n",
    "\n",
    "**Задание 12**\n",
    "\n",
    "Посчитайте явные дубликаты в таблице одной командой:"
   ]
  },
  {
   "cell_type": "code",
   "execution_count": 13,
   "metadata": {
    "deletable": false,
    "id": "36eES_S0_Zct"
   },
   "outputs": [
    {
     "data": {
      "text/plain": [
       "3826"
      ]
     },
     "execution_count": 13,
     "metadata": {},
     "output_type": "execute_result"
    }
   ],
   "source": [
    "df.duplicated().sum() # подсчёт явных дубликатов"
   ]
  },
  {
   "cell_type": "markdown",
   "metadata": {
    "deletable": false,
    "editable": false,
    "id": "Ot25h6XR_Zct",
    "tags": [
     "start_task"
    ]
   },
   "source": [
    "**Задание 13**\n",
    "\n",
    "Вызовите специальный метод `pandas`, чтобы удалить явные дубликаты:"
   ]
  },
  {
   "cell_type": "code",
   "execution_count": 14,
   "metadata": {
    "deletable": false,
    "id": "exFHq6tt_Zct"
   },
   "outputs": [],
   "source": [
    "df = df.drop_duplicates().reset_index(drop=True) # удаление явных дубликатов"
   ]
  },
  {
   "cell_type": "markdown",
   "metadata": {
    "deletable": false,
    "editable": false,
    "id": "Im2YwBEG_Zct",
    "tags": [
     "start_task"
    ]
   },
   "source": [
    "**Задание 14**\n",
    "\n",
    "Ещё раз посчитайте явные дубликаты в таблице — убедитесь, что полностью от них избавились:"
   ]
  },
  {
   "cell_type": "code",
   "execution_count": 15,
   "metadata": {
    "deletable": false,
    "id": "-8PuNWQ0_Zct"
   },
   "outputs": [
    {
     "data": {
      "text/plain": [
       "0"
      ]
     },
     "execution_count": 15,
     "metadata": {},
     "output_type": "execute_result"
    }
   ],
   "source": [
    "df.duplicated().sum() # проверка на отсутствие дубликатов"
   ]
  },
  {
   "cell_type": "markdown",
   "metadata": {
    "deletable": false,
    "editable": false,
    "id": "QlFBsxAr_Zct"
   },
   "source": [
    "Теперь избавьтесь от неявных дубликатов в колонке `genre`. Например, название одного и того же жанра может быть записано немного по-разному. Такие ошибки тоже повлияют на результат исследования."
   ]
  },
  {
   "cell_type": "markdown",
   "metadata": {
    "deletable": false,
    "editable": false,
    "id": "eSjWwsOh_Zct",
    "tags": [
     "start_task"
    ]
   },
   "source": [
    "**Задание 15**\n",
    "\n",
    "Выведите на экран список уникальных названий жанров, отсортированный в алфавитном порядке. Для этого:\n",
    "1. извлеките нужный столбец датафрейма; \n",
    "2. примените к нему метод сортировки;\n",
    "3. для отсортированного столбца вызовите метод, который вернёт уникальные значения из столбца."
   ]
  },
  {
   "cell_type": "code",
   "execution_count": 16,
   "metadata": {
    "deletable": false,
    "id": "JIUcqzZN_Zct"
   },
   "outputs": [
    {
     "data": {
      "text/plain": [
       "array(['acid', 'acoustic', 'action', 'adult', 'africa', 'afrikaans',\n",
       "       'alternative', 'alternativepunk', 'ambient', 'americana',\n",
       "       'animated', 'anime', 'arabesk', 'arabic', 'arena',\n",
       "       'argentinetango', 'art', 'audiobook', 'author', 'avantgarde',\n",
       "       'axé', 'baile', 'balkan', 'beats', 'bigroom', 'black', 'bluegrass',\n",
       "       'blues', 'bollywood', 'bossa', 'brazilian', 'breakbeat', 'breaks',\n",
       "       'broadway', 'cantautori', 'cantopop', 'canzone', 'caribbean',\n",
       "       'caucasian', 'celtic', 'chamber', 'chanson', 'children', 'chill',\n",
       "       'chinese', 'choral', 'christian', 'christmas', 'classical',\n",
       "       'classicmetal', 'club', 'colombian', 'comedy', 'conjazz',\n",
       "       'contemporary', 'country', 'cuban', 'dance', 'dancehall',\n",
       "       'dancepop', 'dark', 'death', 'deep', 'deutschrock', 'deutschspr',\n",
       "       'dirty', 'disco', 'dnb', 'documentary', 'downbeat', 'downtempo',\n",
       "       'drum', 'dub', 'dubstep', 'eastern', 'easy', 'electronic',\n",
       "       'electropop', 'emo', 'entehno', 'epicmetal', 'estrada', 'ethnic',\n",
       "       'eurofolk', 'european', 'experimental', 'extrememetal', 'fado',\n",
       "       'fairytail', 'film', 'fitness', 'flamenco', 'folk', 'folklore',\n",
       "       'folkmetal', 'folkrock', 'folktronica', 'forró', 'frankreich',\n",
       "       'französisch', 'french', 'funk', 'future', 'gangsta', 'garage',\n",
       "       'german', 'ghazal', 'gitarre', 'glitch', 'gospel', 'gothic',\n",
       "       'grime', 'grunge', 'gypsy', 'handsup', \"hard'n'heavy\", 'hardcore',\n",
       "       'hardstyle', 'hardtechno', 'hip', 'hip-hop', 'hiphop',\n",
       "       'historisch', 'holiday', 'hop', 'horror', 'house', 'hymn', 'idm',\n",
       "       'independent', 'indian', 'indie', 'indipop', 'industrial',\n",
       "       'inspirational', 'instrumental', 'international', 'irish', 'jam',\n",
       "       'japanese', 'jazz', 'jewish', 'jpop', 'jungle', 'k-pop',\n",
       "       'karadeniz', 'karaoke', 'kayokyoku', 'korean', 'laiko', 'latin',\n",
       "       'latino', 'leftfield', 'local', 'lounge', 'loungeelectronic',\n",
       "       'lovers', 'malaysian', 'mandopop', 'marschmusik', 'meditative',\n",
       "       'mediterranean', 'melodic', 'metal', 'metalcore', 'mexican',\n",
       "       'middle', 'minimal', 'miscellaneous', 'modern', 'mood', 'mpb',\n",
       "       'muslim', 'native', 'neoklassik', 'neue', 'new', 'newage',\n",
       "       'newwave', 'nu', 'nujazz', 'numetal', 'oceania', 'old', 'opera',\n",
       "       'orchestral', 'other', 'piano', 'podcasts', 'pop', 'popdance',\n",
       "       'popelectronic', 'popeurodance', 'poprussian', 'post',\n",
       "       'posthardcore', 'postrock', 'power', 'progmetal', 'progressive',\n",
       "       'psychedelic', 'punjabi', 'punk', 'quebecois', 'ragga', 'ram',\n",
       "       'rancheras', 'rap', 'rave', 'reggae', 'reggaeton', 'regional',\n",
       "       'relax', 'religious', 'retro', 'rhythm', 'rnb', 'rnr', 'rock',\n",
       "       'rockabilly', 'rockalternative', 'rockindie', 'rockother',\n",
       "       'romance', 'roots', 'ruspop', 'rusrap', 'rusrock', 'russian',\n",
       "       'salsa', 'samba', 'scenic', 'schlager', 'self', 'sertanejo',\n",
       "       'shanson', 'shoegazing', 'showtunes', 'singer', 'ska', 'skarock',\n",
       "       'slow', 'smooth', 'soft', 'soul', 'soulful', 'sound', 'soundtrack',\n",
       "       'southern', 'specialty', 'speech', 'spiritual', 'sport',\n",
       "       'stonerrock', 'surf', 'swing', 'synthpop', 'synthrock',\n",
       "       'sängerportrait', 'tango', 'tanzorchester', 'taraftar', 'tatar',\n",
       "       'tech', 'techno', 'teen', 'thrash', 'top', 'traditional',\n",
       "       'tradjazz', 'trance', 'tribal', 'trip', 'triphop', 'tropical',\n",
       "       'türk', 'türkçe', 'ukrrock', 'unknown', 'urban', 'uzbek',\n",
       "       'variété', 'vi', 'videogame', 'vocal', 'western', 'world',\n",
       "       'worldbeat', 'ïîï', 'электроника'], dtype=object)"
      ]
     },
     "execution_count": 16,
     "metadata": {},
     "output_type": "execute_result"
    }
   ],
   "source": [
    "df['genre'].sort_values().unique()\n",
    " # Просмотр уникальных названий жанров"
   ]
  },
  {
   "cell_type": "markdown",
   "metadata": {
    "deletable": false,
    "editable": false,
    "id": "qej-Qmuo_Zct",
    "tags": [
     "start_task"
    ]
   },
   "source": [
    "**Задание 16**\n",
    "\n",
    "Просмотрите список и найдите неявные дубликаты названия `hiphop`. Это могут быть названия с ошибками или альтернативные названия того же жанра.\n",
    "\n",
    "Вы увидите следующие неявные дубликаты:\n",
    "* *hip*,\n",
    "* *hop*,\n",
    "* *hip-hop*.\n",
    "\n",
    "Чтобы очистить от них таблицу используйте метод `replace()` с двумя аргументами: списком строк-дубликатов (включащий *hip*, *hop* и *hip-hop*) и строкой с правильным значением. Вам нужно исправить колонку `genre` в таблице `df`: заменить каждое значение из списка дубликатов на верное. Вместо `hip`, `hop` и `hip-hop` в таблице должно быть значение `hiphop`:"
   ]
  },
  {
   "cell_type": "code",
   "execution_count": 17,
   "metadata": {
    "deletable": false,
    "id": "ErNDkmns_Zct"
   },
   "outputs": [],
   "source": [
    "duplicates = ['hip', 'hop', 'hip-hop'] # Устранение неявных дубликатов\n",
    "name = 'hiphop'\n",
    "df['genre']  = df['genre'] .replace(duplicates, name)"
   ]
  },
  {
   "cell_type": "markdown",
   "metadata": {
    "deletable": false,
    "editable": false,
    "id": "zQKF16_RG15m",
    "tags": [
     "start_task"
    ]
   },
   "source": [
    "**Задание 17**\n",
    "\n",
    "Проверьте, что заменили неправильные названия:\n",
    "\n",
    "*   hip,\n",
    "*   hop,\n",
    "*   hip-hop.\n",
    "\n",
    "Выведите отсортированный список уникальных значений столбца `genre`:"
   ]
  },
  {
   "cell_type": "code",
   "execution_count": 18,
   "metadata": {
    "deletable": false,
    "id": "wvixALnFG15m"
   },
   "outputs": [
    {
     "data": {
      "text/plain": [
       "array(['acid', 'acoustic', 'action', 'adult', 'africa', 'afrikaans',\n",
       "       'alternative', 'alternativepunk', 'ambient', 'americana',\n",
       "       'animated', 'anime', 'arabesk', 'arabic', 'arena',\n",
       "       'argentinetango', 'art', 'audiobook', 'author', 'avantgarde',\n",
       "       'axé', 'baile', 'balkan', 'beats', 'bigroom', 'black', 'bluegrass',\n",
       "       'blues', 'bollywood', 'bossa', 'brazilian', 'breakbeat', 'breaks',\n",
       "       'broadway', 'cantautori', 'cantopop', 'canzone', 'caribbean',\n",
       "       'caucasian', 'celtic', 'chamber', 'chanson', 'children', 'chill',\n",
       "       'chinese', 'choral', 'christian', 'christmas', 'classical',\n",
       "       'classicmetal', 'club', 'colombian', 'comedy', 'conjazz',\n",
       "       'contemporary', 'country', 'cuban', 'dance', 'dancehall',\n",
       "       'dancepop', 'dark', 'death', 'deep', 'deutschrock', 'deutschspr',\n",
       "       'dirty', 'disco', 'dnb', 'documentary', 'downbeat', 'downtempo',\n",
       "       'drum', 'dub', 'dubstep', 'eastern', 'easy', 'electronic',\n",
       "       'electropop', 'emo', 'entehno', 'epicmetal', 'estrada', 'ethnic',\n",
       "       'eurofolk', 'european', 'experimental', 'extrememetal', 'fado',\n",
       "       'fairytail', 'film', 'fitness', 'flamenco', 'folk', 'folklore',\n",
       "       'folkmetal', 'folkrock', 'folktronica', 'forró', 'frankreich',\n",
       "       'französisch', 'french', 'funk', 'future', 'gangsta', 'garage',\n",
       "       'german', 'ghazal', 'gitarre', 'glitch', 'gospel', 'gothic',\n",
       "       'grime', 'grunge', 'gypsy', 'handsup', \"hard'n'heavy\", 'hardcore',\n",
       "       'hardstyle', 'hardtechno', 'hiphop', 'historisch', 'holiday',\n",
       "       'horror', 'house', 'hymn', 'idm', 'independent', 'indian', 'indie',\n",
       "       'indipop', 'industrial', 'inspirational', 'instrumental',\n",
       "       'international', 'irish', 'jam', 'japanese', 'jazz', 'jewish',\n",
       "       'jpop', 'jungle', 'k-pop', 'karadeniz', 'karaoke', 'kayokyoku',\n",
       "       'korean', 'laiko', 'latin', 'latino', 'leftfield', 'local',\n",
       "       'lounge', 'loungeelectronic', 'lovers', 'malaysian', 'mandopop',\n",
       "       'marschmusik', 'meditative', 'mediterranean', 'melodic', 'metal',\n",
       "       'metalcore', 'mexican', 'middle', 'minimal', 'miscellaneous',\n",
       "       'modern', 'mood', 'mpb', 'muslim', 'native', 'neoklassik', 'neue',\n",
       "       'new', 'newage', 'newwave', 'nu', 'nujazz', 'numetal', 'oceania',\n",
       "       'old', 'opera', 'orchestral', 'other', 'piano', 'podcasts', 'pop',\n",
       "       'popdance', 'popelectronic', 'popeurodance', 'poprussian', 'post',\n",
       "       'posthardcore', 'postrock', 'power', 'progmetal', 'progressive',\n",
       "       'psychedelic', 'punjabi', 'punk', 'quebecois', 'ragga', 'ram',\n",
       "       'rancheras', 'rap', 'rave', 'reggae', 'reggaeton', 'regional',\n",
       "       'relax', 'religious', 'retro', 'rhythm', 'rnb', 'rnr', 'rock',\n",
       "       'rockabilly', 'rockalternative', 'rockindie', 'rockother',\n",
       "       'romance', 'roots', 'ruspop', 'rusrap', 'rusrock', 'russian',\n",
       "       'salsa', 'samba', 'scenic', 'schlager', 'self', 'sertanejo',\n",
       "       'shanson', 'shoegazing', 'showtunes', 'singer', 'ska', 'skarock',\n",
       "       'slow', 'smooth', 'soft', 'soul', 'soulful', 'sound', 'soundtrack',\n",
       "       'southern', 'specialty', 'speech', 'spiritual', 'sport',\n",
       "       'stonerrock', 'surf', 'swing', 'synthpop', 'synthrock',\n",
       "       'sängerportrait', 'tango', 'tanzorchester', 'taraftar', 'tatar',\n",
       "       'tech', 'techno', 'teen', 'thrash', 'top', 'traditional',\n",
       "       'tradjazz', 'trance', 'tribal', 'trip', 'triphop', 'tropical',\n",
       "       'türk', 'türkçe', 'ukrrock', 'unknown', 'urban', 'uzbek',\n",
       "       'variété', 'vi', 'videogame', 'vocal', 'western', 'world',\n",
       "       'worldbeat', 'ïîï', 'электроника'], dtype=object)"
      ]
     },
     "execution_count": 18,
     "metadata": {},
     "output_type": "execute_result"
    }
   ],
   "source": [
    "df['genre'].sort_values().unique() # Проверка на неявные дубликаты"
   ]
  },
  {
   "cell_type": "markdown",
   "metadata": {
    "deletable": false,
    "editable": false,
    "id": "jz6a9-7HQUDd"
   },
   "source": [
    "**Выводы**\n",
    "\n",
    "Предобработка обнаружила три проблемы в данных:\n",
    "\n",
    "- нарушения в стиле заголовков,\n",
    "- пропущенные значения,\n",
    "- дубликаты — явные и неявные.\n",
    "\n",
    "Вы исправили заголовки, чтобы упростить работу с таблицей. Без дубликатов исследование станет более точным.\n",
    "\n",
    "Пропущенные значения вы заменили на `'unknown'`. Ещё предстоит увидеть, не повредят ли исследованию пропуски в колонке `genre`.\n",
    "\n",
    "Теперь можно перейти к проверке гипотез. "
   ]
  },
  {
   "cell_type": "markdown",
   "metadata": {
    "deletable": false,
    "editable": false,
    "id": "WttZHXH0SqKk"
   },
   "source": [
    "## Проверка гипотез"
   ]
  },
  {
   "cell_type": "markdown",
   "metadata": {
    "deletable": false,
    "editable": false,
    "id": "Im936VVi_Zcu"
   },
   "source": [
    "### Сравнение поведения пользователей двух столиц"
   ]
  },
  {
   "cell_type": "markdown",
   "metadata": {
    "deletable": false,
    "editable": false,
    "id": "nwt_MuaL_Zcu"
   },
   "source": [
    "Первая гипотеза утверждает, что пользователи по-разному слушают музыку в Москве и Санкт-Петербурге. Проверьте это предположение по данным о трёх днях недели — понедельнике, среде и пятнице. Для этого:\n",
    "\n",
    "* Разделите пользователей Москвы и Санкт-Петербурга.\n",
    "* Сравните, сколько треков послушала каждая группа пользователей в понедельник, среду и пятницу.\n"
   ]
  },
  {
   "cell_type": "markdown",
   "metadata": {
    "deletable": false,
    "editable": false,
    "id": "8Dw_YMmT_Zcu",
    "tags": [
     "start_task"
    ]
   },
   "source": [
    "**Задание 18**\n",
    "\n",
    "Для тренировки сначала выполните каждый из расчётов по отдельности. \n",
    "\n",
    "Оцените активность пользователей в каждом городе. Сгруппируйте данные по городу и посчитайте прослушивания в каждой группе.\n",
    "\n"
   ]
  },
  {
   "cell_type": "code",
   "execution_count": 19,
   "metadata": {
    "deletable": false,
    "id": "0_Qs96oh_Zcu"
   },
   "outputs": [
    {
     "data": {
      "text/plain": [
       "city\n",
       "Moscow              42741\n",
       "Saint-Petersburg    18512\n",
       "Name: time, dtype: int64"
      ]
     },
     "execution_count": 19,
     "metadata": {},
     "output_type": "execute_result"
    }
   ],
   "source": [
    "df.groupby('city')['time'].count() # Подсчёт прослушиваний в каждом городе"
   ]
  },
  {
   "cell_type": "markdown",
   "metadata": {
    "deletable": false,
    "editable": false,
    "id": "dzli3w8o_Zcu",
    "tags": [
     "start_task"
    ]
   },
   "source": [
    "В Москве прослушиваний больше, чем в Петербурге. Из этого не следует, что московские пользователи чаще слушают музыку. Просто самих пользователей в Москве больше.\n",
    "\n",
    "**Задание 19**\n",
    "\n",
    "Теперь сгруппируйте данные по дню недели и посчитайте прослушивания в понедельник, среду и пятницу. Учтите, что в данных есть информация о прослушиваниях только за эти дни.\n"
   ]
  },
  {
   "cell_type": "code",
   "execution_count": 20,
   "metadata": {
    "deletable": false,
    "id": "uZMKjiJz_Zcu"
   },
   "outputs": [
    {
     "data": {
      "text/plain": [
       "day\n",
       "Friday       21840\n",
       "Monday       21354\n",
       "Wednesday    18059\n",
       "Name: time, dtype: int64"
      ]
     },
     "execution_count": 20,
     "metadata": {},
     "output_type": "execute_result"
    }
   ],
   "source": [
    "df.groupby('day')['time'].count() # Подсчёт прослушиваний в каждый из трёх дней"
   ]
  },
  {
   "cell_type": "markdown",
   "metadata": {
    "deletable": false,
    "editable": false,
    "id": "cC2tNrlL_Zcu"
   },
   "source": [
    "В среднем пользователи из двух городов менее активны по средам. Но картина может измениться, если рассмотреть каждый город в отдельности."
   ]
  },
  {
   "cell_type": "markdown",
   "metadata": {
    "deletable": false,
    "editable": false,
    "id": "POzs8bGa_Zcu",
    "tags": [
     "start_task"
    ]
   },
   "source": [
    "**Задание 20**\n",
    "\n",
    "\n",
    "Вы видели, как работает группировка по городу и по дням недели. Теперь напишите функцию, которая объединит два эти расчёта.\n",
    "\n",
    "Создайте функцию `number_tracks()`, которая посчитает прослушивания для заданного дня и города. Ей понадобятся два параметра:\n",
    "* день недели,\n",
    "* название города.\n",
    "\n",
    "В функции сохраните в переменную строки исходной таблицы, у которых значение:\n",
    "  * в колонке `day` равно параметру `day`,\n",
    "  * в колонке `city` равно параметру `city`.\n",
    "\n",
    "Для этого примените последовательную фильтрацию с логической индексацией (или сложные логические выражения в одну строку, если вы уже знакомы с ними).\n",
    "\n",
    "Затем посчитайте значения в столбце `user_id` получившейся таблицы. Результат сохраните в новую переменную. Верните эту переменную из функции."
   ]
  },
  {
   "cell_type": "code",
   "execution_count": 21,
   "metadata": {
    "deletable": false,
    "id": "Nz3GdQB1_Zcu"
   },
   "outputs": [
    {
     "name": "stdout",
     "output_type": "stream",
     "text": [
      "5614\n",
      "15740\n",
      "7003\n",
      "11056\n",
      "5895\n",
      "15945\n"
     ]
    }
   ],
   "source": [
    "# <создание функции number_tracks()>\n",
    "# Index(['user_id', 'track', 'artist', 'genre', 'city', 'time', 'day'], dtype='object')\n",
    "def number_tracks(day, city): # Объявляется функция с двумя параметрами: day, city.\n",
    "    track_list = df[(df['day']== day)]\n",
    "    track_list = track_list[(track_list['city'] == city)]\n",
    "     # В переменной track_list сохраняются те строки таблицы df, для которых \n",
    "    # значение в столбце 'day' равно параметру day и одновременно значение\n",
    "# в столбце 'city' равно параметру city (используйте последовательную фильтрацию\n",
    "    track_list_count = track_list['user_id'].count()\n",
    "    return(track_list_count)\n",
    "# с помощью логической индексации или сложные логические выражения в одну строку, если вы уже знакомы с ними).\n",
    "# В переменной track_list_count сохраняется число значений столбца 'user_id',\n",
    "# рассчитанное методом count() для таблицы track_list.\n",
    "# Функция возвращает число - значение track_list_count.\n",
    "\n",
    "# Функция для подсчёта прослушиваний для конкретного города и дня.\n",
    "# С помощью последовательной фильтрации с логической индексацией она \n",
    "# сначала получит из исходной таблицы строки с нужным днём,\n",
    "# затем из результата отфильтрует строки с нужным городом,\n",
    "# методом count() посчитает количество значений в колонке user_id. \n",
    "# Это количество функция вернёт в качестве результата\n",
    "print(number_tracks('Monday', 'Saint-Petersburg'))\n",
    "print(number_tracks('Monday', 'Moscow'))\n",
    "print(number_tracks('Wednesday', 'Saint-Petersburg'))\n",
    "print(number_tracks('Wednesday', 'Moscow'))\n",
    "print(number_tracks('Friday', 'Saint-Petersburg'))\n",
    "print(number_tracks('Friday', 'Moscow'))\n",
    "#df.head(15)"
   ]
  },
  {
   "cell_type": "markdown",
   "metadata": {
    "deletable": false,
    "editable": false,
    "id": "ytf7xFrFJQ2r",
    "tags": [
     "start_task"
    ]
   },
   "source": [
    "**Задание 21**\n",
    "\n",
    "Вызовите `number_tracks()` шесть раз, меняя значение параметров — так, чтобы получить данные для каждого города в каждый из трёх дней."
   ]
  },
  {
   "cell_type": "code",
   "execution_count": 22,
   "metadata": {
    "deletable": false,
    "id": "rJcRATNQ_Zcu"
   },
   "outputs": [
    {
     "data": {
      "text/plain": [
       "15740"
      ]
     },
     "execution_count": 22,
     "metadata": {},
     "output_type": "execute_result"
    }
   ],
   "source": [
    "15740 # количество прослушиваний в Москве по понедельникам"
   ]
  },
  {
   "cell_type": "code",
   "execution_count": 23,
   "metadata": {
    "deletable": false,
    "id": "hq_ncZ5T_Zcu"
   },
   "outputs": [
    {
     "data": {
      "text/plain": [
       "5614"
      ]
     },
     "execution_count": 23,
     "metadata": {},
     "output_type": "execute_result"
    }
   ],
   "source": [
    "5614 # количество прослушиваний в Санкт-Петербурге по понедельникам"
   ]
  },
  {
   "cell_type": "code",
   "execution_count": 24,
   "metadata": {
    "deletable": false,
    "id": "_NTy2VPU_Zcu"
   },
   "outputs": [
    {
     "data": {
      "text/plain": [
       "11056"
      ]
     },
     "execution_count": 24,
     "metadata": {},
     "output_type": "execute_result"
    }
   ],
   "source": [
    "11056 # количество прослушиваний в Москве по средам"
   ]
  },
  {
   "cell_type": "code",
   "execution_count": 25,
   "metadata": {
    "deletable": false,
    "id": "j2y3TAwo_Zcu"
   },
   "outputs": [
    {
     "data": {
      "text/plain": [
       "7003"
      ]
     },
     "execution_count": 25,
     "metadata": {},
     "output_type": "execute_result"
    }
   ],
   "source": [
    "7003 # количество прослушиваний в Санкт-Петербурге по средам"
   ]
  },
  {
   "cell_type": "code",
   "execution_count": 26,
   "metadata": {
    "deletable": false,
    "id": "vYDw5u_K_Zcu"
   },
   "outputs": [
    {
     "data": {
      "text/plain": [
       "15945"
      ]
     },
     "execution_count": 26,
     "metadata": {},
     "output_type": "execute_result"
    }
   ],
   "source": [
    "15945 # количество прослушиваний в Москве по пятницам"
   ]
  },
  {
   "cell_type": "code",
   "execution_count": 27,
   "metadata": {
    "deletable": false,
    "id": "8_yzFtW3_Zcu"
   },
   "outputs": [
    {
     "data": {
      "text/plain": [
       "5895"
      ]
     },
     "execution_count": 27,
     "metadata": {},
     "output_type": "execute_result"
    }
   ],
   "source": [
    "5895 # количество прослушиваний в Санкт-Петербурге по пятницам"
   ]
  },
  {
   "cell_type": "markdown",
   "metadata": {
    "deletable": false,
    "editable": false,
    "id": "7QXffbO-_Zcu",
    "tags": [
     "start_task"
    ]
   },
   "source": [
    "**Задание 22**\n",
    "\n",
    "Создайте c помощью конструктора `pd.DataFrame` таблицу, где\n",
    "* названия колонок — `['city', 'monday', 'wednesday', 'friday']`;\n",
    "* данные — результаты, которые вы получили с помощью `number_tracks`."
   ]
  },
  {
   "cell_type": "code",
   "execution_count": 28,
   "metadata": {
    "deletable": false,
    "id": "APAcLpOr_Zcu"
   },
   "outputs": [],
   "source": [
    "\n",
    "info = pd.DataFrame(data=[['Москва', 15740, 11056, 15945], ['Санкт-Петербург', 5614, 7003, 5895]], columns=['city', 'monday', 'wednesday', 'friday'])\n",
    " # Таблица с результатами\n",
    "#info.head()    "
   ]
  },
  {
   "cell_type": "markdown",
   "metadata": {
    "deletable": false,
    "editable": false,
    "id": "-EgPIHYu_Zcu"
   },
   "source": [
    "**Выводы**\n",
    "\n",
    "Данные показывают разницу поведения пользователей:\n",
    "\n",
    "- В Москве пик прослушиваний приходится на понедельник и пятницу, а в среду заметен спад.\n",
    "- В Петербурге, наоборот, больше слушают музыку по средам. Активность в понедельник и пятницу здесь почти в равной мере уступает среде.\n",
    "\n",
    "Значит, данные говорят в пользу первой гипотезы."
   ]
  },
  {
   "cell_type": "markdown",
   "metadata": {
    "deletable": false,
    "editable": false,
    "id": "atZAxtq4_Zcu"
   },
   "source": [
    "### Музыка в начале и в конце недели"
   ]
  },
  {
   "cell_type": "markdown",
   "metadata": {
    "deletable": false,
    "editable": false,
    "id": "eXrQqXFH_Zcu"
   },
   "source": [
    "Согласно второй гипотезе, утром в понедельник в Москве преобладают одни жанры, а в Петербурге — другие. Так же и вечером пятницы преобладают разные жанры — в зависимости от города."
   ]
  },
  {
   "cell_type": "markdown",
   "metadata": {
    "deletable": false,
    "editable": false,
    "id": "S8UcW6Hw_Zcu",
    "tags": [
     "start_task"
    ]
   },
   "source": [
    "**Задание 23**\n",
    "\n",
    "Сохраните таблицы с данными в две переменные:\n",
    "* по Москве — в `moscow_general`;\n",
    "* по Санкт-Петербургу — в `spb_general`."
   ]
  },
  {
   "cell_type": "code",
   "execution_count": 29,
   "metadata": {
    "deletable": false,
    "id": "qeaFfM_P_Zcu"
   },
   "outputs": [],
   "source": [
    "# получение таблицы moscow_general из тех строк таблицы df, \n",
    "# для которых значение в столбце 'city' равно 'Moscow'\n",
    "#df.head(10)\n",
    "moscow_general = df[(df['city'] == 'Moscow')]"
   ]
  },
  {
   "cell_type": "code",
   "execution_count": 30,
   "metadata": {
    "deletable": false,
    "id": "ORaVRKto_Zcu"
   },
   "outputs": [],
   "source": [
    "# получение таблицы spb_general из тех строк таблицы df,\n",
    "# для которых значение в столбце 'city' равно 'Saint-Petersburg'\n",
    "spb_general = df[(df['city'] == 'Saint-Petersburg')]"
   ]
  },
  {
   "cell_type": "markdown",
   "metadata": {
    "deletable": false,
    "editable": false,
    "id": "MEJV-CX2_Zcu",
    "tags": [
     "start_task"
    ]
   },
   "source": [
    "**Задание 24**\n",
    "\n",
    "Создайте функцию `genre_weekday()` с четырьмя параметрами:\n",
    "* таблица (датафрейм) с данными,\n",
    "* день недели,\n",
    "* начальная временная метка в формате 'hh:mm', \n",
    "* последняя временная метка в формате 'hh:mm'.\n",
    "\n",
    "Функция должна вернуть информацию о топ-10 жанров тех треков, которые прослушивали в указанный день, в промежутке между двумя отметками времени."
   ]
  },
  {
   "cell_type": "code",
   "execution_count": 31,
   "metadata": {
    "deletable": false,
    "id": "laJT9BYl_Zcu"
   },
   "outputs": [],
   "source": [
    "# Объявление функции genre_weekday() с параметрами table, day, time1, time2,\n",
    "# которая возвращает информацию о самых популярных жанрах в указанный день в\n",
    "# заданное время:\n",
    "# 1) в переменную genre_df сохраняются те строки переданного датафрейма table, для\n",
    "#    которых одновременно:\n",
    "#    - значение в столбце day равно значению аргумента day\n",
    "#    - значение в столбце time больше значения аргумента time1\n",
    "#    - значение в столбце time меньше значения аргумента time2\n",
    "#    Используйте последовательную фильтрацию с помощью логической индексации.\n",
    "# 2) сгруппировать датафрейм genre_df по столбцу genre, взять один из его\n",
    "#    столбцов и посчитать методом count() количество записей для каждого из\n",
    "#    присутствующих жанров, получившийся Series записать в переменную\n",
    "#    genre_df_count\n",
    "# 3) отсортировать genre_df_count по убыванию встречаемости и сохранить\n",
    "#    в переменную genre_df_sorted\n",
    "# 4) вернуть Series из 10 первых значений genre_df_sorted, это будут топ-10\n",
    "#    популярных жанров (в указанный день, в заданное время)\n",
    "\n",
    "def genre_weekday(df, day, time1, time2):\n",
    "    # последовательная фильтрация\n",
    "    # оставляем в genre_df только те строки df, у которых день равен day\n",
    "    genre_df = df[(df['day'] == day)] # ваш код здесь\n",
    "    # оставляем в genre_df только те строки genre_df, у которых время меньше time2\n",
    "    genre_df = genre_df[(genre_df['time'] < time2)] # ваш код здесь\n",
    "    # оставляем в genre_df только те строки genre_df, у которых время больше time1\n",
    "    genre_df = genre_df[(genre_df['time'] > time1)] # ваш код здесь\n",
    "    # сгруппируем отфильтрованный датафрейм по столбцу с названиями жанров, возьмём столбец genre и посчитаем кол-во строк для каждого жанра методом count()\n",
    "    genre_df_grouped = genre_df.groupby('genre')['genre'].count() # ваш код здесь\n",
    "    # отсортируем результат по убыванию (чтобы в начале Series оказались самые популярные жанры)\n",
    "    genre_df_sorted = genre_df_grouped.sort_values(ascending=False) # ваш код здесь\n",
    "    # вернём Series с 10 самыми популярными жанрами в указанный отрезок времени заданного дня\n",
    "    return genre_df_sorted[:10]"
   ]
  },
  {
   "cell_type": "markdown",
   "metadata": {
    "deletable": false,
    "editable": false,
    "id": "la2s2_PF_Zcu",
    "tags": [
     "start_task"
    ]
   },
   "source": [
    "**Задание 25**\n",
    "\n",
    "\n",
    "Cравните результаты функции `genre_weekday()` для Москвы и Санкт-Петербурга в понедельник утром (с 7:00 до 11:00) и в пятницу вечером (с 17:00 до 23:00):"
   ]
  },
  {
   "cell_type": "code",
   "execution_count": 32,
   "metadata": {
    "deletable": false,
    "id": "yz7itPUQ_Zcu"
   },
   "outputs": [
    {
     "data": {
      "text/plain": [
       "genre\n",
       "pop            781\n",
       "dance          549\n",
       "electronic     480\n",
       "rock           474\n",
       "hiphop         286\n",
       "ruspop         186\n",
       "world          181\n",
       "rusrap         175\n",
       "alternative    164\n",
       "unknown        161\n",
       "Name: genre, dtype: int64"
      ]
     },
     "execution_count": 32,
     "metadata": {},
     "output_type": "execute_result"
    }
   ],
   "source": [
    "# вызов функции для утра понедельника в Москве (вместо df — таблица moscow_general)\n",
    "# объекты, хранящие время, являются строками и сравниваются как строки\n",
    "# пример вызова: genre_weekday(moscow_general, 'Monday', '07:00', '11:00')\n",
    "genre_weekday(moscow_general, 'Monday', '07:00', '11:00')"
   ]
  },
  {
   "cell_type": "code",
   "execution_count": 33,
   "metadata": {
    "deletable": false,
    "id": "kwUcHPdy_Zcu"
   },
   "outputs": [
    {
     "data": {
      "text/plain": [
       "genre\n",
       "pop            218\n",
       "dance          182\n",
       "rock           162\n",
       "electronic     147\n",
       "hiphop          80\n",
       "ruspop          64\n",
       "alternative     58\n",
       "rusrap          55\n",
       "jazz            44\n",
       "classical       40\n",
       "Name: genre, dtype: int64"
      ]
     },
     "execution_count": 33,
     "metadata": {},
     "output_type": "execute_result"
    }
   ],
   "source": [
    "genre_weekday(spb_general, 'Monday', '07:00', '11:00') # вызов функции для утра понедельника в Петербурге (вместо df — таблица spb_general)"
   ]
  },
  {
   "cell_type": "code",
   "execution_count": 34,
   "metadata": {
    "deletable": false,
    "id": "EzXVRE1o_Zcu"
   },
   "outputs": [
    {
     "data": {
      "text/plain": [
       "genre\n",
       "pop            713\n",
       "rock           517\n",
       "dance          495\n",
       "electronic     482\n",
       "hiphop         273\n",
       "world          208\n",
       "ruspop         170\n",
       "alternative    163\n",
       "classical      163\n",
       "rusrap         142\n",
       "Name: genre, dtype: int64"
      ]
     },
     "execution_count": 34,
     "metadata": {},
     "output_type": "execute_result"
    }
   ],
   "source": [
    "genre_weekday(moscow_general, 'Friday', '17:00', '23:00') # вызов функции для вечера пятницы в Москве"
   ]
  },
  {
   "cell_type": "code",
   "execution_count": 35,
   "metadata": {
    "deletable": false,
    "id": "JZaEKu5v_Zcu"
   },
   "outputs": [
    {
     "data": {
      "text/plain": [
       "genre\n",
       "pop            256\n",
       "electronic     216\n",
       "rock           216\n",
       "dance          210\n",
       "hiphop          97\n",
       "alternative     63\n",
       "jazz            61\n",
       "classical       60\n",
       "rusrap          59\n",
       "world           54\n",
       "Name: genre, dtype: int64"
      ]
     },
     "execution_count": 35,
     "metadata": {},
     "output_type": "execute_result"
    }
   ],
   "source": [
    "genre_weekday(spb_general, 'Friday', '17:00', '23:00') # вызов функции для вечера пятницы в Петербурге"
   ]
  },
  {
   "cell_type": "markdown",
   "metadata": {
    "deletable": false,
    "editable": false,
    "id": "wrCe4MNX_Zcu"
   },
   "source": [
    "**Выводы**\n",
    "\n",
    "Если сравнить топ-10 жанров в понедельник утром, можно сделать такие выводы:\n",
    "\n",
    "1. В Москве и Петербурге слушают похожую музыку. Единственное отличие — в московский рейтинг вошёл жанр “world”, а в петербургский — джаз и классика.\n",
    "\n",
    "2. В Москве пропущенных значений оказалось так много, что значение `'unknown'` заняло десятое место среди самых популярных жанров. Значит, пропущенные значения занимают существенную долю в данных и угрожают достоверности исследования.\n",
    "\n",
    "Вечер пятницы не меняет эту картину. Некоторые жанры поднимаются немного выше, другие спускаются, но в целом топ-10 остаётся тем же самым.\n",
    "\n",
    "Таким образом, вторая гипотеза подтвердилась лишь частично:\n",
    "* Пользователи слушают похожую музыку в начале недели и в конце.\n",
    "* Разница между Москвой и Петербургом не слишком выражена. В Москве чаще слушают русскую популярную музыку, в Петербурге — джаз.\n",
    "\n",
    "Однако пропуски в данных ставят под сомнение этот результат. В Москве их так много, что рейтинг топ-10 мог бы выглядеть иначе, если бы не утерянные  данные о жанрах."
   ]
  },
  {
   "cell_type": "markdown",
   "metadata": {
    "deletable": false,
    "editable": false,
    "id": "JolODAqr_Zcu"
   },
   "source": [
    "### Жанровые предпочтения в Москве и Петербурге\n",
    "\n",
    "Гипотеза: Петербург — столица рэпа, музыку этого жанра там слушают чаще, чем в Москве.  А Москва — город контрастов, в котором, тем не менее, преобладает поп-музыка."
   ]
  },
  {
   "cell_type": "markdown",
   "metadata": {
    "deletable": false,
    "editable": false,
    "id": "DlegSvaT_Zcu",
    "tags": [
     "start_task"
    ]
   },
   "source": [
    "**Задание 26**\n",
    "\n",
    "Сгруппируйте таблицу `moscow_general` по жанру и посчитайте прослушивания треков каждого жанра методом `count()`. Затем отсортируйте результат в порядке убывания и сохраните его в таблице `moscow_genres`."
   ]
  },
  {
   "cell_type": "code",
   "execution_count": 36,
   "metadata": {
    "deletable": false,
    "id": "r19lIPke_Zcu"
   },
   "outputs": [],
   "source": [
    "# одной строкой: группировка таблицы moscow_general по столбцу 'genre', \n",
    "# подсчёт числа значений 'genre' в этой группировке методом count(), \n",
    "# сортировка получившегося Series в порядке убывания и сохранение в moscow_genres\n",
    "moscow_general = df[(df['city'] == 'Moscow')]\n",
    "moscow_genres = moscow_general.groupby('genre')['genre'].count()\n",
    "moscow_genres = moscow_genres.sort_values(ascending=False)\n",
    "#moscow_genres"
   ]
  },
  {
   "cell_type": "markdown",
   "metadata": {
    "deletable": false,
    "editable": false,
    "id": "6kMuomxTiIr8",
    "tags": [
     "start_task"
    ]
   },
   "source": [
    "**Задание 27**\n",
    "\n",
    "Выведите на экран первые десять строк `moscow_genres`:"
   ]
  },
  {
   "cell_type": "code",
   "execution_count": 37,
   "metadata": {
    "deletable": false,
    "id": "WhCSooF8_Zcv"
   },
   "outputs": [
    {
     "data": {
      "text/plain": [
       "genre\n",
       "pop            5892\n",
       "dance          4435\n",
       "rock           3965\n",
       "electronic     3786\n",
       "hiphop         2096\n",
       "classical      1616\n",
       "world          1432\n",
       "alternative    1379\n",
       "ruspop         1372\n",
       "rusrap         1161\n",
       "Name: genre, dtype: int64"
      ]
     },
     "execution_count": 37,
     "metadata": {},
     "output_type": "execute_result"
    }
   ],
   "source": [
    "moscow_genres.head(10) # просмотр первых 10 строк moscow_genres"
   ]
  },
  {
   "cell_type": "markdown",
   "metadata": {
    "deletable": false,
    "editable": false,
    "id": "cnPG2vnN_Zcv",
    "tags": [
     "start_task"
    ]
   },
   "source": [
    "**Задание 28**\n",
    "\n",
    "\n",
    "Теперь повторите то же и для Петербурга.\n",
    "\n",
    "Сгруппируйте таблицу `spb_general` по жанру. Посчитайте прослушивания треков каждого жанра. Результат отсортируйте в порядке убывания и сохраните в таблице `spb_genres`:\n"
   ]
  },
  {
   "cell_type": "code",
   "execution_count": 38,
   "metadata": {
    "deletable": false,
    "id": "gluLIpE7_Zcv"
   },
   "outputs": [],
   "source": [
    "# одной строкой: группировка таблицы spb_general по столбцу 'genre', \n",
    "# подсчёт числа значений 'genre' в этой группировке методом count(), \n",
    "# сортировка получившегося Series в порядке убывания и сохранение в spb_genres\n",
    "spb_general = df[(df['city'] == 'Saint-Petersburg')]\n",
    "spb_genres = spb_general.groupby('genre')['genre'].count()\n",
    "spb_genres = spb_genres.sort_values(ascending=False)"
   ]
  },
  {
   "cell_type": "markdown",
   "metadata": {
    "deletable": false,
    "editable": false,
    "id": "5Doha_ODgyQ8",
    "tags": [
     "start_task"
    ]
   },
   "source": [
    "**Задание 29**\n",
    "\n",
    "Выведите на экран первые десять строк `spb_genres`:"
   ]
  },
  {
   "cell_type": "code",
   "execution_count": 39,
   "metadata": {
    "deletable": false,
    "id": "uaGJHjVU_Zcv"
   },
   "outputs": [
    {
     "data": {
      "text/plain": [
       "genre\n",
       "pop            2431\n",
       "dance          1932\n",
       "rock           1879\n",
       "electronic     1736\n",
       "hiphop          960\n",
       "alternative     649\n",
       "classical       646\n",
       "rusrap          564\n",
       "ruspop          538\n",
       "world           515\n",
       "Name: genre, dtype: int64"
      ]
     },
     "execution_count": 39,
     "metadata": {},
     "output_type": "execute_result"
    }
   ],
   "source": [
    "spb_genres.head(10) # просмотр первых 10 строк spb_genres"
   ]
  },
  {
   "cell_type": "markdown",
   "metadata": {
    "deletable": false,
    "editable": false,
    "id": "RY51YJYu_Zcv"
   },
   "source": [
    "**Выводы**"
   ]
  },
  {
   "cell_type": "markdown",
   "metadata": {
    "deletable": false,
    "editable": false,
    "id": "nVhnJEm__Zcv"
   },
   "source": [
    "Гипотеза частично подтвердилась:\n",
    "* Поп-музыка — самый популярный жанр в Москве, как и предполагала гипотеза. Более того, в топ-10 жанров встречается близкий жанр — русская популярная музыка.\n",
    "* Вопреки ожиданиям, рэп одинаково популярен в Москве и Петербурге. \n"
   ]
  },
  {
   "cell_type": "markdown",
   "metadata": {
    "deletable": false,
    "editable": false,
    "id": "ykKQ0N65_Zcv"
   },
   "source": [
    "## Итоги исследования"
   ]
  },
  {
   "cell_type": "markdown",
   "metadata": {
    "deletable": false,
    "editable": false,
    "id": "tjUwbHb3_Zcv"
   },
   "source": [
    "Вы проверили три гипотезы и установили:\n",
    "\n",
    "1. День недели по-разному влияет на активность пользователей в Москве и Петербурге. \n",
    "\n",
    "Первая гипотеза полностью подтвердилась.\n",
    "\n",
    "2. Музыкальные предпочтения не сильно меняются в течение недели — будь то Москва или Петербург. Небольшие различия заметны в начале недели, по понедельникам:\n",
    "* в Москве слушают музыку жанра “world”,\n",
    "* в Петербурге — джаз и классику.\n",
    "\n",
    "Таким образом, вторая гипотеза подтвердилась лишь отчасти. Этот результат мог оказаться иным, если бы не пропуски в данных.\n",
    "\n",
    "3. Во вкусах пользователей Москвы и Петербурга больше общего чем различий. Вопреки ожиданиям, предпочтения жанров в Петербурге напоминают московские.\n",
    "\n",
    "Третья гипотеза не подтвердилась. Если различия в предпочтениях и существуют, на основной массе пользователей они незаметны.\n",
    "\n",
    "**На практике исследования содержат проверки статистических гипотез.**\n",
    "Из данных одного сервиса не всегда можно сделать вывод о всех жителях города.\n",
    "Проверки статистических гипотез покажут, насколько они достоверны, исходя из имеющихся данных. \n",
    "С методами проверок гипотез вы ещё познакомитесь в следующих темах."
   ]
  }
 ],
 "metadata": {
  "ExecuteTimeLog": [
   {
    "duration": 405,
    "start_time": "2022-10-10T07:52:45.433Z"
   },
   {
    "duration": 110,
    "start_time": "2022-10-10T07:52:48.814Z"
   },
   {
    "duration": 13,
    "start_time": "2022-10-10T07:53:14.654Z"
   },
   {
    "duration": 13,
    "start_time": "2022-10-10T07:53:25.566Z"
   },
   {
    "duration": 41,
    "start_time": "2022-10-10T07:54:16.798Z"
   },
   {
    "duration": 229,
    "start_time": "2022-10-10T07:54:33.995Z"
   },
   {
    "duration": 17,
    "start_time": "2022-10-10T07:55:53.708Z"
   },
   {
    "duration": 31,
    "start_time": "2022-10-10T07:56:43.357Z"
   },
   {
    "duration": 8,
    "start_time": "2022-10-10T08:07:21.398Z"
   },
   {
    "duration": 11,
    "start_time": "2022-10-10T08:08:11.368Z"
   },
   {
    "duration": 5,
    "start_time": "2022-10-10T08:08:19.767Z"
   },
   {
    "duration": 11,
    "start_time": "2022-10-10T08:11:07.144Z"
   },
   {
    "duration": 10,
    "start_time": "2022-10-10T08:11:23.290Z"
   },
   {
    "duration": 8,
    "start_time": "2022-10-10T08:11:27.426Z"
   },
   {
    "duration": 4,
    "start_time": "2022-10-10T08:11:35.771Z"
   },
   {
    "duration": 8,
    "start_time": "2022-10-10T08:13:25.619Z"
   },
   {
    "duration": 9,
    "start_time": "2022-10-10T08:13:31.723Z"
   },
   {
    "duration": 24,
    "start_time": "2022-10-10T08:13:43.488Z"
   },
   {
    "duration": 45,
    "start_time": "2022-10-10T08:20:17.728Z"
   },
   {
    "duration": 21,
    "start_time": "2022-10-10T08:25:00.627Z"
   },
   {
    "duration": 32,
    "start_time": "2022-10-10T08:25:19.645Z"
   },
   {
    "duration": 24,
    "start_time": "2022-10-10T08:25:30.682Z"
   },
   {
    "duration": 67,
    "start_time": "2022-10-10T08:32:10.010Z"
   },
   {
    "duration": 64,
    "start_time": "2022-10-10T08:32:18.468Z"
   },
   {
    "duration": 74,
    "start_time": "2022-10-10T08:34:33.058Z"
   },
   {
    "duration": 63,
    "start_time": "2022-10-10T08:35:47.354Z"
   },
   {
    "duration": 71,
    "start_time": "2022-10-10T08:35:56.973Z"
   },
   {
    "duration": 8,
    "start_time": "2022-10-10T08:37:07.315Z"
   },
   {
    "duration": 23,
    "start_time": "2022-10-10T08:39:29.017Z"
   },
   {
    "duration": 11,
    "start_time": "2022-10-10T08:39:32.943Z"
   },
   {
    "duration": 61,
    "start_time": "2022-10-10T08:40:40.791Z"
   },
   {
    "duration": 46,
    "start_time": "2022-10-10T08:40:46.061Z"
   },
   {
    "duration": 11,
    "start_time": "2022-10-10T08:40:54.339Z"
   },
   {
    "duration": 8,
    "start_time": "2022-10-10T08:41:29.596Z"
   },
   {
    "duration": 6,
    "start_time": "2022-10-10T08:41:43.105Z"
   },
   {
    "duration": 7,
    "start_time": "2022-10-10T08:41:45.178Z"
   },
   {
    "duration": 13,
    "start_time": "2022-10-10T08:43:08.842Z"
   },
   {
    "duration": 11,
    "start_time": "2022-10-10T08:43:37.935Z"
   },
   {
    "duration": 11,
    "start_time": "2022-10-10T08:44:54.918Z"
   },
   {
    "duration": 10,
    "start_time": "2022-10-10T08:45:01.502Z"
   },
   {
    "duration": 8,
    "start_time": "2022-10-10T08:45:36.722Z"
   },
   {
    "duration": 8,
    "start_time": "2022-10-10T08:45:55.721Z"
   },
   {
    "duration": 47,
    "start_time": "2022-10-10T08:46:22.448Z"
   },
   {
    "duration": 29,
    "start_time": "2022-10-10T08:46:52.171Z"
   },
   {
    "duration": 33,
    "start_time": "2022-10-10T08:46:59.713Z"
   },
   {
    "duration": 31,
    "start_time": "2022-10-10T08:47:46.079Z"
   },
   {
    "duration": 36,
    "start_time": "2022-10-10T08:47:59.975Z"
   },
   {
    "duration": 8,
    "start_time": "2022-10-10T08:59:39.447Z"
   },
   {
    "duration": 8,
    "start_time": "2022-10-10T09:00:26.587Z"
   },
   {
    "duration": 9,
    "start_time": "2022-10-10T09:01:09.733Z"
   },
   {
    "duration": 10,
    "start_time": "2022-10-10T09:01:22.630Z"
   },
   {
    "duration": 8,
    "start_time": "2022-10-10T09:01:47.816Z"
   },
   {
    "duration": 12,
    "start_time": "2022-10-10T09:02:10.822Z"
   },
   {
    "duration": 7,
    "start_time": "2022-10-10T09:02:31.888Z"
   },
   {
    "duration": 36,
    "start_time": "2022-10-10T09:03:24.446Z"
   },
   {
    "duration": 10,
    "start_time": "2022-10-10T09:03:41.185Z"
   },
   {
    "duration": 546,
    "start_time": "2022-10-10T09:04:47.107Z"
   },
   {
    "duration": 562,
    "start_time": "2022-10-10T09:04:56.319Z"
   },
   {
    "duration": 752,
    "start_time": "2022-10-10T09:05:16.776Z"
   },
   {
    "duration": 602,
    "start_time": "2022-10-10T09:05:19.447Z"
   },
   {
    "duration": 783,
    "start_time": "2022-10-10T09:05:22.510Z"
   },
   {
    "duration": 5,
    "start_time": "2022-10-10T09:05:41.770Z"
   },
   {
    "duration": 10,
    "start_time": "2022-10-10T09:05:55.465Z"
   },
   {
    "duration": 8,
    "start_time": "2022-10-10T09:06:01.137Z"
   },
   {
    "duration": 549,
    "start_time": "2022-10-10T09:06:22.263Z"
   },
   {
    "duration": 15,
    "start_time": "2022-10-10T09:08:14.165Z"
   },
   {
    "duration": 8,
    "start_time": "2022-10-10T09:08:29.437Z"
   },
   {
    "duration": 5,
    "start_time": "2022-10-10T09:08:44.468Z"
   },
   {
    "duration": 4,
    "start_time": "2022-10-10T09:08:46.250Z"
   },
   {
    "duration": 4,
    "start_time": "2022-10-10T09:08:49.710Z"
   },
   {
    "duration": 10,
    "start_time": "2022-10-10T09:09:06.374Z"
   },
   {
    "duration": 409,
    "start_time": "2022-10-10T09:09:22.624Z"
   },
   {
    "duration": 177,
    "start_time": "2022-10-10T09:09:23.035Z"
   },
   {
    "duration": 17,
    "start_time": "2022-10-10T09:09:23.214Z"
   },
   {
    "duration": 29,
    "start_time": "2022-10-10T09:09:23.233Z"
   },
   {
    "duration": 2,
    "start_time": "2022-10-10T09:09:23.265Z"
   },
   {
    "duration": 14,
    "start_time": "2022-10-10T09:09:23.269Z"
   },
   {
    "duration": 19,
    "start_time": "2022-10-10T09:09:23.285Z"
   },
   {
    "duration": 18,
    "start_time": "2022-10-10T09:09:23.306Z"
   },
   {
    "duration": 51,
    "start_time": "2022-10-10T09:09:23.326Z"
   },
   {
    "duration": 38,
    "start_time": "2022-10-10T09:09:23.379Z"
   },
   {
    "duration": 25,
    "start_time": "2022-10-10T09:09:23.419Z"
   },
   {
    "duration": 79,
    "start_time": "2022-10-10T09:09:23.446Z"
   },
   {
    "duration": 84,
    "start_time": "2022-10-10T09:09:23.527Z"
   },
   {
    "duration": 65,
    "start_time": "2022-10-10T09:09:23.622Z"
   },
   {
    "duration": 53,
    "start_time": "2022-10-10T09:09:23.688Z"
   },
   {
    "duration": 11,
    "start_time": "2022-10-10T09:09:23.743Z"
   },
   {
    "duration": 772,
    "start_time": "2022-10-10T09:09:23.756Z"
   },
   {
    "duration": 0,
    "start_time": "2022-10-10T09:09:24.531Z"
   },
   {
    "duration": 0,
    "start_time": "2022-10-10T09:09:24.532Z"
   },
   {
    "duration": 0,
    "start_time": "2022-10-10T09:09:24.533Z"
   },
   {
    "duration": 0,
    "start_time": "2022-10-10T09:09:24.535Z"
   },
   {
    "duration": 0,
    "start_time": "2022-10-10T09:09:24.536Z"
   },
   {
    "duration": 0,
    "start_time": "2022-10-10T09:09:24.538Z"
   },
   {
    "duration": 0,
    "start_time": "2022-10-10T09:09:24.540Z"
   },
   {
    "duration": 0,
    "start_time": "2022-10-10T09:09:24.541Z"
   },
   {
    "duration": 0,
    "start_time": "2022-10-10T09:09:24.543Z"
   },
   {
    "duration": 0,
    "start_time": "2022-10-10T09:09:24.544Z"
   },
   {
    "duration": 0,
    "start_time": "2022-10-10T09:09:24.545Z"
   },
   {
    "duration": 0,
    "start_time": "2022-10-10T09:09:24.546Z"
   },
   {
    "duration": 0,
    "start_time": "2022-10-10T09:09:24.548Z"
   },
   {
    "duration": 0,
    "start_time": "2022-10-10T09:09:24.550Z"
   },
   {
    "duration": 0,
    "start_time": "2022-10-10T09:09:24.552Z"
   },
   {
    "duration": 0,
    "start_time": "2022-10-10T09:09:24.553Z"
   },
   {
    "duration": 0,
    "start_time": "2022-10-10T09:09:24.555Z"
   },
   {
    "duration": 0,
    "start_time": "2022-10-10T09:09:24.556Z"
   },
   {
    "duration": 0,
    "start_time": "2022-10-10T09:09:24.557Z"
   },
   {
    "duration": 0,
    "start_time": "2022-10-10T09:09:24.559Z"
   },
   {
    "duration": 0,
    "start_time": "2022-10-10T09:09:24.561Z"
   },
   {
    "duration": 9,
    "start_time": "2022-10-10T09:09:40.953Z"
   },
   {
    "duration": 9,
    "start_time": "2022-10-10T09:09:44.092Z"
   },
   {
    "duration": 8,
    "start_time": "2022-10-10T09:09:51.538Z"
   },
   {
    "duration": 37,
    "start_time": "2022-10-10T09:14:00.138Z"
   },
   {
    "duration": 11,
    "start_time": "2022-10-10T09:14:10.999Z"
   },
   {
    "duration": 10,
    "start_time": "2022-10-10T09:14:17.042Z"
   },
   {
    "duration": 8,
    "start_time": "2022-10-10T09:14:25.469Z"
   },
   {
    "duration": 37,
    "start_time": "2022-10-10T09:15:15.293Z"
   },
   {
    "duration": 39,
    "start_time": "2022-10-10T09:15:34.408Z"
   },
   {
    "duration": 37,
    "start_time": "2022-10-10T09:15:37.872Z"
   },
   {
    "duration": 36,
    "start_time": "2022-10-10T09:15:39.361Z"
   },
   {
    "duration": 446,
    "start_time": "2022-10-10T09:15:55.006Z"
   },
   {
    "duration": 180,
    "start_time": "2022-10-10T09:15:55.455Z"
   },
   {
    "duration": 19,
    "start_time": "2022-10-10T09:15:55.637Z"
   },
   {
    "duration": 32,
    "start_time": "2022-10-10T09:15:55.657Z"
   },
   {
    "duration": 3,
    "start_time": "2022-10-10T09:15:55.692Z"
   },
   {
    "duration": 5,
    "start_time": "2022-10-10T09:15:55.719Z"
   },
   {
    "duration": 20,
    "start_time": "2022-10-10T09:15:55.726Z"
   },
   {
    "duration": 7,
    "start_time": "2022-10-10T09:15:55.748Z"
   },
   {
    "duration": 34,
    "start_time": "2022-10-10T09:15:55.757Z"
   },
   {
    "duration": 37,
    "start_time": "2022-10-10T09:15:55.793Z"
   },
   {
    "duration": 25,
    "start_time": "2022-10-10T09:15:55.832Z"
   },
   {
    "duration": 94,
    "start_time": "2022-10-10T09:15:55.859Z"
   },
   {
    "duration": 82,
    "start_time": "2022-10-10T09:15:55.954Z"
   },
   {
    "duration": 67,
    "start_time": "2022-10-10T09:15:56.040Z"
   },
   {
    "duration": 45,
    "start_time": "2022-10-10T09:15:56.108Z"
   },
   {
    "duration": 10,
    "start_time": "2022-10-10T09:15:56.155Z"
   },
   {
    "duration": 54,
    "start_time": "2022-10-10T09:15:56.166Z"
   },
   {
    "duration": 2,
    "start_time": "2022-10-10T09:15:56.222Z"
   },
   {
    "duration": 21,
    "start_time": "2022-10-10T09:15:56.226Z"
   },
   {
    "duration": 10,
    "start_time": "2022-10-10T09:15:56.248Z"
   },
   {
    "duration": 35,
    "start_time": "2022-10-10T09:15:56.259Z"
   },
   {
    "duration": 18,
    "start_time": "2022-10-10T09:15:56.296Z"
   },
   {
    "duration": 25,
    "start_time": "2022-10-10T09:15:56.316Z"
   },
   {
    "duration": 23,
    "start_time": "2022-10-10T09:15:56.343Z"
   },
   {
    "duration": 15,
    "start_time": "2022-10-10T09:15:56.367Z"
   },
   {
    "duration": 7,
    "start_time": "2022-10-10T09:15:56.384Z"
   },
   {
    "duration": 14,
    "start_time": "2022-10-10T09:15:56.392Z"
   },
   {
    "duration": 6,
    "start_time": "2022-10-10T09:15:56.408Z"
   },
   {
    "duration": 8,
    "start_time": "2022-10-10T09:15:56.416Z"
   },
   {
    "duration": 46,
    "start_time": "2022-10-10T09:15:56.426Z"
   },
   {
    "duration": 0,
    "start_time": "2022-10-10T09:15:56.473Z"
   },
   {
    "duration": 0,
    "start_time": "2022-10-10T09:15:56.474Z"
   },
   {
    "duration": 0,
    "start_time": "2022-10-10T09:15:56.476Z"
   },
   {
    "duration": 0,
    "start_time": "2022-10-10T09:15:56.477Z"
   },
   {
    "duration": 0,
    "start_time": "2022-10-10T09:15:56.478Z"
   },
   {
    "duration": 0,
    "start_time": "2022-10-10T09:15:56.480Z"
   },
   {
    "duration": 0,
    "start_time": "2022-10-10T09:15:56.481Z"
   },
   {
    "duration": 0,
    "start_time": "2022-10-10T09:15:56.482Z"
   },
   {
    "duration": 39,
    "start_time": "2022-10-10T09:16:18.688Z"
   },
   {
    "duration": 36,
    "start_time": "2022-10-10T09:16:25.100Z"
   },
   {
    "duration": 36,
    "start_time": "2022-10-10T09:16:33.967Z"
   },
   {
    "duration": 427,
    "start_time": "2022-10-10T09:17:34.107Z"
   },
   {
    "duration": 174,
    "start_time": "2022-10-10T09:17:34.536Z"
   },
   {
    "duration": 17,
    "start_time": "2022-10-10T09:17:34.711Z"
   },
   {
    "duration": 41,
    "start_time": "2022-10-10T09:17:34.730Z"
   },
   {
    "duration": 11,
    "start_time": "2022-10-10T09:17:34.773Z"
   },
   {
    "duration": 28,
    "start_time": "2022-10-10T09:17:34.785Z"
   },
   {
    "duration": 48,
    "start_time": "2022-10-10T09:17:34.815Z"
   },
   {
    "duration": 14,
    "start_time": "2022-10-10T09:17:34.865Z"
   },
   {
    "duration": 63,
    "start_time": "2022-10-10T09:17:34.880Z"
   },
   {
    "duration": 40,
    "start_time": "2022-10-10T09:17:34.946Z"
   },
   {
    "duration": 29,
    "start_time": "2022-10-10T09:17:34.988Z"
   },
   {
    "duration": 96,
    "start_time": "2022-10-10T09:17:35.019Z"
   },
   {
    "duration": 90,
    "start_time": "2022-10-10T09:17:35.117Z"
   },
   {
    "duration": 70,
    "start_time": "2022-10-10T09:17:35.209Z"
   },
   {
    "duration": 50,
    "start_time": "2022-10-10T09:17:35.280Z"
   },
   {
    "duration": 10,
    "start_time": "2022-10-10T09:17:35.331Z"
   },
   {
    "duration": 48,
    "start_time": "2022-10-10T09:17:35.343Z"
   },
   {
    "duration": 2,
    "start_time": "2022-10-10T09:17:35.393Z"
   },
   {
    "duration": 37,
    "start_time": "2022-10-10T09:17:35.397Z"
   },
   {
    "duration": 31,
    "start_time": "2022-10-10T09:17:35.437Z"
   },
   {
    "duration": 30,
    "start_time": "2022-10-10T09:17:35.470Z"
   },
   {
    "duration": 13,
    "start_time": "2022-10-10T09:17:35.502Z"
   },
   {
    "duration": 41,
    "start_time": "2022-10-10T09:17:35.517Z"
   },
   {
    "duration": 19,
    "start_time": "2022-10-10T09:17:35.561Z"
   },
   {
    "duration": 22,
    "start_time": "2022-10-10T09:17:35.582Z"
   },
   {
    "duration": 17,
    "start_time": "2022-10-10T09:17:35.606Z"
   },
   {
    "duration": 32,
    "start_time": "2022-10-10T09:17:35.625Z"
   },
   {
    "duration": 28,
    "start_time": "2022-10-10T09:17:35.661Z"
   },
   {
    "duration": 26,
    "start_time": "2022-10-10T09:17:35.691Z"
   },
   {
    "duration": 51,
    "start_time": "2022-10-10T09:17:35.720Z"
   },
   {
    "duration": 0,
    "start_time": "2022-10-10T09:17:35.773Z"
   },
   {
    "duration": 0,
    "start_time": "2022-10-10T09:17:35.774Z"
   },
   {
    "duration": 0,
    "start_time": "2022-10-10T09:17:35.776Z"
   },
   {
    "duration": 0,
    "start_time": "2022-10-10T09:17:35.777Z"
   },
   {
    "duration": 0,
    "start_time": "2022-10-10T09:17:35.779Z"
   },
   {
    "duration": 0,
    "start_time": "2022-10-10T09:17:35.780Z"
   },
   {
    "duration": 0,
    "start_time": "2022-10-10T09:17:35.781Z"
   },
   {
    "duration": 0,
    "start_time": "2022-10-10T09:17:35.783Z"
   },
   {
    "duration": 4,
    "start_time": "2022-10-10T09:50:28.242Z"
   },
   {
    "duration": 6,
    "start_time": "2022-10-10T10:06:53.296Z"
   },
   {
    "duration": 5,
    "start_time": "2022-10-10T10:07:15.962Z"
   },
   {
    "duration": 17,
    "start_time": "2022-10-10T10:07:19.836Z"
   },
   {
    "duration": 12,
    "start_time": "2022-10-10T10:09:02.052Z"
   },
   {
    "duration": 67,
    "start_time": "2022-10-10T10:09:32.570Z"
   },
   {
    "duration": 12,
    "start_time": "2022-10-10T10:10:05.264Z"
   },
   {
    "duration": 434,
    "start_time": "2022-10-10T11:38:15.191Z"
   },
   {
    "duration": 170,
    "start_time": "2022-10-10T11:38:15.628Z"
   },
   {
    "duration": 22,
    "start_time": "2022-10-10T11:38:15.799Z"
   },
   {
    "duration": 56,
    "start_time": "2022-10-10T11:38:15.823Z"
   },
   {
    "duration": 17,
    "start_time": "2022-10-10T11:38:15.881Z"
   },
   {
    "duration": 31,
    "start_time": "2022-10-10T11:38:15.900Z"
   },
   {
    "duration": 23,
    "start_time": "2022-10-10T11:38:15.933Z"
   },
   {
    "duration": 33,
    "start_time": "2022-10-10T11:38:15.958Z"
   },
   {
    "duration": 43,
    "start_time": "2022-10-10T11:38:15.992Z"
   },
   {
    "duration": 27,
    "start_time": "2022-10-10T11:38:16.037Z"
   },
   {
    "duration": 23,
    "start_time": "2022-10-10T11:38:16.066Z"
   },
   {
    "duration": 85,
    "start_time": "2022-10-10T11:38:16.091Z"
   },
   {
    "duration": 86,
    "start_time": "2022-10-10T11:38:16.178Z"
   },
   {
    "duration": 74,
    "start_time": "2022-10-10T11:38:16.267Z"
   },
   {
    "duration": 41,
    "start_time": "2022-10-10T11:38:16.343Z"
   },
   {
    "duration": 22,
    "start_time": "2022-10-10T11:38:16.386Z"
   },
   {
    "duration": 71,
    "start_time": "2022-10-10T11:38:16.410Z"
   },
   {
    "duration": 14,
    "start_time": "2022-10-10T11:38:16.483Z"
   },
   {
    "duration": 54,
    "start_time": "2022-10-10T11:38:16.499Z"
   },
   {
    "duration": 9,
    "start_time": "2022-10-10T11:38:16.555Z"
   },
   {
    "duration": 30,
    "start_time": "2022-10-10T11:38:16.565Z"
   },
   {
    "duration": 20,
    "start_time": "2022-10-10T11:38:16.596Z"
   },
   {
    "duration": 35,
    "start_time": "2022-10-10T11:38:16.618Z"
   },
   {
    "duration": 29,
    "start_time": "2022-10-10T11:38:16.655Z"
   },
   {
    "duration": 24,
    "start_time": "2022-10-10T11:38:16.686Z"
   },
   {
    "duration": 48,
    "start_time": "2022-10-10T11:38:16.711Z"
   },
   {
    "duration": 15,
    "start_time": "2022-10-10T11:38:16.761Z"
   },
   {
    "duration": 28,
    "start_time": "2022-10-10T11:38:16.777Z"
   },
   {
    "duration": 34,
    "start_time": "2022-10-10T11:38:16.807Z"
   },
   {
    "duration": 45,
    "start_time": "2022-10-10T11:38:16.843Z"
   },
   {
    "duration": 0,
    "start_time": "2022-10-10T11:38:16.890Z"
   },
   {
    "duration": 0,
    "start_time": "2022-10-10T11:38:16.891Z"
   },
   {
    "duration": 1,
    "start_time": "2022-10-10T11:38:16.892Z"
   },
   {
    "duration": 1,
    "start_time": "2022-10-10T11:38:16.893Z"
   },
   {
    "duration": 0,
    "start_time": "2022-10-10T11:38:16.895Z"
   },
   {
    "duration": 0,
    "start_time": "2022-10-10T11:38:16.896Z"
   },
   {
    "duration": 0,
    "start_time": "2022-10-10T11:38:16.897Z"
   },
   {
    "duration": 0,
    "start_time": "2022-10-10T11:38:16.898Z"
   },
   {
    "duration": 49,
    "start_time": "2022-10-10T11:45:11.158Z"
   },
   {
    "duration": 437,
    "start_time": "2022-10-10T11:45:56.399Z"
   },
   {
    "duration": 176,
    "start_time": "2022-10-10T11:45:56.838Z"
   },
   {
    "duration": 18,
    "start_time": "2022-10-10T11:45:57.016Z"
   },
   {
    "duration": 41,
    "start_time": "2022-10-10T11:45:57.036Z"
   },
   {
    "duration": 33,
    "start_time": "2022-10-10T11:45:57.079Z"
   },
   {
    "duration": 40,
    "start_time": "2022-10-10T11:45:57.113Z"
   },
   {
    "duration": 56,
    "start_time": "2022-10-10T11:45:57.155Z"
   },
   {
    "duration": 32,
    "start_time": "2022-10-10T11:45:57.213Z"
   },
   {
    "duration": 57,
    "start_time": "2022-10-10T11:45:57.247Z"
   },
   {
    "duration": 44,
    "start_time": "2022-10-10T11:45:57.305Z"
   },
   {
    "duration": 48,
    "start_time": "2022-10-10T11:45:57.351Z"
   },
   {
    "duration": 82,
    "start_time": "2022-10-10T11:45:57.401Z"
   },
   {
    "duration": 93,
    "start_time": "2022-10-10T11:45:57.485Z"
   },
   {
    "duration": 68,
    "start_time": "2022-10-10T11:45:57.582Z"
   },
   {
    "duration": 37,
    "start_time": "2022-10-10T11:45:57.652Z"
   },
   {
    "duration": 29,
    "start_time": "2022-10-10T11:45:57.691Z"
   },
   {
    "duration": 38,
    "start_time": "2022-10-10T11:45:57.722Z"
   },
   {
    "duration": 32,
    "start_time": "2022-10-10T11:45:57.762Z"
   },
   {
    "duration": 47,
    "start_time": "2022-10-10T11:45:57.795Z"
   },
   {
    "duration": 57,
    "start_time": "2022-10-10T11:45:57.843Z"
   },
   {
    "duration": 0,
    "start_time": "2022-10-10T11:45:57.901Z"
   },
   {
    "duration": 0,
    "start_time": "2022-10-10T11:45:57.903Z"
   },
   {
    "duration": 0,
    "start_time": "2022-10-10T11:45:57.904Z"
   },
   {
    "duration": 0,
    "start_time": "2022-10-10T11:45:57.905Z"
   },
   {
    "duration": 0,
    "start_time": "2022-10-10T11:45:57.907Z"
   },
   {
    "duration": 0,
    "start_time": "2022-10-10T11:45:57.908Z"
   },
   {
    "duration": 0,
    "start_time": "2022-10-10T11:45:57.909Z"
   },
   {
    "duration": 0,
    "start_time": "2022-10-10T11:45:57.910Z"
   },
   {
    "duration": 0,
    "start_time": "2022-10-10T11:45:57.911Z"
   },
   {
    "duration": 0,
    "start_time": "2022-10-10T11:45:57.913Z"
   },
   {
    "duration": 0,
    "start_time": "2022-10-10T11:45:57.914Z"
   },
   {
    "duration": 0,
    "start_time": "2022-10-10T11:45:57.915Z"
   },
   {
    "duration": 0,
    "start_time": "2022-10-10T11:45:57.916Z"
   },
   {
    "duration": 0,
    "start_time": "2022-10-10T11:45:57.917Z"
   },
   {
    "duration": 0,
    "start_time": "2022-10-10T11:45:57.918Z"
   },
   {
    "duration": 0,
    "start_time": "2022-10-10T11:45:57.919Z"
   },
   {
    "duration": 0,
    "start_time": "2022-10-10T11:45:57.920Z"
   },
   {
    "duration": 0,
    "start_time": "2022-10-10T11:45:57.921Z"
   },
   {
    "duration": 56,
    "start_time": "2022-10-10T11:55:50.127Z"
   },
   {
    "duration": 415,
    "start_time": "2022-10-10T11:56:04.605Z"
   },
   {
    "duration": 176,
    "start_time": "2022-10-10T11:56:05.022Z"
   },
   {
    "duration": 21,
    "start_time": "2022-10-10T11:56:05.199Z"
   },
   {
    "duration": 36,
    "start_time": "2022-10-10T11:56:05.222Z"
   },
   {
    "duration": 11,
    "start_time": "2022-10-10T11:56:05.260Z"
   },
   {
    "duration": 20,
    "start_time": "2022-10-10T11:56:05.273Z"
   },
   {
    "duration": 26,
    "start_time": "2022-10-10T11:56:05.294Z"
   },
   {
    "duration": 30,
    "start_time": "2022-10-10T11:56:05.321Z"
   },
   {
    "duration": 34,
    "start_time": "2022-10-10T11:56:05.353Z"
   },
   {
    "duration": 26,
    "start_time": "2022-10-10T11:56:05.391Z"
   },
   {
    "duration": 34,
    "start_time": "2022-10-10T11:56:05.418Z"
   },
   {
    "duration": 72,
    "start_time": "2022-10-10T11:56:05.454Z"
   },
   {
    "duration": 92,
    "start_time": "2022-10-10T11:56:05.528Z"
   },
   {
    "duration": 63,
    "start_time": "2022-10-10T11:56:05.622Z"
   },
   {
    "duration": 51,
    "start_time": "2022-10-10T11:56:05.687Z"
   },
   {
    "duration": 10,
    "start_time": "2022-10-10T11:56:05.739Z"
   },
   {
    "duration": 43,
    "start_time": "2022-10-10T11:56:05.751Z"
   },
   {
    "duration": 11,
    "start_time": "2022-10-10T11:56:05.795Z"
   },
   {
    "duration": 14,
    "start_time": "2022-10-10T11:56:05.820Z"
   },
   {
    "duration": 41,
    "start_time": "2022-10-10T11:56:05.836Z"
   },
   {
    "duration": 0,
    "start_time": "2022-10-10T11:56:05.880Z"
   },
   {
    "duration": 0,
    "start_time": "2022-10-10T11:56:05.882Z"
   },
   {
    "duration": 0,
    "start_time": "2022-10-10T11:56:05.883Z"
   },
   {
    "duration": 0,
    "start_time": "2022-10-10T11:56:05.885Z"
   },
   {
    "duration": 0,
    "start_time": "2022-10-10T11:56:05.886Z"
   },
   {
    "duration": 0,
    "start_time": "2022-10-10T11:56:05.888Z"
   },
   {
    "duration": 0,
    "start_time": "2022-10-10T11:56:05.889Z"
   },
   {
    "duration": 0,
    "start_time": "2022-10-10T11:56:05.890Z"
   },
   {
    "duration": 0,
    "start_time": "2022-10-10T11:56:05.891Z"
   },
   {
    "duration": 0,
    "start_time": "2022-10-10T11:56:05.892Z"
   },
   {
    "duration": 0,
    "start_time": "2022-10-10T11:56:05.893Z"
   },
   {
    "duration": 0,
    "start_time": "2022-10-10T11:56:05.894Z"
   },
   {
    "duration": 0,
    "start_time": "2022-10-10T11:56:05.895Z"
   },
   {
    "duration": 0,
    "start_time": "2022-10-10T11:56:05.897Z"
   },
   {
    "duration": 0,
    "start_time": "2022-10-10T11:56:05.898Z"
   },
   {
    "duration": 0,
    "start_time": "2022-10-10T11:56:05.900Z"
   },
   {
    "duration": 0,
    "start_time": "2022-10-10T11:56:05.901Z"
   },
   {
    "duration": 0,
    "start_time": "2022-10-10T11:56:05.902Z"
   },
   {
    "duration": 47,
    "start_time": "2022-10-10T12:00:40.949Z"
   },
   {
    "duration": 151,
    "start_time": "2022-10-10T12:00:58.184Z"
   },
   {
    "duration": 5,
    "start_time": "2022-10-10T12:01:03.715Z"
   },
   {
    "duration": 94,
    "start_time": "2022-10-10T12:10:40.189Z"
   },
   {
    "duration": 60,
    "start_time": "2022-10-10T12:11:21.038Z"
   },
   {
    "duration": 57,
    "start_time": "2022-10-10T12:12:20.320Z"
   },
   {
    "duration": 55,
    "start_time": "2022-10-10T12:12:32.622Z"
   },
   {
    "duration": 51,
    "start_time": "2022-10-10T12:13:51.463Z"
   },
   {
    "duration": 17,
    "start_time": "2022-10-10T12:13:58.710Z"
   },
   {
    "duration": 17,
    "start_time": "2022-10-10T12:14:04.197Z"
   },
   {
    "duration": 76,
    "start_time": "2022-10-10T12:14:12.233Z"
   },
   {
    "duration": 65,
    "start_time": "2022-10-10T12:14:16.562Z"
   },
   {
    "duration": 74,
    "start_time": "2022-10-10T12:14:26.794Z"
   },
   {
    "duration": 92,
    "start_time": "2022-10-10T12:15:20.798Z"
   },
   {
    "duration": 71,
    "start_time": "2022-10-10T12:15:41.921Z"
   },
   {
    "duration": 66,
    "start_time": "2022-10-10T12:16:02.303Z"
   },
   {
    "duration": 46,
    "start_time": "2022-10-10T12:24:26.088Z"
   },
   {
    "duration": 48,
    "start_time": "2022-10-10T12:28:13.386Z"
   },
   {
    "duration": 53,
    "start_time": "2022-10-10T12:28:47.387Z"
   },
   {
    "duration": 113,
    "start_time": "2022-10-10T12:29:06.785Z"
   },
   {
    "duration": 118,
    "start_time": "2022-10-10T12:29:21.657Z"
   },
   {
    "duration": 73,
    "start_time": "2022-10-10T12:30:03.028Z"
   },
   {
    "duration": 14,
    "start_time": "2022-10-10T12:30:47.423Z"
   },
   {
    "duration": 13,
    "start_time": "2022-10-10T12:30:54.975Z"
   },
   {
    "duration": 13,
    "start_time": "2022-10-10T12:31:09.807Z"
   },
   {
    "duration": 8,
    "start_time": "2022-10-10T12:31:35.020Z"
   },
   {
    "duration": 10,
    "start_time": "2022-10-10T12:32:53.165Z"
   },
   {
    "duration": 9,
    "start_time": "2022-10-10T12:33:23.910Z"
   },
   {
    "duration": 9,
    "start_time": "2022-10-10T12:33:32.062Z"
   },
   {
    "duration": 10,
    "start_time": "2022-10-10T12:34:05.134Z"
   },
   {
    "duration": 4,
    "start_time": "2022-10-10T12:36:14.549Z"
   },
   {
    "duration": 4,
    "start_time": "2022-10-10T12:36:22.630Z"
   },
   {
    "duration": 10,
    "start_time": "2022-10-10T12:36:46.546Z"
   },
   {
    "duration": 5,
    "start_time": "2022-10-10T12:36:57.593Z"
   },
   {
    "duration": 9,
    "start_time": "2022-10-10T13:15:24.888Z"
   },
   {
    "duration": 10,
    "start_time": "2022-10-10T13:16:33.919Z"
   },
   {
    "duration": 132,
    "start_time": "2022-10-10T13:18:03.082Z"
   },
   {
    "duration": 12,
    "start_time": "2022-10-10T13:18:08.319Z"
   },
   {
    "duration": 11,
    "start_time": "2022-10-10T13:18:43.132Z"
   },
   {
    "duration": 9,
    "start_time": "2022-10-10T13:19:31.297Z"
   },
   {
    "duration": 422,
    "start_time": "2022-10-10T14:18:06.190Z"
   },
   {
    "duration": 181,
    "start_time": "2022-10-10T14:18:06.614Z"
   },
   {
    "duration": 30,
    "start_time": "2022-10-10T14:18:06.797Z"
   },
   {
    "duration": 30,
    "start_time": "2022-10-10T14:18:06.829Z"
   },
   {
    "duration": 13,
    "start_time": "2022-10-10T14:18:06.861Z"
   },
   {
    "duration": 11,
    "start_time": "2022-10-10T14:18:06.876Z"
   },
   {
    "duration": 23,
    "start_time": "2022-10-10T14:18:06.888Z"
   },
   {
    "duration": 25,
    "start_time": "2022-10-10T14:18:06.913Z"
   },
   {
    "duration": 32,
    "start_time": "2022-10-10T14:18:06.939Z"
   },
   {
    "duration": 30,
    "start_time": "2022-10-10T14:18:06.974Z"
   },
   {
    "duration": 25,
    "start_time": "2022-10-10T14:18:07.006Z"
   },
   {
    "duration": 71,
    "start_time": "2022-10-10T14:18:07.033Z"
   },
   {
    "duration": 90,
    "start_time": "2022-10-10T14:18:07.106Z"
   },
   {
    "duration": 72,
    "start_time": "2022-10-10T14:18:07.198Z"
   },
   {
    "duration": 36,
    "start_time": "2022-10-10T14:18:07.272Z"
   },
   {
    "duration": 10,
    "start_time": "2022-10-10T14:18:07.321Z"
   },
   {
    "duration": 52,
    "start_time": "2022-10-10T14:18:07.332Z"
   },
   {
    "duration": 13,
    "start_time": "2022-10-10T14:18:07.386Z"
   },
   {
    "duration": 27,
    "start_time": "2022-10-10T14:18:07.401Z"
   },
   {
    "duration": 68,
    "start_time": "2022-10-10T14:18:07.430Z"
   },
   {
    "duration": 4,
    "start_time": "2022-10-10T14:18:07.499Z"
   },
   {
    "duration": 12,
    "start_time": "2022-10-10T14:18:07.521Z"
   },
   {
    "duration": 16,
    "start_time": "2022-10-10T14:18:07.535Z"
   },
   {
    "duration": 17,
    "start_time": "2022-10-10T14:18:07.552Z"
   },
   {
    "duration": 10,
    "start_time": "2022-10-10T14:18:07.570Z"
   },
   {
    "duration": 31,
    "start_time": "2022-10-10T14:18:07.582Z"
   },
   {
    "duration": 27,
    "start_time": "2022-10-10T14:18:07.615Z"
   },
   {
    "duration": 29,
    "start_time": "2022-10-10T14:18:07.645Z"
   },
   {
    "duration": 34,
    "start_time": "2022-10-10T14:18:07.675Z"
   },
   {
    "duration": 67,
    "start_time": "2022-10-10T14:18:07.710Z"
   },
   {
    "duration": 0,
    "start_time": "2022-10-10T14:18:07.779Z"
   },
   {
    "duration": 0,
    "start_time": "2022-10-10T14:18:07.780Z"
   },
   {
    "duration": 0,
    "start_time": "2022-10-10T14:18:07.782Z"
   },
   {
    "duration": 0,
    "start_time": "2022-10-10T14:18:07.783Z"
   },
   {
    "duration": 0,
    "start_time": "2022-10-10T14:18:07.785Z"
   },
   {
    "duration": 0,
    "start_time": "2022-10-10T14:18:07.786Z"
   },
   {
    "duration": 0,
    "start_time": "2022-10-10T14:18:07.787Z"
   },
   {
    "duration": 0,
    "start_time": "2022-10-10T14:18:07.789Z"
   },
   {
    "duration": 5,
    "start_time": "2022-10-10T14:27:53.721Z"
   },
   {
    "duration": 4,
    "start_time": "2022-10-10T14:27:57.732Z"
   },
   {
    "duration": 924,
    "start_time": "2022-10-10T14:35:25.910Z"
   },
   {
    "duration": 83,
    "start_time": "2022-10-10T14:35:38.863Z"
   },
   {
    "duration": 363,
    "start_time": "2022-10-10T14:35:50.965Z"
   },
   {
    "duration": 173,
    "start_time": "2022-10-10T14:35:51.330Z"
   },
   {
    "duration": 21,
    "start_time": "2022-10-10T14:35:51.505Z"
   },
   {
    "duration": 61,
    "start_time": "2022-10-10T14:35:51.528Z"
   },
   {
    "duration": 10,
    "start_time": "2022-10-10T14:35:51.591Z"
   },
   {
    "duration": 23,
    "start_time": "2022-10-10T14:35:51.603Z"
   },
   {
    "duration": 33,
    "start_time": "2022-10-10T14:35:51.627Z"
   },
   {
    "duration": 17,
    "start_time": "2022-10-10T14:35:51.662Z"
   },
   {
    "duration": 57,
    "start_time": "2022-10-10T14:35:51.681Z"
   },
   {
    "duration": 38,
    "start_time": "2022-10-10T14:35:51.740Z"
   },
   {
    "duration": 30,
    "start_time": "2022-10-10T14:35:51.780Z"
   },
   {
    "duration": 96,
    "start_time": "2022-10-10T14:35:51.812Z"
   },
   {
    "duration": 80,
    "start_time": "2022-10-10T14:35:51.909Z"
   },
   {
    "duration": 68,
    "start_time": "2022-10-10T14:35:51.992Z"
   },
   {
    "duration": 37,
    "start_time": "2022-10-10T14:35:52.062Z"
   },
   {
    "duration": 41,
    "start_time": "2022-10-10T14:35:52.101Z"
   },
   {
    "duration": 78,
    "start_time": "2022-10-10T14:35:52.144Z"
   },
   {
    "duration": 15,
    "start_time": "2022-10-10T14:35:52.224Z"
   },
   {
    "duration": 51,
    "start_time": "2022-10-10T14:35:52.240Z"
   },
   {
    "duration": 72,
    "start_time": "2022-10-10T14:35:52.293Z"
   },
   {
    "duration": 3,
    "start_time": "2022-10-10T14:35:52.367Z"
   },
   {
    "duration": 28,
    "start_time": "2022-10-10T14:35:52.372Z"
   },
   {
    "duration": 18,
    "start_time": "2022-10-10T14:35:52.401Z"
   },
   {
    "duration": 30,
    "start_time": "2022-10-10T14:35:52.421Z"
   },
   {
    "duration": 25,
    "start_time": "2022-10-10T14:35:52.452Z"
   },
   {
    "duration": 19,
    "start_time": "2022-10-10T14:35:52.479Z"
   },
   {
    "duration": 25,
    "start_time": "2022-10-10T14:35:52.500Z"
   },
   {
    "duration": 40,
    "start_time": "2022-10-10T14:35:52.527Z"
   },
   {
    "duration": 14,
    "start_time": "2022-10-10T14:35:52.569Z"
   },
   {
    "duration": 34,
    "start_time": "2022-10-10T14:35:52.585Z"
   },
   {
    "duration": 52,
    "start_time": "2022-10-10T14:35:52.621Z"
   },
   {
    "duration": 0,
    "start_time": "2022-10-10T14:35:52.675Z"
   },
   {
    "duration": 0,
    "start_time": "2022-10-10T14:35:52.677Z"
   },
   {
    "duration": 0,
    "start_time": "2022-10-10T14:35:52.678Z"
   },
   {
    "duration": 0,
    "start_time": "2022-10-10T14:35:52.679Z"
   },
   {
    "duration": 0,
    "start_time": "2022-10-10T14:35:52.680Z"
   },
   {
    "duration": 0,
    "start_time": "2022-10-10T14:35:52.681Z"
   },
   {
    "duration": 0,
    "start_time": "2022-10-10T14:35:52.682Z"
   },
   {
    "duration": 57,
    "start_time": "2022-10-10T14:35:55.932Z"
   },
   {
    "duration": 118,
    "start_time": "2022-10-10T14:36:38.899Z"
   },
   {
    "duration": 5,
    "start_time": "2022-10-10T14:37:50.211Z"
   },
   {
    "duration": 13,
    "start_time": "2022-10-10T14:41:36.917Z"
   },
   {
    "duration": 10,
    "start_time": "2022-10-10T14:41:38.281Z"
   },
   {
    "duration": 6,
    "start_time": "2022-10-10T14:41:44.632Z"
   },
   {
    "duration": 71,
    "start_time": "2022-10-10T14:41:46.370Z"
   },
   {
    "duration": 2,
    "start_time": "2022-10-10T14:41:47.235Z"
   },
   {
    "duration": 5,
    "start_time": "2022-10-10T14:46:24.270Z"
   },
   {
    "duration": 82,
    "start_time": "2022-10-10T14:46:28.520Z"
   },
   {
    "duration": 12,
    "start_time": "2022-10-10T14:46:32.847Z"
   },
   {
    "duration": 8,
    "start_time": "2022-10-10T14:46:33.552Z"
   },
   {
    "duration": 5,
    "start_time": "2022-10-10T14:46:36.957Z"
   },
   {
    "duration": 57,
    "start_time": "2022-10-10T14:46:38.248Z"
   },
   {
    "duration": 5,
    "start_time": "2022-10-10T14:47:19.678Z"
   },
   {
    "duration": 75,
    "start_time": "2022-10-10T14:47:20.767Z"
   },
   {
    "duration": 415,
    "start_time": "2022-10-10T14:47:58.757Z"
   },
   {
    "duration": 184,
    "start_time": "2022-10-10T14:47:59.174Z"
   },
   {
    "duration": 18,
    "start_time": "2022-10-10T14:47:59.360Z"
   },
   {
    "duration": 40,
    "start_time": "2022-10-10T14:47:59.380Z"
   },
   {
    "duration": 2,
    "start_time": "2022-10-10T14:47:59.423Z"
   },
   {
    "duration": 26,
    "start_time": "2022-10-10T14:47:59.427Z"
   },
   {
    "duration": 16,
    "start_time": "2022-10-10T14:47:59.455Z"
   },
   {
    "duration": 7,
    "start_time": "2022-10-10T14:47:59.473Z"
   },
   {
    "duration": 39,
    "start_time": "2022-10-10T14:47:59.483Z"
   },
   {
    "duration": 54,
    "start_time": "2022-10-10T14:47:59.525Z"
   },
   {
    "duration": 24,
    "start_time": "2022-10-10T14:47:59.580Z"
   },
   {
    "duration": 69,
    "start_time": "2022-10-10T14:47:59.606Z"
   },
   {
    "duration": 96,
    "start_time": "2022-10-10T14:47:59.678Z"
   },
   {
    "duration": 72,
    "start_time": "2022-10-10T14:47:59.777Z"
   },
   {
    "duration": 45,
    "start_time": "2022-10-10T14:47:59.851Z"
   },
   {
    "duration": 26,
    "start_time": "2022-10-10T14:47:59.897Z"
   },
   {
    "duration": 41,
    "start_time": "2022-10-10T14:47:59.924Z"
   },
   {
    "duration": 12,
    "start_time": "2022-10-10T14:47:59.968Z"
   },
   {
    "duration": 12,
    "start_time": "2022-10-10T14:47:59.982Z"
   },
   {
    "duration": 81,
    "start_time": "2022-10-10T14:48:00.020Z"
   },
   {
    "duration": 20,
    "start_time": "2022-10-10T14:48:00.103Z"
   },
   {
    "duration": 26,
    "start_time": "2022-10-10T14:48:00.125Z"
   },
   {
    "duration": 42,
    "start_time": "2022-10-10T14:48:00.153Z"
   },
   {
    "duration": 26,
    "start_time": "2022-10-10T14:48:00.197Z"
   },
   {
    "duration": 30,
    "start_time": "2022-10-10T14:48:00.225Z"
   },
   {
    "duration": 35,
    "start_time": "2022-10-10T14:48:00.257Z"
   },
   {
    "duration": 69,
    "start_time": "2022-10-10T14:48:00.294Z"
   },
   {
    "duration": 52,
    "start_time": "2022-10-10T14:48:00.364Z"
   },
   {
    "duration": 61,
    "start_time": "2022-10-10T14:48:00.418Z"
   },
   {
    "duration": 54,
    "start_time": "2022-10-10T14:48:00.481Z"
   },
   {
    "duration": 127,
    "start_time": "2022-10-10T14:48:00.537Z"
   },
   {
    "duration": 0,
    "start_time": "2022-10-10T14:48:00.666Z"
   },
   {
    "duration": 0,
    "start_time": "2022-10-10T14:48:00.667Z"
   },
   {
    "duration": 0,
    "start_time": "2022-10-10T14:48:00.669Z"
   },
   {
    "duration": 0,
    "start_time": "2022-10-10T14:48:00.670Z"
   },
   {
    "duration": 0,
    "start_time": "2022-10-10T14:48:00.671Z"
   },
   {
    "duration": 0,
    "start_time": "2022-10-10T14:48:00.672Z"
   },
   {
    "duration": 0,
    "start_time": "2022-10-10T14:48:00.674Z"
   },
   {
    "duration": 110,
    "start_time": "2022-10-10T14:48:04.047Z"
   },
   {
    "duration": 5,
    "start_time": "2022-10-10T14:49:06.564Z"
   },
   {
    "duration": 120,
    "start_time": "2022-10-10T14:49:08.360Z"
   },
   {
    "duration": 363,
    "start_time": "2022-10-10T14:49:14.567Z"
   },
   {
    "duration": 176,
    "start_time": "2022-10-10T14:49:14.932Z"
   },
   {
    "duration": 21,
    "start_time": "2022-10-10T14:49:15.110Z"
   },
   {
    "duration": 29,
    "start_time": "2022-10-10T14:49:15.133Z"
   },
   {
    "duration": 2,
    "start_time": "2022-10-10T14:49:15.165Z"
   },
   {
    "duration": 9,
    "start_time": "2022-10-10T14:49:15.169Z"
   },
   {
    "duration": 14,
    "start_time": "2022-10-10T14:49:15.180Z"
   },
   {
    "duration": 26,
    "start_time": "2022-10-10T14:49:15.196Z"
   },
   {
    "duration": 24,
    "start_time": "2022-10-10T14:49:15.223Z"
   },
   {
    "duration": 27,
    "start_time": "2022-10-10T14:49:15.249Z"
   },
   {
    "duration": 23,
    "start_time": "2022-10-10T14:49:15.278Z"
   },
   {
    "duration": 93,
    "start_time": "2022-10-10T14:49:15.303Z"
   },
   {
    "duration": 94,
    "start_time": "2022-10-10T14:49:15.398Z"
   },
   {
    "duration": 72,
    "start_time": "2022-10-10T14:49:15.495Z"
   },
   {
    "duration": 38,
    "start_time": "2022-10-10T14:49:15.569Z"
   },
   {
    "duration": 11,
    "start_time": "2022-10-10T14:49:15.620Z"
   },
   {
    "duration": 52,
    "start_time": "2022-10-10T14:49:15.633Z"
   },
   {
    "duration": 12,
    "start_time": "2022-10-10T14:49:15.687Z"
   },
   {
    "duration": 22,
    "start_time": "2022-10-10T14:49:15.701Z"
   },
   {
    "duration": 66,
    "start_time": "2022-10-10T14:49:15.725Z"
   },
   {
    "duration": 4,
    "start_time": "2022-10-10T14:49:15.793Z"
   },
   {
    "duration": 23,
    "start_time": "2022-10-10T14:49:15.798Z"
   },
   {
    "duration": 4,
    "start_time": "2022-10-10T14:49:15.823Z"
   },
   {
    "duration": 7,
    "start_time": "2022-10-10T14:49:15.829Z"
   },
   {
    "duration": 14,
    "start_time": "2022-10-10T14:49:15.838Z"
   },
   {
    "duration": 17,
    "start_time": "2022-10-10T14:49:15.854Z"
   },
   {
    "duration": 6,
    "start_time": "2022-10-10T14:49:15.873Z"
   },
   {
    "duration": 12,
    "start_time": "2022-10-10T14:49:15.881Z"
   },
   {
    "duration": 25,
    "start_time": "2022-10-10T14:49:15.895Z"
   },
   {
    "duration": 5,
    "start_time": "2022-10-10T14:49:15.923Z"
   },
   {
    "duration": 54,
    "start_time": "2022-10-10T14:49:15.930Z"
   },
   {
    "duration": 0,
    "start_time": "2022-10-10T14:49:15.987Z"
   },
   {
    "duration": 0,
    "start_time": "2022-10-10T14:49:15.988Z"
   },
   {
    "duration": 0,
    "start_time": "2022-10-10T14:49:15.989Z"
   },
   {
    "duration": 0,
    "start_time": "2022-10-10T14:49:15.990Z"
   },
   {
    "duration": 0,
    "start_time": "2022-10-10T14:49:15.992Z"
   },
   {
    "duration": 0,
    "start_time": "2022-10-10T14:49:15.993Z"
   },
   {
    "duration": 0,
    "start_time": "2022-10-10T14:49:15.995Z"
   },
   {
    "duration": 81,
    "start_time": "2022-10-10T14:49:18.541Z"
   },
   {
    "duration": 338,
    "start_time": "2022-10-10T14:50:03.975Z"
   },
   {
    "duration": 18,
    "start_time": "2022-10-10T14:50:30.780Z"
   },
   {
    "duration": 5,
    "start_time": "2022-10-10T14:51:07.082Z"
   },
   {
    "duration": 4,
    "start_time": "2022-10-10T14:51:20.642Z"
   },
   {
    "duration": 5,
    "start_time": "2022-10-10T14:51:23.015Z"
   },
   {
    "duration": 5,
    "start_time": "2022-10-10T14:51:30.642Z"
   },
   {
    "duration": 5,
    "start_time": "2022-10-10T14:51:32.675Z"
   },
   {
    "duration": 17,
    "start_time": "2022-10-10T14:53:18.381Z"
   },
   {
    "duration": 4,
    "start_time": "2022-10-10T14:54:03.180Z"
   },
   {
    "duration": 17,
    "start_time": "2022-10-10T14:54:06.700Z"
   },
   {
    "duration": 12,
    "start_time": "2022-10-10T14:54:09.714Z"
   },
   {
    "duration": 21,
    "start_time": "2022-10-10T14:54:27.804Z"
   },
   {
    "duration": 14,
    "start_time": "2022-10-10T14:54:45.333Z"
   },
   {
    "duration": 3,
    "start_time": "2022-10-10T15:00:46.518Z"
   },
   {
    "duration": 364,
    "start_time": "2022-10-10T15:00:52.976Z"
   },
   {
    "duration": 172,
    "start_time": "2022-10-10T15:00:53.342Z"
   },
   {
    "duration": 18,
    "start_time": "2022-10-10T15:00:53.516Z"
   },
   {
    "duration": 29,
    "start_time": "2022-10-10T15:00:53.535Z"
   },
   {
    "duration": 7,
    "start_time": "2022-10-10T15:00:53.566Z"
   },
   {
    "duration": 17,
    "start_time": "2022-10-10T15:00:53.575Z"
   },
   {
    "duration": 25,
    "start_time": "2022-10-10T15:00:53.594Z"
   },
   {
    "duration": 10,
    "start_time": "2022-10-10T15:00:53.621Z"
   },
   {
    "duration": 27,
    "start_time": "2022-10-10T15:00:53.633Z"
   },
   {
    "duration": 19,
    "start_time": "2022-10-10T15:00:53.662Z"
   },
   {
    "duration": 40,
    "start_time": "2022-10-10T15:00:53.683Z"
   },
   {
    "duration": 69,
    "start_time": "2022-10-10T15:00:53.725Z"
   },
   {
    "duration": 108,
    "start_time": "2022-10-10T15:00:53.795Z"
   },
   {
    "duration": 72,
    "start_time": "2022-10-10T15:00:53.907Z"
   },
   {
    "duration": 50,
    "start_time": "2022-10-10T15:00:53.980Z"
   },
   {
    "duration": 10,
    "start_time": "2022-10-10T15:00:54.031Z"
   },
   {
    "duration": 45,
    "start_time": "2022-10-10T15:00:54.043Z"
   },
   {
    "duration": 13,
    "start_time": "2022-10-10T15:00:54.090Z"
   },
   {
    "duration": 13,
    "start_time": "2022-10-10T15:00:54.121Z"
   },
   {
    "duration": 77,
    "start_time": "2022-10-10T15:00:54.136Z"
   },
   {
    "duration": 4,
    "start_time": "2022-10-10T15:00:54.221Z"
   },
   {
    "duration": 29,
    "start_time": "2022-10-10T15:00:54.226Z"
   },
   {
    "duration": 17,
    "start_time": "2022-10-10T15:00:54.257Z"
   },
   {
    "duration": 21,
    "start_time": "2022-10-10T15:00:54.275Z"
   },
   {
    "duration": 36,
    "start_time": "2022-10-10T15:00:54.297Z"
   },
   {
    "duration": 22,
    "start_time": "2022-10-10T15:00:54.334Z"
   },
   {
    "duration": 33,
    "start_time": "2022-10-10T15:00:54.358Z"
   },
   {
    "duration": 33,
    "start_time": "2022-10-10T15:00:54.393Z"
   },
   {
    "duration": 33,
    "start_time": "2022-10-10T15:00:54.428Z"
   },
   {
    "duration": 15,
    "start_time": "2022-10-10T15:00:54.463Z"
   },
   {
    "duration": 46,
    "start_time": "2022-10-10T15:00:54.480Z"
   },
   {
    "duration": 13,
    "start_time": "2022-10-10T15:00:54.528Z"
   },
   {
    "duration": 23,
    "start_time": "2022-10-10T15:00:54.543Z"
   },
   {
    "duration": 13,
    "start_time": "2022-10-10T15:00:54.568Z"
   },
   {
    "duration": 6,
    "start_time": "2022-10-10T15:00:54.583Z"
   },
   {
    "duration": 7,
    "start_time": "2022-10-10T15:00:54.590Z"
   },
   {
    "duration": 14,
    "start_time": "2022-10-10T15:00:54.621Z"
   },
   {
    "duration": 6,
    "start_time": "2022-10-10T15:00:54.637Z"
   },
   {
    "duration": 12,
    "start_time": "2022-10-10T15:01:53.828Z"
   },
   {
    "duration": 10,
    "start_time": "2022-10-10T15:01:56.227Z"
   },
   {
    "duration": 10,
    "start_time": "2022-10-10T15:02:05.384Z"
   },
   {
    "duration": 12,
    "start_time": "2022-10-10T15:02:18.763Z"
   },
   {
    "duration": 110,
    "start_time": "2022-10-10T15:02:51.235Z"
   },
   {
    "duration": 11,
    "start_time": "2022-10-10T15:02:55.540Z"
   },
   {
    "duration": 15,
    "start_time": "2022-10-10T15:03:00.331Z"
   },
   {
    "duration": 13,
    "start_time": "2022-10-10T15:04:17.508Z"
   },
   {
    "duration": 67,
    "start_time": "2022-10-10T15:05:20.551Z"
   },
   {
    "duration": 9,
    "start_time": "2022-10-10T15:05:25.198Z"
   },
   {
    "duration": 10,
    "start_time": "2022-10-10T15:05:54.634Z"
   },
   {
    "duration": 9,
    "start_time": "2022-10-10T15:06:25.779Z"
   },
   {
    "duration": 4,
    "start_time": "2022-10-10T15:06:51.154Z"
   },
   {
    "duration": 5,
    "start_time": "2022-10-10T15:07:07.146Z"
   },
   {
    "duration": 414,
    "start_time": "2022-10-10T15:07:13.521Z"
   },
   {
    "duration": 174,
    "start_time": "2022-10-10T15:07:13.937Z"
   },
   {
    "duration": 18,
    "start_time": "2022-10-10T15:07:14.112Z"
   },
   {
    "duration": 30,
    "start_time": "2022-10-10T15:07:14.132Z"
   },
   {
    "duration": 3,
    "start_time": "2022-10-10T15:07:14.164Z"
   },
   {
    "duration": 10,
    "start_time": "2022-10-10T15:07:14.168Z"
   },
   {
    "duration": 13,
    "start_time": "2022-10-10T15:07:14.180Z"
   },
   {
    "duration": 27,
    "start_time": "2022-10-10T15:07:14.195Z"
   },
   {
    "duration": 27,
    "start_time": "2022-10-10T15:07:14.223Z"
   },
   {
    "duration": 20,
    "start_time": "2022-10-10T15:07:14.252Z"
   },
   {
    "duration": 23,
    "start_time": "2022-10-10T15:07:14.273Z"
   },
   {
    "duration": 67,
    "start_time": "2022-10-10T15:07:14.320Z"
   },
   {
    "duration": 98,
    "start_time": "2022-10-10T15:07:14.388Z"
   },
   {
    "duration": 69,
    "start_time": "2022-10-10T15:07:14.489Z"
   },
   {
    "duration": 35,
    "start_time": "2022-10-10T15:07:14.560Z"
   },
   {
    "duration": 25,
    "start_time": "2022-10-10T15:07:14.597Z"
   },
   {
    "duration": 36,
    "start_time": "2022-10-10T15:07:14.623Z"
   },
   {
    "duration": 11,
    "start_time": "2022-10-10T15:07:14.661Z"
   },
   {
    "duration": 12,
    "start_time": "2022-10-10T15:07:14.674Z"
   },
   {
    "duration": 100,
    "start_time": "2022-10-10T15:07:14.688Z"
   },
   {
    "duration": 3,
    "start_time": "2022-10-10T15:07:14.790Z"
   },
   {
    "duration": 6,
    "start_time": "2022-10-10T15:07:14.795Z"
   },
   {
    "duration": 19,
    "start_time": "2022-10-10T15:07:14.802Z"
   },
   {
    "duration": 7,
    "start_time": "2022-10-10T15:07:14.823Z"
   },
   {
    "duration": 5,
    "start_time": "2022-10-10T15:07:14.832Z"
   },
   {
    "duration": 5,
    "start_time": "2022-10-10T15:07:14.839Z"
   },
   {
    "duration": 11,
    "start_time": "2022-10-10T15:07:14.845Z"
   },
   {
    "duration": 14,
    "start_time": "2022-10-10T15:07:14.858Z"
   },
   {
    "duration": 11,
    "start_time": "2022-10-10T15:07:14.873Z"
   },
   {
    "duration": 37,
    "start_time": "2022-10-10T15:07:14.886Z"
   },
   {
    "duration": 27,
    "start_time": "2022-10-10T15:07:14.925Z"
   },
   {
    "duration": 13,
    "start_time": "2022-10-10T15:07:14.954Z"
   },
   {
    "duration": 19,
    "start_time": "2022-10-10T15:07:14.969Z"
   },
   {
    "duration": 38,
    "start_time": "2022-10-10T15:07:14.990Z"
   },
   {
    "duration": 102,
    "start_time": "2022-10-10T15:07:15.030Z"
   },
   {
    "duration": 0,
    "start_time": "2022-10-10T15:07:15.134Z"
   },
   {
    "duration": 0,
    "start_time": "2022-10-10T15:07:15.136Z"
   },
   {
    "duration": 0,
    "start_time": "2022-10-10T15:07:15.137Z"
   },
   {
    "duration": 8,
    "start_time": "2022-10-10T15:07:23.061Z"
   },
   {
    "duration": 9,
    "start_time": "2022-10-10T15:08:06.143Z"
   },
   {
    "duration": 2,
    "start_time": "2022-10-10T15:09:05.063Z"
   },
   {
    "duration": 10,
    "start_time": "2022-10-10T15:09:07.616Z"
   },
   {
    "duration": 5,
    "start_time": "2022-10-10T15:10:24.525Z"
   },
   {
    "duration": 9,
    "start_time": "2022-10-10T15:10:31.206Z"
   },
   {
    "duration": 10,
    "start_time": "2022-10-10T15:11:20.364Z"
   },
   {
    "duration": 9,
    "start_time": "2022-10-10T15:11:39.252Z"
   },
   {
    "duration": 7,
    "start_time": "2022-10-10T15:11:50.689Z"
   },
   {
    "duration": 7,
    "start_time": "2022-10-10T15:12:14.941Z"
   },
   {
    "duration": 9,
    "start_time": "2022-10-10T15:12:19.087Z"
   },
   {
    "duration": 7,
    "start_time": "2022-10-10T15:12:25.677Z"
   },
   {
    "duration": 40,
    "start_time": "2022-10-10T15:13:33.669Z"
   },
   {
    "duration": 31,
    "start_time": "2022-10-10T15:13:43.514Z"
   },
   {
    "duration": 34,
    "start_time": "2022-10-10T15:14:14.219Z"
   },
   {
    "duration": 35,
    "start_time": "2022-10-10T15:14:24.137Z"
   },
   {
    "duration": 13,
    "start_time": "2022-10-10T15:15:20.281Z"
   },
   {
    "duration": 11,
    "start_time": "2022-10-10T15:15:45.878Z"
   },
   {
    "duration": 11,
    "start_time": "2022-10-10T15:16:12.965Z"
   },
   {
    "duration": 10,
    "start_time": "2022-10-10T15:16:20.672Z"
   },
   {
    "duration": 10,
    "start_time": "2022-10-10T15:16:30.795Z"
   },
   {
    "duration": 12,
    "start_time": "2022-10-10T15:17:18.595Z"
   },
   {
    "duration": 11,
    "start_time": "2022-10-10T15:18:13.729Z"
   },
   {
    "duration": 7,
    "start_time": "2022-10-10T15:18:24.130Z"
   },
   {
    "duration": 9,
    "start_time": "2022-10-10T15:18:24.869Z"
   },
   {
    "duration": 10,
    "start_time": "2022-10-10T15:18:37.754Z"
   },
   {
    "duration": 11,
    "start_time": "2022-10-10T15:20:19.584Z"
   },
   {
    "duration": 1086,
    "start_time": "2022-10-10T15:20:52.063Z"
   },
   {
    "duration": 1823,
    "start_time": "2022-10-10T15:20:59.627Z"
   },
   {
    "duration": 6,
    "start_time": "2022-10-10T15:21:21.130Z"
   },
   {
    "duration": 7,
    "start_time": "2022-10-10T15:21:41.001Z"
   },
   {
    "duration": 6,
    "start_time": "2022-10-10T15:21:45.882Z"
   },
   {
    "duration": 10,
    "start_time": "2022-10-10T15:21:59.366Z"
   },
   {
    "duration": 7,
    "start_time": "2022-10-10T15:24:15.946Z"
   },
   {
    "duration": 7,
    "start_time": "2022-10-10T15:24:21.192Z"
   },
   {
    "duration": 8,
    "start_time": "2022-10-10T15:24:28.439Z"
   },
   {
    "duration": 25,
    "start_time": "2022-10-10T15:25:00.866Z"
   },
   {
    "duration": 19,
    "start_time": "2022-10-10T15:25:55.260Z"
   },
   {
    "duration": 19,
    "start_time": "2022-10-10T15:25:59.909Z"
   },
   {
    "duration": 23,
    "start_time": "2022-10-10T15:26:04.608Z"
   },
   {
    "duration": 21,
    "start_time": "2022-10-10T15:26:08.125Z"
   },
   {
    "duration": 19,
    "start_time": "2022-10-10T15:26:43.910Z"
   },
   {
    "duration": 21,
    "start_time": "2022-10-10T15:26:49.948Z"
   },
   {
    "duration": 5,
    "start_time": "2022-10-10T15:27:37.392Z"
   },
   {
    "duration": 3,
    "start_time": "2022-10-10T15:28:07.322Z"
   },
   {
    "duration": 2,
    "start_time": "2022-10-10T15:28:14.251Z"
   },
   {
    "duration": 11,
    "start_time": "2022-10-10T15:28:55.167Z"
   },
   {
    "duration": 17,
    "start_time": "2022-10-10T15:29:23.589Z"
   },
   {
    "duration": 16,
    "start_time": "2022-10-10T15:29:38.561Z"
   },
   {
    "duration": 21,
    "start_time": "2022-10-10T15:29:53.935Z"
   },
   {
    "duration": 17,
    "start_time": "2022-10-10T15:30:22.013Z"
   },
   {
    "duration": 7,
    "start_time": "2022-10-10T15:30:42.380Z"
   },
   {
    "duration": 5,
    "start_time": "2022-10-10T15:30:52.949Z"
   },
   {
    "duration": 53,
    "start_time": "2022-10-12T07:02:10.621Z"
   },
   {
    "duration": 6,
    "start_time": "2022-10-12T07:02:34.343Z"
   },
   {
    "duration": 6,
    "start_time": "2022-10-12T07:02:49.834Z"
   },
   {
    "duration": 6,
    "start_time": "2022-10-12T07:02:51.697Z"
   },
   {
    "duration": 427,
    "start_time": "2022-10-12T07:02:54.791Z"
   },
   {
    "duration": 452,
    "start_time": "2022-10-12T07:02:57.216Z"
   },
   {
    "duration": 54,
    "start_time": "2022-10-12T07:02:59.923Z"
   },
   {
    "duration": 647,
    "start_time": "2022-10-12T07:03:18.801Z"
   },
   {
    "duration": 370,
    "start_time": "2022-10-14T08:15:18.931Z"
   },
   {
    "duration": 442,
    "start_time": "2022-10-14T08:15:19.302Z"
   },
   {
    "duration": 382,
    "start_time": "2022-10-14T08:15:19.746Z"
   },
   {
    "duration": 18,
    "start_time": "2022-10-14T08:15:20.130Z"
   },
   {
    "duration": 28,
    "start_time": "2022-10-14T08:15:20.150Z"
   },
   {
    "duration": 2,
    "start_time": "2022-10-14T08:15:20.180Z"
   },
   {
    "duration": 12,
    "start_time": "2022-10-14T08:15:20.183Z"
   },
   {
    "duration": 13,
    "start_time": "2022-10-14T08:15:20.196Z"
   },
   {
    "duration": 13,
    "start_time": "2022-10-14T08:15:20.210Z"
   },
   {
    "duration": 26,
    "start_time": "2022-10-14T08:15:20.225Z"
   },
   {
    "duration": 22,
    "start_time": "2022-10-14T08:15:20.252Z"
   },
   {
    "duration": 40,
    "start_time": "2022-10-14T08:15:20.275Z"
   },
   {
    "duration": 79,
    "start_time": "2022-10-14T08:15:20.317Z"
   },
   {
    "duration": 77,
    "start_time": "2022-10-14T08:15:20.399Z"
   },
   {
    "duration": 72,
    "start_time": "2022-10-14T08:15:20.477Z"
   },
   {
    "duration": 45,
    "start_time": "2022-10-14T08:15:20.551Z"
   },
   {
    "duration": 10,
    "start_time": "2022-10-14T08:15:20.598Z"
   },
   {
    "duration": 35,
    "start_time": "2022-10-14T08:15:20.609Z"
   },
   {
    "duration": 13,
    "start_time": "2022-10-14T08:15:20.645Z"
   },
   {
    "duration": 37,
    "start_time": "2022-10-14T08:15:20.659Z"
   },
   {
    "duration": 66,
    "start_time": "2022-10-14T08:15:20.697Z"
   },
   {
    "duration": 4,
    "start_time": "2022-10-14T08:15:20.765Z"
   },
   {
    "duration": 26,
    "start_time": "2022-10-14T08:15:20.771Z"
   },
   {
    "duration": 6,
    "start_time": "2022-10-14T08:15:20.799Z"
   },
   {
    "duration": 6,
    "start_time": "2022-10-14T08:15:20.806Z"
   },
   {
    "duration": 9,
    "start_time": "2022-10-14T08:15:20.814Z"
   },
   {
    "duration": 8,
    "start_time": "2022-10-14T08:15:20.824Z"
   },
   {
    "duration": 10,
    "start_time": "2022-10-14T08:15:20.834Z"
   },
   {
    "duration": 20,
    "start_time": "2022-10-14T08:15:20.846Z"
   },
   {
    "duration": 9,
    "start_time": "2022-10-14T08:15:20.868Z"
   },
   {
    "duration": 18,
    "start_time": "2022-10-14T08:15:20.878Z"
   },
   {
    "duration": 22,
    "start_time": "2022-10-14T08:15:20.897Z"
   },
   {
    "duration": 11,
    "start_time": "2022-10-14T08:15:20.921Z"
   },
   {
    "duration": 17,
    "start_time": "2022-10-14T08:15:20.934Z"
   },
   {
    "duration": 12,
    "start_time": "2022-10-14T08:15:20.952Z"
   },
   {
    "duration": 41,
    "start_time": "2022-10-14T08:15:20.966Z"
   },
   {
    "duration": 4,
    "start_time": "2022-10-14T08:15:21.009Z"
   },
   {
    "duration": 19,
    "start_time": "2022-10-14T08:15:21.015Z"
   },
   {
    "duration": 5,
    "start_time": "2022-10-14T08:15:21.035Z"
   },
   {
    "duration": 10,
    "start_time": "2022-10-14T13:21:32.148Z"
   }
  ],
  "colab": {
   "collapsed_sections": [
    "E0vqbgi9ay0H",
    "VUC88oWjTJw2"
   ],
   "name": "automatization_template_upd4.ipynb",
   "provenance": []
  },
  "kernelspec": {
   "display_name": "Python 3 (ipykernel)",
   "language": "python",
   "name": "python3"
  },
  "language_info": {
   "codemirror_mode": {
    "name": "ipython",
    "version": 3
   },
   "file_extension": ".py",
   "mimetype": "text/x-python",
   "name": "python",
   "nbconvert_exporter": "python",
   "pygments_lexer": "ipython3",
   "version": "3.9.13"
  },
  "toc": {
   "base_numbering": 1,
   "nav_menu": {
    "height": "215px",
    "width": "403px"
   },
   "number_sections": true,
   "sideBar": true,
   "skip_h1_title": true,
   "title_cell": "Table of Contents",
   "title_sidebar": "Contents",
   "toc_cell": false,
   "toc_position": {
    "height": "calc(100% - 180px)",
    "left": "10px",
    "top": "150px",
    "width": "285.825px"
   },
   "toc_section_display": true,
   "toc_window_display": false
  }
 },
 "nbformat": 4,
 "nbformat_minor": 1
}
