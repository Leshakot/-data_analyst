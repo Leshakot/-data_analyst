{
 "cells": [
  {
   "cell_type": "markdown",
   "id": "201ace98",
   "metadata": {
    "deletable": false,
    "editable": false,
    "id": "c81daeeb"
   },
   "source": [
    "# Исследование надежности заемщиков"
   ]
  },
  {
   "cell_type": "markdown",
   "id": "cc27a387",
   "metadata": {
    "deletable": false,
    "editable": false,
    "id": "-G3EJWzf62s6"
   },
   "source": [
    "Это первая часть проекта, она будет проверена автоматически. Вторую часть проверит ревьюер. "
   ]
  },
  {
   "cell_type": "markdown",
   "id": "7871527f",
   "metadata": {
    "deletable": false,
    "editable": false,
    "id": "744d7639"
   },
   "source": [
    "## Откройте таблицу и изучите общую информацию о данных"
   ]
  },
  {
   "cell_type": "markdown",
   "id": "282bde61",
   "metadata": {
    "deletable": false,
    "editable": false,
    "id": "e7a14c31",
    "tags": [
     "start_task"
    ]
   },
   "source": [
    "**Задание 1. Импортируйте библиотеку pandas. Считайте данные из csv-файла в датафрейм и сохраните в переменную `data`. Путь к файлу:**\n",
    "\n",
    "`/datasets/data.csv`"
   ]
  },
  {
   "cell_type": "code",
   "execution_count": 1,
   "id": "d5bc8aad",
   "metadata": {
    "id": "7bcf75c9"
   },
   "outputs": [],
   "source": [
    "import pandas as pd # импортируйте библиотеку pandas"
   ]
  },
  {
   "cell_type": "code",
   "execution_count": 2,
   "id": "4a73ff10",
   "metadata": {
    "id": "4d240ee2"
   },
   "outputs": [],
   "source": [
    "data = pd.read_csv('/datasets/data.csv') # прочитайте csv-файл"
   ]
  },
  {
   "cell_type": "markdown",
   "id": "cb864598",
   "metadata": {
    "deletable": false,
    "editable": false,
    "id": "b8038fe3",
    "tags": [
     "start_task"
    ]
   },
   "source": [
    "**Задание 2. Выведите первые 20 строчек датафрейма `data` на экран.**"
   ]
  },
  {
   "cell_type": "code",
   "execution_count": 3,
   "id": "5d1eb541",
   "metadata": {
    "id": "2a7cab99"
   },
   "outputs": [
    {
     "data": {
      "text/html": [
       "<div>\n",
       "<style scoped>\n",
       "    .dataframe tbody tr th:only-of-type {\n",
       "        vertical-align: middle;\n",
       "    }\n",
       "\n",
       "    .dataframe tbody tr th {\n",
       "        vertical-align: top;\n",
       "    }\n",
       "\n",
       "    .dataframe thead th {\n",
       "        text-align: right;\n",
       "    }\n",
       "</style>\n",
       "<table border=\"1\" class=\"dataframe\">\n",
       "  <thead>\n",
       "    <tr style=\"text-align: right;\">\n",
       "      <th></th>\n",
       "      <th>children</th>\n",
       "      <th>days_employed</th>\n",
       "      <th>dob_years</th>\n",
       "      <th>education</th>\n",
       "      <th>education_id</th>\n",
       "      <th>family_status</th>\n",
       "      <th>family_status_id</th>\n",
       "      <th>gender</th>\n",
       "      <th>income_type</th>\n",
       "      <th>debt</th>\n",
       "      <th>total_income</th>\n",
       "      <th>purpose</th>\n",
       "    </tr>\n",
       "  </thead>\n",
       "  <tbody>\n",
       "    <tr>\n",
       "      <th>0</th>\n",
       "      <td>1</td>\n",
       "      <td>-8437.673028</td>\n",
       "      <td>42</td>\n",
       "      <td>высшее</td>\n",
       "      <td>0</td>\n",
       "      <td>женат / замужем</td>\n",
       "      <td>0</td>\n",
       "      <td>F</td>\n",
       "      <td>сотрудник</td>\n",
       "      <td>0</td>\n",
       "      <td>253875.639453</td>\n",
       "      <td>покупка жилья</td>\n",
       "    </tr>\n",
       "    <tr>\n",
       "      <th>1</th>\n",
       "      <td>1</td>\n",
       "      <td>-4024.803754</td>\n",
       "      <td>36</td>\n",
       "      <td>среднее</td>\n",
       "      <td>1</td>\n",
       "      <td>женат / замужем</td>\n",
       "      <td>0</td>\n",
       "      <td>F</td>\n",
       "      <td>сотрудник</td>\n",
       "      <td>0</td>\n",
       "      <td>112080.014102</td>\n",
       "      <td>приобретение автомобиля</td>\n",
       "    </tr>\n",
       "    <tr>\n",
       "      <th>2</th>\n",
       "      <td>0</td>\n",
       "      <td>-5623.422610</td>\n",
       "      <td>33</td>\n",
       "      <td>Среднее</td>\n",
       "      <td>1</td>\n",
       "      <td>женат / замужем</td>\n",
       "      <td>0</td>\n",
       "      <td>M</td>\n",
       "      <td>сотрудник</td>\n",
       "      <td>0</td>\n",
       "      <td>145885.952297</td>\n",
       "      <td>покупка жилья</td>\n",
       "    </tr>\n",
       "    <tr>\n",
       "      <th>3</th>\n",
       "      <td>3</td>\n",
       "      <td>-4124.747207</td>\n",
       "      <td>32</td>\n",
       "      <td>среднее</td>\n",
       "      <td>1</td>\n",
       "      <td>женат / замужем</td>\n",
       "      <td>0</td>\n",
       "      <td>M</td>\n",
       "      <td>сотрудник</td>\n",
       "      <td>0</td>\n",
       "      <td>267628.550329</td>\n",
       "      <td>дополнительное образование</td>\n",
       "    </tr>\n",
       "    <tr>\n",
       "      <th>4</th>\n",
       "      <td>0</td>\n",
       "      <td>340266.072047</td>\n",
       "      <td>53</td>\n",
       "      <td>среднее</td>\n",
       "      <td>1</td>\n",
       "      <td>гражданский брак</td>\n",
       "      <td>1</td>\n",
       "      <td>F</td>\n",
       "      <td>пенсионер</td>\n",
       "      <td>0</td>\n",
       "      <td>158616.077870</td>\n",
       "      <td>сыграть свадьбу</td>\n",
       "    </tr>\n",
       "    <tr>\n",
       "      <th>5</th>\n",
       "      <td>0</td>\n",
       "      <td>-926.185831</td>\n",
       "      <td>27</td>\n",
       "      <td>высшее</td>\n",
       "      <td>0</td>\n",
       "      <td>гражданский брак</td>\n",
       "      <td>1</td>\n",
       "      <td>M</td>\n",
       "      <td>компаньон</td>\n",
       "      <td>0</td>\n",
       "      <td>255763.565419</td>\n",
       "      <td>покупка жилья</td>\n",
       "    </tr>\n",
       "    <tr>\n",
       "      <th>6</th>\n",
       "      <td>0</td>\n",
       "      <td>-2879.202052</td>\n",
       "      <td>43</td>\n",
       "      <td>высшее</td>\n",
       "      <td>0</td>\n",
       "      <td>женат / замужем</td>\n",
       "      <td>0</td>\n",
       "      <td>F</td>\n",
       "      <td>компаньон</td>\n",
       "      <td>0</td>\n",
       "      <td>240525.971920</td>\n",
       "      <td>операции с жильем</td>\n",
       "    </tr>\n",
       "    <tr>\n",
       "      <th>7</th>\n",
       "      <td>0</td>\n",
       "      <td>-152.779569</td>\n",
       "      <td>50</td>\n",
       "      <td>СРЕДНЕЕ</td>\n",
       "      <td>1</td>\n",
       "      <td>женат / замужем</td>\n",
       "      <td>0</td>\n",
       "      <td>M</td>\n",
       "      <td>сотрудник</td>\n",
       "      <td>0</td>\n",
       "      <td>135823.934197</td>\n",
       "      <td>образование</td>\n",
       "    </tr>\n",
       "    <tr>\n",
       "      <th>8</th>\n",
       "      <td>2</td>\n",
       "      <td>-6929.865299</td>\n",
       "      <td>35</td>\n",
       "      <td>ВЫСШЕЕ</td>\n",
       "      <td>0</td>\n",
       "      <td>гражданский брак</td>\n",
       "      <td>1</td>\n",
       "      <td>F</td>\n",
       "      <td>сотрудник</td>\n",
       "      <td>0</td>\n",
       "      <td>95856.832424</td>\n",
       "      <td>на проведение свадьбы</td>\n",
       "    </tr>\n",
       "    <tr>\n",
       "      <th>9</th>\n",
       "      <td>0</td>\n",
       "      <td>-2188.756445</td>\n",
       "      <td>41</td>\n",
       "      <td>среднее</td>\n",
       "      <td>1</td>\n",
       "      <td>женат / замужем</td>\n",
       "      <td>0</td>\n",
       "      <td>M</td>\n",
       "      <td>сотрудник</td>\n",
       "      <td>0</td>\n",
       "      <td>144425.938277</td>\n",
       "      <td>покупка жилья для семьи</td>\n",
       "    </tr>\n",
       "    <tr>\n",
       "      <th>10</th>\n",
       "      <td>2</td>\n",
       "      <td>-4171.483647</td>\n",
       "      <td>36</td>\n",
       "      <td>высшее</td>\n",
       "      <td>0</td>\n",
       "      <td>женат / замужем</td>\n",
       "      <td>0</td>\n",
       "      <td>M</td>\n",
       "      <td>компаньон</td>\n",
       "      <td>0</td>\n",
       "      <td>113943.491460</td>\n",
       "      <td>покупка недвижимости</td>\n",
       "    </tr>\n",
       "    <tr>\n",
       "      <th>11</th>\n",
       "      <td>0</td>\n",
       "      <td>-792.701887</td>\n",
       "      <td>40</td>\n",
       "      <td>среднее</td>\n",
       "      <td>1</td>\n",
       "      <td>женат / замужем</td>\n",
       "      <td>0</td>\n",
       "      <td>F</td>\n",
       "      <td>сотрудник</td>\n",
       "      <td>0</td>\n",
       "      <td>77069.234271</td>\n",
       "      <td>покупка коммерческой недвижимости</td>\n",
       "    </tr>\n",
       "    <tr>\n",
       "      <th>12</th>\n",
       "      <td>0</td>\n",
       "      <td>NaN</td>\n",
       "      <td>65</td>\n",
       "      <td>среднее</td>\n",
       "      <td>1</td>\n",
       "      <td>гражданский брак</td>\n",
       "      <td>1</td>\n",
       "      <td>M</td>\n",
       "      <td>пенсионер</td>\n",
       "      <td>0</td>\n",
       "      <td>NaN</td>\n",
       "      <td>сыграть свадьбу</td>\n",
       "    </tr>\n",
       "    <tr>\n",
       "      <th>13</th>\n",
       "      <td>0</td>\n",
       "      <td>-1846.641941</td>\n",
       "      <td>54</td>\n",
       "      <td>неоконченное высшее</td>\n",
       "      <td>2</td>\n",
       "      <td>женат / замужем</td>\n",
       "      <td>0</td>\n",
       "      <td>F</td>\n",
       "      <td>сотрудник</td>\n",
       "      <td>0</td>\n",
       "      <td>130458.228857</td>\n",
       "      <td>приобретение автомобиля</td>\n",
       "    </tr>\n",
       "    <tr>\n",
       "      <th>14</th>\n",
       "      <td>0</td>\n",
       "      <td>-1844.956182</td>\n",
       "      <td>56</td>\n",
       "      <td>высшее</td>\n",
       "      <td>0</td>\n",
       "      <td>гражданский брак</td>\n",
       "      <td>1</td>\n",
       "      <td>F</td>\n",
       "      <td>компаньон</td>\n",
       "      <td>1</td>\n",
       "      <td>165127.911772</td>\n",
       "      <td>покупка жилой недвижимости</td>\n",
       "    </tr>\n",
       "    <tr>\n",
       "      <th>15</th>\n",
       "      <td>1</td>\n",
       "      <td>-972.364419</td>\n",
       "      <td>26</td>\n",
       "      <td>среднее</td>\n",
       "      <td>1</td>\n",
       "      <td>женат / замужем</td>\n",
       "      <td>0</td>\n",
       "      <td>F</td>\n",
       "      <td>сотрудник</td>\n",
       "      <td>0</td>\n",
       "      <td>116820.904450</td>\n",
       "      <td>строительство собственной недвижимости</td>\n",
       "    </tr>\n",
       "    <tr>\n",
       "      <th>16</th>\n",
       "      <td>0</td>\n",
       "      <td>-1719.934226</td>\n",
       "      <td>35</td>\n",
       "      <td>среднее</td>\n",
       "      <td>1</td>\n",
       "      <td>женат / замужем</td>\n",
       "      <td>0</td>\n",
       "      <td>F</td>\n",
       "      <td>сотрудник</td>\n",
       "      <td>0</td>\n",
       "      <td>289202.704229</td>\n",
       "      <td>недвижимость</td>\n",
       "    </tr>\n",
       "    <tr>\n",
       "      <th>17</th>\n",
       "      <td>0</td>\n",
       "      <td>-2369.999720</td>\n",
       "      <td>33</td>\n",
       "      <td>высшее</td>\n",
       "      <td>0</td>\n",
       "      <td>гражданский брак</td>\n",
       "      <td>1</td>\n",
       "      <td>M</td>\n",
       "      <td>сотрудник</td>\n",
       "      <td>0</td>\n",
       "      <td>90410.586745</td>\n",
       "      <td>строительство недвижимости</td>\n",
       "    </tr>\n",
       "    <tr>\n",
       "      <th>18</th>\n",
       "      <td>0</td>\n",
       "      <td>400281.136913</td>\n",
       "      <td>53</td>\n",
       "      <td>среднее</td>\n",
       "      <td>1</td>\n",
       "      <td>вдовец / вдова</td>\n",
       "      <td>2</td>\n",
       "      <td>F</td>\n",
       "      <td>пенсионер</td>\n",
       "      <td>0</td>\n",
       "      <td>56823.777243</td>\n",
       "      <td>на покупку подержанного автомобиля</td>\n",
       "    </tr>\n",
       "    <tr>\n",
       "      <th>19</th>\n",
       "      <td>0</td>\n",
       "      <td>-10038.818549</td>\n",
       "      <td>48</td>\n",
       "      <td>СРЕДНЕЕ</td>\n",
       "      <td>1</td>\n",
       "      <td>в разводе</td>\n",
       "      <td>3</td>\n",
       "      <td>F</td>\n",
       "      <td>сотрудник</td>\n",
       "      <td>0</td>\n",
       "      <td>242831.107982</td>\n",
       "      <td>на покупку своего автомобиля</td>\n",
       "    </tr>\n",
       "  </tbody>\n",
       "</table>\n",
       "</div>"
      ],
      "text/plain": [
       "    children  days_employed  dob_years            education  education_id  \\\n",
       "0          1   -8437.673028         42               высшее             0   \n",
       "1          1   -4024.803754         36              среднее             1   \n",
       "2          0   -5623.422610         33              Среднее             1   \n",
       "3          3   -4124.747207         32              среднее             1   \n",
       "4          0  340266.072047         53              среднее             1   \n",
       "5          0    -926.185831         27               высшее             0   \n",
       "6          0   -2879.202052         43               высшее             0   \n",
       "7          0    -152.779569         50              СРЕДНЕЕ             1   \n",
       "8          2   -6929.865299         35               ВЫСШЕЕ             0   \n",
       "9          0   -2188.756445         41              среднее             1   \n",
       "10         2   -4171.483647         36               высшее             0   \n",
       "11         0    -792.701887         40              среднее             1   \n",
       "12         0            NaN         65              среднее             1   \n",
       "13         0   -1846.641941         54  неоконченное высшее             2   \n",
       "14         0   -1844.956182         56               высшее             0   \n",
       "15         1    -972.364419         26              среднее             1   \n",
       "16         0   -1719.934226         35              среднее             1   \n",
       "17         0   -2369.999720         33               высшее             0   \n",
       "18         0  400281.136913         53              среднее             1   \n",
       "19         0  -10038.818549         48              СРЕДНЕЕ             1   \n",
       "\n",
       "       family_status  family_status_id gender income_type  debt  \\\n",
       "0    женат / замужем                 0      F   сотрудник     0   \n",
       "1    женат / замужем                 0      F   сотрудник     0   \n",
       "2    женат / замужем                 0      M   сотрудник     0   \n",
       "3    женат / замужем                 0      M   сотрудник     0   \n",
       "4   гражданский брак                 1      F   пенсионер     0   \n",
       "5   гражданский брак                 1      M   компаньон     0   \n",
       "6    женат / замужем                 0      F   компаньон     0   \n",
       "7    женат / замужем                 0      M   сотрудник     0   \n",
       "8   гражданский брак                 1      F   сотрудник     0   \n",
       "9    женат / замужем                 0      M   сотрудник     0   \n",
       "10   женат / замужем                 0      M   компаньон     0   \n",
       "11   женат / замужем                 0      F   сотрудник     0   \n",
       "12  гражданский брак                 1      M   пенсионер     0   \n",
       "13   женат / замужем                 0      F   сотрудник     0   \n",
       "14  гражданский брак                 1      F   компаньон     1   \n",
       "15   женат / замужем                 0      F   сотрудник     0   \n",
       "16   женат / замужем                 0      F   сотрудник     0   \n",
       "17  гражданский брак                 1      M   сотрудник     0   \n",
       "18    вдовец / вдова                 2      F   пенсионер     0   \n",
       "19         в разводе                 3      F   сотрудник     0   \n",
       "\n",
       "     total_income                                 purpose  \n",
       "0   253875.639453                           покупка жилья  \n",
       "1   112080.014102                 приобретение автомобиля  \n",
       "2   145885.952297                           покупка жилья  \n",
       "3   267628.550329              дополнительное образование  \n",
       "4   158616.077870                         сыграть свадьбу  \n",
       "5   255763.565419                           покупка жилья  \n",
       "6   240525.971920                       операции с жильем  \n",
       "7   135823.934197                             образование  \n",
       "8    95856.832424                   на проведение свадьбы  \n",
       "9   144425.938277                 покупка жилья для семьи  \n",
       "10  113943.491460                    покупка недвижимости  \n",
       "11   77069.234271       покупка коммерческой недвижимости  \n",
       "12            NaN                         сыграть свадьбу  \n",
       "13  130458.228857                 приобретение автомобиля  \n",
       "14  165127.911772              покупка жилой недвижимости  \n",
       "15  116820.904450  строительство собственной недвижимости  \n",
       "16  289202.704229                            недвижимость  \n",
       "17   90410.586745              строительство недвижимости  \n",
       "18   56823.777243      на покупку подержанного автомобиля  \n",
       "19  242831.107982            на покупку своего автомобиля  "
      ]
     },
     "execution_count": 3,
     "metadata": {},
     "output_type": "execute_result"
    }
   ],
   "source": [
    "data.head(20) # ваш код здесь"
   ]
  },
  {
   "cell_type": "markdown",
   "id": "c4183883",
   "metadata": {
    "deletable": false,
    "editable": false,
    "id": "1c12e233",
    "tags": [
     "start_task"
    ]
   },
   "source": [
    "**Задание 3. Выведите основную информацию о датафрейме с помощью метода `info()`.**"
   ]
  },
  {
   "cell_type": "code",
   "execution_count": 4,
   "id": "a68d5b02",
   "metadata": {
    "id": "2b757bca"
   },
   "outputs": [
    {
     "name": "stdout",
     "output_type": "stream",
     "text": [
      "<class 'pandas.core.frame.DataFrame'>\n",
      "RangeIndex: 21525 entries, 0 to 21524\n",
      "Data columns (total 12 columns):\n",
      " #   Column            Non-Null Count  Dtype  \n",
      "---  ------            --------------  -----  \n",
      " 0   children          21525 non-null  int64  \n",
      " 1   days_employed     19351 non-null  float64\n",
      " 2   dob_years         21525 non-null  int64  \n",
      " 3   education         21525 non-null  object \n",
      " 4   education_id      21525 non-null  int64  \n",
      " 5   family_status     21525 non-null  object \n",
      " 6   family_status_id  21525 non-null  int64  \n",
      " 7   gender            21525 non-null  object \n",
      " 8   income_type       21525 non-null  object \n",
      " 9   debt              21525 non-null  int64  \n",
      " 10  total_income      19351 non-null  float64\n",
      " 11  purpose           21525 non-null  object \n",
      "dtypes: float64(2), int64(5), object(5)\n",
      "memory usage: 2.0+ MB\n"
     ]
    }
   ],
   "source": [
    "data.info() # ваш код здесь"
   ]
  },
  {
   "cell_type": "markdown",
   "id": "9cfc5658",
   "metadata": {
    "deletable": false,
    "editable": false,
    "id": "333ec665"
   },
   "source": [
    "## Предобработка данных"
   ]
  },
  {
   "cell_type": "markdown",
   "id": "0240db87",
   "metadata": {
    "deletable": false,
    "editable": false,
    "id": "02d92d53"
   },
   "source": [
    "### Удаление пропусков"
   ]
  },
  {
   "cell_type": "markdown",
   "id": "555ab5c8",
   "metadata": {
    "deletable": false,
    "editable": false,
    "id": "cd84967c",
    "tags": [
     "start_task"
    ]
   },
   "source": [
    "**Задание 4. Выведите количество пропущенных значений для каждого столбца. Используйте комбинацию двух методов.**"
   ]
  },
  {
   "cell_type": "code",
   "execution_count": 5,
   "id": "a3505371",
   "metadata": {
    "id": "7f9b2309"
   },
   "outputs": [
    {
     "data": {
      "text/plain": [
       "children               0\n",
       "days_employed       2174\n",
       "dob_years              0\n",
       "education              0\n",
       "education_id           0\n",
       "family_status          0\n",
       "family_status_id       0\n",
       "gender                 0\n",
       "income_type            0\n",
       "debt                   0\n",
       "total_income        2174\n",
       "purpose                0\n",
       "dtype: int64"
      ]
     },
     "execution_count": 5,
     "metadata": {},
     "output_type": "execute_result"
    }
   ],
   "source": [
    "data.isna().sum() # ваш код здесь"
   ]
  },
  {
   "cell_type": "markdown",
   "id": "ee8a5eb3",
   "metadata": {
    "deletable": false,
    "editable": false,
    "id": "db86e27b",
    "tags": [
     "start_task"
    ]
   },
   "source": [
    "**Задание 5. В двух столбцах есть пропущенные значения. Один из них — `days_employed`. Пропуски в этом столбце вы обработаете на следующем этапе. Другой столбец с пропущенными значениями — `total_income` — хранит данные о доходах. На сумму дохода сильнее всего влияет тип занятости, поэтому заполнить пропуски в этом столбце нужно медианным значением по каждому типу из столбца `income_type`. Например, у человека с типом занятости `сотрудник` пропуск в столбце `total_income` должен быть заполнен медианным доходом среди всех записей с тем же типом.**"
   ]
  },
  {
   "cell_type": "code",
   "execution_count": 6,
   "id": "f6400a07",
   "metadata": {
    "id": "42006a93"
   },
   "outputs": [],
   "source": [
    "for i in data['income_type'].unique():\n",
    "    data.loc[(data['income_type'] == i) & \n",
    "             (data['total_income'].isna()), 'total_income'] = data.loc[\n",
    "        (data['income_type'] == i), 'total_income'].median()         "
   ]
  },
  {
   "cell_type": "markdown",
   "id": "0604fe58",
   "metadata": {
    "deletable": false,
    "editable": false,
    "id": "89da5ece"
   },
   "source": [
    "### Обработка аномальных значений"
   ]
  },
  {
   "cell_type": "markdown",
   "id": "6dc0ff46",
   "metadata": {
    "deletable": false,
    "editable": false,
    "id": "57964554",
    "tags": [
     "start_task"
    ]
   },
   "source": [
    "**Задание 6. В данных могут встречаться артефакты (аномалии) — значения, которые не отражают действительность и появились по какой-то ошибке. Таким артефактом будет отрицательное количество дней трудового стажа в столбце `days_employed`. Для реальных данных это нормально. Обработайте значения в этом столбце: замените все отрицательные значения положительными с помощью метода `abs()`.**"
   ]
  },
  {
   "cell_type": "code",
   "execution_count": 7,
   "id": "f5779a42",
   "metadata": {
    "id": "f6f055bf"
   },
   "outputs": [],
   "source": [
    "data['days_employed'] = data['days_employed'].abs()"
   ]
  },
  {
   "cell_type": "markdown",
   "id": "09fe863e",
   "metadata": {
    "deletable": false,
    "editable": false,
    "id": "6107dd2f",
    "tags": [
     "start_task"
    ]
   },
   "source": [
    "**Задание 7. Для каждого типа занятости выведите медианное значение трудового стажа `days_employed` в днях.**"
   ]
  },
  {
   "cell_type": "code",
   "execution_count": 8,
   "id": "d6c087a9",
   "metadata": {
    "id": "85a5faf6"
   },
   "outputs": [
    {
     "data": {
      "text/plain": [
       "income_type\n",
       "безработный        366413.652744\n",
       "в декрете            3296.759962\n",
       "госслужащий          2689.368353\n",
       "компаньон            1547.382223\n",
       "пенсионер          365213.306266\n",
       "предприниматель       520.848083\n",
       "сотрудник            1574.202821\n",
       "студент               578.751554\n",
       "Name: days_employed, dtype: float64"
      ]
     },
     "execution_count": 8,
     "metadata": {},
     "output_type": "execute_result"
    }
   ],
   "source": [
    "data.groupby('income_type')['days_employed'].median()"
   ]
  },
  {
   "cell_type": "markdown",
   "id": "bd3e0482",
   "metadata": {
    "deletable": false,
    "editable": false,
    "id": "38d1a030"
   },
   "source": [
    "У двух типов (безработные и пенсионеры) получатся аномально большие значения. Исправить такие значения сложно, поэтому оставьте их как есть. Тем более этот столбец не понадобится вам для исследования."
   ]
  },
  {
   "cell_type": "markdown",
   "id": "4957b143",
   "metadata": {
    "deletable": false,
    "editable": false,
    "id": "d8a9f147",
    "tags": [
     "start_task"
    ]
   },
   "source": [
    "**Задание 8. Выведите перечень уникальных значений столбца `children`.**"
   ]
  },
  {
   "cell_type": "code",
   "execution_count": 9,
   "id": "1c1cef2f",
   "metadata": {
    "id": "ef5056eb"
   },
   "outputs": [
    {
     "data": {
      "text/plain": [
       "array([ 1,  0,  3,  2, -1,  4, 20,  5])"
      ]
     },
     "execution_count": 9,
     "metadata": {},
     "output_type": "execute_result"
    }
   ],
   "source": [
    "data['children'].unique()"
   ]
  },
  {
   "cell_type": "markdown",
   "id": "68316218",
   "metadata": {
    "deletable": false,
    "editable": false,
    "id": "40b9ebf2",
    "tags": [
     "start_task"
    ]
   },
   "source": [
    "**Задание 9. В столбце `children` есть два аномальных значения. Удалите строки, в которых встречаются такие аномальные значения из датафрейма `data`.**"
   ]
  },
  {
   "cell_type": "code",
   "execution_count": 10,
   "id": "8a619484",
   "metadata": {},
   "outputs": [],
   "source": [
    "data = data[(data['children'] != -1) & (data['children'] != 20)]"
   ]
  },
  {
   "cell_type": "markdown",
   "id": "66473d26",
   "metadata": {
    "deletable": false,
    "editable": false,
    "id": "bbc4d0ce",
    "tags": [
     "start_task"
    ]
   },
   "source": [
    "**Задание 10. Ещё раз выведите перечень уникальных значений столбца `children`, чтобы убедиться, что артефакты удалены.**"
   ]
  },
  {
   "cell_type": "code",
   "execution_count": 11,
   "id": "220567a2",
   "metadata": {
    "id": "ad4fa8b7"
   },
   "outputs": [
    {
     "data": {
      "text/plain": [
       "array([1, 0, 3, 2, 4, 5])"
      ]
     },
     "execution_count": 11,
     "metadata": {},
     "output_type": "execute_result"
    }
   ],
   "source": [
    "data['children'].unique()"
   ]
  },
  {
   "cell_type": "markdown",
   "id": "c2835685",
   "metadata": {
    "deletable": false,
    "editable": false,
    "id": "75440b63"
   },
   "source": [
    "### Удаление пропусков (продолжение)"
   ]
  },
  {
   "cell_type": "markdown",
   "id": "4df3d1f0",
   "metadata": {
    "deletable": false,
    "editable": false,
    "id": "f4ea573f",
    "tags": [
     "start_task"
    ]
   },
   "source": [
    "**Задание 11. Заполните пропуски в столбце `days_employed` медианными значениями по каждому типу занятости `income_type`.**"
   ]
  },
  {
   "cell_type": "code",
   "execution_count": 12,
   "id": "4c0ad735",
   "metadata": {
    "id": "af6b1a7e"
   },
   "outputs": [],
   "source": [
    "for t in data['income_type'].unique():\n",
    "    data.loc[(data['income_type'] == t) & \n",
    "             (data['days_employed'].isna()), 'days_employed'] = data.loc[\n",
    "        (data['income_type'] == t), 'days_employed'].median()  "
   ]
  },
  {
   "cell_type": "markdown",
   "id": "989dfa5a",
   "metadata": {
    "deletable": false,
    "editable": false,
    "id": "2753f40d",
    "tags": [
     "start_task"
    ]
   },
   "source": [
    "**Задание 12. Убедитесь, что все пропуски заполнены. Проверьте себя и ещё раз выведите количество пропущенных значений для каждого столбца с помощью двух методов.**"
   ]
  },
  {
   "cell_type": "code",
   "execution_count": 13,
   "id": "2a9d8f75",
   "metadata": {
    "id": "55f78bc2"
   },
   "outputs": [
    {
     "data": {
      "text/plain": [
       "children            0\n",
       "days_employed       0\n",
       "dob_years           0\n",
       "education           0\n",
       "education_id        0\n",
       "family_status       0\n",
       "family_status_id    0\n",
       "gender              0\n",
       "income_type         0\n",
       "debt                0\n",
       "total_income        0\n",
       "purpose             0\n",
       "dtype: int64"
      ]
     },
     "execution_count": 13,
     "metadata": {},
     "output_type": "execute_result"
    }
   ],
   "source": [
    "data.isna().sum()"
   ]
  },
  {
   "cell_type": "markdown",
   "id": "c5f6f390",
   "metadata": {
    "deletable": false,
    "editable": false,
    "id": "ddc81e43"
   },
   "source": [
    "### Изменение типов данных"
   ]
  },
  {
   "cell_type": "markdown",
   "id": "bc9a6b56",
   "metadata": {
    "deletable": false,
    "editable": false,
    "id": "42d19d24",
    "tags": [
     "start_task"
    ]
   },
   "source": [
    "**Задание 13. Замените вещественный тип данных в столбце `total_income` на целочисленный с помощью метода `astype()`.**"
   ]
  },
  {
   "cell_type": "code",
   "execution_count": 14,
   "id": "d876dddd",
   "metadata": {
    "id": "920b65ad"
   },
   "outputs": [],
   "source": [
    "data['total_income'] = data['total_income'].astype('int')"
   ]
  },
  {
   "cell_type": "markdown",
   "id": "fc541952",
   "metadata": {
    "deletable": false,
    "editable": false,
    "id": "80c420ba"
   },
   "source": [
    "### Обработка дубликатов"
   ]
  },
  {
   "cell_type": "markdown",
   "id": "5faf935b",
   "metadata": {
    "deletable": false,
    "editable": false,
    "tags": [
     "start_task"
    ]
   },
   "source": [
    "**Задание 14. Обработайте неявные дубликаты в столбце `education`. В этом столбце есть одни и те же значения, но записанные по-разному: с использованием заглавных и строчных букв. Приведите их к нижнему регистру. Проверьте остальные столбцы.**"
   ]
  },
  {
   "cell_type": "code",
   "execution_count": 15,
   "id": "bbca904e",
   "metadata": {},
   "outputs": [],
   "source": [
    "data['education'] = data['education'].str.lower() "
   ]
  },
  {
   "cell_type": "markdown",
   "id": "782e92a8",
   "metadata": {
    "deletable": false,
    "editable": false,
    "id": "dc587695",
    "tags": [
     "start_task"
    ]
   },
   "source": [
    "**Задание 15. Выведите на экран количество строк-дубликатов в данных. Если такие строки присутствуют, удалите их.**"
   ]
  },
  {
   "cell_type": "code",
   "execution_count": 16,
   "id": "c00770fb",
   "metadata": {
    "id": "3ee445e4"
   },
   "outputs": [
    {
     "data": {
      "text/plain": [
       "71"
      ]
     },
     "execution_count": 16,
     "metadata": {},
     "output_type": "execute_result"
    }
   ],
   "source": [
    "data.duplicated().sum()"
   ]
  },
  {
   "cell_type": "code",
   "execution_count": 17,
   "id": "e8732742",
   "metadata": {
    "id": "8575fe05"
   },
   "outputs": [
    {
     "data": {
      "text/html": [
       "<div>\n",
       "<style scoped>\n",
       "    .dataframe tbody tr th:only-of-type {\n",
       "        vertical-align: middle;\n",
       "    }\n",
       "\n",
       "    .dataframe tbody tr th {\n",
       "        vertical-align: top;\n",
       "    }\n",
       "\n",
       "    .dataframe thead th {\n",
       "        text-align: right;\n",
       "    }\n",
       "</style>\n",
       "<table border=\"1\" class=\"dataframe\">\n",
       "  <thead>\n",
       "    <tr style=\"text-align: right;\">\n",
       "      <th></th>\n",
       "      <th>children</th>\n",
       "      <th>days_employed</th>\n",
       "      <th>dob_years</th>\n",
       "      <th>education</th>\n",
       "      <th>education_id</th>\n",
       "      <th>family_status</th>\n",
       "      <th>family_status_id</th>\n",
       "      <th>gender</th>\n",
       "      <th>income_type</th>\n",
       "      <th>debt</th>\n",
       "      <th>total_income</th>\n",
       "      <th>purpose</th>\n",
       "    </tr>\n",
       "  </thead>\n",
       "  <tbody>\n",
       "    <tr>\n",
       "      <th>0</th>\n",
       "      <td>1</td>\n",
       "      <td>8437.673028</td>\n",
       "      <td>42</td>\n",
       "      <td>высшее</td>\n",
       "      <td>0</td>\n",
       "      <td>женат / замужем</td>\n",
       "      <td>0</td>\n",
       "      <td>F</td>\n",
       "      <td>сотрудник</td>\n",
       "      <td>0</td>\n",
       "      <td>253875</td>\n",
       "      <td>покупка жилья</td>\n",
       "    </tr>\n",
       "    <tr>\n",
       "      <th>1</th>\n",
       "      <td>1</td>\n",
       "      <td>4024.803754</td>\n",
       "      <td>36</td>\n",
       "      <td>среднее</td>\n",
       "      <td>1</td>\n",
       "      <td>женат / замужем</td>\n",
       "      <td>0</td>\n",
       "      <td>F</td>\n",
       "      <td>сотрудник</td>\n",
       "      <td>0</td>\n",
       "      <td>112080</td>\n",
       "      <td>приобретение автомобиля</td>\n",
       "    </tr>\n",
       "    <tr>\n",
       "      <th>2</th>\n",
       "      <td>0</td>\n",
       "      <td>5623.422610</td>\n",
       "      <td>33</td>\n",
       "      <td>среднее</td>\n",
       "      <td>1</td>\n",
       "      <td>женат / замужем</td>\n",
       "      <td>0</td>\n",
       "      <td>M</td>\n",
       "      <td>сотрудник</td>\n",
       "      <td>0</td>\n",
       "      <td>145885</td>\n",
       "      <td>покупка жилья</td>\n",
       "    </tr>\n",
       "    <tr>\n",
       "      <th>3</th>\n",
       "      <td>3</td>\n",
       "      <td>4124.747207</td>\n",
       "      <td>32</td>\n",
       "      <td>среднее</td>\n",
       "      <td>1</td>\n",
       "      <td>женат / замужем</td>\n",
       "      <td>0</td>\n",
       "      <td>M</td>\n",
       "      <td>сотрудник</td>\n",
       "      <td>0</td>\n",
       "      <td>267628</td>\n",
       "      <td>дополнительное образование</td>\n",
       "    </tr>\n",
       "    <tr>\n",
       "      <th>4</th>\n",
       "      <td>0</td>\n",
       "      <td>340266.072047</td>\n",
       "      <td>53</td>\n",
       "      <td>среднее</td>\n",
       "      <td>1</td>\n",
       "      <td>гражданский брак</td>\n",
       "      <td>1</td>\n",
       "      <td>F</td>\n",
       "      <td>пенсионер</td>\n",
       "      <td>0</td>\n",
       "      <td>158616</td>\n",
       "      <td>сыграть свадьбу</td>\n",
       "    </tr>\n",
       "    <tr>\n",
       "      <th>...</th>\n",
       "      <td>...</td>\n",
       "      <td>...</td>\n",
       "      <td>...</td>\n",
       "      <td>...</td>\n",
       "      <td>...</td>\n",
       "      <td>...</td>\n",
       "      <td>...</td>\n",
       "      <td>...</td>\n",
       "      <td>...</td>\n",
       "      <td>...</td>\n",
       "      <td>...</td>\n",
       "      <td>...</td>\n",
       "    </tr>\n",
       "    <tr>\n",
       "      <th>21520</th>\n",
       "      <td>1</td>\n",
       "      <td>4529.316663</td>\n",
       "      <td>43</td>\n",
       "      <td>среднее</td>\n",
       "      <td>1</td>\n",
       "      <td>гражданский брак</td>\n",
       "      <td>1</td>\n",
       "      <td>F</td>\n",
       "      <td>компаньон</td>\n",
       "      <td>0</td>\n",
       "      <td>224791</td>\n",
       "      <td>операции с жильем</td>\n",
       "    </tr>\n",
       "    <tr>\n",
       "      <th>21521</th>\n",
       "      <td>0</td>\n",
       "      <td>343937.404131</td>\n",
       "      <td>67</td>\n",
       "      <td>среднее</td>\n",
       "      <td>1</td>\n",
       "      <td>женат / замужем</td>\n",
       "      <td>0</td>\n",
       "      <td>F</td>\n",
       "      <td>пенсионер</td>\n",
       "      <td>0</td>\n",
       "      <td>155999</td>\n",
       "      <td>сделка с автомобилем</td>\n",
       "    </tr>\n",
       "    <tr>\n",
       "      <th>21522</th>\n",
       "      <td>1</td>\n",
       "      <td>2113.346888</td>\n",
       "      <td>38</td>\n",
       "      <td>среднее</td>\n",
       "      <td>1</td>\n",
       "      <td>гражданский брак</td>\n",
       "      <td>1</td>\n",
       "      <td>M</td>\n",
       "      <td>сотрудник</td>\n",
       "      <td>1</td>\n",
       "      <td>89672</td>\n",
       "      <td>недвижимость</td>\n",
       "    </tr>\n",
       "    <tr>\n",
       "      <th>21523</th>\n",
       "      <td>3</td>\n",
       "      <td>3112.481705</td>\n",
       "      <td>38</td>\n",
       "      <td>среднее</td>\n",
       "      <td>1</td>\n",
       "      <td>женат / замужем</td>\n",
       "      <td>0</td>\n",
       "      <td>M</td>\n",
       "      <td>сотрудник</td>\n",
       "      <td>1</td>\n",
       "      <td>244093</td>\n",
       "      <td>на покупку своего автомобиля</td>\n",
       "    </tr>\n",
       "    <tr>\n",
       "      <th>21524</th>\n",
       "      <td>2</td>\n",
       "      <td>1984.507589</td>\n",
       "      <td>40</td>\n",
       "      <td>среднее</td>\n",
       "      <td>1</td>\n",
       "      <td>женат / замужем</td>\n",
       "      <td>0</td>\n",
       "      <td>F</td>\n",
       "      <td>сотрудник</td>\n",
       "      <td>0</td>\n",
       "      <td>82047</td>\n",
       "      <td>на покупку автомобиля</td>\n",
       "    </tr>\n",
       "  </tbody>\n",
       "</table>\n",
       "<p>21331 rows × 12 columns</p>\n",
       "</div>"
      ],
      "text/plain": [
       "       children  days_employed  dob_years education  education_id  \\\n",
       "0             1    8437.673028         42    высшее             0   \n",
       "1             1    4024.803754         36   среднее             1   \n",
       "2             0    5623.422610         33   среднее             1   \n",
       "3             3    4124.747207         32   среднее             1   \n",
       "4             0  340266.072047         53   среднее             1   \n",
       "...         ...            ...        ...       ...           ...   \n",
       "21520         1    4529.316663         43   среднее             1   \n",
       "21521         0  343937.404131         67   среднее             1   \n",
       "21522         1    2113.346888         38   среднее             1   \n",
       "21523         3    3112.481705         38   среднее             1   \n",
       "21524         2    1984.507589         40   среднее             1   \n",
       "\n",
       "          family_status  family_status_id gender income_type  debt  \\\n",
       "0       женат / замужем                 0      F   сотрудник     0   \n",
       "1       женат / замужем                 0      F   сотрудник     0   \n",
       "2       женат / замужем                 0      M   сотрудник     0   \n",
       "3       женат / замужем                 0      M   сотрудник     0   \n",
       "4      гражданский брак                 1      F   пенсионер     0   \n",
       "...                 ...               ...    ...         ...   ...   \n",
       "21520  гражданский брак                 1      F   компаньон     0   \n",
       "21521   женат / замужем                 0      F   пенсионер     0   \n",
       "21522  гражданский брак                 1      M   сотрудник     1   \n",
       "21523   женат / замужем                 0      M   сотрудник     1   \n",
       "21524   женат / замужем                 0      F   сотрудник     0   \n",
       "\n",
       "       total_income                       purpose  \n",
       "0            253875                 покупка жилья  \n",
       "1            112080       приобретение автомобиля  \n",
       "2            145885                 покупка жилья  \n",
       "3            267628    дополнительное образование  \n",
       "4            158616               сыграть свадьбу  \n",
       "...             ...                           ...  \n",
       "21520        224791             операции с жильем  \n",
       "21521        155999          сделка с автомобилем  \n",
       "21522         89672                  недвижимость  \n",
       "21523        244093  на покупку своего автомобиля  \n",
       "21524         82047         на покупку автомобиля  \n",
       "\n",
       "[21331 rows x 12 columns]"
      ]
     },
     "execution_count": 17,
     "metadata": {},
     "output_type": "execute_result"
    }
   ],
   "source": [
    "data.drop_duplicates()"
   ]
  },
  {
   "cell_type": "markdown",
   "id": "8bd9520e",
   "metadata": {
    "deletable": false,
    "editable": false,
    "id": "9904cf55"
   },
   "source": [
    "### Категоризация данных"
   ]
  },
  {
   "cell_type": "markdown",
   "id": "4627cd25",
   "metadata": {
    "deletable": false,
    "editable": false,
    "id": "72fcc8a2",
    "tags": [
     "start_task"
    ]
   },
   "source": [
    "**Задание 16. На основании диапазонов, указанных ниже, создайте в датафрейме `data` столбец `total_income_category` с категориями:**\n",
    "\n",
    "- 0–30000 — `'E'`;\n",
    "- 30001–50000 — `'D'`;\n",
    "- 50001–200000 — `'C'`;\n",
    "- 200001–1000000 — `'B'`;\n",
    "- 1000001 и выше — `'A'`.\n",
    "\n",
    "\n",
    "**Например, кредитополучателю с доходом 25000 нужно назначить категорию `'E'`, а клиенту, получающему 235000, — `'B'`. Используйте собственную функцию с именем `categorize_income()` и метод `apply()`.**"
   ]
  },
  {
   "cell_type": "code",
   "execution_count": 18,
   "id": "63b66130",
   "metadata": {
    "id": "e1771346"
   },
   "outputs": [],
   "source": [
    "def categorize_income(row):\n",
    "    if row <= 30000:\n",
    "        return 'E'\n",
    "    if row >= 30001 and row <= 50000:\n",
    "        return 'D'\n",
    "    if row >= 50001 and row <= 200000:\n",
    "        return 'C'\n",
    "    if row >= 200001 and row <= 1000000:\n",
    "        return 'B'\n",
    "    if row >= 1000001:\n",
    "        return 'A'"
   ]
  },
  {
   "cell_type": "code",
   "execution_count": 19,
   "id": "46d2af8f",
   "metadata": {
    "id": "d5f3586d"
   },
   "outputs": [],
   "source": [
    "data['total_income_category'] = data['total_income'].apply(categorize_income)"
   ]
  },
  {
   "cell_type": "markdown",
   "id": "e2bc9f20",
   "metadata": {
    "deletable": false,
    "editable": false,
    "id": "dde49b5c",
    "tags": [
     "start_task"
    ]
   },
   "source": [
    "**Задание 17. Выведите на экран перечень уникальных целей взятия кредита из столбца `purpose`.**"
   ]
  },
  {
   "cell_type": "code",
   "execution_count": 20,
   "id": "2f8ed111",
   "metadata": {
    "id": "f67ce9b3"
   },
   "outputs": [
    {
     "data": {
      "text/plain": [
       "array(['покупка жилья', 'приобретение автомобиля',\n",
       "       'дополнительное образование', 'сыграть свадьбу',\n",
       "       'операции с жильем', 'образование', 'на проведение свадьбы',\n",
       "       'покупка жилья для семьи', 'покупка недвижимости',\n",
       "       'покупка коммерческой недвижимости', 'покупка жилой недвижимости',\n",
       "       'строительство собственной недвижимости', 'недвижимость',\n",
       "       'строительство недвижимости', 'на покупку подержанного автомобиля',\n",
       "       'на покупку своего автомобиля',\n",
       "       'операции с коммерческой недвижимостью',\n",
       "       'строительство жилой недвижимости', 'жилье',\n",
       "       'операции со своей недвижимостью', 'автомобили',\n",
       "       'заняться образованием', 'сделка с подержанным автомобилем',\n",
       "       'получение образования', 'автомобиль', 'свадьба',\n",
       "       'получение дополнительного образования', 'покупка своего жилья',\n",
       "       'операции с недвижимостью', 'получение высшего образования',\n",
       "       'свой автомобиль', 'сделка с автомобилем',\n",
       "       'профильное образование', 'высшее образование',\n",
       "       'покупка жилья для сдачи', 'на покупку автомобиля', 'ремонт жилью',\n",
       "       'заняться высшим образованием'], dtype=object)"
      ]
     },
     "execution_count": 20,
     "metadata": {},
     "output_type": "execute_result"
    }
   ],
   "source": [
    "data['purpose'].unique()"
   ]
  },
  {
   "cell_type": "markdown",
   "id": "0eb80ac0",
   "metadata": {
    "deletable": false,
    "editable": false,
    "id": "85d0aef0",
    "tags": [
     "start_task"
    ]
   },
   "source": [
    "**Задание 18. Создайте функцию, которая на основании данных из столбца `purpose` сформирует новый столбец `purpose_category`, в который войдут следующие категории:**\n",
    "\n",
    "- `'операции с автомобилем'`,\n",
    "- `'операции с недвижимостью'`,\n",
    "- `'проведение свадьбы'`,\n",
    "- `'получение образования'`.\n",
    "\n",
    "**Например, если в столбце `purpose` находится подстрока `'на покупку автомобиля'`, то в столбце `purpose_category` должна появиться строка `'операции с автомобилем'`.**\n",
    "\n",
    "**Используйте собственную функцию с именем `categorize_purpose()` и метод `apply()`. Изучите данные в столбце `purpose` и определите, какие подстроки помогут вам правильно определить категорию.**"
   ]
  },
  {
   "cell_type": "code",
   "execution_count": 21,
   "id": "1190eac6",
   "metadata": {},
   "outputs": [],
   "source": [
    "def categorize_purpose(row):\n",
    "    if 'авто' in row:\n",
    "        return 'операции с автомобилем'\n",
    "    elif 'нед' in row:\n",
    "        return 'операции с недвижимостью'\n",
    "    elif 'жил' in row:\n",
    "        return 'операции с недвижимостью'\n",
    "    elif 'свадь' in row:\n",
    "        return 'проведение свадьбы'\n",
    "    elif 'образ' in row:\n",
    "        return 'получение образования'"
   ]
  },
  {
   "cell_type": "code",
   "execution_count": 23,
   "id": "e2a470ff",
   "metadata": {},
   "outputs": [],
   "source": [
    "data['purpose_category'] = data['purpose'].apply(categorize_purpose)"
   ]
  }
 ],
 "metadata": {
  "ExecuteTimeLog": [
   {
    "duration": 405,
    "start_time": "2022-10-20T15:31:43.601Z"
   },
   {
    "duration": 153,
    "start_time": "2022-10-20T15:31:44.415Z"
   },
   {
    "duration": 64,
    "start_time": "2022-10-20T15:33:38.892Z"
   },
   {
    "duration": 53,
    "start_time": "2022-10-20T15:33:49.498Z"
   },
   {
    "duration": 55,
    "start_time": "2022-10-20T15:33:53.855Z"
   },
   {
    "duration": 54,
    "start_time": "2022-10-20T15:33:57.192Z"
   },
   {
    "duration": 392,
    "start_time": "2022-10-20T15:34:03.514Z"
   },
   {
    "duration": 58,
    "start_time": "2022-10-20T15:34:03.908Z"
   },
   {
    "duration": 21,
    "start_time": "2022-10-20T15:34:03.968Z"
   },
   {
    "duration": 2,
    "start_time": "2022-10-20T15:34:03.991Z"
   },
   {
    "duration": 13,
    "start_time": "2022-10-20T15:34:03.996Z"
   },
   {
    "duration": 3,
    "start_time": "2022-10-20T15:34:04.010Z"
   },
   {
    "duration": 9,
    "start_time": "2022-10-20T15:34:04.014Z"
   },
   {
    "duration": 7,
    "start_time": "2022-10-20T15:34:04.024Z"
   },
   {
    "duration": 4,
    "start_time": "2022-10-20T15:34:04.033Z"
   },
   {
    "duration": 4,
    "start_time": "2022-10-20T15:34:04.038Z"
   },
   {
    "duration": 6,
    "start_time": "2022-10-20T15:34:04.043Z"
   },
   {
    "duration": 5,
    "start_time": "2022-10-20T15:34:04.051Z"
   },
   {
    "duration": 12,
    "start_time": "2022-10-20T15:34:04.057Z"
   },
   {
    "duration": 7,
    "start_time": "2022-10-20T15:34:04.071Z"
   },
   {
    "duration": 6,
    "start_time": "2022-10-20T15:34:04.080Z"
   },
   {
    "duration": 9,
    "start_time": "2022-10-20T15:34:04.087Z"
   },
   {
    "duration": 6,
    "start_time": "2022-10-20T15:34:04.097Z"
   },
   {
    "duration": 5,
    "start_time": "2022-10-20T15:34:04.104Z"
   },
   {
    "duration": 10,
    "start_time": "2022-10-20T15:34:04.110Z"
   },
   {
    "duration": 4,
    "start_time": "2022-10-20T15:34:04.121Z"
   },
   {
    "duration": 5,
    "start_time": "2022-10-20T15:34:04.127Z"
   },
   {
    "duration": 9,
    "start_time": "2022-10-20T15:34:04.133Z"
   },
   {
    "duration": 14,
    "start_time": "2022-10-20T15:34:51.928Z"
   },
   {
    "duration": 79,
    "start_time": "2022-10-20T15:36:34.429Z"
   },
   {
    "duration": 10,
    "start_time": "2022-10-20T15:37:09.463Z"
   },
   {
    "duration": 8,
    "start_time": "2022-10-20T15:37:26.359Z"
   },
   {
    "duration": 46,
    "start_time": "2022-10-20T15:50:59.834Z"
   },
   {
    "duration": 18,
    "start_time": "2022-10-20T15:52:18.458Z"
   },
   {
    "duration": 17,
    "start_time": "2022-10-20T15:53:30.773Z"
   },
   {
    "duration": 45,
    "start_time": "2022-10-20T15:53:50.883Z"
   },
   {
    "duration": 56,
    "start_time": "2022-10-20T15:54:09.306Z"
   },
   {
    "duration": 36,
    "start_time": "2022-10-20T15:54:40.040Z"
   },
   {
    "duration": 57,
    "start_time": "2022-10-20T15:55:23.531Z"
   },
   {
    "duration": 57,
    "start_time": "2022-10-20T15:55:28.782Z"
   },
   {
    "duration": 31,
    "start_time": "2022-10-20T15:55:37.441Z"
   },
   {
    "duration": 29,
    "start_time": "2022-10-20T15:55:40.892Z"
   },
   {
    "duration": 3,
    "start_time": "2022-10-20T15:55:52.007Z"
   },
   {
    "duration": 59,
    "start_time": "2022-10-20T15:55:52.012Z"
   },
   {
    "duration": 15,
    "start_time": "2022-10-20T15:55:52.072Z"
   },
   {
    "duration": 16,
    "start_time": "2022-10-20T15:55:52.088Z"
   },
   {
    "duration": 8,
    "start_time": "2022-10-20T15:55:52.110Z"
   },
   {
    "duration": 31,
    "start_time": "2022-10-20T15:55:52.119Z"
   },
   {
    "duration": 2,
    "start_time": "2022-10-20T15:55:52.152Z"
   },
   {
    "duration": 4,
    "start_time": "2022-10-20T15:55:52.156Z"
   },
   {
    "duration": 4,
    "start_time": "2022-10-20T15:55:52.162Z"
   },
   {
    "duration": 9,
    "start_time": "2022-10-20T15:55:52.168Z"
   },
   {
    "duration": 5,
    "start_time": "2022-10-20T15:55:52.178Z"
   },
   {
    "duration": 5,
    "start_time": "2022-10-20T15:55:52.184Z"
   },
   {
    "duration": 18,
    "start_time": "2022-10-20T15:55:52.191Z"
   },
   {
    "duration": 8,
    "start_time": "2022-10-20T15:55:52.211Z"
   },
   {
    "duration": 12,
    "start_time": "2022-10-20T15:55:52.220Z"
   },
   {
    "duration": 4,
    "start_time": "2022-10-20T15:55:52.233Z"
   },
   {
    "duration": 4,
    "start_time": "2022-10-20T15:55:52.239Z"
   },
   {
    "duration": 10,
    "start_time": "2022-10-20T15:55:52.244Z"
   },
   {
    "duration": 5,
    "start_time": "2022-10-20T15:55:52.256Z"
   },
   {
    "duration": 12,
    "start_time": "2022-10-20T15:55:52.262Z"
   },
   {
    "duration": 4,
    "start_time": "2022-10-20T15:55:52.276Z"
   },
   {
    "duration": 5,
    "start_time": "2022-10-20T15:55:52.282Z"
   },
   {
    "duration": 410,
    "start_time": "2022-10-20T15:56:00.199Z"
   },
   {
    "duration": 60,
    "start_time": "2022-10-20T15:56:00.610Z"
   },
   {
    "duration": 20,
    "start_time": "2022-10-20T15:56:00.672Z"
   },
   {
    "duration": 51,
    "start_time": "2022-10-20T15:56:00.694Z"
   },
   {
    "duration": 49,
    "start_time": "2022-10-20T15:56:00.747Z"
   },
   {
    "duration": 37,
    "start_time": "2022-10-20T15:56:00.798Z"
   },
   {
    "duration": 3,
    "start_time": "2022-10-20T15:56:00.836Z"
   },
   {
    "duration": 26,
    "start_time": "2022-10-20T15:56:00.841Z"
   },
   {
    "duration": 20,
    "start_time": "2022-10-20T15:56:00.869Z"
   },
   {
    "duration": 11,
    "start_time": "2022-10-20T15:56:00.892Z"
   },
   {
    "duration": 20,
    "start_time": "2022-10-20T15:56:00.904Z"
   },
   {
    "duration": 13,
    "start_time": "2022-10-20T15:56:00.926Z"
   },
   {
    "duration": 20,
    "start_time": "2022-10-20T15:56:00.941Z"
   },
   {
    "duration": 13,
    "start_time": "2022-10-20T15:56:00.963Z"
   },
   {
    "duration": 19,
    "start_time": "2022-10-20T15:56:00.977Z"
   },
   {
    "duration": 14,
    "start_time": "2022-10-20T15:56:00.998Z"
   },
   {
    "duration": 30,
    "start_time": "2022-10-20T15:56:01.014Z"
   },
   {
    "duration": 10,
    "start_time": "2022-10-20T15:56:01.045Z"
   },
   {
    "duration": 8,
    "start_time": "2022-10-20T15:56:01.056Z"
   },
   {
    "duration": 6,
    "start_time": "2022-10-20T15:56:01.066Z"
   },
   {
    "duration": 10,
    "start_time": "2022-10-20T15:56:01.074Z"
   },
   {
    "duration": 15,
    "start_time": "2022-10-20T15:56:01.086Z"
   },
   {
    "duration": 40,
    "start_time": "2022-10-20T15:56:11.278Z"
   },
   {
    "duration": 45,
    "start_time": "2022-10-20T15:56:25.467Z"
   },
   {
    "duration": 28,
    "start_time": "2022-10-20T15:56:38.668Z"
   },
   {
    "duration": 27,
    "start_time": "2022-10-20T15:56:46.058Z"
   },
   {
    "duration": 36,
    "start_time": "2022-10-20T15:57:03.995Z"
   },
   {
    "duration": 30,
    "start_time": "2022-10-20T15:57:08.400Z"
   },
   {
    "duration": 36,
    "start_time": "2022-10-20T15:57:34.543Z"
   },
   {
    "duration": 339,
    "start_time": "2022-10-20T15:57:43.962Z"
   },
   {
    "duration": 60,
    "start_time": "2022-10-20T15:57:44.308Z"
   },
   {
    "duration": 29,
    "start_time": "2022-10-20T15:57:44.369Z"
   },
   {
    "duration": 19,
    "start_time": "2022-10-20T15:57:44.400Z"
   },
   {
    "duration": 12,
    "start_time": "2022-10-20T15:57:44.421Z"
   },
   {
    "duration": 38,
    "start_time": "2022-10-20T15:57:44.435Z"
   },
   {
    "duration": 2,
    "start_time": "2022-10-20T15:57:44.475Z"
   },
   {
    "duration": 13,
    "start_time": "2022-10-20T15:57:44.479Z"
   },
   {
    "duration": 21,
    "start_time": "2022-10-20T15:57:44.494Z"
   },
   {
    "duration": 6,
    "start_time": "2022-10-20T15:57:44.518Z"
   },
   {
    "duration": 7,
    "start_time": "2022-10-20T15:57:44.526Z"
   },
   {
    "duration": 8,
    "start_time": "2022-10-20T15:57:44.535Z"
   },
   {
    "duration": 12,
    "start_time": "2022-10-20T15:57:44.545Z"
   },
   {
    "duration": 8,
    "start_time": "2022-10-20T15:57:44.559Z"
   },
   {
    "duration": 9,
    "start_time": "2022-10-20T15:57:44.569Z"
   },
   {
    "duration": 13,
    "start_time": "2022-10-20T15:57:44.580Z"
   },
   {
    "duration": 13,
    "start_time": "2022-10-20T15:57:44.594Z"
   },
   {
    "duration": 7,
    "start_time": "2022-10-20T15:57:44.610Z"
   },
   {
    "duration": 9,
    "start_time": "2022-10-20T15:57:44.619Z"
   },
   {
    "duration": 12,
    "start_time": "2022-10-20T15:57:44.630Z"
   },
   {
    "duration": 11,
    "start_time": "2022-10-20T15:57:44.643Z"
   },
   {
    "duration": 5,
    "start_time": "2022-10-20T15:57:44.655Z"
   },
   {
    "duration": 30,
    "start_time": "2022-10-20T15:57:47.883Z"
   },
   {
    "duration": 35,
    "start_time": "2022-10-20T15:58:02.268Z"
   },
   {
    "duration": 396,
    "start_time": "2022-10-20T15:58:09.718Z"
   },
   {
    "duration": 60,
    "start_time": "2022-10-20T15:58:10.117Z"
   },
   {
    "duration": 23,
    "start_time": "2022-10-20T15:58:10.179Z"
   },
   {
    "duration": 17,
    "start_time": "2022-10-20T15:58:10.204Z"
   },
   {
    "duration": 10,
    "start_time": "2022-10-20T15:58:10.223Z"
   },
   {
    "duration": 31,
    "start_time": "2022-10-20T15:58:10.234Z"
   },
   {
    "duration": 2,
    "start_time": "2022-10-20T15:58:10.267Z"
   },
   {
    "duration": 7,
    "start_time": "2022-10-20T15:58:10.271Z"
   },
   {
    "duration": 30,
    "start_time": "2022-10-20T15:58:10.279Z"
   },
   {
    "duration": 7,
    "start_time": "2022-10-20T15:58:10.311Z"
   },
   {
    "duration": 6,
    "start_time": "2022-10-20T15:58:10.320Z"
   },
   {
    "duration": 4,
    "start_time": "2022-10-20T15:58:10.327Z"
   },
   {
    "duration": 4,
    "start_time": "2022-10-20T15:58:10.332Z"
   },
   {
    "duration": 5,
    "start_time": "2022-10-20T15:58:10.337Z"
   },
   {
    "duration": 4,
    "start_time": "2022-10-20T15:58:10.343Z"
   },
   {
    "duration": 4,
    "start_time": "2022-10-20T15:58:10.348Z"
   },
   {
    "duration": 5,
    "start_time": "2022-10-20T15:58:10.354Z"
   },
   {
    "duration": 4,
    "start_time": "2022-10-20T15:58:10.360Z"
   },
   {
    "duration": 15,
    "start_time": "2022-10-20T15:58:10.365Z"
   },
   {
    "duration": 7,
    "start_time": "2022-10-20T15:58:10.382Z"
   },
   {
    "duration": 7,
    "start_time": "2022-10-20T15:58:10.390Z"
   },
   {
    "duration": 10,
    "start_time": "2022-10-20T15:58:10.399Z"
   },
   {
    "duration": 28,
    "start_time": "2022-10-20T16:11:14.232Z"
   },
   {
    "duration": 349,
    "start_time": "2022-10-20T16:19:57.960Z"
   },
   {
    "duration": 65,
    "start_time": "2022-10-20T16:19:58.311Z"
   },
   {
    "duration": 21,
    "start_time": "2022-10-20T16:19:58.378Z"
   },
   {
    "duration": 19,
    "start_time": "2022-10-20T16:19:58.400Z"
   },
   {
    "duration": 8,
    "start_time": "2022-10-20T16:19:58.421Z"
   },
   {
    "duration": 32,
    "start_time": "2022-10-20T16:19:58.430Z"
   },
   {
    "duration": 2,
    "start_time": "2022-10-20T16:19:58.463Z"
   },
   {
    "duration": 5,
    "start_time": "2022-10-20T16:19:58.466Z"
   },
   {
    "duration": 4,
    "start_time": "2022-10-20T16:19:58.473Z"
   },
   {
    "duration": 6,
    "start_time": "2022-10-20T16:19:58.478Z"
   },
   {
    "duration": 24,
    "start_time": "2022-10-20T16:19:58.485Z"
   },
   {
    "duration": 4,
    "start_time": "2022-10-20T16:19:58.511Z"
   },
   {
    "duration": 7,
    "start_time": "2022-10-20T16:19:58.516Z"
   },
   {
    "duration": 4,
    "start_time": "2022-10-20T16:19:58.525Z"
   },
   {
    "duration": 5,
    "start_time": "2022-10-20T16:19:58.530Z"
   },
   {
    "duration": 4,
    "start_time": "2022-10-20T16:19:58.537Z"
   },
   {
    "duration": 4,
    "start_time": "2022-10-20T16:19:58.542Z"
   },
   {
    "duration": 4,
    "start_time": "2022-10-20T16:19:58.548Z"
   },
   {
    "duration": 5,
    "start_time": "2022-10-20T16:19:58.553Z"
   },
   {
    "duration": 6,
    "start_time": "2022-10-20T16:19:58.560Z"
   },
   {
    "duration": 5,
    "start_time": "2022-10-20T16:19:58.568Z"
   },
   {
    "duration": 6,
    "start_time": "2022-10-20T16:19:58.574Z"
   },
   {
    "duration": 7,
    "start_time": "2022-10-20T16:22:26.137Z"
   },
   {
    "duration": 76,
    "start_time": "2022-10-20T16:23:49.504Z"
   },
   {
    "duration": 5,
    "start_time": "2022-10-20T16:25:54.614Z"
   },
   {
    "duration": 4,
    "start_time": "2022-10-20T16:26:06.394Z"
   },
   {
    "duration": 7,
    "start_time": "2022-10-20T16:29:49.046Z"
   },
   {
    "duration": 7,
    "start_time": "2022-10-20T16:31:04.005Z"
   },
   {
    "duration": 5,
    "start_time": "2022-10-20T16:32:11.253Z"
   },
   {
    "duration": 4,
    "start_time": "2022-10-20T16:32:42.898Z"
   },
   {
    "duration": 45,
    "start_time": "2022-10-20T16:39:32.724Z"
   },
   {
    "duration": 23,
    "start_time": "2022-10-20T16:39:39.081Z"
   },
   {
    "duration": 25,
    "start_time": "2022-10-20T16:39:53.619Z"
   },
   {
    "duration": 28,
    "start_time": "2022-10-20T16:40:02.229Z"
   },
   {
    "duration": 360,
    "start_time": "2022-10-20T16:40:17.449Z"
   },
   {
    "duration": 60,
    "start_time": "2022-10-20T16:40:17.810Z"
   },
   {
    "duration": 21,
    "start_time": "2022-10-20T16:40:17.871Z"
   },
   {
    "duration": 18,
    "start_time": "2022-10-20T16:40:17.894Z"
   },
   {
    "duration": 14,
    "start_time": "2022-10-20T16:40:17.914Z"
   },
   {
    "duration": 35,
    "start_time": "2022-10-20T16:40:17.930Z"
   },
   {
    "duration": 3,
    "start_time": "2022-10-20T16:40:17.966Z"
   },
   {
    "duration": 13,
    "start_time": "2022-10-20T16:40:17.971Z"
   },
   {
    "duration": 7,
    "start_time": "2022-10-20T16:40:17.986Z"
   },
   {
    "duration": 31,
    "start_time": "2022-10-20T16:40:17.995Z"
   },
   {
    "duration": 2,
    "start_time": "2022-10-20T16:40:18.028Z"
   },
   {
    "duration": 8,
    "start_time": "2022-10-20T16:40:18.032Z"
   },
   {
    "duration": 5,
    "start_time": "2022-10-20T16:40:18.042Z"
   },
   {
    "duration": 23,
    "start_time": "2022-10-20T16:40:18.048Z"
   },
   {
    "duration": 31,
    "start_time": "2022-10-20T16:40:18.073Z"
   },
   {
    "duration": 8,
    "start_time": "2022-10-20T16:40:18.105Z"
   },
   {
    "duration": 17,
    "start_time": "2022-10-20T16:40:18.115Z"
   },
   {
    "duration": 18,
    "start_time": "2022-10-20T16:40:18.133Z"
   },
   {
    "duration": 12,
    "start_time": "2022-10-20T16:40:18.152Z"
   },
   {
    "duration": 23,
    "start_time": "2022-10-20T16:40:18.165Z"
   },
   {
    "duration": 27,
    "start_time": "2022-10-20T16:40:18.190Z"
   },
   {
    "duration": 22,
    "start_time": "2022-10-20T16:40:18.218Z"
   },
   {
    "duration": 6,
    "start_time": "2022-10-20T17:05:16.027Z"
   },
   {
    "duration": 83,
    "start_time": "2022-10-20T17:20:12.044Z"
   },
   {
    "duration": 8,
    "start_time": "2022-10-20T17:20:21.646Z"
   },
   {
    "duration": 6,
    "start_time": "2022-10-20T17:20:25.428Z"
   },
   {
    "duration": 5,
    "start_time": "2022-10-20T17:20:58.702Z"
   },
   {
    "duration": 13,
    "start_time": "2022-10-20T17:21:45.938Z"
   },
   {
    "duration": 28,
    "start_time": "2022-10-20T17:23:44.206Z"
   },
   {
    "duration": 391,
    "start_time": "2022-10-20T17:24:45.214Z"
   },
   {
    "duration": 61,
    "start_time": "2022-10-20T17:24:45.610Z"
   },
   {
    "duration": 22,
    "start_time": "2022-10-20T17:24:45.673Z"
   },
   {
    "duration": 28,
    "start_time": "2022-10-20T17:24:45.697Z"
   },
   {
    "duration": 11,
    "start_time": "2022-10-20T17:24:45.727Z"
   },
   {
    "duration": 36,
    "start_time": "2022-10-20T17:24:45.740Z"
   },
   {
    "duration": 4,
    "start_time": "2022-10-20T17:24:45.778Z"
   },
   {
    "duration": 31,
    "start_time": "2022-10-20T17:24:45.783Z"
   },
   {
    "duration": 7,
    "start_time": "2022-10-20T17:24:45.816Z"
   },
   {
    "duration": 13,
    "start_time": "2022-10-20T17:24:45.827Z"
   },
   {
    "duration": 7,
    "start_time": "2022-10-20T17:24:45.842Z"
   },
   {
    "duration": 33,
    "start_time": "2022-10-20T17:24:45.851Z"
   },
   {
    "duration": 23,
    "start_time": "2022-10-20T17:24:45.886Z"
   },
   {
    "duration": 2,
    "start_time": "2022-10-20T17:24:45.912Z"
   },
   {
    "duration": 6,
    "start_time": "2022-10-20T17:24:45.916Z"
   },
   {
    "duration": 6,
    "start_time": "2022-10-20T17:24:45.924Z"
   },
   {
    "duration": 5,
    "start_time": "2022-10-20T17:24:45.932Z"
   },
   {
    "duration": 4,
    "start_time": "2022-10-20T17:24:45.938Z"
   },
   {
    "duration": 7,
    "start_time": "2022-10-20T17:24:45.944Z"
   },
   {
    "duration": 8,
    "start_time": "2022-10-20T17:24:45.953Z"
   },
   {
    "duration": 6,
    "start_time": "2022-10-20T17:24:45.963Z"
   },
   {
    "duration": 6,
    "start_time": "2022-10-20T17:24:45.970Z"
   },
   {
    "duration": 29,
    "start_time": "2022-10-20T17:24:49.509Z"
   },
   {
    "duration": 417,
    "start_time": "2022-10-20T17:25:10.775Z"
   },
   {
    "duration": 59,
    "start_time": "2022-10-20T17:25:11.194Z"
   },
   {
    "duration": 28,
    "start_time": "2022-10-20T17:25:11.255Z"
   },
   {
    "duration": 32,
    "start_time": "2022-10-20T17:25:11.287Z"
   },
   {
    "duration": 22,
    "start_time": "2022-10-20T17:25:11.322Z"
   },
   {
    "duration": 73,
    "start_time": "2022-10-20T17:25:11.346Z"
   },
   {
    "duration": 3,
    "start_time": "2022-10-20T17:25:11.422Z"
   },
   {
    "duration": 43,
    "start_time": "2022-10-20T17:25:11.427Z"
   },
   {
    "duration": 32,
    "start_time": "2022-10-20T17:25:11.472Z"
   },
   {
    "duration": 15,
    "start_time": "2022-10-20T17:25:11.505Z"
   },
   {
    "duration": 37,
    "start_time": "2022-10-20T17:25:11.521Z"
   },
   {
    "duration": 73,
    "start_time": "2022-10-20T17:25:11.560Z"
   },
   {
    "duration": 3,
    "start_time": "2022-10-20T17:25:11.635Z"
   },
   {
    "duration": 26,
    "start_time": "2022-10-20T17:25:11.641Z"
   },
   {
    "duration": 32,
    "start_time": "2022-10-20T17:25:11.668Z"
   },
   {
    "duration": 7,
    "start_time": "2022-10-20T17:25:11.702Z"
   },
   {
    "duration": 40,
    "start_time": "2022-10-20T17:25:11.711Z"
   },
   {
    "duration": 50,
    "start_time": "2022-10-20T17:25:11.752Z"
   },
   {
    "duration": 35,
    "start_time": "2022-10-20T17:25:11.804Z"
   },
   {
    "duration": 22,
    "start_time": "2022-10-20T17:25:11.841Z"
   },
   {
    "duration": 7,
    "start_time": "2022-10-20T17:25:11.865Z"
   },
   {
    "duration": 46,
    "start_time": "2022-10-20T17:25:11.874Z"
   },
   {
    "duration": 30,
    "start_time": "2022-10-20T17:25:17.644Z"
   },
   {
    "duration": 46,
    "start_time": "2022-10-20T17:26:14.765Z"
   },
   {
    "duration": 30,
    "start_time": "2022-10-20T17:26:20.879Z"
   },
   {
    "duration": 420,
    "start_time": "2022-10-20T17:26:51.278Z"
   },
   {
    "duration": 59,
    "start_time": "2022-10-20T17:26:51.700Z"
   },
   {
    "duration": 22,
    "start_time": "2022-10-20T17:26:51.760Z"
   },
   {
    "duration": 41,
    "start_time": "2022-10-20T17:26:51.783Z"
   },
   {
    "duration": 36,
    "start_time": "2022-10-20T17:26:51.826Z"
   },
   {
    "duration": 44,
    "start_time": "2022-10-20T17:26:51.864Z"
   },
   {
    "duration": 4,
    "start_time": "2022-10-20T17:26:51.910Z"
   },
   {
    "duration": 26,
    "start_time": "2022-10-20T17:26:51.916Z"
   },
   {
    "duration": 16,
    "start_time": "2022-10-20T17:26:51.944Z"
   },
   {
    "duration": 20,
    "start_time": "2022-10-20T17:26:51.962Z"
   },
   {
    "duration": 21,
    "start_time": "2022-10-20T17:26:51.984Z"
   },
   {
    "duration": 43,
    "start_time": "2022-10-20T17:26:52.006Z"
   },
   {
    "duration": 15,
    "start_time": "2022-10-20T17:26:52.050Z"
   },
   {
    "duration": 21,
    "start_time": "2022-10-20T17:26:52.068Z"
   },
   {
    "duration": 15,
    "start_time": "2022-10-20T17:26:52.090Z"
   },
   {
    "duration": 25,
    "start_time": "2022-10-20T17:26:52.106Z"
   },
   {
    "duration": 24,
    "start_time": "2022-10-20T17:26:52.133Z"
   },
   {
    "duration": 34,
    "start_time": "2022-10-20T17:26:52.158Z"
   },
   {
    "duration": 20,
    "start_time": "2022-10-20T17:26:52.194Z"
   },
   {
    "duration": 19,
    "start_time": "2022-10-20T17:26:52.215Z"
   },
   {
    "duration": 13,
    "start_time": "2022-10-20T17:26:52.236Z"
   },
   {
    "duration": 14,
    "start_time": "2022-10-20T17:26:52.251Z"
   },
   {
    "duration": 6,
    "start_time": "2022-10-20T17:27:05.034Z"
   },
   {
    "duration": 5,
    "start_time": "2022-10-20T17:27:06.934Z"
   },
   {
    "duration": 34,
    "start_time": "2022-10-20T17:27:16.442Z"
   },
   {
    "duration": 4,
    "start_time": "2022-10-20T17:27:19.647Z"
   },
   {
    "duration": 7,
    "start_time": "2022-10-20T17:27:21.820Z"
   },
   {
    "duration": 5,
    "start_time": "2022-10-20T17:27:25.145Z"
   },
   {
    "duration": 9,
    "start_time": "2022-10-20T17:27:28.120Z"
   },
   {
    "duration": 30,
    "start_time": "2022-10-20T17:27:38.264Z"
   },
   {
    "duration": 412,
    "start_time": "2022-10-20T17:27:58.902Z"
   },
   {
    "duration": 63,
    "start_time": "2022-10-20T17:27:59.316Z"
   },
   {
    "duration": 21,
    "start_time": "2022-10-20T17:27:59.381Z"
   },
   {
    "duration": 17,
    "start_time": "2022-10-20T17:27:59.404Z"
   },
   {
    "duration": 14,
    "start_time": "2022-10-20T17:27:59.424Z"
   },
   {
    "duration": 29,
    "start_time": "2022-10-20T17:27:59.440Z"
   },
   {
    "duration": 3,
    "start_time": "2022-10-20T17:27:59.470Z"
   },
   {
    "duration": 35,
    "start_time": "2022-10-20T17:27:59.475Z"
   },
   {
    "duration": 4,
    "start_time": "2022-10-20T17:27:59.511Z"
   },
   {
    "duration": 9,
    "start_time": "2022-10-20T17:27:59.516Z"
   },
   {
    "duration": 5,
    "start_time": "2022-10-20T17:27:59.526Z"
   },
   {
    "duration": 29,
    "start_time": "2022-10-20T17:27:59.532Z"
   },
   {
    "duration": 3,
    "start_time": "2022-10-20T17:27:59.562Z"
   },
   {
    "duration": 5,
    "start_time": "2022-10-20T17:27:59.567Z"
   },
   {
    "duration": 5,
    "start_time": "2022-10-20T17:27:59.573Z"
   },
   {
    "duration": 30,
    "start_time": "2022-10-20T17:27:59.579Z"
   },
   {
    "duration": 5,
    "start_time": "2022-10-20T17:27:59.611Z"
   },
   {
    "duration": 4,
    "start_time": "2022-10-20T17:27:59.618Z"
   },
   {
    "duration": 4,
    "start_time": "2022-10-20T17:27:59.624Z"
   },
   {
    "duration": 6,
    "start_time": "2022-10-20T17:27:59.630Z"
   },
   {
    "duration": 5,
    "start_time": "2022-10-20T17:27:59.637Z"
   },
   {
    "duration": 7,
    "start_time": "2022-10-20T17:27:59.643Z"
   },
   {
    "duration": 30,
    "start_time": "2022-10-20T17:28:26.748Z"
   },
   {
    "duration": 15,
    "start_time": "2022-10-20T17:29:00.686Z"
   },
   {
    "duration": 13,
    "start_time": "2022-10-20T17:29:37.654Z"
   },
   {
    "duration": 68,
    "start_time": "2022-10-20T17:30:10.397Z"
   },
   {
    "duration": 5,
    "start_time": "2022-10-20T17:32:02.569Z"
   },
   {
    "duration": 4,
    "start_time": "2022-10-20T17:32:33.887Z"
   },
   {
    "duration": 17,
    "start_time": "2022-10-20T17:33:14.368Z"
   },
   {
    "duration": 12,
    "start_time": "2022-10-20T17:35:59.205Z"
   },
   {
    "duration": 10,
    "start_time": "2022-10-20T17:37:39.707Z"
   },
   {
    "duration": 31,
    "start_time": "2022-10-20T17:38:20.310Z"
   },
   {
    "duration": 17,
    "start_time": "2022-10-20T17:38:33.517Z"
   },
   {
    "duration": 25,
    "start_time": "2022-10-20T17:38:38.507Z"
   },
   {
    "duration": 24,
    "start_time": "2022-10-20T17:38:42.410Z"
   },
   {
    "duration": 32,
    "start_time": "2022-10-20T17:38:52.964Z"
   },
   {
    "duration": 14,
    "start_time": "2022-10-20T17:41:14.169Z"
   },
   {
    "duration": 15,
    "start_time": "2022-10-20T17:43:17.266Z"
   },
   {
    "duration": 4,
    "start_time": "2022-10-20T17:47:02.664Z"
   },
   {
    "duration": 230,
    "start_time": "2022-10-20T17:49:30.447Z"
   },
   {
    "duration": 3,
    "start_time": "2022-10-20T17:49:39.354Z"
   },
   {
    "duration": 11,
    "start_time": "2022-10-20T17:49:41.725Z"
   },
   {
    "duration": 440,
    "start_time": "2022-10-21T07:48:51.528Z"
   },
   {
    "duration": 124,
    "start_time": "2022-10-21T07:48:51.970Z"
   },
   {
    "duration": 35,
    "start_time": "2022-10-21T07:48:52.096Z"
   },
   {
    "duration": 24,
    "start_time": "2022-10-21T07:48:52.134Z"
   },
   {
    "duration": 18,
    "start_time": "2022-10-21T07:48:52.160Z"
   },
   {
    "duration": 57,
    "start_time": "2022-10-21T07:48:52.180Z"
   },
   {
    "duration": 4,
    "start_time": "2022-10-21T07:48:52.239Z"
   },
   {
    "duration": 22,
    "start_time": "2022-10-21T07:48:52.244Z"
   },
   {
    "duration": 13,
    "start_time": "2022-10-21T07:48:52.268Z"
   },
   {
    "duration": 17,
    "start_time": "2022-10-21T07:48:52.283Z"
   },
   {
    "duration": 5,
    "start_time": "2022-10-21T07:48:52.302Z"
   },
   {
    "duration": 53,
    "start_time": "2022-10-21T07:48:52.309Z"
   },
   {
    "duration": 9,
    "start_time": "2022-10-21T07:48:52.365Z"
   },
   {
    "duration": 4,
    "start_time": "2022-10-21T07:48:52.377Z"
   },
   {
    "duration": 39,
    "start_time": "2022-10-21T07:48:52.383Z"
   },
   {
    "duration": 21,
    "start_time": "2022-10-21T07:48:52.425Z"
   },
   {
    "duration": 31,
    "start_time": "2022-10-21T07:48:52.448Z"
   },
   {
    "duration": 4,
    "start_time": "2022-10-21T07:48:52.480Z"
   },
   {
    "duration": 15,
    "start_time": "2022-10-21T07:48:52.508Z"
   },
   {
    "duration": 9,
    "start_time": "2022-10-21T07:48:52.525Z"
   },
   {
    "duration": 30,
    "start_time": "2022-10-21T07:48:52.538Z"
   },
   {
    "duration": 35,
    "start_time": "2022-10-21T07:48:52.570Z"
   },
   {
    "duration": 379,
    "start_time": "2022-10-21T07:49:16.535Z"
   },
   {
    "duration": 64,
    "start_time": "2022-10-21T07:49:16.916Z"
   },
   {
    "duration": 22,
    "start_time": "2022-10-21T07:49:16.981Z"
   },
   {
    "duration": 17,
    "start_time": "2022-10-21T07:49:17.005Z"
   },
   {
    "duration": 9,
    "start_time": "2022-10-21T07:49:17.025Z"
   },
   {
    "duration": 33,
    "start_time": "2022-10-21T07:49:17.035Z"
   },
   {
    "duration": 4,
    "start_time": "2022-10-21T07:49:17.069Z"
   },
   {
    "duration": 40,
    "start_time": "2022-10-21T07:49:17.074Z"
   },
   {
    "duration": 5,
    "start_time": "2022-10-21T07:49:17.116Z"
   },
   {
    "duration": 17,
    "start_time": "2022-10-21T07:49:17.122Z"
   },
   {
    "duration": 5,
    "start_time": "2022-10-21T07:49:17.140Z"
   },
   {
    "duration": 48,
    "start_time": "2022-10-21T07:49:17.146Z"
   },
   {
    "duration": 15,
    "start_time": "2022-10-21T07:49:17.195Z"
   },
   {
    "duration": 3,
    "start_time": "2022-10-21T07:49:17.212Z"
   },
   {
    "duration": 13,
    "start_time": "2022-10-21T07:49:17.217Z"
   },
   {
    "duration": 25,
    "start_time": "2022-10-21T07:49:17.232Z"
   },
   {
    "duration": 29,
    "start_time": "2022-10-21T07:49:17.259Z"
   },
   {
    "duration": 20,
    "start_time": "2022-10-21T07:49:17.290Z"
   },
   {
    "duration": 12,
    "start_time": "2022-10-21T07:49:17.311Z"
   },
   {
    "duration": 5,
    "start_time": "2022-10-21T07:49:17.324Z"
   },
   {
    "duration": 6,
    "start_time": "2022-10-21T07:49:17.330Z"
   },
   {
    "duration": 9,
    "start_time": "2022-10-21T07:49:17.337Z"
   },
   {
    "duration": 81,
    "start_time": "2022-10-21T07:49:46.999Z"
   },
   {
    "duration": 7,
    "start_time": "2022-10-21T07:50:07.254Z"
   },
   {
    "duration": 10,
    "start_time": "2022-10-21T08:06:22.070Z"
   },
   {
    "duration": 19,
    "start_time": "2022-10-21T08:07:54.890Z"
   },
   {
    "duration": 758,
    "start_time": "2022-10-21T08:08:23.441Z"
   },
   {
    "duration": 18,
    "start_time": "2022-10-21T08:08:40.129Z"
   },
   {
    "duration": 9,
    "start_time": "2022-10-21T08:21:34.604Z"
   },
   {
    "duration": 13,
    "start_time": "2022-10-21T08:21:51.310Z"
   },
   {
    "duration": 4,
    "start_time": "2022-10-21T08:22:41.714Z"
   },
   {
    "duration": 8,
    "start_time": "2022-10-21T08:22:43.970Z"
   },
   {
    "duration": 22,
    "start_time": "2022-10-21T08:23:00.320Z"
   },
   {
    "duration": 21,
    "start_time": "2022-10-21T08:23:28.348Z"
   },
   {
    "duration": 393,
    "start_time": "2022-10-21T08:24:15.425Z"
   },
   {
    "duration": 69,
    "start_time": "2022-10-21T08:24:15.821Z"
   },
   {
    "duration": 24,
    "start_time": "2022-10-21T08:24:15.891Z"
   },
   {
    "duration": 15,
    "start_time": "2022-10-21T08:24:15.917Z"
   },
   {
    "duration": 10,
    "start_time": "2022-10-21T08:24:15.934Z"
   },
   {
    "duration": 34,
    "start_time": "2022-10-21T08:24:15.945Z"
   },
   {
    "duration": 4,
    "start_time": "2022-10-21T08:24:15.980Z"
   },
   {
    "duration": 27,
    "start_time": "2022-10-21T08:24:15.985Z"
   },
   {
    "duration": 7,
    "start_time": "2022-10-21T08:24:16.014Z"
   },
   {
    "duration": 11,
    "start_time": "2022-10-21T08:24:16.023Z"
   },
   {
    "duration": 4,
    "start_time": "2022-10-21T08:24:16.036Z"
   },
   {
    "duration": 33,
    "start_time": "2022-10-21T08:24:16.042Z"
   },
   {
    "duration": 32,
    "start_time": "2022-10-21T08:24:16.077Z"
   },
   {
    "duration": 4,
    "start_time": "2022-10-21T08:24:16.111Z"
   },
   {
    "duration": 13,
    "start_time": "2022-10-21T08:24:16.116Z"
   },
   {
    "duration": 20,
    "start_time": "2022-10-21T08:24:16.130Z"
   },
   {
    "duration": 30,
    "start_time": "2022-10-21T08:24:16.151Z"
   },
   {
    "duration": 28,
    "start_time": "2022-10-21T08:24:16.183Z"
   },
   {
    "duration": 15,
    "start_time": "2022-10-21T08:24:16.213Z"
   },
   {
    "duration": 11,
    "start_time": "2022-10-21T08:24:16.229Z"
   },
   {
    "duration": 4,
    "start_time": "2022-10-21T08:24:16.241Z"
   },
   {
    "duration": 10,
    "start_time": "2022-10-21T08:24:16.246Z"
   },
   {
    "duration": 7,
    "start_time": "2022-10-21T08:24:32.230Z"
   },
   {
    "duration": 8,
    "start_time": "2022-10-21T08:24:34.826Z"
   },
   {
    "duration": 465,
    "start_time": "2022-10-21T08:24:42.480Z"
   },
   {
    "duration": 61,
    "start_time": "2022-10-21T08:24:42.947Z"
   },
   {
    "duration": 23,
    "start_time": "2022-10-21T08:24:43.010Z"
   },
   {
    "duration": 16,
    "start_time": "2022-10-21T08:24:43.035Z"
   },
   {
    "duration": 10,
    "start_time": "2022-10-21T08:24:43.053Z"
   },
   {
    "duration": 61,
    "start_time": "2022-10-21T08:24:43.065Z"
   },
   {
    "duration": 3,
    "start_time": "2022-10-21T08:24:43.127Z"
   },
   {
    "duration": 12,
    "start_time": "2022-10-21T08:24:43.131Z"
   },
   {
    "duration": 3,
    "start_time": "2022-10-21T08:24:43.145Z"
   },
   {
    "duration": 9,
    "start_time": "2022-10-21T08:24:43.150Z"
   },
   {
    "duration": 5,
    "start_time": "2022-10-21T08:24:43.160Z"
   },
   {
    "duration": 68,
    "start_time": "2022-10-21T08:24:43.167Z"
   },
   {
    "duration": 9,
    "start_time": "2022-10-21T08:24:43.237Z"
   },
   {
    "duration": 4,
    "start_time": "2022-10-21T08:24:43.249Z"
   },
   {
    "duration": 16,
    "start_time": "2022-10-21T08:24:43.254Z"
   },
   {
    "duration": 39,
    "start_time": "2022-10-21T08:24:43.271Z"
   },
   {
    "duration": 31,
    "start_time": "2022-10-21T08:24:43.311Z"
   },
   {
    "duration": 3,
    "start_time": "2022-10-21T08:24:43.344Z"
   },
   {
    "duration": 14,
    "start_time": "2022-10-21T08:24:43.348Z"
   },
   {
    "duration": 20,
    "start_time": "2022-10-21T08:24:43.363Z"
   },
   {
    "duration": 10,
    "start_time": "2022-10-21T08:24:43.385Z"
   },
   {
    "duration": 19,
    "start_time": "2022-10-21T08:24:43.397Z"
   },
   {
    "duration": 13,
    "start_time": "2022-10-21T08:25:03.664Z"
   },
   {
    "duration": 7,
    "start_time": "2022-10-21T08:25:45.717Z"
   },
   {
    "duration": 7,
    "start_time": "2022-10-21T08:26:15.610Z"
   },
   {
    "duration": 70,
    "start_time": "2022-10-21T08:26:40.596Z"
   },
   {
    "duration": 16,
    "start_time": "2022-10-21T08:26:44.628Z"
   },
   {
    "duration": 403,
    "start_time": "2022-10-21T08:27:10.940Z"
   },
   {
    "duration": 62,
    "start_time": "2022-10-21T08:27:11.346Z"
   },
   {
    "duration": 23,
    "start_time": "2022-10-21T08:27:11.410Z"
   },
   {
    "duration": 14,
    "start_time": "2022-10-21T08:27:11.435Z"
   },
   {
    "duration": 12,
    "start_time": "2022-10-21T08:27:11.451Z"
   },
   {
    "duration": 61,
    "start_time": "2022-10-21T08:27:11.465Z"
   },
   {
    "duration": 4,
    "start_time": "2022-10-21T08:27:11.528Z"
   },
   {
    "duration": 13,
    "start_time": "2022-10-21T08:27:11.533Z"
   },
   {
    "duration": 7,
    "start_time": "2022-10-21T08:27:11.548Z"
   },
   {
    "duration": 16,
    "start_time": "2022-10-21T08:27:11.556Z"
   },
   {
    "duration": 5,
    "start_time": "2022-10-21T08:27:11.574Z"
   },
   {
    "duration": 75,
    "start_time": "2022-10-21T08:27:11.581Z"
   },
   {
    "duration": 15,
    "start_time": "2022-10-21T08:27:11.658Z"
   },
   {
    "duration": 12,
    "start_time": "2022-10-21T08:27:11.676Z"
   },
   {
    "duration": 27,
    "start_time": "2022-10-21T08:27:11.690Z"
   },
   {
    "duration": 38,
    "start_time": "2022-10-21T08:27:11.719Z"
   },
   {
    "duration": 33,
    "start_time": "2022-10-21T08:27:11.759Z"
   },
   {
    "duration": 18,
    "start_time": "2022-10-21T08:27:11.793Z"
   },
   {
    "duration": 11,
    "start_time": "2022-10-21T08:27:11.813Z"
   },
   {
    "duration": 9,
    "start_time": "2022-10-21T08:27:11.827Z"
   },
   {
    "duration": 7,
    "start_time": "2022-10-21T08:27:11.837Z"
   },
   {
    "duration": 25,
    "start_time": "2022-10-21T08:27:11.845Z"
   },
   {
    "duration": 9,
    "start_time": "2022-10-21T08:27:11.871Z"
   },
   {
    "duration": 269,
    "start_time": "2022-10-21T08:27:30.628Z"
   },
   {
    "duration": 13,
    "start_time": "2022-10-21T08:28:00.680Z"
   },
   {
    "duration": 9,
    "start_time": "2022-10-21T08:28:08.374Z"
   },
   {
    "duration": 433,
    "start_time": "2022-10-21T08:29:44.825Z"
   },
   {
    "duration": 62,
    "start_time": "2022-10-21T08:29:45.260Z"
   },
   {
    "duration": 22,
    "start_time": "2022-10-21T08:29:45.324Z"
   },
   {
    "duration": 14,
    "start_time": "2022-10-21T08:29:45.348Z"
   },
   {
    "duration": 9,
    "start_time": "2022-10-21T08:29:45.364Z"
   },
   {
    "duration": 59,
    "start_time": "2022-10-21T08:29:45.374Z"
   },
   {
    "duration": 4,
    "start_time": "2022-10-21T08:29:45.434Z"
   },
   {
    "duration": 11,
    "start_time": "2022-10-21T08:29:45.440Z"
   },
   {
    "duration": 5,
    "start_time": "2022-10-21T08:29:45.453Z"
   },
   {
    "duration": 10,
    "start_time": "2022-10-21T08:29:45.460Z"
   },
   {
    "duration": 4,
    "start_time": "2022-10-21T08:29:45.472Z"
   },
   {
    "duration": 58,
    "start_time": "2022-10-21T08:29:45.477Z"
   },
   {
    "duration": 9,
    "start_time": "2022-10-21T08:29:45.536Z"
   },
   {
    "duration": 3,
    "start_time": "2022-10-21T08:29:45.548Z"
   },
   {
    "duration": 12,
    "start_time": "2022-10-21T08:29:45.552Z"
   },
   {
    "duration": 43,
    "start_time": "2022-10-21T08:29:45.566Z"
   },
   {
    "duration": 32,
    "start_time": "2022-10-21T08:29:45.611Z"
   },
   {
    "duration": 4,
    "start_time": "2022-10-21T08:29:45.644Z"
   },
   {
    "duration": 10,
    "start_time": "2022-10-21T08:29:45.650Z"
   },
   {
    "duration": 5,
    "start_time": "2022-10-21T08:29:45.662Z"
   },
   {
    "duration": 96,
    "start_time": "2022-10-21T08:29:45.669Z"
   },
   {
    "duration": 0,
    "start_time": "2022-10-21T08:29:45.766Z"
   },
   {
    "duration": 4,
    "start_time": "2022-10-21T08:29:48.873Z"
   },
   {
    "duration": 8,
    "start_time": "2022-10-21T08:29:51.315Z"
   },
   {
    "duration": 7,
    "start_time": "2022-10-21T08:29:53.994Z"
   },
   {
    "duration": 3,
    "start_time": "2022-10-21T08:30:05.650Z"
   },
   {
    "duration": 2,
    "start_time": "2022-10-21T08:37:27.728Z"
   },
   {
    "duration": 66,
    "start_time": "2022-10-21T08:37:27.732Z"
   },
   {
    "duration": 15,
    "start_time": "2022-10-21T08:37:27.799Z"
   },
   {
    "duration": 25,
    "start_time": "2022-10-21T08:37:27.816Z"
   },
   {
    "duration": 10,
    "start_time": "2022-10-21T08:37:27.843Z"
   },
   {
    "duration": 31,
    "start_time": "2022-10-21T08:37:27.855Z"
   },
   {
    "duration": 4,
    "start_time": "2022-10-21T08:37:27.888Z"
   },
   {
    "duration": 21,
    "start_time": "2022-10-21T08:37:27.893Z"
   },
   {
    "duration": 4,
    "start_time": "2022-10-21T08:37:27.916Z"
   },
   {
    "duration": 5,
    "start_time": "2022-10-21T08:37:27.922Z"
   },
   {
    "duration": 5,
    "start_time": "2022-10-21T08:37:27.929Z"
   },
   {
    "duration": 31,
    "start_time": "2022-10-21T08:37:27.936Z"
   },
   {
    "duration": 42,
    "start_time": "2022-10-21T08:37:27.969Z"
   },
   {
    "duration": 3,
    "start_time": "2022-10-21T08:37:28.014Z"
   },
   {
    "duration": 14,
    "start_time": "2022-10-21T08:37:28.018Z"
   },
   {
    "duration": 20,
    "start_time": "2022-10-21T08:37:28.034Z"
   },
   {
    "duration": 30,
    "start_time": "2022-10-21T08:37:28.056Z"
   },
   {
    "duration": 22,
    "start_time": "2022-10-21T08:37:28.087Z"
   },
   {
    "duration": 9,
    "start_time": "2022-10-21T08:37:28.110Z"
   },
   {
    "duration": 10,
    "start_time": "2022-10-21T08:37:28.120Z"
   },
   {
    "duration": 8,
    "start_time": "2022-10-21T08:37:28.131Z"
   },
   {
    "duration": 25,
    "start_time": "2022-10-21T08:37:28.141Z"
   },
   {
    "duration": 382,
    "start_time": "2022-10-21T08:37:33.748Z"
   },
   {
    "duration": 66,
    "start_time": "2022-10-21T08:37:34.132Z"
   },
   {
    "duration": 22,
    "start_time": "2022-10-21T08:37:34.200Z"
   },
   {
    "duration": 13,
    "start_time": "2022-10-21T08:37:34.224Z"
   },
   {
    "duration": 8,
    "start_time": "2022-10-21T08:37:34.239Z"
   },
   {
    "duration": 30,
    "start_time": "2022-10-21T08:37:34.249Z"
   },
   {
    "duration": 3,
    "start_time": "2022-10-21T08:37:34.281Z"
   },
   {
    "duration": 30,
    "start_time": "2022-10-21T08:37:34.285Z"
   },
   {
    "duration": 4,
    "start_time": "2022-10-21T08:37:34.316Z"
   },
   {
    "duration": 10,
    "start_time": "2022-10-21T08:37:34.322Z"
   },
   {
    "duration": 7,
    "start_time": "2022-10-21T08:37:34.333Z"
   },
   {
    "duration": 34,
    "start_time": "2022-10-21T08:37:34.341Z"
   },
   {
    "duration": 32,
    "start_time": "2022-10-21T08:37:34.377Z"
   },
   {
    "duration": 4,
    "start_time": "2022-10-21T08:37:34.410Z"
   },
   {
    "duration": 13,
    "start_time": "2022-10-21T08:37:34.415Z"
   },
   {
    "duration": 21,
    "start_time": "2022-10-21T08:37:34.430Z"
   },
   {
    "duration": 32,
    "start_time": "2022-10-21T08:37:34.453Z"
   },
   {
    "duration": 24,
    "start_time": "2022-10-21T08:37:34.487Z"
   },
   {
    "duration": 18,
    "start_time": "2022-10-21T08:37:34.513Z"
   },
   {
    "duration": 18,
    "start_time": "2022-10-21T08:37:34.537Z"
   },
   {
    "duration": 4,
    "start_time": "2022-10-21T08:37:34.556Z"
   },
   {
    "duration": 11,
    "start_time": "2022-10-21T08:37:34.562Z"
   },
   {
    "duration": 10,
    "start_time": "2022-10-21T08:38:37.835Z"
   },
   {
    "duration": 4,
    "start_time": "2022-10-21T09:35:20.640Z"
   },
   {
    "duration": 12,
    "start_time": "2022-10-21T09:35:21.813Z"
   },
   {
    "duration": 388,
    "start_time": "2022-10-21T09:35:25.373Z"
   },
   {
    "duration": 61,
    "start_time": "2022-10-21T09:35:25.763Z"
   },
   {
    "duration": 22,
    "start_time": "2022-10-21T09:35:25.826Z"
   },
   {
    "duration": 15,
    "start_time": "2022-10-21T09:35:25.850Z"
   },
   {
    "duration": 10,
    "start_time": "2022-10-21T09:35:25.867Z"
   },
   {
    "duration": 57,
    "start_time": "2022-10-21T09:35:25.879Z"
   },
   {
    "duration": 4,
    "start_time": "2022-10-21T09:35:25.937Z"
   },
   {
    "duration": 10,
    "start_time": "2022-10-21T09:35:25.942Z"
   },
   {
    "duration": 3,
    "start_time": "2022-10-21T09:35:25.954Z"
   },
   {
    "duration": 11,
    "start_time": "2022-10-21T09:35:25.959Z"
   },
   {
    "duration": 5,
    "start_time": "2022-10-21T09:35:25.972Z"
   },
   {
    "duration": 56,
    "start_time": "2022-10-21T09:35:25.978Z"
   },
   {
    "duration": 11,
    "start_time": "2022-10-21T09:35:26.036Z"
   },
   {
    "duration": 3,
    "start_time": "2022-10-21T09:35:26.050Z"
   },
   {
    "duration": 14,
    "start_time": "2022-10-21T09:35:26.055Z"
   },
   {
    "duration": 45,
    "start_time": "2022-10-21T09:35:26.071Z"
   },
   {
    "duration": 31,
    "start_time": "2022-10-21T09:35:26.118Z"
   },
   {
    "duration": 3,
    "start_time": "2022-10-21T09:35:26.150Z"
   },
   {
    "duration": 12,
    "start_time": "2022-10-21T09:35:26.154Z"
   },
   {
    "duration": 8,
    "start_time": "2022-10-21T09:35:26.167Z"
   },
   {
    "duration": 7,
    "start_time": "2022-10-21T09:35:26.176Z"
   },
   {
    "duration": 31,
    "start_time": "2022-10-21T09:35:26.184Z"
   },
   {
    "duration": 3,
    "start_time": "2022-10-21T09:35:35.674Z"
   },
   {
    "duration": 9,
    "start_time": "2022-10-21T09:35:36.901Z"
   },
   {
    "duration": 8,
    "start_time": "2022-10-21T09:36:33.687Z"
   },
   {
    "duration": 8,
    "start_time": "2022-10-21T09:36:36.299Z"
   },
   {
    "duration": 13,
    "start_time": "2022-10-21T09:37:09.833Z"
   },
   {
    "duration": 83,
    "start_time": "2022-10-21T09:39:51.845Z"
   },
   {
    "duration": 8,
    "start_time": "2022-10-21T09:40:02.484Z"
   },
   {
    "duration": 8,
    "start_time": "2022-10-21T09:40:17.359Z"
   },
   {
    "duration": 365,
    "start_time": "2022-10-21T10:20:29.169Z"
   },
   {
    "duration": 62,
    "start_time": "2022-10-21T10:20:29.536Z"
   },
   {
    "duration": 22,
    "start_time": "2022-10-21T10:20:29.600Z"
   },
   {
    "duration": 14,
    "start_time": "2022-10-21T10:20:29.624Z"
   },
   {
    "duration": 8,
    "start_time": "2022-10-21T10:20:29.640Z"
   },
   {
    "duration": 34,
    "start_time": "2022-10-21T10:20:29.650Z"
   },
   {
    "duration": 23,
    "start_time": "2022-10-21T10:20:29.686Z"
   },
   {
    "duration": 13,
    "start_time": "2022-10-21T10:20:29.710Z"
   },
   {
    "duration": 6,
    "start_time": "2022-10-21T10:20:29.724Z"
   },
   {
    "duration": 9,
    "start_time": "2022-10-21T10:20:29.732Z"
   },
   {
    "duration": 6,
    "start_time": "2022-10-21T10:20:29.743Z"
   },
   {
    "duration": 34,
    "start_time": "2022-10-21T10:20:29.751Z"
   },
   {
    "duration": 22,
    "start_time": "2022-10-21T10:20:29.787Z"
   },
   {
    "duration": 3,
    "start_time": "2022-10-21T10:20:29.811Z"
   },
   {
    "duration": 13,
    "start_time": "2022-10-21T10:20:29.816Z"
   },
   {
    "duration": 20,
    "start_time": "2022-10-21T10:20:29.831Z"
   },
   {
    "duration": 30,
    "start_time": "2022-10-21T10:20:29.853Z"
   },
   {
    "duration": 24,
    "start_time": "2022-10-21T10:20:29.885Z"
   },
   {
    "duration": 9,
    "start_time": "2022-10-21T10:20:29.910Z"
   },
   {
    "duration": 8,
    "start_time": "2022-10-21T10:20:29.921Z"
   },
   {
    "duration": 84,
    "start_time": "2022-10-21T10:20:29.931Z"
   },
   {
    "duration": 6,
    "start_time": "2022-10-21T10:20:37.231Z"
   },
   {
    "duration": 3,
    "start_time": "2022-10-21T10:20:38.736Z"
   },
   {
    "duration": 9,
    "start_time": "2022-10-21T10:20:40.080Z"
   },
   {
    "duration": 9,
    "start_time": "2022-10-21T10:25:25.087Z"
   },
   {
    "duration": 6,
    "start_time": "2022-10-21T10:26:27.532Z"
   },
   {
    "duration": 43,
    "start_time": "2022-10-21T10:30:42.052Z"
   },
   {
    "duration": 3,
    "start_time": "2022-10-21T10:30:53.121Z"
   },
   {
    "duration": 8,
    "start_time": "2022-10-21T10:30:55.987Z"
   },
   {
    "duration": 374,
    "start_time": "2022-10-21T10:35:44.658Z"
   },
   {
    "duration": 72,
    "start_time": "2022-10-21T10:35:45.033Z"
   },
   {
    "duration": 30,
    "start_time": "2022-10-21T10:35:45.106Z"
   },
   {
    "duration": 59,
    "start_time": "2022-10-21T10:35:45.138Z"
   },
   {
    "duration": 53,
    "start_time": "2022-10-21T10:35:45.199Z"
   },
   {
    "duration": 75,
    "start_time": "2022-10-21T10:35:45.253Z"
   },
   {
    "duration": 34,
    "start_time": "2022-10-21T10:35:45.329Z"
   },
   {
    "duration": 36,
    "start_time": "2022-10-21T10:35:45.365Z"
   },
   {
    "duration": 33,
    "start_time": "2022-10-21T10:35:45.403Z"
   },
   {
    "duration": 47,
    "start_time": "2022-10-21T10:35:45.439Z"
   },
   {
    "duration": 49,
    "start_time": "2022-10-21T10:35:45.488Z"
   },
   {
    "duration": 80,
    "start_time": "2022-10-21T10:35:45.540Z"
   },
   {
    "duration": 10,
    "start_time": "2022-10-21T10:35:45.622Z"
   },
   {
    "duration": 62,
    "start_time": "2022-10-21T10:35:45.633Z"
   },
   {
    "duration": 31,
    "start_time": "2022-10-21T10:35:45.696Z"
   },
   {
    "duration": 68,
    "start_time": "2022-10-21T10:35:45.729Z"
   },
   {
    "duration": 66,
    "start_time": "2022-10-21T10:35:45.799Z"
   },
   {
    "duration": 4,
    "start_time": "2022-10-21T10:35:45.867Z"
   },
   {
    "duration": 46,
    "start_time": "2022-10-21T10:35:45.873Z"
   },
   {
    "duration": 71,
    "start_time": "2022-10-21T10:35:45.921Z"
   },
   {
    "duration": 19,
    "start_time": "2022-10-21T10:35:45.995Z"
   },
   {
    "duration": 53,
    "start_time": "2022-10-21T10:35:46.016Z"
   },
   {
    "duration": 4,
    "start_time": "2022-10-21T10:36:19.250Z"
   },
   {
    "duration": 13,
    "start_time": "2022-10-21T10:36:21.012Z"
   },
   {
    "duration": 8,
    "start_time": "2022-10-21T10:36:27.646Z"
   },
   {
    "duration": 445,
    "start_time": "2022-10-21T10:36:42.217Z"
   },
   {
    "duration": 69,
    "start_time": "2022-10-21T10:36:42.664Z"
   },
   {
    "duration": 33,
    "start_time": "2022-10-21T10:36:42.734Z"
   },
   {
    "duration": 18,
    "start_time": "2022-10-21T10:36:42.771Z"
   },
   {
    "duration": 27,
    "start_time": "2022-10-21T10:36:42.791Z"
   },
   {
    "duration": 88,
    "start_time": "2022-10-21T10:36:42.820Z"
   },
   {
    "duration": 3,
    "start_time": "2022-10-21T10:36:42.910Z"
   },
   {
    "duration": 28,
    "start_time": "2022-10-21T10:36:42.914Z"
   },
   {
    "duration": 5,
    "start_time": "2022-10-21T10:36:42.943Z"
   },
   {
    "duration": 11,
    "start_time": "2022-10-21T10:36:42.950Z"
   },
   {
    "duration": 10,
    "start_time": "2022-10-21T10:36:42.962Z"
   },
   {
    "duration": 41,
    "start_time": "2022-10-21T10:36:42.973Z"
   },
   {
    "duration": 13,
    "start_time": "2022-10-21T10:36:43.015Z"
   },
   {
    "duration": 6,
    "start_time": "2022-10-21T10:36:43.030Z"
   },
   {
    "duration": 13,
    "start_time": "2022-10-21T10:36:43.038Z"
   },
   {
    "duration": 22,
    "start_time": "2022-10-21T10:36:43.053Z"
   },
   {
    "duration": 48,
    "start_time": "2022-10-21T10:36:43.076Z"
   },
   {
    "duration": 3,
    "start_time": "2022-10-21T10:36:43.126Z"
   },
   {
    "duration": 20,
    "start_time": "2022-10-21T10:36:43.131Z"
   },
   {
    "duration": 9,
    "start_time": "2022-10-21T10:36:43.152Z"
   },
   {
    "duration": 7,
    "start_time": "2022-10-21T10:36:43.162Z"
   },
   {
    "duration": 11,
    "start_time": "2022-10-21T10:36:43.171Z"
   },
   {
    "duration": 9,
    "start_time": "2022-10-21T10:36:46.199Z"
   }
  ],
  "colab": {
   "name": "dpp_template_part1.ipynb",
   "provenance": []
  },
  "kernelspec": {
   "display_name": "Python 3 (ipykernel)",
   "language": "python",
   "name": "python3"
  },
  "language_info": {
   "codemirror_mode": {
    "name": "ipython",
    "version": 3
   },
   "file_extension": ".py",
   "mimetype": "text/x-python",
   "name": "python",
   "nbconvert_exporter": "python",
   "pygments_lexer": "ipython3",
   "version": "3.9.5"
  },
  "toc": {
   "base_numbering": 1,
   "nav_menu": {},
   "number_sections": true,
   "sideBar": true,
   "skip_h1_title": true,
   "title_cell": "Table of Contents",
   "title_sidebar": "Contents",
   "toc_cell": false,
   "toc_position": {},
   "toc_section_display": true,
   "toc_window_display": false
  }
 },
 "nbformat": 4,
 "nbformat_minor": 5
}
