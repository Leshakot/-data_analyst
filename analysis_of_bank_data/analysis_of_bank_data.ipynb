{
 "cells": [
  {
   "cell_type": "markdown",
   "id": "9b741faa",
   "metadata": {
    "deletable": false,
    "editable": false,
    "id": "c81daeeb"
   },
   "source": [
    "# Исследование надежности заемщиков\n"
   ]
  },
  {
   "cell_type": "markdown",
   "id": "263e51e3",
   "metadata": {
    "deletable": false,
    "editable": false,
    "id": "827c20bf"
   },
   "source": [
    "Во второй части проекта вы выполните шаги 3 и 4. Их вручную проверит ревьюер.\n",
    "Чтобы вам не пришлось писать код заново для шагов 1 и 2, мы добавили авторские решения в ячейки с кодом. \n",
    "\n"
   ]
  },
  {
   "cell_type": "markdown",
   "id": "9b61425f",
   "metadata": {
    "deletable": false,
    "editable": false,
    "id": "744d7639"
   },
   "source": [
    "## Откройте таблицу и изучите общую информацию о данных"
   ]
  },
  {
   "cell_type": "markdown",
   "id": "45d6fb0d",
   "metadata": {
    "deletable": false,
    "editable": false,
    "id": "e7a14c31"
   },
   "source": [
    "**Задание 1. Импортируйте библиотеку pandas. Считайте данные из csv-файла в датафрейм и сохраните в переменную `data`. Путь к файлу:**\n",
    "\n",
    "`/datasets/data.csv`"
   ]
  },
  {
   "cell_type": "code",
   "execution_count": 1,
   "id": "20b434cc",
   "metadata": {
    "deletable": false,
    "id": "7bcf75c9"
   },
   "outputs": [],
   "source": [
    "import pandas as pd\n",
    "\n",
    "try:\n",
    "    data = pd.read_csv('/datasets/data.csv')\n",
    "except:\n",
    "    data = pd.read_csv('https://code.s3.yandex.net/datasets/data.csv')"
   ]
  },
  {
   "cell_type": "code",
   "execution_count": 2,
   "id": "c77a69cb",
   "metadata": {},
   "outputs": [],
   "source": [
    "import numpy as np"
   ]
  },
  {
   "cell_type": "markdown",
   "id": "77b03897",
   "metadata": {
    "deletable": false,
    "editable": false,
    "id": "b8038fe3"
   },
   "source": [
    "**Задание 2. Выведите первые 20 строчек датафрейма `data` на экран.**"
   ]
  },
  {
   "cell_type": "code",
   "execution_count": 3,
   "id": "ea21d88f",
   "metadata": {
    "deletable": false,
    "id": "2a7cab99",
    "outputId": "1a8f3ef2-d323-4ec2-ddf7-89670b5944c4",
    "scrolled": true
   },
   "outputs": [
    {
     "data": {
      "text/html": [
       "<div>\n",
       "<style scoped>\n",
       "    .dataframe tbody tr th:only-of-type {\n",
       "        vertical-align: middle;\n",
       "    }\n",
       "\n",
       "    .dataframe tbody tr th {\n",
       "        vertical-align: top;\n",
       "    }\n",
       "\n",
       "    .dataframe thead th {\n",
       "        text-align: right;\n",
       "    }\n",
       "</style>\n",
       "<table border=\"1\" class=\"dataframe\">\n",
       "  <thead>\n",
       "    <tr style=\"text-align: right;\">\n",
       "      <th></th>\n",
       "      <th>children</th>\n",
       "      <th>days_employed</th>\n",
       "      <th>dob_years</th>\n",
       "      <th>education</th>\n",
       "      <th>education_id</th>\n",
       "      <th>family_status</th>\n",
       "      <th>family_status_id</th>\n",
       "      <th>gender</th>\n",
       "      <th>income_type</th>\n",
       "      <th>debt</th>\n",
       "      <th>total_income</th>\n",
       "      <th>purpose</th>\n",
       "    </tr>\n",
       "  </thead>\n",
       "  <tbody>\n",
       "    <tr>\n",
       "      <th>0</th>\n",
       "      <td>1</td>\n",
       "      <td>-8437.673028</td>\n",
       "      <td>42</td>\n",
       "      <td>высшее</td>\n",
       "      <td>0</td>\n",
       "      <td>женат / замужем</td>\n",
       "      <td>0</td>\n",
       "      <td>F</td>\n",
       "      <td>сотрудник</td>\n",
       "      <td>0</td>\n",
       "      <td>253875.639453</td>\n",
       "      <td>покупка жилья</td>\n",
       "    </tr>\n",
       "    <tr>\n",
       "      <th>1</th>\n",
       "      <td>1</td>\n",
       "      <td>-4024.803754</td>\n",
       "      <td>36</td>\n",
       "      <td>среднее</td>\n",
       "      <td>1</td>\n",
       "      <td>женат / замужем</td>\n",
       "      <td>0</td>\n",
       "      <td>F</td>\n",
       "      <td>сотрудник</td>\n",
       "      <td>0</td>\n",
       "      <td>112080.014102</td>\n",
       "      <td>приобретение автомобиля</td>\n",
       "    </tr>\n",
       "    <tr>\n",
       "      <th>2</th>\n",
       "      <td>0</td>\n",
       "      <td>-5623.422610</td>\n",
       "      <td>33</td>\n",
       "      <td>Среднее</td>\n",
       "      <td>1</td>\n",
       "      <td>женат / замужем</td>\n",
       "      <td>0</td>\n",
       "      <td>M</td>\n",
       "      <td>сотрудник</td>\n",
       "      <td>0</td>\n",
       "      <td>145885.952297</td>\n",
       "      <td>покупка жилья</td>\n",
       "    </tr>\n",
       "    <tr>\n",
       "      <th>3</th>\n",
       "      <td>3</td>\n",
       "      <td>-4124.747207</td>\n",
       "      <td>32</td>\n",
       "      <td>среднее</td>\n",
       "      <td>1</td>\n",
       "      <td>женат / замужем</td>\n",
       "      <td>0</td>\n",
       "      <td>M</td>\n",
       "      <td>сотрудник</td>\n",
       "      <td>0</td>\n",
       "      <td>267628.550329</td>\n",
       "      <td>дополнительное образование</td>\n",
       "    </tr>\n",
       "    <tr>\n",
       "      <th>4</th>\n",
       "      <td>0</td>\n",
       "      <td>340266.072047</td>\n",
       "      <td>53</td>\n",
       "      <td>среднее</td>\n",
       "      <td>1</td>\n",
       "      <td>гражданский брак</td>\n",
       "      <td>1</td>\n",
       "      <td>F</td>\n",
       "      <td>пенсионер</td>\n",
       "      <td>0</td>\n",
       "      <td>158616.077870</td>\n",
       "      <td>сыграть свадьбу</td>\n",
       "    </tr>\n",
       "    <tr>\n",
       "      <th>5</th>\n",
       "      <td>0</td>\n",
       "      <td>-926.185831</td>\n",
       "      <td>27</td>\n",
       "      <td>высшее</td>\n",
       "      <td>0</td>\n",
       "      <td>гражданский брак</td>\n",
       "      <td>1</td>\n",
       "      <td>M</td>\n",
       "      <td>компаньон</td>\n",
       "      <td>0</td>\n",
       "      <td>255763.565419</td>\n",
       "      <td>покупка жилья</td>\n",
       "    </tr>\n",
       "    <tr>\n",
       "      <th>6</th>\n",
       "      <td>0</td>\n",
       "      <td>-2879.202052</td>\n",
       "      <td>43</td>\n",
       "      <td>высшее</td>\n",
       "      <td>0</td>\n",
       "      <td>женат / замужем</td>\n",
       "      <td>0</td>\n",
       "      <td>F</td>\n",
       "      <td>компаньон</td>\n",
       "      <td>0</td>\n",
       "      <td>240525.971920</td>\n",
       "      <td>операции с жильем</td>\n",
       "    </tr>\n",
       "    <tr>\n",
       "      <th>7</th>\n",
       "      <td>0</td>\n",
       "      <td>-152.779569</td>\n",
       "      <td>50</td>\n",
       "      <td>СРЕДНЕЕ</td>\n",
       "      <td>1</td>\n",
       "      <td>женат / замужем</td>\n",
       "      <td>0</td>\n",
       "      <td>M</td>\n",
       "      <td>сотрудник</td>\n",
       "      <td>0</td>\n",
       "      <td>135823.934197</td>\n",
       "      <td>образование</td>\n",
       "    </tr>\n",
       "    <tr>\n",
       "      <th>8</th>\n",
       "      <td>2</td>\n",
       "      <td>-6929.865299</td>\n",
       "      <td>35</td>\n",
       "      <td>ВЫСШЕЕ</td>\n",
       "      <td>0</td>\n",
       "      <td>гражданский брак</td>\n",
       "      <td>1</td>\n",
       "      <td>F</td>\n",
       "      <td>сотрудник</td>\n",
       "      <td>0</td>\n",
       "      <td>95856.832424</td>\n",
       "      <td>на проведение свадьбы</td>\n",
       "    </tr>\n",
       "    <tr>\n",
       "      <th>9</th>\n",
       "      <td>0</td>\n",
       "      <td>-2188.756445</td>\n",
       "      <td>41</td>\n",
       "      <td>среднее</td>\n",
       "      <td>1</td>\n",
       "      <td>женат / замужем</td>\n",
       "      <td>0</td>\n",
       "      <td>M</td>\n",
       "      <td>сотрудник</td>\n",
       "      <td>0</td>\n",
       "      <td>144425.938277</td>\n",
       "      <td>покупка жилья для семьи</td>\n",
       "    </tr>\n",
       "    <tr>\n",
       "      <th>10</th>\n",
       "      <td>2</td>\n",
       "      <td>-4171.483647</td>\n",
       "      <td>36</td>\n",
       "      <td>высшее</td>\n",
       "      <td>0</td>\n",
       "      <td>женат / замужем</td>\n",
       "      <td>0</td>\n",
       "      <td>M</td>\n",
       "      <td>компаньон</td>\n",
       "      <td>0</td>\n",
       "      <td>113943.491460</td>\n",
       "      <td>покупка недвижимости</td>\n",
       "    </tr>\n",
       "    <tr>\n",
       "      <th>11</th>\n",
       "      <td>0</td>\n",
       "      <td>-792.701887</td>\n",
       "      <td>40</td>\n",
       "      <td>среднее</td>\n",
       "      <td>1</td>\n",
       "      <td>женат / замужем</td>\n",
       "      <td>0</td>\n",
       "      <td>F</td>\n",
       "      <td>сотрудник</td>\n",
       "      <td>0</td>\n",
       "      <td>77069.234271</td>\n",
       "      <td>покупка коммерческой недвижимости</td>\n",
       "    </tr>\n",
       "    <tr>\n",
       "      <th>12</th>\n",
       "      <td>0</td>\n",
       "      <td>NaN</td>\n",
       "      <td>65</td>\n",
       "      <td>среднее</td>\n",
       "      <td>1</td>\n",
       "      <td>гражданский брак</td>\n",
       "      <td>1</td>\n",
       "      <td>M</td>\n",
       "      <td>пенсионер</td>\n",
       "      <td>0</td>\n",
       "      <td>NaN</td>\n",
       "      <td>сыграть свадьбу</td>\n",
       "    </tr>\n",
       "    <tr>\n",
       "      <th>13</th>\n",
       "      <td>0</td>\n",
       "      <td>-1846.641941</td>\n",
       "      <td>54</td>\n",
       "      <td>неоконченное высшее</td>\n",
       "      <td>2</td>\n",
       "      <td>женат / замужем</td>\n",
       "      <td>0</td>\n",
       "      <td>F</td>\n",
       "      <td>сотрудник</td>\n",
       "      <td>0</td>\n",
       "      <td>130458.228857</td>\n",
       "      <td>приобретение автомобиля</td>\n",
       "    </tr>\n",
       "    <tr>\n",
       "      <th>14</th>\n",
       "      <td>0</td>\n",
       "      <td>-1844.956182</td>\n",
       "      <td>56</td>\n",
       "      <td>высшее</td>\n",
       "      <td>0</td>\n",
       "      <td>гражданский брак</td>\n",
       "      <td>1</td>\n",
       "      <td>F</td>\n",
       "      <td>компаньон</td>\n",
       "      <td>1</td>\n",
       "      <td>165127.911772</td>\n",
       "      <td>покупка жилой недвижимости</td>\n",
       "    </tr>\n",
       "    <tr>\n",
       "      <th>15</th>\n",
       "      <td>1</td>\n",
       "      <td>-972.364419</td>\n",
       "      <td>26</td>\n",
       "      <td>среднее</td>\n",
       "      <td>1</td>\n",
       "      <td>женат / замужем</td>\n",
       "      <td>0</td>\n",
       "      <td>F</td>\n",
       "      <td>сотрудник</td>\n",
       "      <td>0</td>\n",
       "      <td>116820.904450</td>\n",
       "      <td>строительство собственной недвижимости</td>\n",
       "    </tr>\n",
       "    <tr>\n",
       "      <th>16</th>\n",
       "      <td>0</td>\n",
       "      <td>-1719.934226</td>\n",
       "      <td>35</td>\n",
       "      <td>среднее</td>\n",
       "      <td>1</td>\n",
       "      <td>женат / замужем</td>\n",
       "      <td>0</td>\n",
       "      <td>F</td>\n",
       "      <td>сотрудник</td>\n",
       "      <td>0</td>\n",
       "      <td>289202.704229</td>\n",
       "      <td>недвижимость</td>\n",
       "    </tr>\n",
       "    <tr>\n",
       "      <th>17</th>\n",
       "      <td>0</td>\n",
       "      <td>-2369.999720</td>\n",
       "      <td>33</td>\n",
       "      <td>высшее</td>\n",
       "      <td>0</td>\n",
       "      <td>гражданский брак</td>\n",
       "      <td>1</td>\n",
       "      <td>M</td>\n",
       "      <td>сотрудник</td>\n",
       "      <td>0</td>\n",
       "      <td>90410.586745</td>\n",
       "      <td>строительство недвижимости</td>\n",
       "    </tr>\n",
       "    <tr>\n",
       "      <th>18</th>\n",
       "      <td>0</td>\n",
       "      <td>400281.136913</td>\n",
       "      <td>53</td>\n",
       "      <td>среднее</td>\n",
       "      <td>1</td>\n",
       "      <td>вдовец / вдова</td>\n",
       "      <td>2</td>\n",
       "      <td>F</td>\n",
       "      <td>пенсионер</td>\n",
       "      <td>0</td>\n",
       "      <td>56823.777243</td>\n",
       "      <td>на покупку подержанного автомобиля</td>\n",
       "    </tr>\n",
       "    <tr>\n",
       "      <th>19</th>\n",
       "      <td>0</td>\n",
       "      <td>-10038.818549</td>\n",
       "      <td>48</td>\n",
       "      <td>СРЕДНЕЕ</td>\n",
       "      <td>1</td>\n",
       "      <td>в разводе</td>\n",
       "      <td>3</td>\n",
       "      <td>F</td>\n",
       "      <td>сотрудник</td>\n",
       "      <td>0</td>\n",
       "      <td>242831.107982</td>\n",
       "      <td>на покупку своего автомобиля</td>\n",
       "    </tr>\n",
       "  </tbody>\n",
       "</table>\n",
       "</div>"
      ],
      "text/plain": [
       "    children  days_employed  dob_years            education  education_id  \\\n",
       "0          1   -8437.673028         42               высшее             0   \n",
       "1          1   -4024.803754         36              среднее             1   \n",
       "2          0   -5623.422610         33              Среднее             1   \n",
       "3          3   -4124.747207         32              среднее             1   \n",
       "4          0  340266.072047         53              среднее             1   \n",
       "5          0    -926.185831         27               высшее             0   \n",
       "6          0   -2879.202052         43               высшее             0   \n",
       "7          0    -152.779569         50              СРЕДНЕЕ             1   \n",
       "8          2   -6929.865299         35               ВЫСШЕЕ             0   \n",
       "9          0   -2188.756445         41              среднее             1   \n",
       "10         2   -4171.483647         36               высшее             0   \n",
       "11         0    -792.701887         40              среднее             1   \n",
       "12         0            NaN         65              среднее             1   \n",
       "13         0   -1846.641941         54  неоконченное высшее             2   \n",
       "14         0   -1844.956182         56               высшее             0   \n",
       "15         1    -972.364419         26              среднее             1   \n",
       "16         0   -1719.934226         35              среднее             1   \n",
       "17         0   -2369.999720         33               высшее             0   \n",
       "18         0  400281.136913         53              среднее             1   \n",
       "19         0  -10038.818549         48              СРЕДНЕЕ             1   \n",
       "\n",
       "       family_status  family_status_id gender income_type  debt  \\\n",
       "0    женат / замужем                 0      F   сотрудник     0   \n",
       "1    женат / замужем                 0      F   сотрудник     0   \n",
       "2    женат / замужем                 0      M   сотрудник     0   \n",
       "3    женат / замужем                 0      M   сотрудник     0   \n",
       "4   гражданский брак                 1      F   пенсионер     0   \n",
       "5   гражданский брак                 1      M   компаньон     0   \n",
       "6    женат / замужем                 0      F   компаньон     0   \n",
       "7    женат / замужем                 0      M   сотрудник     0   \n",
       "8   гражданский брак                 1      F   сотрудник     0   \n",
       "9    женат / замужем                 0      M   сотрудник     0   \n",
       "10   женат / замужем                 0      M   компаньон     0   \n",
       "11   женат / замужем                 0      F   сотрудник     0   \n",
       "12  гражданский брак                 1      M   пенсионер     0   \n",
       "13   женат / замужем                 0      F   сотрудник     0   \n",
       "14  гражданский брак                 1      F   компаньон     1   \n",
       "15   женат / замужем                 0      F   сотрудник     0   \n",
       "16   женат / замужем                 0      F   сотрудник     0   \n",
       "17  гражданский брак                 1      M   сотрудник     0   \n",
       "18    вдовец / вдова                 2      F   пенсионер     0   \n",
       "19         в разводе                 3      F   сотрудник     0   \n",
       "\n",
       "     total_income                                 purpose  \n",
       "0   253875.639453                           покупка жилья  \n",
       "1   112080.014102                 приобретение автомобиля  \n",
       "2   145885.952297                           покупка жилья  \n",
       "3   267628.550329              дополнительное образование  \n",
       "4   158616.077870                         сыграть свадьбу  \n",
       "5   255763.565419                           покупка жилья  \n",
       "6   240525.971920                       операции с жильем  \n",
       "7   135823.934197                             образование  \n",
       "8    95856.832424                   на проведение свадьбы  \n",
       "9   144425.938277                 покупка жилья для семьи  \n",
       "10  113943.491460                    покупка недвижимости  \n",
       "11   77069.234271       покупка коммерческой недвижимости  \n",
       "12            NaN                         сыграть свадьбу  \n",
       "13  130458.228857                 приобретение автомобиля  \n",
       "14  165127.911772              покупка жилой недвижимости  \n",
       "15  116820.904450  строительство собственной недвижимости  \n",
       "16  289202.704229                            недвижимость  \n",
       "17   90410.586745              строительство недвижимости  \n",
       "18   56823.777243      на покупку подержанного автомобиля  \n",
       "19  242831.107982            на покупку своего автомобиля  "
      ]
     },
     "execution_count": 3,
     "metadata": {},
     "output_type": "execute_result"
    }
   ],
   "source": [
    "data.head(20)"
   ]
  },
  {
   "cell_type": "markdown",
   "id": "1e9ff5e9",
   "metadata": {
    "deletable": false,
    "editable": false,
    "id": "1c12e233"
   },
   "source": [
    "**Задание 3. Выведите основную информацию о датафрейме с помощью метода `info()`.**"
   ]
  },
  {
   "cell_type": "code",
   "execution_count": 4,
   "id": "62bb2876",
   "metadata": {
    "deletable": false,
    "id": "2b757bca",
    "outputId": "15376089-8dad-46c9-b520-c05248d43158"
   },
   "outputs": [
    {
     "name": "stdout",
     "output_type": "stream",
     "text": [
      "<class 'pandas.core.frame.DataFrame'>\n",
      "RangeIndex: 21525 entries, 0 to 21524\n",
      "Data columns (total 12 columns):\n",
      " #   Column            Non-Null Count  Dtype  \n",
      "---  ------            --------------  -----  \n",
      " 0   children          21525 non-null  int64  \n",
      " 1   days_employed     19351 non-null  float64\n",
      " 2   dob_years         21525 non-null  int64  \n",
      " 3   education         21525 non-null  object \n",
      " 4   education_id      21525 non-null  int64  \n",
      " 5   family_status     21525 non-null  object \n",
      " 6   family_status_id  21525 non-null  int64  \n",
      " 7   gender            21525 non-null  object \n",
      " 8   income_type       21525 non-null  object \n",
      " 9   debt              21525 non-null  int64  \n",
      " 10  total_income      19351 non-null  float64\n",
      " 11  purpose           21525 non-null  object \n",
      "dtypes: float64(2), int64(5), object(5)\n",
      "memory usage: 2.0+ MB\n"
     ]
    }
   ],
   "source": [
    "data.info()"
   ]
  },
  {
   "cell_type": "markdown",
   "id": "354767ce",
   "metadata": {
    "deletable": false,
    "editable": false,
    "id": "333ec665"
   },
   "source": [
    "## Предобработка данных"
   ]
  },
  {
   "cell_type": "markdown",
   "id": "6b3c9cba",
   "metadata": {
    "deletable": false,
    "editable": false,
    "id": "02d92d53"
   },
   "source": [
    "### Удаление пропусков"
   ]
  },
  {
   "cell_type": "markdown",
   "id": "c84af543",
   "metadata": {
    "deletable": false,
    "editable": false,
    "id": "cd84967c"
   },
   "source": [
    "**Задание 4. Выведите количество пропущенных значений для каждого столбца. Используйте комбинацию двух методов.**"
   ]
  },
  {
   "cell_type": "code",
   "execution_count": 5,
   "id": "795fd649",
   "metadata": {
    "deletable": false,
    "id": "7f9b2309",
    "outputId": "81f4d817-781c-465c-ed15-91ce4446810d",
    "scrolled": true
   },
   "outputs": [
    {
     "data": {
      "text/plain": [
       "children               0\n",
       "days_employed       2174\n",
       "dob_years              0\n",
       "education              0\n",
       "education_id           0\n",
       "family_status          0\n",
       "family_status_id       0\n",
       "gender                 0\n",
       "income_type            0\n",
       "debt                   0\n",
       "total_income        2174\n",
       "purpose                0\n",
       "dtype: int64"
      ]
     },
     "execution_count": 5,
     "metadata": {},
     "output_type": "execute_result"
    }
   ],
   "source": [
    "data.isna().sum()"
   ]
  },
  {
   "cell_type": "code",
   "execution_count": 6,
   "id": "cf37ce0c",
   "metadata": {},
   "outputs": [
    {
     "data": {
      "text/plain": [
       "children            0.000000\n",
       "days_employed       0.100999\n",
       "dob_years           0.000000\n",
       "education           0.000000\n",
       "education_id        0.000000\n",
       "family_status       0.000000\n",
       "family_status_id    0.000000\n",
       "gender              0.000000\n",
       "income_type         0.000000\n",
       "debt                0.000000\n",
       "total_income        0.100999\n",
       "purpose             0.000000\n",
       "dtype: float64"
      ]
     },
     "execution_count": 6,
     "metadata": {},
     "output_type": "execute_result"
    }
   ],
   "source": [
    "data.isna().mean()"
   ]
  },
  {
   "cell_type": "markdown",
   "id": "88afbd24",
   "metadata": {
    "deletable": false,
    "editable": false,
    "id": "db86e27b"
   },
   "source": [
    "**Задание 5. В двух столбцах есть пропущенные значения. Один из них — `days_employed`. Пропуски в этом столбце вы обработаете на следующем этапе. Другой столбец с пропущенными значениями — `total_income` — хранит данные о доходах. На сумму дохода сильнее всего влияет тип занятости, поэтому заполнить пропуски в этом столбце нужно медианным значением по каждому типу из столбца `income_type`. Например, у человека с типом занятости `сотрудник` пропуск в столбце `total_income` должен быть заполнен медианным доходом среди всех записей с тем же типом.**"
   ]
  },
  {
   "cell_type": "code",
   "execution_count": 7,
   "id": "4beab1a3",
   "metadata": {
    "deletable": false,
    "id": "42006a93"
   },
   "outputs": [],
   "source": [
    "for t in data['income_type'].unique():\n",
    "    data.loc[(data['income_type'] == t) & (data['total_income'].isna()), 'total_income'] = \\\n",
    "    data.loc[(data['income_type'] == t), 'total_income'].median()"
   ]
  },
  {
   "cell_type": "markdown",
   "id": "853f9c4a",
   "metadata": {
    "deletable": false,
    "editable": false,
    "id": "89da5ece"
   },
   "source": [
    "### Обработка аномальных значений"
   ]
  },
  {
   "cell_type": "markdown",
   "id": "883435d8",
   "metadata": {
    "deletable": false,
    "editable": false,
    "id": "57964554"
   },
   "source": [
    "**Задание 6. В данных могут встречаться артефакты (аномалии) — значения, которые не отражают действительность и появились по какой-то ошибке. таким артефактом будет отрицательное количество дней трудового стажа в столбце `days_employed`. Для реальных данных это нормально. Обработайте значения в этом столбце: замените все отрицательные значения положительными с помощью метода `abs()`.**"
   ]
  },
  {
   "cell_type": "code",
   "execution_count": 8,
   "id": "cbb0bf2d",
   "metadata": {
    "deletable": false,
    "id": "f6f055bf"
   },
   "outputs": [],
   "source": [
    "data['days_employed'] = data['days_employed'].abs()"
   ]
  },
  {
   "cell_type": "markdown",
   "id": "b9f017cb",
   "metadata": {
    "deletable": false,
    "editable": false,
    "id": "6107dd2f"
   },
   "source": [
    "**Задание 7. Для каждого типа занятости выведите медианное значение трудового стажа `days_employed` в днях.**"
   ]
  },
  {
   "cell_type": "code",
   "execution_count": 9,
   "id": "402ff1ed",
   "metadata": {
    "deletable": false,
    "id": "85a5faf6",
    "outputId": "801ef80e-522b-4668-f34e-565af7432bcf"
   },
   "outputs": [
    {
     "data": {
      "text/plain": [
       "income_type\n",
       "безработный        366413.652744\n",
       "в декрете            3296.759962\n",
       "госслужащий          2689.368353\n",
       "компаньон            1547.382223\n",
       "пенсионер          365213.306266\n",
       "предприниматель       520.848083\n",
       "сотрудник            1574.202821\n",
       "студент               578.751554\n",
       "Name: days_employed, dtype: float64"
      ]
     },
     "execution_count": 9,
     "metadata": {},
     "output_type": "execute_result"
    }
   ],
   "source": [
    "data.groupby('income_type')['days_employed'].agg('median')"
   ]
  },
  {
   "cell_type": "markdown",
   "id": "4a6f59ae",
   "metadata": {
    "deletable": false,
    "editable": false,
    "id": "38d1a030"
   },
   "source": [
    "У двух типов (безработные и пенсионеры) получатся аномально большие значения. Исправить такие значения сложно, поэтому оставьте их как есть. Тем более этот столбец не понадобится вам для исследования."
   ]
  },
  {
   "cell_type": "markdown",
   "id": "e11eef6a",
   "metadata": {
    "deletable": false,
    "editable": false,
    "id": "d8a9f147"
   },
   "source": [
    "**Задание 8. Выведите перечень уникальных значений столбца `children`.**"
   ]
  },
  {
   "cell_type": "code",
   "execution_count": 10,
   "id": "08ed2c77",
   "metadata": {
    "deletable": false,
    "id": "ef5056eb",
    "outputId": "6975b15c-7f95-4697-d16d-a0c79b657b03"
   },
   "outputs": [
    {
     "data": {
      "text/plain": [
       "array([ 1,  0,  3,  2, -1,  4, 20,  5])"
      ]
     },
     "execution_count": 10,
     "metadata": {},
     "output_type": "execute_result"
    }
   ],
   "source": [
    "data['children'].unique()"
   ]
  },
  {
   "cell_type": "markdown",
   "id": "6f85b238",
   "metadata": {
    "deletable": false,
    "editable": false,
    "id": "40b9ebf2"
   },
   "source": [
    "**Задание 9. В столбце `children` есть два аномальных значения. Удалите строки, в которых встречаются такие аномальные значения из датафрейма `data`.**"
   ]
  },
  {
   "cell_type": "code",
   "execution_count": 11,
   "id": "84d58881",
   "metadata": {
    "deletable": false,
    "id": "3ff9801d"
   },
   "outputs": [],
   "source": [
    "data = data[(data['children'] != -1) & (data['children'] != 20)]"
   ]
  },
  {
   "cell_type": "markdown",
   "id": "20bca07f",
   "metadata": {
    "deletable": false,
    "editable": false,
    "id": "bbc4d0ce"
   },
   "source": [
    "**Задание 10. Ещё раз выведите перечень уникальных значений столбца `children`, чтобы убедиться, что артефакты удалены.**"
   ]
  },
  {
   "cell_type": "code",
   "execution_count": 12,
   "id": "ea0be0a6",
   "metadata": {
    "deletable": false,
    "id": "ad4fa8b7",
    "outputId": "b2097101-d49d-44d9-901b-32a65c9463d1"
   },
   "outputs": [
    {
     "data": {
      "text/plain": [
       "array([1, 0, 3, 2, 4, 5])"
      ]
     },
     "execution_count": 12,
     "metadata": {},
     "output_type": "execute_result"
    }
   ],
   "source": [
    "data['children'].unique()"
   ]
  },
  {
   "cell_type": "markdown",
   "id": "d3a0748e",
   "metadata": {
    "deletable": false,
    "editable": false,
    "id": "75440b63"
   },
   "source": [
    "### Удаление пропусков (продолжение)"
   ]
  },
  {
   "cell_type": "markdown",
   "id": "8bef71e1",
   "metadata": {
    "deletable": false,
    "editable": false,
    "id": "f4ea573f"
   },
   "source": [
    "**Задание 11. Заполните пропуски в столбце `days_employed` медианными значениями по каждого типа занятости `income_type`.**"
   ]
  },
  {
   "cell_type": "code",
   "execution_count": 13,
   "id": "824348fc",
   "metadata": {
    "deletable": false,
    "id": "af6b1a7e"
   },
   "outputs": [],
   "source": [
    "for t in data['income_type'].unique():\n",
    "    data.loc[(data['income_type'] == t) & (data['days_employed'].isna()), 'days_employed'] = \\\n",
    "    data.loc[(data['income_type'] == t), 'days_employed'].median()"
   ]
  },
  {
   "cell_type": "markdown",
   "id": "5fbc290c",
   "metadata": {
    "deletable": false,
    "editable": false,
    "id": "2753f40d"
   },
   "source": [
    "**Задание 12. Убедитесь, что все пропуски заполнены. Проверьте себя и ещё раз выведите количество пропущенных значений для каждого столбца с помощью двух методов.**"
   ]
  },
  {
   "cell_type": "code",
   "execution_count": 14,
   "id": "57dcbbfc",
   "metadata": {
    "deletable": false,
    "id": "55f78bc2",
    "outputId": "8da1e4e1-358e-4e87-98c9-f261bce0a7b2"
   },
   "outputs": [
    {
     "data": {
      "text/plain": [
       "children            0\n",
       "days_employed       0\n",
       "dob_years           0\n",
       "education           0\n",
       "education_id        0\n",
       "family_status       0\n",
       "family_status_id    0\n",
       "gender              0\n",
       "income_type         0\n",
       "debt                0\n",
       "total_income        0\n",
       "purpose             0\n",
       "dtype: int64"
      ]
     },
     "execution_count": 14,
     "metadata": {},
     "output_type": "execute_result"
    }
   ],
   "source": [
    "data.isna().sum()"
   ]
  },
  {
   "cell_type": "markdown",
   "id": "dd8d07a5",
   "metadata": {
    "deletable": false,
    "editable": false,
    "id": "ddc81e43"
   },
   "source": [
    "### Изменение типов данных"
   ]
  },
  {
   "cell_type": "markdown",
   "id": "91eff6c5",
   "metadata": {
    "deletable": false,
    "editable": false,
    "id": "42d19d24"
   },
   "source": [
    "**Задание 13. Замените вещественный тип данных в столбце `total_income` на целочисленный с помощью метода `astype()`.**"
   ]
  },
  {
   "cell_type": "code",
   "execution_count": 15,
   "id": "643266f8",
   "metadata": {
    "deletable": false,
    "id": "920b65ad"
   },
   "outputs": [],
   "source": [
    "data['total_income'] = data['total_income'].astype(int)"
   ]
  },
  {
   "cell_type": "markdown",
   "id": "34335212",
   "metadata": {
    "deletable": false,
    "editable": false,
    "id": "80c420ba"
   },
   "source": [
    "### Обработка дубликатов"
   ]
  },
  {
   "cell_type": "markdown",
   "id": "ea6835ad",
   "metadata": {
    "deletable": false,
    "editable": false
   },
   "source": [
    "**Задание 14. Обработайте неявные дубликаты в столбце `education`. В этом столбце есть одни и те же значения, но записанные по-разному: с использованием заглавных и строчных букв. Приведите их к нижнему регистру. Проверьте остальные столбцы.**"
   ]
  },
  {
   "cell_type": "code",
   "execution_count": 16,
   "id": "2cbedeb8",
   "metadata": {
    "deletable": false
   },
   "outputs": [],
   "source": [
    "data['education'] = data['education'].str.lower()"
   ]
  },
  {
   "cell_type": "markdown",
   "id": "5faa397d",
   "metadata": {
    "deletable": false,
    "editable": false,
    "id": "dc587695"
   },
   "source": [
    "**Задание 15. Выведите на экран количество строк-дубликатов в данных. Если такие строки присутствуют, удалите их.**"
   ]
  },
  {
   "cell_type": "code",
   "execution_count": 17,
   "id": "1bd331df",
   "metadata": {
    "deletable": false,
    "id": "3ee445e4",
    "outputId": "9684deba-1934-42d1-99e1-cda61740f822"
   },
   "outputs": [
    {
     "data": {
      "text/plain": [
       "71"
      ]
     },
     "execution_count": 17,
     "metadata": {},
     "output_type": "execute_result"
    }
   ],
   "source": [
    "data.duplicated().sum()"
   ]
  },
  {
   "cell_type": "code",
   "execution_count": 18,
   "id": "5c909fd7",
   "metadata": {
    "deletable": false,
    "id": "8575fe05"
   },
   "outputs": [],
   "source": [
    "data = data.drop_duplicates()"
   ]
  },
  {
   "cell_type": "markdown",
   "id": "4eac4620",
   "metadata": {
    "deletable": false,
    "editable": false,
    "id": "9904cf55"
   },
   "source": [
    "### Категоризация данных"
   ]
  },
  {
   "cell_type": "markdown",
   "id": "4519f288",
   "metadata": {
    "deletable": false,
    "editable": false,
    "id": "72fcc8a2"
   },
   "source": [
    "**Задание 16. На основании диапазонов, указанных ниже, создайте в датафрейме `data` столбец `total_income_category` с категориями:**\n",
    "\n",
    "- 0–30000 — `'E'`;\n",
    "- 30001–50000 — `'D'`;\n",
    "- 50001–200000 — `'C'`;\n",
    "- 200001–1000000 — `'B'`;\n",
    "- 1000001 и выше — `'A'`.\n",
    "\n",
    "\n",
    "**Например, кредитополучателю с доходом 25000 нужно назначить категорию `'E'`, а клиенту, получающему 235000, — `'B'`. Используйте собственную функцию с именем `categorize_income()` и метод `apply()`.**"
   ]
  },
  {
   "cell_type": "code",
   "execution_count": 19,
   "id": "044086b3",
   "metadata": {
    "deletable": false,
    "id": "e1771346"
   },
   "outputs": [],
   "source": [
    "def categorize_income(income):\n",
    "    try:\n",
    "        if 0 <= income <= 30000:\n",
    "            return 'E'\n",
    "        elif 30001 <= income <= 50000:\n",
    "            return 'D'\n",
    "        elif 50001 <= income <= 200000:\n",
    "            return 'C'\n",
    "        elif 200001 <= income <= 1000000:\n",
    "            return 'B'\n",
    "        elif income >= 1000001:\n",
    "            return 'A'\n",
    "    except:\n",
    "        pass"
   ]
  },
  {
   "cell_type": "code",
   "execution_count": 20,
   "id": "f166716a",
   "metadata": {
    "deletable": false,
    "id": "d5f3586d"
   },
   "outputs": [],
   "source": [
    "data['total_income_category'] = data['total_income'].apply(categorize_income)"
   ]
  },
  {
   "cell_type": "markdown",
   "id": "8faebd3c",
   "metadata": {
    "deletable": false,
    "editable": false,
    "id": "dde49b5c"
   },
   "source": [
    "**Задание 17. Выведите на экран перечень уникальных целей взятия кредита из столбца `purpose`.**"
   ]
  },
  {
   "cell_type": "code",
   "execution_count": 21,
   "id": "8ee6fcc7",
   "metadata": {
    "deletable": false,
    "id": "f67ce9b3",
    "outputId": "673c12d9-7d7e-4ae0-9812-c622c89dd244"
   },
   "outputs": [
    {
     "data": {
      "text/plain": [
       "array(['покупка жилья', 'приобретение автомобиля',\n",
       "       'дополнительное образование', 'сыграть свадьбу',\n",
       "       'операции с жильем', 'образование', 'на проведение свадьбы',\n",
       "       'покупка жилья для семьи', 'покупка недвижимости',\n",
       "       'покупка коммерческой недвижимости', 'покупка жилой недвижимости',\n",
       "       'строительство собственной недвижимости', 'недвижимость',\n",
       "       'строительство недвижимости', 'на покупку подержанного автомобиля',\n",
       "       'на покупку своего автомобиля',\n",
       "       'операции с коммерческой недвижимостью',\n",
       "       'строительство жилой недвижимости', 'жилье',\n",
       "       'операции со своей недвижимостью', 'автомобили',\n",
       "       'заняться образованием', 'сделка с подержанным автомобилем',\n",
       "       'получение образования', 'автомобиль', 'свадьба',\n",
       "       'получение дополнительного образования', 'покупка своего жилья',\n",
       "       'операции с недвижимостью', 'получение высшего образования',\n",
       "       'свой автомобиль', 'сделка с автомобилем',\n",
       "       'профильное образование', 'высшее образование',\n",
       "       'покупка жилья для сдачи', 'на покупку автомобиля', 'ремонт жилью',\n",
       "       'заняться высшим образованием'], dtype=object)"
      ]
     },
     "execution_count": 21,
     "metadata": {},
     "output_type": "execute_result"
    }
   ],
   "source": [
    "data['purpose'].unique()"
   ]
  },
  {
   "cell_type": "markdown",
   "id": "246526df",
   "metadata": {
    "deletable": false,
    "editable": false,
    "id": "85d0aef0"
   },
   "source": [
    "**Задание 18. Создайте функцию, которая на основании данных из столбца `purpose` сформирует новый столбец `purpose_category`, в который войдут следующие категории:**\n",
    "\n",
    "- `'операции с автомобилем'`,\n",
    "- `'операции с недвижимостью'`,\n",
    "- `'проведение свадьбы'`,\n",
    "- `'получение образования'`.\n",
    "\n",
    "**Например, если в столбце `purpose` находится подстрока `'на покупку автомобиля'`, то в столбце `purpose_category` должна появиться строка `'операции с автомобилем'`.**\n",
    "\n",
    "**Используйте собственную функцию с именем `categorize_purpose()` и метод `apply()`. Изучите данные в столбце `purpose` и определите, какие подстроки помогут вам правильно определить категорию.**"
   ]
  },
  {
   "cell_type": "code",
   "execution_count": 22,
   "id": "d59465c3",
   "metadata": {
    "deletable": false,
    "id": "e149fab4"
   },
   "outputs": [],
   "source": [
    "def categorize_purpose(row):\n",
    "    try:\n",
    "        if 'автом' in row:\n",
    "            return 'операции с автомобилем'\n",
    "        elif 'жил' in row or 'недвиж' in row:\n",
    "            return 'операции с недвижимостью'\n",
    "        elif 'свад' in row:\n",
    "            return 'проведение свадьбы'\n",
    "        elif 'образов' in row:\n",
    "            return 'получение образования'\n",
    "    except:\n",
    "        return 'нет категории'"
   ]
  },
  {
   "cell_type": "code",
   "execution_count": 23,
   "id": "e67576c1",
   "metadata": {
    "deletable": false,
    "id": "bf36e69b"
   },
   "outputs": [],
   "source": [
    "data['purpose_category'] = data['purpose'].apply(categorize_purpose)"
   ]
  },
  {
   "cell_type": "markdown",
   "id": "85cbef34",
   "metadata": {
    "deletable": false,
    "editable": false,
    "id": "09b242bf"
   },
   "source": [
    "### Шаг 3. Исследуйте данные и ответьте на вопросы"
   ]
  },
  {
   "cell_type": "markdown",
   "id": "6d4ada0b",
   "metadata": {
    "deletable": false,
    "editable": false,
    "id": "c5d66278"
   },
   "source": [
    "#### 3.1 Есть ли зависимость между количеством детей и возвратом кредита в срок?"
   ]
  },
  {
   "cell_type": "markdown",
   "id": "c1cd5fa1",
   "metadata": {},
   "source": [
    "Сгруппируем данные по количеству детей и посмотрим на среднее значение по столбу debt, так же выведем количество клиентов и сколько из них должников"
   ]
  },
  {
   "cell_type": "code",
   "execution_count": 24,
   "id": "fe0c99e0",
   "metadata": {
    "deletable": false,
    "id": "2cacfc4a",
    "scrolled": false
   },
   "outputs": [
    {
     "data": {
      "text/html": [
       "<div>\n",
       "<style scoped>\n",
       "    .dataframe tbody tr th:only-of-type {\n",
       "        vertical-align: middle;\n",
       "    }\n",
       "\n",
       "    .dataframe tbody tr th {\n",
       "        vertical-align: top;\n",
       "    }\n",
       "\n",
       "    .dataframe thead tr th {\n",
       "        text-align: left;\n",
       "    }\n",
       "\n",
       "    .dataframe thead tr:last-of-type th {\n",
       "        text-align: right;\n",
       "    }\n",
       "</style>\n",
       "<table border=\"1\" class=\"dataframe\">\n",
       "  <thead>\n",
       "    <tr>\n",
       "      <th></th>\n",
       "      <th>count</th>\n",
       "      <th>sum</th>\n",
       "      <th>mean</th>\n",
       "    </tr>\n",
       "    <tr>\n",
       "      <th></th>\n",
       "      <th>debt</th>\n",
       "      <th>debt</th>\n",
       "      <th>debt</th>\n",
       "    </tr>\n",
       "    <tr>\n",
       "      <th>children</th>\n",
       "      <th></th>\n",
       "      <th></th>\n",
       "      <th></th>\n",
       "    </tr>\n",
       "  </thead>\n",
       "  <tbody>\n",
       "    <tr>\n",
       "      <th>0</th>\n",
       "      <td>14091</td>\n",
       "      <td>1063</td>\n",
       "      <td>0.075438</td>\n",
       "    </tr>\n",
       "    <tr>\n",
       "      <th>1</th>\n",
       "      <td>4808</td>\n",
       "      <td>444</td>\n",
       "      <td>0.092346</td>\n",
       "    </tr>\n",
       "    <tr>\n",
       "      <th>2</th>\n",
       "      <td>2052</td>\n",
       "      <td>194</td>\n",
       "      <td>0.094542</td>\n",
       "    </tr>\n",
       "    <tr>\n",
       "      <th>3</th>\n",
       "      <td>330</td>\n",
       "      <td>27</td>\n",
       "      <td>0.081818</td>\n",
       "    </tr>\n",
       "    <tr>\n",
       "      <th>4</th>\n",
       "      <td>41</td>\n",
       "      <td>4</td>\n",
       "      <td>0.097561</td>\n",
       "    </tr>\n",
       "    <tr>\n",
       "      <th>5</th>\n",
       "      <td>9</td>\n",
       "      <td>0</td>\n",
       "      <td>0.000000</td>\n",
       "    </tr>\n",
       "  </tbody>\n",
       "</table>\n",
       "</div>"
      ],
      "text/plain": [
       "          count   sum      mean\n",
       "           debt  debt      debt\n",
       "children                       \n",
       "0         14091  1063  0.075438\n",
       "1          4808   444  0.092346\n",
       "2          2052   194  0.094542\n",
       "3           330    27  0.081818\n",
       "4            41     4  0.097561\n",
       "5             9     0  0.000000"
      ]
     },
     "execution_count": 24,
     "metadata": {},
     "output_type": "execute_result"
    }
   ],
   "source": [
    "data.pivot_table(index='children',values='debt',aggfunc=['count','sum','mean'])"
   ]
  },
  {
   "cell_type": "markdown",
   "id": "21518a44",
   "metadata": {},
   "source": [
    "Сгруппируем данные, выделим в новый столбец - есть дети / нет детей, и повторим  группировку."
   ]
  },
  {
   "cell_type": "code",
   "execution_count": 25,
   "id": "2fa4fe36",
   "metadata": {},
   "outputs": [],
   "source": [
    "data['children_have'] = (data['children'] > 0) * 1"
   ]
  },
  {
   "cell_type": "code",
   "execution_count": 26,
   "id": "122cb37e",
   "metadata": {},
   "outputs": [
    {
     "data": {
      "text/html": [
       "<div>\n",
       "<style scoped>\n",
       "    .dataframe tbody tr th:only-of-type {\n",
       "        vertical-align: middle;\n",
       "    }\n",
       "\n",
       "    .dataframe tbody tr th {\n",
       "        vertical-align: top;\n",
       "    }\n",
       "\n",
       "    .dataframe thead tr th {\n",
       "        text-align: left;\n",
       "    }\n",
       "\n",
       "    .dataframe thead tr:last-of-type th {\n",
       "        text-align: right;\n",
       "    }\n",
       "</style>\n",
       "<table border=\"1\" class=\"dataframe\">\n",
       "  <thead>\n",
       "    <tr>\n",
       "      <th></th>\n",
       "      <th>count</th>\n",
       "      <th>sum</th>\n",
       "      <th>mean</th>\n",
       "    </tr>\n",
       "    <tr>\n",
       "      <th></th>\n",
       "      <th>debt</th>\n",
       "      <th>debt</th>\n",
       "      <th>debt</th>\n",
       "    </tr>\n",
       "    <tr>\n",
       "      <th>children_have</th>\n",
       "      <th></th>\n",
       "      <th></th>\n",
       "      <th></th>\n",
       "    </tr>\n",
       "  </thead>\n",
       "  <tbody>\n",
       "    <tr>\n",
       "      <th>0</th>\n",
       "      <td>14091</td>\n",
       "      <td>1063</td>\n",
       "      <td>0.075438</td>\n",
       "    </tr>\n",
       "    <tr>\n",
       "      <th>1</th>\n",
       "      <td>7240</td>\n",
       "      <td>669</td>\n",
       "      <td>0.092403</td>\n",
       "    </tr>\n",
       "  </tbody>\n",
       "</table>\n",
       "</div>"
      ],
      "text/plain": [
       "               count   sum      mean\n",
       "                debt  debt      debt\n",
       "children_have                       \n",
       "0              14091  1063  0.075438\n",
       "1               7240   669  0.092403"
      ]
     },
     "execution_count": 26,
     "metadata": {},
     "output_type": "execute_result"
    }
   ],
   "source": [
    "data.pivot_table(index='children_have',values='debt',aggfunc=['count','sum','mean'])"
   ]
  },
  {
   "cell_type": "markdown",
   "id": "784370ab",
   "metadata": {
    "deletable": false,
    "id": "3a6b99ec"
   },
   "source": [
    "**Вывод:** Можно заметить, что люди без детей более ответсвенные заемщики, но нельзя утверждать что именно наличие или отсутствие детей влияет на результат. Посмотрим, возможно далее будет какая то более явная закономерность."
   ]
  },
  {
   "cell_type": "markdown",
   "id": "2fae2496",
   "metadata": {
    "deletable": false,
    "editable": false,
    "id": "97be82ca"
   },
   "source": [
    "#### 3.2 Есть ли зависимость между семейным положением и возвратом кредита в срок?"
   ]
  },
  {
   "cell_type": "markdown",
   "id": "5adc735a",
   "metadata": {},
   "source": [
    "Сгруппируем данные по семейному положению и посмотрим на среднее значение по столбу debt, для удобства отсортируем от меньшего к большему"
   ]
  },
  {
   "cell_type": "code",
   "execution_count": 27,
   "id": "c29bd1e9",
   "metadata": {
    "scrolled": false
   },
   "outputs": [
    {
     "data": {
      "text/html": [
       "<div>\n",
       "<style scoped>\n",
       "    .dataframe tbody tr th:only-of-type {\n",
       "        vertical-align: middle;\n",
       "    }\n",
       "\n",
       "    .dataframe tbody tr th {\n",
       "        vertical-align: top;\n",
       "    }\n",
       "\n",
       "    .dataframe thead th {\n",
       "        text-align: right;\n",
       "    }\n",
       "</style>\n",
       "<table border=\"1\" class=\"dataframe\">\n",
       "  <thead>\n",
       "    <tr style=\"text-align: right;\">\n",
       "      <th></th>\n",
       "      <th>count</th>\n",
       "      <th>mean</th>\n",
       "    </tr>\n",
       "    <tr>\n",
       "      <th>family_status</th>\n",
       "      <th></th>\n",
       "      <th></th>\n",
       "    </tr>\n",
       "  </thead>\n",
       "  <tbody>\n",
       "    <tr>\n",
       "      <th>вдовец / вдова</th>\n",
       "      <td>951</td>\n",
       "      <td>0.066246</td>\n",
       "    </tr>\n",
       "    <tr>\n",
       "      <th>в разводе</th>\n",
       "      <td>1189</td>\n",
       "      <td>0.070648</td>\n",
       "    </tr>\n",
       "    <tr>\n",
       "      <th>женат / замужем</th>\n",
       "      <td>12261</td>\n",
       "      <td>0.075606</td>\n",
       "    </tr>\n",
       "    <tr>\n",
       "      <th>гражданский брак</th>\n",
       "      <td>4134</td>\n",
       "      <td>0.093130</td>\n",
       "    </tr>\n",
       "    <tr>\n",
       "      <th>Не женат / не замужем</th>\n",
       "      <td>2796</td>\n",
       "      <td>0.097639</td>\n",
       "    </tr>\n",
       "  </tbody>\n",
       "</table>\n",
       "</div>"
      ],
      "text/plain": [
       "                       count      mean\n",
       "family_status                         \n",
       "вдовец / вдова           951  0.066246\n",
       "в разводе               1189  0.070648\n",
       "женат / замужем        12261  0.075606\n",
       "гражданский брак        4134  0.093130\n",
       "Не женат / не замужем   2796  0.097639"
      ]
     },
     "execution_count": 27,
     "metadata": {},
     "output_type": "execute_result"
    }
   ],
   "source": [
    "data.groupby(['family_status'])['debt'].agg(['count','mean']).sort_values(by = 'mean' )"
   ]
  },
  {
   "cell_type": "markdown",
   "id": "4b33e906",
   "metadata": {
    "deletable": false,
    "id": "dc3f7ee8"
   },
   "source": [
    "Выводы немного удивили, добавлю сколько из них должников, возможно это даст больше ответов."
   ]
  },
  {
   "cell_type": "code",
   "execution_count": 28,
   "id": "8ec24dbc",
   "metadata": {},
   "outputs": [
    {
     "data": {
      "text/html": [
       "<div>\n",
       "<style scoped>\n",
       "    .dataframe tbody tr th:only-of-type {\n",
       "        vertical-align: middle;\n",
       "    }\n",
       "\n",
       "    .dataframe tbody tr th {\n",
       "        vertical-align: top;\n",
       "    }\n",
       "\n",
       "    .dataframe thead th {\n",
       "        text-align: right;\n",
       "    }\n",
       "</style>\n",
       "<table border=\"1\" class=\"dataframe\">\n",
       "  <thead>\n",
       "    <tr style=\"text-align: right;\">\n",
       "      <th></th>\n",
       "      <th>count</th>\n",
       "      <th>sum</th>\n",
       "      <th>mean</th>\n",
       "    </tr>\n",
       "    <tr>\n",
       "      <th>family_status</th>\n",
       "      <th></th>\n",
       "      <th></th>\n",
       "      <th></th>\n",
       "    </tr>\n",
       "  </thead>\n",
       "  <tbody>\n",
       "    <tr>\n",
       "      <th>вдовец / вдова</th>\n",
       "      <td>951</td>\n",
       "      <td>63</td>\n",
       "      <td>0.066246</td>\n",
       "    </tr>\n",
       "    <tr>\n",
       "      <th>в разводе</th>\n",
       "      <td>1189</td>\n",
       "      <td>84</td>\n",
       "      <td>0.070648</td>\n",
       "    </tr>\n",
       "    <tr>\n",
       "      <th>женат / замужем</th>\n",
       "      <td>12261</td>\n",
       "      <td>927</td>\n",
       "      <td>0.075606</td>\n",
       "    </tr>\n",
       "    <tr>\n",
       "      <th>гражданский брак</th>\n",
       "      <td>4134</td>\n",
       "      <td>385</td>\n",
       "      <td>0.093130</td>\n",
       "    </tr>\n",
       "    <tr>\n",
       "      <th>Не женат / не замужем</th>\n",
       "      <td>2796</td>\n",
       "      <td>273</td>\n",
       "      <td>0.097639</td>\n",
       "    </tr>\n",
       "  </tbody>\n",
       "</table>\n",
       "</div>"
      ],
      "text/plain": [
       "                       count  sum      mean\n",
       "family_status                              \n",
       "вдовец / вдова           951   63  0.066246\n",
       "в разводе               1189   84  0.070648\n",
       "женат / замужем        12261  927  0.075606\n",
       "гражданский брак        4134  385  0.093130\n",
       "Не женат / не замужем   2796  273  0.097639"
      ]
     },
     "execution_count": 28,
     "metadata": {},
     "output_type": "execute_result"
    }
   ],
   "source": [
    "data.groupby(['family_status'])['debt'].agg(['count','sum','mean']).sort_values(by = 'mean' )"
   ]
  },
  {
   "cell_type": "markdown",
   "id": "e9f58b89",
   "metadata": {
    "deletable": false,
    "id": "1cef7837"
   },
   "source": [
    "**Вывод:** Лучше не стало, хуже всех показатель у холостых, это ожидаемо. А вот группа женат/замужем держатся в середине и почти на 1% обгоняют вдовец / вдова. Для меня вдовец / вдова ни чем не отличается от не женат / не замужем. Да и в разводе, тот же холостой. Правильно наверно будет рассмотреть семейное положение как две группы был в браке или нет, тогда можно сделать вывод, что клиенты находящиеся/находившееся в браке боле надежные заемщики"
   ]
  },
  {
   "cell_type": "markdown",
   "id": "f1623fad",
   "metadata": {
    "deletable": false,
    "editable": false,
    "id": "1e8b2fca"
   },
   "source": [
    "#### 3.3 Есть ли зависимость между уровнем дохода и возвратом кредита в срок?"
   ]
  },
  {
   "cell_type": "markdown",
   "id": "7c3333f5",
   "metadata": {},
   "source": [
    "Сгруппируем данные по доходу и посмотрим на среднее значение по столбу debt"
   ]
  },
  {
   "cell_type": "code",
   "execution_count": 29,
   "id": "95733e8c",
   "metadata": {
    "deletable": false,
    "id": "cd7e3720",
    "scrolled": true
   },
   "outputs": [
    {
     "data": {
      "text/html": [
       "<div>\n",
       "<style scoped>\n",
       "    .dataframe tbody tr th:only-of-type {\n",
       "        vertical-align: middle;\n",
       "    }\n",
       "\n",
       "    .dataframe tbody tr th {\n",
       "        vertical-align: top;\n",
       "    }\n",
       "\n",
       "    .dataframe thead tr th {\n",
       "        text-align: left;\n",
       "    }\n",
       "\n",
       "    .dataframe thead tr:last-of-type th {\n",
       "        text-align: right;\n",
       "    }\n",
       "</style>\n",
       "<table border=\"1\" class=\"dataframe\">\n",
       "  <thead>\n",
       "    <tr>\n",
       "      <th></th>\n",
       "      <th>count</th>\n",
       "      <th>sum</th>\n",
       "      <th>mean</th>\n",
       "    </tr>\n",
       "    <tr>\n",
       "      <th></th>\n",
       "      <th>debt</th>\n",
       "      <th>debt</th>\n",
       "      <th>debt</th>\n",
       "    </tr>\n",
       "    <tr>\n",
       "      <th>total_income_category</th>\n",
       "      <th></th>\n",
       "      <th></th>\n",
       "      <th></th>\n",
       "    </tr>\n",
       "  </thead>\n",
       "  <tbody>\n",
       "    <tr>\n",
       "      <th>A</th>\n",
       "      <td>25</td>\n",
       "      <td>2</td>\n",
       "      <td>0.080000</td>\n",
       "    </tr>\n",
       "    <tr>\n",
       "      <th>B</th>\n",
       "      <td>5014</td>\n",
       "      <td>354</td>\n",
       "      <td>0.070602</td>\n",
       "    </tr>\n",
       "    <tr>\n",
       "      <th>C</th>\n",
       "      <td>15921</td>\n",
       "      <td>1353</td>\n",
       "      <td>0.084982</td>\n",
       "    </tr>\n",
       "    <tr>\n",
       "      <th>D</th>\n",
       "      <td>349</td>\n",
       "      <td>21</td>\n",
       "      <td>0.060172</td>\n",
       "    </tr>\n",
       "    <tr>\n",
       "      <th>E</th>\n",
       "      <td>22</td>\n",
       "      <td>2</td>\n",
       "      <td>0.090909</td>\n",
       "    </tr>\n",
       "  </tbody>\n",
       "</table>\n",
       "</div>"
      ],
      "text/plain": [
       "                       count   sum      mean\n",
       "                        debt  debt      debt\n",
       "total_income_category                       \n",
       "A                         25     2  0.080000\n",
       "B                       5014   354  0.070602\n",
       "C                      15921  1353  0.084982\n",
       "D                        349    21  0.060172\n",
       "E                         22     2  0.090909"
      ]
     },
     "execution_count": 29,
     "metadata": {},
     "output_type": "execute_result"
    }
   ],
   "source": [
    "data.pivot_table(index='total_income_category',values='debt',aggfunc=['count','sum','mean'])"
   ]
  },
  {
   "cell_type": "markdown",
   "id": "3b7ebbf4",
   "metadata": {},
   "source": [
    "Самая большая выборка получилась в категории С, для более детального изучения, разобьем на 7 категорий"
   ]
  },
  {
   "cell_type": "code",
   "execution_count": 30,
   "id": "ddcc63fe",
   "metadata": {},
   "outputs": [],
   "source": [
    "data['total_income_group'] = pd.cut(data['total_income'],[0,50000,100000,150000,200000,250000,300000,np.inf])"
   ]
  },
  {
   "cell_type": "code",
   "execution_count": 31,
   "id": "5e084b21",
   "metadata": {},
   "outputs": [
    {
     "data": {
      "text/html": [
       "<div>\n",
       "<style scoped>\n",
       "    .dataframe tbody tr th:only-of-type {\n",
       "        vertical-align: middle;\n",
       "    }\n",
       "\n",
       "    .dataframe tbody tr th {\n",
       "        vertical-align: top;\n",
       "    }\n",
       "\n",
       "    .dataframe thead tr th {\n",
       "        text-align: left;\n",
       "    }\n",
       "\n",
       "    .dataframe thead tr:last-of-type th {\n",
       "        text-align: right;\n",
       "    }\n",
       "</style>\n",
       "<table border=\"1\" class=\"dataframe\">\n",
       "  <thead>\n",
       "    <tr>\n",
       "      <th></th>\n",
       "      <th>count</th>\n",
       "      <th>sum</th>\n",
       "      <th>mean</th>\n",
       "    </tr>\n",
       "    <tr>\n",
       "      <th></th>\n",
       "      <th>debt</th>\n",
       "      <th>debt</th>\n",
       "      <th>debt</th>\n",
       "    </tr>\n",
       "    <tr>\n",
       "      <th>total_income_group</th>\n",
       "      <th></th>\n",
       "      <th></th>\n",
       "      <th></th>\n",
       "    </tr>\n",
       "  </thead>\n",
       "  <tbody>\n",
       "    <tr>\n",
       "      <th>(0.0, 50000.0]</th>\n",
       "      <td>371</td>\n",
       "      <td>23</td>\n",
       "      <td>0.061995</td>\n",
       "    </tr>\n",
       "    <tr>\n",
       "      <th>(50000.0, 100000.0]</th>\n",
       "      <td>4073</td>\n",
       "      <td>331</td>\n",
       "      <td>0.081267</td>\n",
       "    </tr>\n",
       "    <tr>\n",
       "      <th>(100000.0, 150000.0]</th>\n",
       "      <td>7110</td>\n",
       "      <td>619</td>\n",
       "      <td>0.087060</td>\n",
       "    </tr>\n",
       "    <tr>\n",
       "      <th>(150000.0, 200000.0]</th>\n",
       "      <td>4738</td>\n",
       "      <td>403</td>\n",
       "      <td>0.085057</td>\n",
       "    </tr>\n",
       "    <tr>\n",
       "      <th>(200000.0, 250000.0]</th>\n",
       "      <td>2242</td>\n",
       "      <td>162</td>\n",
       "      <td>0.072257</td>\n",
       "    </tr>\n",
       "    <tr>\n",
       "      <th>(250000.0, 300000.0]</th>\n",
       "      <td>1323</td>\n",
       "      <td>88</td>\n",
       "      <td>0.066515</td>\n",
       "    </tr>\n",
       "    <tr>\n",
       "      <th>(300000.0, inf]</th>\n",
       "      <td>1474</td>\n",
       "      <td>106</td>\n",
       "      <td>0.071913</td>\n",
       "    </tr>\n",
       "  </tbody>\n",
       "</table>\n",
       "</div>"
      ],
      "text/plain": [
       "                     count  sum      mean\n",
       "                      debt debt      debt\n",
       "total_income_group                       \n",
       "(0.0, 50000.0]         371   23  0.061995\n",
       "(50000.0, 100000.0]   4073  331  0.081267\n",
       "(100000.0, 150000.0]  7110  619  0.087060\n",
       "(150000.0, 200000.0]  4738  403  0.085057\n",
       "(200000.0, 250000.0]  2242  162  0.072257\n",
       "(250000.0, 300000.0]  1323   88  0.066515\n",
       "(300000.0, inf]       1474  106  0.071913"
      ]
     },
     "execution_count": 31,
     "metadata": {},
     "output_type": "execute_result"
    }
   ],
   "source": [
    "data.pivot_table(index='total_income_group',values='debt',aggfunc=['count','sum','mean'])"
   ]
  },
  {
   "cell_type": "markdown",
   "id": "503d2819",
   "metadata": {
    "deletable": false,
    "id": "e8593def"
   },
   "source": [
    "**Вывод:** Более менее процент возврата у клиентов с доходом 250000-300000, так же не плохо себя показывают люди с доходом до 50000, но там маленькая группа, всего 371 человек. Хуже всего выборка от 50000 до 200000. При дополнительной разбивки показатель у этой группы держится на уровне 8-9%, Не стоит забывать что порядка 10% датафрейма мы заполнили медианным значением, не совсем корректно опираться на полученный результат"
   ]
  },
  {
   "cell_type": "markdown",
   "id": "d05dd080",
   "metadata": {
    "deletable": false,
    "editable": false,
    "id": "99ecbd1f"
   },
   "source": [
    "#### 3.4 Как разные цели кредита влияют на его возврат в срок?"
   ]
  },
  {
   "cell_type": "markdown",
   "id": "cc2b7797",
   "metadata": {},
   "source": [
    "Повторим уже стандартную операцию, сгруппируем по целевому назначению кредита, выведем количество и среднее. Всего 4 группы, сортировать не будем, так посмотрим."
   ]
  },
  {
   "cell_type": "code",
   "execution_count": 32,
   "id": "a568039f",
   "metadata": {
    "deletable": false,
    "id": "2b687290",
    "scrolled": true
   },
   "outputs": [
    {
     "data": {
      "text/html": [
       "<div>\n",
       "<style scoped>\n",
       "    .dataframe tbody tr th:only-of-type {\n",
       "        vertical-align: middle;\n",
       "    }\n",
       "\n",
       "    .dataframe tbody tr th {\n",
       "        vertical-align: top;\n",
       "    }\n",
       "\n",
       "    .dataframe thead tr th {\n",
       "        text-align: left;\n",
       "    }\n",
       "\n",
       "    .dataframe thead tr:last-of-type th {\n",
       "        text-align: right;\n",
       "    }\n",
       "</style>\n",
       "<table border=\"1\" class=\"dataframe\">\n",
       "  <thead>\n",
       "    <tr>\n",
       "      <th></th>\n",
       "      <th>count</th>\n",
       "      <th>sum</th>\n",
       "      <th>mean</th>\n",
       "    </tr>\n",
       "    <tr>\n",
       "      <th></th>\n",
       "      <th>debt</th>\n",
       "      <th>debt</th>\n",
       "      <th>debt</th>\n",
       "    </tr>\n",
       "    <tr>\n",
       "      <th>purpose_category</th>\n",
       "      <th></th>\n",
       "      <th></th>\n",
       "      <th></th>\n",
       "    </tr>\n",
       "  </thead>\n",
       "  <tbody>\n",
       "    <tr>\n",
       "      <th>операции с автомобилем</th>\n",
       "      <td>4279</td>\n",
       "      <td>400</td>\n",
       "      <td>0.093480</td>\n",
       "    </tr>\n",
       "    <tr>\n",
       "      <th>операции с недвижимостью</th>\n",
       "      <td>10751</td>\n",
       "      <td>780</td>\n",
       "      <td>0.072551</td>\n",
       "    </tr>\n",
       "    <tr>\n",
       "      <th>получение образования</th>\n",
       "      <td>3988</td>\n",
       "      <td>369</td>\n",
       "      <td>0.092528</td>\n",
       "    </tr>\n",
       "    <tr>\n",
       "      <th>проведение свадьбы</th>\n",
       "      <td>2313</td>\n",
       "      <td>183</td>\n",
       "      <td>0.079118</td>\n",
       "    </tr>\n",
       "  </tbody>\n",
       "</table>\n",
       "</div>"
      ],
      "text/plain": [
       "                          count  sum      mean\n",
       "                           debt debt      debt\n",
       "purpose_category                              \n",
       "операции с автомобилем     4279  400  0.093480\n",
       "операции с недвижимостью  10751  780  0.072551\n",
       "получение образования      3988  369  0.092528\n",
       "проведение свадьбы         2313  183  0.079118"
      ]
     },
     "execution_count": 32,
     "metadata": {},
     "output_type": "execute_result"
    }
   ],
   "source": [
    "data.pivot_table(index='purpose_category',values='debt',aggfunc=['count','sum','mean'])"
   ]
  },
  {
   "cell_type": "markdown",
   "id": "b76a9376",
   "metadata": {
    "deletable": false,
    "id": "b4bb2ce6"
   },
   "source": [
    "**Вывод:** Покупка автомобиля, самый большой процент 'просрочки'. Объяснений может быть много, разбил машину, нет желания платит или покупал под такси, разбил и пока в ремонте нет денег на платеж. Может быть это была просто спонтанная покупка и теперь нет понимания как расплатиться. На свадьбу думаю часто берут или кредит или в долг с планами закрыть 'подарками'. Недвижимость это серьезная покупка и скорее всего крупная сумма, ее совершают обдуманно. Так же почти 10% 'просрочки' это образование, тут возможно клиент так же совершает спонтанную покупку, а потом перегорает."
   ]
  },
  {
   "cell_type": "markdown",
   "id": "6b0fda7f",
   "metadata": {
    "deletable": false,
    "editable": false,
    "id": "09c3ac4c"
   },
   "source": [
    "#### 3.5 Приведите возможные причины появления пропусков в исходных данных."
   ]
  },
  {
   "cell_type": "markdown",
   "id": "b6577a01",
   "metadata": {
    "deletable": false,
    "id": "9da2ceda"
   },
   "source": [
    "*Ответ:* Одна из причин, это может быть техническая ошибка или возможно в анкете эти графы не столь заметны или необязательны к заполнению. Так же возможно клиенты у кого маленькая зп или кто мало дней работает, думает, что пропуск увеличивает шанс на получение кредита, тем самым оставляют эти графы пустыми."
   ]
  },
  {
   "cell_type": "markdown",
   "id": "e1080908",
   "metadata": {
    "deletable": false,
    "editable": false,
    "id": "7b0487d6"
   },
   "source": [
    "#### 3.6 Объясните, почему заполнить пропуски медианным значением — лучшее решение для количественных переменных."
   ]
  },
  {
   "cell_type": "markdown",
   "id": "ed808ef9",
   "metadata": {},
   "source": [
    "Что бы ответить на данный вопрос, надо посмотреть среднее и медиану, правильно было сделать до заполнения, но посмотрим тут, добавим так же max, это поможет понять , почему среднее выше медианы"
   ]
  },
  {
   "cell_type": "code",
   "execution_count": 33,
   "id": "649a95ef",
   "metadata": {
    "scrolled": true
   },
   "outputs": [
    {
     "data": {
      "text/html": [
       "<div>\n",
       "<style scoped>\n",
       "    .dataframe tbody tr th:only-of-type {\n",
       "        vertical-align: middle;\n",
       "    }\n",
       "\n",
       "    .dataframe tbody tr th {\n",
       "        vertical-align: top;\n",
       "    }\n",
       "\n",
       "    .dataframe thead th {\n",
       "        text-align: right;\n",
       "    }\n",
       "</style>\n",
       "<table border=\"1\" class=\"dataframe\">\n",
       "  <thead>\n",
       "    <tr style=\"text-align: right;\">\n",
       "      <th></th>\n",
       "      <th>count</th>\n",
       "      <th>mean</th>\n",
       "      <th>median</th>\n",
       "      <th>max</th>\n",
       "    </tr>\n",
       "    <tr>\n",
       "      <th>income_type</th>\n",
       "      <th></th>\n",
       "      <th></th>\n",
       "      <th></th>\n",
       "      <th></th>\n",
       "    </tr>\n",
       "  </thead>\n",
       "  <tbody>\n",
       "    <tr>\n",
       "      <th>безработный</th>\n",
       "      <td>2</td>\n",
       "      <td>131339.000000</td>\n",
       "      <td>131339</td>\n",
       "      <td>202722</td>\n",
       "    </tr>\n",
       "    <tr>\n",
       "      <th>в декрете</th>\n",
       "      <td>1</td>\n",
       "      <td>53829.000000</td>\n",
       "      <td>53829</td>\n",
       "      <td>53829</td>\n",
       "    </tr>\n",
       "    <tr>\n",
       "      <th>госслужащий</th>\n",
       "      <td>1451</td>\n",
       "      <td>168728.454859</td>\n",
       "      <td>150447</td>\n",
       "      <td>910451</td>\n",
       "    </tr>\n",
       "    <tr>\n",
       "      <th>компаньон</th>\n",
       "      <td>5047</td>\n",
       "      <td>199608.615811</td>\n",
       "      <td>172357</td>\n",
       "      <td>2265604</td>\n",
       "    </tr>\n",
       "    <tr>\n",
       "      <th>пенсионер</th>\n",
       "      <td>3812</td>\n",
       "      <td>135320.753673</td>\n",
       "      <td>118514</td>\n",
       "      <td>735103</td>\n",
       "    </tr>\n",
       "    <tr>\n",
       "      <th>предприниматель</th>\n",
       "      <td>2</td>\n",
       "      <td>499163.000000</td>\n",
       "      <td>499163</td>\n",
       "      <td>499163</td>\n",
       "    </tr>\n",
       "    <tr>\n",
       "      <th>сотрудник</th>\n",
       "      <td>11015</td>\n",
       "      <td>159547.951975</td>\n",
       "      <td>142594</td>\n",
       "      <td>1726276</td>\n",
       "    </tr>\n",
       "    <tr>\n",
       "      <th>студент</th>\n",
       "      <td>1</td>\n",
       "      <td>98201.000000</td>\n",
       "      <td>98201</td>\n",
       "      <td>98201</td>\n",
       "    </tr>\n",
       "  </tbody>\n",
       "</table>\n",
       "</div>"
      ],
      "text/plain": [
       "                 count           mean  median      max\n",
       "income_type                                           \n",
       "безработный          2  131339.000000  131339   202722\n",
       "в декрете            1   53829.000000   53829    53829\n",
       "госслужащий       1451  168728.454859  150447   910451\n",
       "компаньон         5047  199608.615811  172357  2265604\n",
       "пенсионер         3812  135320.753673  118514   735103\n",
       "предприниматель      2  499163.000000  499163   499163\n",
       "сотрудник        11015  159547.951975  142594  1726276\n",
       "студент              1   98201.000000   98201    98201"
      ]
     },
     "execution_count": 33,
     "metadata": {},
     "output_type": "execute_result"
    }
   ],
   "source": [
    "data.groupby(['income_type'])['total_income'].agg(['count','mean', 'median','max'])"
   ]
  },
  {
   "cell_type": "markdown",
   "id": "76f7ce7a",
   "metadata": {
    "deletable": false,
    "id": "7ecf2b8e"
   },
   "source": [
    "*Ответ:* Мы видим, что в группах, где более менее большая выборка, значения среднее выше медианы, т.к. есть клиенты с высоким доходом. Так же из сводной таблицы можно заметить , что средне и медиана сильно отличаются от типа занятости. Поэтому корректно заполнить доход медианным значением и обязательно по  типу занятости"
   ]
  },
  {
   "cell_type": "markdown",
   "id": "3f3565a1",
   "metadata": {
    "deletable": false,
    "editable": false,
    "id": "6db5255a"
   },
   "source": [
    "### Шаг 4: общий вывод."
   ]
  },
  {
   "cell_type": "markdown",
   "id": "197ce283",
   "metadata": {
    "deletable": false,
    "id": "bad65432"
   },
   "source": [
    "Напишите ваш общий вывод."
   ]
  },
  {
   "cell_type": "markdown",
   "id": "9b854404",
   "metadata": {},
   "source": [
    "Перед тем как сделать общий вывод, думаю стоит посмотреть на возрастную группу клиентов и возможные 'просрочки' по платежам"
   ]
  },
  {
   "cell_type": "code",
   "execution_count": 40,
   "id": "ec437eb4",
   "metadata": {},
   "outputs": [],
   "source": [
    "data['dob_years_group'] = pd.qcut(data['dob_years'],7)"
   ]
  },
  {
   "cell_type": "code",
   "execution_count": 41,
   "id": "29b908d7",
   "metadata": {},
   "outputs": [
    {
     "data": {
      "text/html": [
       "<div>\n",
       "<style scoped>\n",
       "    .dataframe tbody tr th:only-of-type {\n",
       "        vertical-align: middle;\n",
       "    }\n",
       "\n",
       "    .dataframe tbody tr th {\n",
       "        vertical-align: top;\n",
       "    }\n",
       "\n",
       "    .dataframe thead th {\n",
       "        text-align: right;\n",
       "    }\n",
       "</style>\n",
       "<table border=\"1\" class=\"dataframe\">\n",
       "  <thead>\n",
       "    <tr style=\"text-align: right;\">\n",
       "      <th></th>\n",
       "      <th>count</th>\n",
       "      <th>mean</th>\n",
       "    </tr>\n",
       "    <tr>\n",
       "      <th>dob_years_group</th>\n",
       "      <th></th>\n",
       "      <th></th>\n",
       "    </tr>\n",
       "  </thead>\n",
       "  <tbody>\n",
       "    <tr>\n",
       "      <th>(58.0, 75.0]</th>\n",
       "      <td>2931</td>\n",
       "      <td>0.052201</td>\n",
       "    </tr>\n",
       "    <tr>\n",
       "      <th>(52.0, 58.0]</th>\n",
       "      <td>2756</td>\n",
       "      <td>0.063498</td>\n",
       "    </tr>\n",
       "    <tr>\n",
       "      <th>(45.0, 52.0]</th>\n",
       "      <td>3417</td>\n",
       "      <td>0.069359</td>\n",
       "    </tr>\n",
       "    <tr>\n",
       "      <th>(40.0, 45.0]</th>\n",
       "      <td>2735</td>\n",
       "      <td>0.078611</td>\n",
       "    </tr>\n",
       "    <tr>\n",
       "      <th>(35.0, 40.0]</th>\n",
       "      <td>2848</td>\n",
       "      <td>0.087430</td>\n",
       "    </tr>\n",
       "    <tr>\n",
       "      <th>(29.0, 35.0]</th>\n",
       "      <td>3378</td>\n",
       "      <td>0.102427</td>\n",
       "    </tr>\n",
       "    <tr>\n",
       "      <th>(-0.001, 29.0]</th>\n",
       "      <td>3266</td>\n",
       "      <td>0.109308</td>\n",
       "    </tr>\n",
       "  </tbody>\n",
       "</table>\n",
       "</div>"
      ],
      "text/plain": [
       "                 count      mean\n",
       "dob_years_group                 \n",
       "(58.0, 75.0]      2931  0.052201\n",
       "(52.0, 58.0]      2756  0.063498\n",
       "(45.0, 52.0]      3417  0.069359\n",
       "(40.0, 45.0]      2735  0.078611\n",
       "(35.0, 40.0]      2848  0.087430\n",
       "(29.0, 35.0]      3378  0.102427\n",
       "(-0.001, 29.0]    3266  0.109308"
      ]
     },
     "execution_count": 41,
     "metadata": {},
     "output_type": "execute_result"
    }
   ],
   "source": [
    "data.groupby(['dob_years_group'])['debt'].agg(['count','mean']).sort_values(by = 'mean' )"
   ]
  },
  {
   "cell_type": "markdown",
   "id": "5415a452",
   "metadata": {},
   "source": [
    "**Вывод** В данном исследовании мы рассмотрели группу клиентов, посмотрели как возраст, семейное положение, наличии детей и цель кредита влияет на возврат долга. Из проведеного анализа можно выделить группу, более надежных клиентов:\n",
    "* Люди без детей \n",
    "* Клиенты с доходом 250-300т\n",
    "* Возраст заемщика. Чем взрослее клиент, тем он надежнее\n",
    "* Клиенты в браке или который состояли в браке более более ответственные заемщики \n",
    "\n",
    "Так же выделим 'группу риска' по целевому назначению кредита:\n",
    "* покупка автомобиля\n",
    "* получение образования"
   ]
  },
  {
   "cell_type": "markdown",
   "id": "29fc7c27",
   "metadata": {},
   "source": [
    "#### решение через функцию"
   ]
  },
  {
   "cell_type": "code",
   "execution_count": 44,
   "id": "5bbd9c6c",
   "metadata": {},
   "outputs": [],
   "source": [
    "def grouping(category):\n",
    "    return data.groupby(category)['debt'].mean().sort_values()"
   ]
  },
  {
   "cell_type": "code",
   "execution_count": 45,
   "id": "4e25732c",
   "metadata": {},
   "outputs": [
    {
     "data": {
      "text/plain": [
       "children_have\n",
       "0    0.075438\n",
       "1    0.092403\n",
       "Name: debt, dtype: float64"
      ]
     },
     "execution_count": 45,
     "metadata": {},
     "output_type": "execute_result"
    }
   ],
   "source": [
    "grouping('children_have')"
   ]
  },
  {
   "cell_type": "code",
   "execution_count": 46,
   "id": "4b0048b1",
   "metadata": {},
   "outputs": [],
   "source": [
    "def groupings(category):\n",
    "    return data.groupby(category)['debt'].mean().to_frame().sort_values(by='debt')"
   ]
  },
  {
   "cell_type": "code",
   "execution_count": 47,
   "id": "7f29df0f",
   "metadata": {},
   "outputs": [
    {
     "data": {
      "text/html": [
       "<div>\n",
       "<style scoped>\n",
       "    .dataframe tbody tr th:only-of-type {\n",
       "        vertical-align: middle;\n",
       "    }\n",
       "\n",
       "    .dataframe tbody tr th {\n",
       "        vertical-align: top;\n",
       "    }\n",
       "\n",
       "    .dataframe thead th {\n",
       "        text-align: right;\n",
       "    }\n",
       "</style>\n",
       "<table border=\"1\" class=\"dataframe\">\n",
       "  <thead>\n",
       "    <tr style=\"text-align: right;\">\n",
       "      <th></th>\n",
       "      <th>debt</th>\n",
       "    </tr>\n",
       "    <tr>\n",
       "      <th>purpose_category</th>\n",
       "      <th></th>\n",
       "    </tr>\n",
       "  </thead>\n",
       "  <tbody>\n",
       "    <tr>\n",
       "      <th>операции с недвижимостью</th>\n",
       "      <td>0.072551</td>\n",
       "    </tr>\n",
       "    <tr>\n",
       "      <th>проведение свадьбы</th>\n",
       "      <td>0.079118</td>\n",
       "    </tr>\n",
       "    <tr>\n",
       "      <th>получение образования</th>\n",
       "      <td>0.092528</td>\n",
       "    </tr>\n",
       "    <tr>\n",
       "      <th>операции с автомобилем</th>\n",
       "      <td>0.093480</td>\n",
       "    </tr>\n",
       "  </tbody>\n",
       "</table>\n",
       "</div>"
      ],
      "text/plain": [
       "                              debt\n",
       "purpose_category                  \n",
       "операции с недвижимостью  0.072551\n",
       "проведение свадьбы        0.079118\n",
       "получение образования     0.092528\n",
       "операции с автомобилем    0.093480"
      ]
     },
     "execution_count": 47,
     "metadata": {},
     "output_type": "execute_result"
    }
   ],
   "source": [
    "groupings('purpose_category')"
   ]
  },
  {
   "cell_type": "code",
   "execution_count": 48,
   "id": "21a4dfc5",
   "metadata": {},
   "outputs": [],
   "source": [
    "def grouping_ss(category):\n",
    "    return data.groupby([category])['debt'].agg(['count','sum','mean']).sort_values(by = 'mean' )"
   ]
  },
  {
   "cell_type": "code",
   "execution_count": 49,
   "id": "fb6a95ca",
   "metadata": {
    "scrolled": true
   },
   "outputs": [
    {
     "data": {
      "text/html": [
       "<div>\n",
       "<style scoped>\n",
       "    .dataframe tbody tr th:only-of-type {\n",
       "        vertical-align: middle;\n",
       "    }\n",
       "\n",
       "    .dataframe tbody tr th {\n",
       "        vertical-align: top;\n",
       "    }\n",
       "\n",
       "    .dataframe thead th {\n",
       "        text-align: right;\n",
       "    }\n",
       "</style>\n",
       "<table border=\"1\" class=\"dataframe\">\n",
       "  <thead>\n",
       "    <tr style=\"text-align: right;\">\n",
       "      <th></th>\n",
       "      <th>count</th>\n",
       "      <th>sum</th>\n",
       "      <th>mean</th>\n",
       "    </tr>\n",
       "    <tr>\n",
       "      <th>family_status</th>\n",
       "      <th></th>\n",
       "      <th></th>\n",
       "      <th></th>\n",
       "    </tr>\n",
       "  </thead>\n",
       "  <tbody>\n",
       "    <tr>\n",
       "      <th>вдовец / вдова</th>\n",
       "      <td>951</td>\n",
       "      <td>63</td>\n",
       "      <td>0.066246</td>\n",
       "    </tr>\n",
       "    <tr>\n",
       "      <th>в разводе</th>\n",
       "      <td>1189</td>\n",
       "      <td>84</td>\n",
       "      <td>0.070648</td>\n",
       "    </tr>\n",
       "    <tr>\n",
       "      <th>женат / замужем</th>\n",
       "      <td>12261</td>\n",
       "      <td>927</td>\n",
       "      <td>0.075606</td>\n",
       "    </tr>\n",
       "    <tr>\n",
       "      <th>гражданский брак</th>\n",
       "      <td>4134</td>\n",
       "      <td>385</td>\n",
       "      <td>0.093130</td>\n",
       "    </tr>\n",
       "    <tr>\n",
       "      <th>Не женат / не замужем</th>\n",
       "      <td>2796</td>\n",
       "      <td>273</td>\n",
       "      <td>0.097639</td>\n",
       "    </tr>\n",
       "  </tbody>\n",
       "</table>\n",
       "</div>"
      ],
      "text/plain": [
       "                       count  sum      mean\n",
       "family_status                              \n",
       "вдовец / вдова           951   63  0.066246\n",
       "в разводе               1189   84  0.070648\n",
       "женат / замужем        12261  927  0.075606\n",
       "гражданский брак        4134  385  0.093130\n",
       "Не женат / не замужем   2796  273  0.097639"
      ]
     },
     "execution_count": 49,
     "metadata": {},
     "output_type": "execute_result"
    }
   ],
   "source": [
    "grouping_ss('family_status')"
   ]
  },
  {
   "cell_type": "markdown",
   "id": "9950eeb8",
   "metadata": {},
   "source": [
    "### тестовая таблица"
   ]
  },
  {
   "cell_type": "code",
   "execution_count": 50,
   "id": "e312e4f2",
   "metadata": {},
   "outputs": [
    {
     "data": {
      "text/plain": [
       "nan"
      ]
     },
     "execution_count": 50,
     "metadata": {},
     "output_type": "execute_result"
    }
   ],
   "source": [
    "np.nan"
   ]
  },
  {
   "cell_type": "code",
   "execution_count": 60,
   "id": "ef021d5e",
   "metadata": {},
   "outputs": [],
   "source": [
    "test = pd.DataFrame({'x':['a','b','c','d'], 'y':[1, 2, 3, 4], 'z':['e','f','g',np.nan], 'w':['5','f','','g']})"
   ]
  },
  {
   "cell_type": "code",
   "execution_count": 61,
   "id": "d8b0810b",
   "metadata": {},
   "outputs": [
    {
     "data": {
      "text/html": [
       "<div>\n",
       "<style scoped>\n",
       "    .dataframe tbody tr th:only-of-type {\n",
       "        vertical-align: middle;\n",
       "    }\n",
       "\n",
       "    .dataframe tbody tr th {\n",
       "        vertical-align: top;\n",
       "    }\n",
       "\n",
       "    .dataframe thead th {\n",
       "        text-align: right;\n",
       "    }\n",
       "</style>\n",
       "<table border=\"1\" class=\"dataframe\">\n",
       "  <thead>\n",
       "    <tr style=\"text-align: right;\">\n",
       "      <th></th>\n",
       "      <th>x</th>\n",
       "      <th>y</th>\n",
       "      <th>z</th>\n",
       "      <th>w</th>\n",
       "    </tr>\n",
       "  </thead>\n",
       "  <tbody>\n",
       "    <tr>\n",
       "      <th>0</th>\n",
       "      <td>a</td>\n",
       "      <td>1</td>\n",
       "      <td>e</td>\n",
       "      <td>5</td>\n",
       "    </tr>\n",
       "    <tr>\n",
       "      <th>1</th>\n",
       "      <td>b</td>\n",
       "      <td>2</td>\n",
       "      <td>f</td>\n",
       "      <td>f</td>\n",
       "    </tr>\n",
       "    <tr>\n",
       "      <th>2</th>\n",
       "      <td>c</td>\n",
       "      <td>3</td>\n",
       "      <td>g</td>\n",
       "      <td></td>\n",
       "    </tr>\n",
       "    <tr>\n",
       "      <th>3</th>\n",
       "      <td>d</td>\n",
       "      <td>4</td>\n",
       "      <td>NaN</td>\n",
       "      <td>g</td>\n",
       "    </tr>\n",
       "  </tbody>\n",
       "</table>\n",
       "</div>"
      ],
      "text/plain": [
       "   x  y    z  w\n",
       "0  a  1    e  5\n",
       "1  b  2    f  f\n",
       "2  c  3    g   \n",
       "3  d  4  NaN  g"
      ]
     },
     "execution_count": 61,
     "metadata": {},
     "output_type": "execute_result"
    }
   ],
   "source": [
    "test"
   ]
  },
  {
   "cell_type": "markdown",
   "id": "9ebf960b",
   "metadata": {},
   "source": [
    "<div style=\"border:solid purple 2px; padding: 20px\"> \n",
    "<b> <font color='purple' >   \n",
    "    \n",
    "В целом, работа хорошая. У тебя отличные аналитические навыки, но остались небольшие доработки. Доделывай и присылай на повторную проверку.\n",
    "        \n",
    "Жду твоих исправлений 😊\n",
    "</font></b>\n",
    "</div>"
   ]
  }
 ],
 "metadata": {
  "ExecuteTimeLog": [
   {
    "duration": 763,
    "start_time": "2022-10-21T12:51:45.997Z"
   },
   {
    "duration": 21,
    "start_time": "2022-10-21T12:51:46.762Z"
   },
   {
    "duration": 16,
    "start_time": "2022-10-21T12:51:46.784Z"
   },
   {
    "duration": 9,
    "start_time": "2022-10-21T12:51:46.802Z"
   },
   {
    "duration": 38,
    "start_time": "2022-10-21T12:51:46.813Z"
   },
   {
    "duration": 3,
    "start_time": "2022-10-21T12:51:46.853Z"
   },
   {
    "duration": 14,
    "start_time": "2022-10-21T12:51:46.857Z"
   },
   {
    "duration": 6,
    "start_time": "2022-10-21T12:51:46.872Z"
   },
   {
    "duration": 11,
    "start_time": "2022-10-21T12:51:46.880Z"
   },
   {
    "duration": 8,
    "start_time": "2022-10-21T12:51:46.893Z"
   },
   {
    "duration": 52,
    "start_time": "2022-10-21T12:51:46.903Z"
   },
   {
    "duration": 10,
    "start_time": "2022-10-21T12:51:46.956Z"
   },
   {
    "duration": 3,
    "start_time": "2022-10-21T12:51:46.967Z"
   },
   {
    "duration": 13,
    "start_time": "2022-10-21T12:51:46.972Z"
   },
   {
    "duration": 19,
    "start_time": "2022-10-21T12:51:46.986Z"
   },
   {
    "duration": 39,
    "start_time": "2022-10-21T12:51:47.006Z"
   },
   {
    "duration": 4,
    "start_time": "2022-10-21T12:51:47.046Z"
   },
   {
    "duration": 12,
    "start_time": "2022-10-21T12:51:47.051Z"
   },
   {
    "duration": 7,
    "start_time": "2022-10-21T12:51:47.065Z"
   },
   {
    "duration": 3,
    "start_time": "2022-10-21T12:51:47.074Z"
   },
   {
    "duration": 13,
    "start_time": "2022-10-21T12:51:47.078Z"
   },
   {
    "duration": 2,
    "start_time": "2022-10-21T12:51:47.093Z"
   },
   {
    "duration": 3,
    "start_time": "2022-10-21T12:51:47.097Z"
   },
   {
    "duration": 28,
    "start_time": "2022-10-21T12:51:47.101Z"
   },
   {
    "duration": 2,
    "start_time": "2022-10-21T12:51:47.131Z"
   },
   {
    "duration": 12,
    "start_time": "2022-10-21T12:54:34.610Z"
   },
   {
    "duration": 4,
    "start_time": "2022-10-21T12:55:46.603Z"
   },
   {
    "duration": 92,
    "start_time": "2022-10-21T12:55:58.351Z"
   },
   {
    "duration": 6,
    "start_time": "2022-10-21T12:56:01.467Z"
   },
   {
    "duration": 8,
    "start_time": "2022-10-21T12:56:12.976Z"
   },
   {
    "duration": 72,
    "start_time": "2022-10-21T12:57:30.958Z"
   },
   {
    "duration": 67,
    "start_time": "2022-10-21T12:57:57.063Z"
   },
   {
    "duration": 10,
    "start_time": "2022-10-21T12:59:45.475Z"
   },
   {
    "duration": 7,
    "start_time": "2022-10-21T13:00:27.830Z"
   },
   {
    "duration": 12,
    "start_time": "2022-10-21T13:04:09.983Z"
   },
   {
    "duration": 11,
    "start_time": "2022-10-21T13:04:22.154Z"
   },
   {
    "duration": 13,
    "start_time": "2022-10-21T13:04:36.264Z"
   },
   {
    "duration": 11,
    "start_time": "2022-10-21T13:04:39.757Z"
   },
   {
    "duration": 10,
    "start_time": "2022-10-21T13:04:47.101Z"
   },
   {
    "duration": 12,
    "start_time": "2022-10-21T13:20:11.862Z"
   },
   {
    "duration": 14,
    "start_time": "2022-10-21T13:20:24.905Z"
   },
   {
    "duration": 10,
    "start_time": "2022-10-21T13:21:36.211Z"
   },
   {
    "duration": 8,
    "start_time": "2022-10-21T13:22:00.054Z"
   },
   {
    "duration": 11,
    "start_time": "2022-10-21T13:22:34.460Z"
   },
   {
    "duration": 7,
    "start_time": "2022-10-21T13:24:52.794Z"
   },
   {
    "duration": 6,
    "start_time": "2022-10-21T13:25:03.447Z"
   },
   {
    "duration": 10,
    "start_time": "2022-10-21T13:25:47.533Z"
   },
   {
    "duration": 12,
    "start_time": "2022-10-21T13:26:12.447Z"
   },
   {
    "duration": 11,
    "start_time": "2022-10-21T13:26:42.983Z"
   },
   {
    "duration": 91,
    "start_time": "2022-10-21T13:26:53.584Z"
   },
   {
    "duration": 13,
    "start_time": "2022-10-21T13:26:56.766Z"
   },
   {
    "duration": 3,
    "start_time": "2022-10-21T13:27:21.627Z"
   },
   {
    "duration": 14,
    "start_time": "2022-10-21T13:27:27.207Z"
   },
   {
    "duration": 11,
    "start_time": "2022-10-21T13:33:19.571Z"
   },
   {
    "duration": 3,
    "start_time": "2022-10-21T13:44:45.483Z"
   },
   {
    "duration": 7,
    "start_time": "2022-10-21T13:45:46.347Z"
   },
   {
    "duration": 13,
    "start_time": "2022-10-21T13:45:51.129Z"
   },
   {
    "duration": 7,
    "start_time": "2022-10-21T13:52:05.836Z"
   },
   {
    "duration": 514,
    "start_time": "2022-10-21T13:52:13.912Z"
   },
   {
    "duration": 23,
    "start_time": "2022-10-21T13:52:14.428Z"
   },
   {
    "duration": 17,
    "start_time": "2022-10-21T13:52:14.453Z"
   },
   {
    "duration": 11,
    "start_time": "2022-10-21T13:52:14.472Z"
   },
   {
    "duration": 68,
    "start_time": "2022-10-21T13:52:14.486Z"
   },
   {
    "duration": 4,
    "start_time": "2022-10-21T13:52:14.556Z"
   },
   {
    "duration": 10,
    "start_time": "2022-10-21T13:52:14.562Z"
   },
   {
    "duration": 5,
    "start_time": "2022-10-21T13:52:14.574Z"
   },
   {
    "duration": 7,
    "start_time": "2022-10-21T13:52:14.581Z"
   },
   {
    "duration": 4,
    "start_time": "2022-10-21T13:52:14.593Z"
   },
   {
    "duration": 36,
    "start_time": "2022-10-21T13:52:14.630Z"
   },
   {
    "duration": 11,
    "start_time": "2022-10-21T13:52:14.668Z"
   },
   {
    "duration": 3,
    "start_time": "2022-10-21T13:52:14.681Z"
   },
   {
    "duration": 16,
    "start_time": "2022-10-21T13:52:14.686Z"
   },
   {
    "duration": 44,
    "start_time": "2022-10-21T13:52:14.704Z"
   },
   {
    "duration": 18,
    "start_time": "2022-10-21T13:52:14.750Z"
   },
   {
    "duration": 4,
    "start_time": "2022-10-21T13:52:14.769Z"
   },
   {
    "duration": 15,
    "start_time": "2022-10-21T13:52:14.774Z"
   },
   {
    "duration": 6,
    "start_time": "2022-10-21T13:52:14.790Z"
   },
   {
    "duration": 33,
    "start_time": "2022-10-21T13:52:14.797Z"
   },
   {
    "duration": 10,
    "start_time": "2022-10-21T13:52:14.832Z"
   },
   {
    "duration": 13,
    "start_time": "2022-10-21T13:52:14.844Z"
   },
   {
    "duration": 11,
    "start_time": "2022-10-21T13:52:14.858Z"
   },
   {
    "duration": 2,
    "start_time": "2022-10-21T13:52:14.870Z"
   },
   {
    "duration": 19,
    "start_time": "2022-10-21T13:52:14.874Z"
   },
   {
    "duration": 6,
    "start_time": "2022-10-21T13:52:14.894Z"
   },
   {
    "duration": 1,
    "start_time": "2022-10-21T13:52:14.902Z"
   },
   {
    "duration": 8,
    "start_time": "2022-10-21T13:53:02.373Z"
   },
   {
    "duration": 66,
    "start_time": "2022-10-21T13:56:02.104Z"
   },
   {
    "duration": 8,
    "start_time": "2022-10-21T13:56:17.902Z"
   },
   {
    "duration": 2,
    "start_time": "2022-10-21T13:56:45.388Z"
   },
   {
    "duration": 16,
    "start_time": "2022-10-21T13:56:47.680Z"
   },
   {
    "duration": 17,
    "start_time": "2022-10-21T13:56:59.118Z"
   },
   {
    "duration": 518,
    "start_time": "2022-10-21T13:57:04.916Z"
   },
   {
    "duration": 23,
    "start_time": "2022-10-21T13:57:05.436Z"
   },
   {
    "duration": 15,
    "start_time": "2022-10-21T13:57:05.461Z"
   },
   {
    "duration": 10,
    "start_time": "2022-10-21T13:57:05.478Z"
   },
   {
    "duration": 61,
    "start_time": "2022-10-21T13:57:05.490Z"
   },
   {
    "duration": 4,
    "start_time": "2022-10-21T13:57:05.552Z"
   },
   {
    "duration": 13,
    "start_time": "2022-10-21T13:57:05.558Z"
   },
   {
    "duration": 12,
    "start_time": "2022-10-21T13:57:05.572Z"
   },
   {
    "duration": 13,
    "start_time": "2022-10-21T13:57:05.585Z"
   },
   {
    "duration": 4,
    "start_time": "2022-10-21T13:57:05.600Z"
   },
   {
    "duration": 49,
    "start_time": "2022-10-21T13:57:05.606Z"
   },
   {
    "duration": 10,
    "start_time": "2022-10-21T13:57:05.657Z"
   },
   {
    "duration": 4,
    "start_time": "2022-10-21T13:57:05.668Z"
   },
   {
    "duration": 11,
    "start_time": "2022-10-21T13:57:05.674Z"
   },
   {
    "duration": 43,
    "start_time": "2022-10-21T13:57:05.687Z"
   },
   {
    "duration": 20,
    "start_time": "2022-10-21T13:57:05.732Z"
   },
   {
    "duration": 4,
    "start_time": "2022-10-21T13:57:05.754Z"
   },
   {
    "duration": 13,
    "start_time": "2022-10-21T13:57:05.759Z"
   },
   {
    "duration": 6,
    "start_time": "2022-10-21T13:57:05.774Z"
   },
   {
    "duration": 4,
    "start_time": "2022-10-21T13:57:05.782Z"
   },
   {
    "duration": 44,
    "start_time": "2022-10-21T13:57:05.787Z"
   },
   {
    "duration": 16,
    "start_time": "2022-10-21T13:57:05.833Z"
   },
   {
    "duration": 12,
    "start_time": "2022-10-21T13:57:05.851Z"
   },
   {
    "duration": 3,
    "start_time": "2022-10-21T13:57:05.865Z"
   },
   {
    "duration": 17,
    "start_time": "2022-10-21T13:57:05.869Z"
   },
   {
    "duration": 7,
    "start_time": "2022-10-21T13:57:05.888Z"
   },
   {
    "duration": 86,
    "start_time": "2022-10-21T13:57:05.897Z"
   },
   {
    "duration": 0,
    "start_time": "2022-10-21T13:57:05.985Z"
   },
   {
    "duration": 9,
    "start_time": "2022-10-21T13:57:16.404Z"
   },
   {
    "duration": 10,
    "start_time": "2022-10-21T13:57:18.080Z"
   },
   {
    "duration": 17,
    "start_time": "2022-10-21T13:57:29.160Z"
   },
   {
    "duration": 7,
    "start_time": "2022-10-21T14:07:43.899Z"
   },
   {
    "duration": 9,
    "start_time": "2022-10-21T14:07:49.914Z"
   },
   {
    "duration": 6,
    "start_time": "2022-10-21T14:08:06.054Z"
   },
   {
    "duration": 4,
    "start_time": "2022-10-21T14:08:12.635Z"
   },
   {
    "duration": 6,
    "start_time": "2022-10-21T14:26:51.018Z"
   },
   {
    "duration": 8,
    "start_time": "2022-10-21T14:26:55.028Z"
   },
   {
    "duration": 20,
    "start_time": "2022-10-21T14:29:00.442Z"
   },
   {
    "duration": 472,
    "start_time": "2022-10-21T14:41:24.491Z"
   },
   {
    "duration": 24,
    "start_time": "2022-10-21T14:41:24.966Z"
   },
   {
    "duration": 20,
    "start_time": "2022-10-21T14:41:24.992Z"
   },
   {
    "duration": 24,
    "start_time": "2022-10-21T14:41:25.014Z"
   },
   {
    "duration": 52,
    "start_time": "2022-10-21T14:41:25.040Z"
   },
   {
    "duration": 3,
    "start_time": "2022-10-21T14:41:25.094Z"
   },
   {
    "duration": 28,
    "start_time": "2022-10-21T14:41:25.099Z"
   },
   {
    "duration": 14,
    "start_time": "2022-10-21T14:41:25.128Z"
   },
   {
    "duration": 38,
    "start_time": "2022-10-21T14:41:25.144Z"
   },
   {
    "duration": 20,
    "start_time": "2022-10-21T14:41:25.184Z"
   },
   {
    "duration": 38,
    "start_time": "2022-10-21T14:41:25.206Z"
   },
   {
    "duration": 10,
    "start_time": "2022-10-21T14:41:25.246Z"
   },
   {
    "duration": 18,
    "start_time": "2022-10-21T14:41:25.257Z"
   },
   {
    "duration": 36,
    "start_time": "2022-10-21T14:41:25.278Z"
   },
   {
    "duration": 45,
    "start_time": "2022-10-21T14:41:25.316Z"
   },
   {
    "duration": 18,
    "start_time": "2022-10-21T14:41:25.362Z"
   },
   {
    "duration": 8,
    "start_time": "2022-10-21T14:41:25.383Z"
   },
   {
    "duration": 26,
    "start_time": "2022-10-21T14:41:25.393Z"
   },
   {
    "duration": 27,
    "start_time": "2022-10-21T14:41:25.421Z"
   },
   {
    "duration": 31,
    "start_time": "2022-10-21T14:41:25.450Z"
   },
   {
    "duration": 29,
    "start_time": "2022-10-21T14:41:25.482Z"
   },
   {
    "duration": 36,
    "start_time": "2022-10-21T14:41:25.513Z"
   },
   {
    "duration": 17,
    "start_time": "2022-10-21T14:41:25.550Z"
   },
   {
    "duration": 24,
    "start_time": "2022-10-21T14:41:25.569Z"
   },
   {
    "duration": 42,
    "start_time": "2022-10-21T14:41:25.595Z"
   },
   {
    "duration": 15,
    "start_time": "2022-10-21T14:41:25.639Z"
   },
   {
    "duration": 27,
    "start_time": "2022-10-21T14:41:25.656Z"
   },
   {
    "duration": 28,
    "start_time": "2022-10-21T14:41:25.685Z"
   },
   {
    "duration": 32,
    "start_time": "2022-10-21T14:41:25.714Z"
   },
   {
    "duration": 76,
    "start_time": "2022-10-21T14:41:25.747Z"
   },
   {
    "duration": 0,
    "start_time": "2022-10-21T14:41:25.825Z"
   },
   {
    "duration": 7,
    "start_time": "2022-10-21T14:41:30.541Z"
   },
   {
    "duration": 6,
    "start_time": "2022-10-21T14:43:13.644Z"
   },
   {
    "duration": 10,
    "start_time": "2022-10-21T14:43:15.274Z"
   },
   {
    "duration": 6,
    "start_time": "2022-10-21T14:43:40.444Z"
   },
   {
    "duration": 4,
    "start_time": "2022-10-21T14:43:58.509Z"
   },
   {
    "duration": 3,
    "start_time": "2022-10-21T14:44:14.817Z"
   },
   {
    "duration": 4,
    "start_time": "2022-10-21T14:44:16.702Z"
   },
   {
    "duration": 6,
    "start_time": "2022-10-21T14:45:57.402Z"
   },
   {
    "duration": 11,
    "start_time": "2022-10-21T14:45:59.377Z"
   },
   {
    "duration": 6,
    "start_time": "2022-10-21T14:46:16.885Z"
   },
   {
    "duration": 12,
    "start_time": "2022-10-21T14:46:18.645Z"
   },
   {
    "duration": 7,
    "start_time": "2022-10-21T14:46:42.778Z"
   },
   {
    "duration": 12,
    "start_time": "2022-10-21T14:46:44.926Z"
   },
   {
    "duration": 7,
    "start_time": "2022-10-21T14:47:14.144Z"
   },
   {
    "duration": 7,
    "start_time": "2022-10-21T14:47:28.572Z"
   },
   {
    "duration": 12,
    "start_time": "2022-10-21T14:47:29.908Z"
   },
   {
    "duration": 6,
    "start_time": "2022-10-21T14:47:57.908Z"
   },
   {
    "duration": 11,
    "start_time": "2022-10-21T14:47:59.607Z"
   },
   {
    "duration": 7,
    "start_time": "2022-10-21T14:48:25.258Z"
   },
   {
    "duration": 13,
    "start_time": "2022-10-21T14:48:26.918Z"
   },
   {
    "duration": 6,
    "start_time": "2022-10-21T14:49:07.050Z"
   },
   {
    "duration": 12,
    "start_time": "2022-10-21T14:49:08.819Z"
   },
   {
    "duration": 7,
    "start_time": "2022-10-21T14:49:10.787Z"
   },
   {
    "duration": 10,
    "start_time": "2022-10-21T14:49:12.526Z"
   },
   {
    "duration": 6,
    "start_time": "2022-10-21T14:49:44.733Z"
   },
   {
    "duration": 11,
    "start_time": "2022-10-21T14:49:46.594Z"
   },
   {
    "duration": 595,
    "start_time": "2022-10-21T14:51:24.120Z"
   },
   {
    "duration": 189,
    "start_time": "2022-10-21T14:52:11.385Z"
   },
   {
    "duration": 150,
    "start_time": "2022-10-21T14:52:19.193Z"
   },
   {
    "duration": 149,
    "start_time": "2022-10-21T14:52:26.669Z"
   },
   {
    "duration": 187,
    "start_time": "2022-10-21T14:52:35.942Z"
   },
   {
    "duration": 123,
    "start_time": "2022-10-21T14:52:40.778Z"
   },
   {
    "duration": 125,
    "start_time": "2022-10-21T14:52:48.453Z"
   },
   {
    "duration": 126,
    "start_time": "2022-10-21T14:53:03.905Z"
   },
   {
    "duration": 130,
    "start_time": "2022-10-21T14:53:09.674Z"
   },
   {
    "duration": 148,
    "start_time": "2022-10-21T14:53:24.881Z"
   },
   {
    "duration": 179,
    "start_time": "2022-10-21T14:53:27.984Z"
   },
   {
    "duration": 480,
    "start_time": "2022-10-21T14:55:23.045Z"
   },
   {
    "duration": 25,
    "start_time": "2022-10-21T14:55:23.527Z"
   },
   {
    "duration": 20,
    "start_time": "2022-10-21T14:55:23.553Z"
   },
   {
    "duration": 12,
    "start_time": "2022-10-21T14:55:23.575Z"
   },
   {
    "duration": 60,
    "start_time": "2022-10-21T14:55:23.588Z"
   },
   {
    "duration": 4,
    "start_time": "2022-10-21T14:55:23.650Z"
   },
   {
    "duration": 24,
    "start_time": "2022-10-21T14:55:23.655Z"
   },
   {
    "duration": 10,
    "start_time": "2022-10-21T14:55:23.680Z"
   },
   {
    "duration": 18,
    "start_time": "2022-10-21T14:55:23.692Z"
   },
   {
    "duration": 5,
    "start_time": "2022-10-21T14:55:23.713Z"
   },
   {
    "duration": 40,
    "start_time": "2022-10-21T14:55:23.720Z"
   },
   {
    "duration": 9,
    "start_time": "2022-10-21T14:55:23.762Z"
   },
   {
    "duration": 5,
    "start_time": "2022-10-21T14:55:23.773Z"
   },
   {
    "duration": 11,
    "start_time": "2022-10-21T14:55:23.781Z"
   },
   {
    "duration": 49,
    "start_time": "2022-10-21T14:55:23.794Z"
   },
   {
    "duration": 19,
    "start_time": "2022-10-21T14:55:23.845Z"
   },
   {
    "duration": 4,
    "start_time": "2022-10-21T14:55:23.866Z"
   },
   {
    "duration": 18,
    "start_time": "2022-10-21T14:55:23.871Z"
   },
   {
    "duration": 15,
    "start_time": "2022-10-21T14:55:23.891Z"
   },
   {
    "duration": 10,
    "start_time": "2022-10-21T14:55:23.908Z"
   },
   {
    "duration": 27,
    "start_time": "2022-10-21T14:55:23.920Z"
   },
   {
    "duration": 33,
    "start_time": "2022-10-21T14:55:23.948Z"
   },
   {
    "duration": 16,
    "start_time": "2022-10-21T14:55:23.983Z"
   },
   {
    "duration": 3,
    "start_time": "2022-10-21T14:55:24.001Z"
   },
   {
    "duration": 15,
    "start_time": "2022-10-21T14:55:24.005Z"
   },
   {
    "duration": 15,
    "start_time": "2022-10-21T14:55:24.022Z"
   },
   {
    "duration": 2,
    "start_time": "2022-10-21T14:55:24.039Z"
   },
   {
    "duration": 16,
    "start_time": "2022-10-21T15:09:20.629Z"
   },
   {
    "duration": 14,
    "start_time": "2022-10-21T15:10:19.422Z"
   },
   {
    "duration": 11,
    "start_time": "2022-10-21T15:10:31.437Z"
   },
   {
    "duration": 12,
    "start_time": "2022-10-21T15:40:44.181Z"
   },
   {
    "duration": 19,
    "start_time": "2022-10-21T15:43:48.529Z"
   },
   {
    "duration": 498,
    "start_time": "2022-10-21T15:43:55.329Z"
   },
   {
    "duration": 23,
    "start_time": "2022-10-21T15:43:55.829Z"
   },
   {
    "duration": 15,
    "start_time": "2022-10-21T15:43:55.853Z"
   },
   {
    "duration": 10,
    "start_time": "2022-10-21T15:43:55.870Z"
   },
   {
    "duration": 15,
    "start_time": "2022-10-21T15:43:55.882Z"
   },
   {
    "duration": 65,
    "start_time": "2022-10-21T15:43:55.899Z"
   },
   {
    "duration": 4,
    "start_time": "2022-10-21T15:43:55.965Z"
   },
   {
    "duration": 8,
    "start_time": "2022-10-21T15:43:55.971Z"
   },
   {
    "duration": 6,
    "start_time": "2022-10-21T15:43:55.981Z"
   },
   {
    "duration": 40,
    "start_time": "2022-10-21T15:43:55.989Z"
   },
   {
    "duration": 5,
    "start_time": "2022-10-21T15:43:56.031Z"
   },
   {
    "duration": 34,
    "start_time": "2022-10-21T15:43:56.038Z"
   },
   {
    "duration": 12,
    "start_time": "2022-10-21T15:43:56.074Z"
   },
   {
    "duration": 3,
    "start_time": "2022-10-21T15:43:56.090Z"
   },
   {
    "duration": 44,
    "start_time": "2022-10-21T15:43:56.095Z"
   },
   {
    "duration": 24,
    "start_time": "2022-10-21T15:43:56.141Z"
   },
   {
    "duration": 20,
    "start_time": "2022-10-21T15:43:56.166Z"
   },
   {
    "duration": 4,
    "start_time": "2022-10-21T15:43:56.188Z"
   },
   {
    "duration": 37,
    "start_time": "2022-10-21T15:43:56.193Z"
   },
   {
    "duration": 6,
    "start_time": "2022-10-21T15:43:56.232Z"
   },
   {
    "duration": 4,
    "start_time": "2022-10-21T15:43:56.240Z"
   },
   {
    "duration": 16,
    "start_time": "2022-10-21T15:43:56.246Z"
   },
   {
    "duration": 21,
    "start_time": "2022-10-21T15:43:56.264Z"
   },
   {
    "duration": 13,
    "start_time": "2022-10-21T15:43:56.287Z"
   },
   {
    "duration": 3,
    "start_time": "2022-10-21T15:43:56.302Z"
   },
   {
    "duration": 28,
    "start_time": "2022-10-21T15:43:56.307Z"
   },
   {
    "duration": 11,
    "start_time": "2022-10-21T15:43:56.337Z"
   },
   {
    "duration": 15,
    "start_time": "2022-10-21T15:43:56.350Z"
   },
   {
    "duration": 13,
    "start_time": "2022-10-21T15:43:56.367Z"
   },
   {
    "duration": 18,
    "start_time": "2022-10-21T15:44:03.364Z"
   },
   {
    "duration": 13,
    "start_time": "2022-10-21T15:44:06.377Z"
   },
   {
    "duration": 474,
    "start_time": "2022-10-21T15:44:11.872Z"
   },
   {
    "duration": 23,
    "start_time": "2022-10-21T15:44:12.348Z"
   },
   {
    "duration": 18,
    "start_time": "2022-10-21T15:44:12.373Z"
   },
   {
    "duration": 11,
    "start_time": "2022-10-21T15:44:12.394Z"
   },
   {
    "duration": 36,
    "start_time": "2022-10-21T15:44:12.407Z"
   },
   {
    "duration": 38,
    "start_time": "2022-10-21T15:44:12.444Z"
   },
   {
    "duration": 4,
    "start_time": "2022-10-21T15:44:12.484Z"
   },
   {
    "duration": 15,
    "start_time": "2022-10-21T15:44:12.489Z"
   },
   {
    "duration": 5,
    "start_time": "2022-10-21T15:44:12.530Z"
   },
   {
    "duration": 7,
    "start_time": "2022-10-21T15:44:12.539Z"
   },
   {
    "duration": 5,
    "start_time": "2022-10-21T15:44:12.547Z"
   },
   {
    "duration": 36,
    "start_time": "2022-10-21T15:44:12.554Z"
   },
   {
    "duration": 40,
    "start_time": "2022-10-21T15:44:12.592Z"
   },
   {
    "duration": 4,
    "start_time": "2022-10-21T15:44:12.633Z"
   },
   {
    "duration": 12,
    "start_time": "2022-10-21T15:44:12.639Z"
   },
   {
    "duration": 23,
    "start_time": "2022-10-21T15:44:12.653Z"
   },
   {
    "duration": 19,
    "start_time": "2022-10-21T15:44:12.677Z"
   },
   {
    "duration": 3,
    "start_time": "2022-10-21T15:44:12.698Z"
   },
   {
    "duration": 11,
    "start_time": "2022-10-21T15:44:12.729Z"
   },
   {
    "duration": 8,
    "start_time": "2022-10-21T15:44:12.742Z"
   },
   {
    "duration": 4,
    "start_time": "2022-10-21T15:44:12.752Z"
   },
   {
    "duration": 12,
    "start_time": "2022-10-21T15:44:12.758Z"
   },
   {
    "duration": 14,
    "start_time": "2022-10-21T15:44:12.772Z"
   },
   {
    "duration": 44,
    "start_time": "2022-10-21T15:44:12.788Z"
   },
   {
    "duration": 3,
    "start_time": "2022-10-21T15:44:12.834Z"
   },
   {
    "duration": 9,
    "start_time": "2022-10-21T15:44:12.839Z"
   },
   {
    "duration": 16,
    "start_time": "2022-10-21T15:44:12.850Z"
   },
   {
    "duration": 15,
    "start_time": "2022-10-21T15:44:12.870Z"
   },
   {
    "duration": 45,
    "start_time": "2022-10-21T15:44:12.887Z"
   },
   {
    "duration": 475,
    "start_time": "2022-10-21T15:44:33.342Z"
   },
   {
    "duration": 23,
    "start_time": "2022-10-21T15:44:33.819Z"
   },
   {
    "duration": 16,
    "start_time": "2022-10-21T15:44:33.843Z"
   },
   {
    "duration": 16,
    "start_time": "2022-10-21T15:44:33.862Z"
   },
   {
    "duration": 16,
    "start_time": "2022-10-21T15:44:33.881Z"
   },
   {
    "duration": 56,
    "start_time": "2022-10-21T15:44:33.899Z"
   },
   {
    "duration": 4,
    "start_time": "2022-10-21T15:44:33.957Z"
   },
   {
    "duration": 16,
    "start_time": "2022-10-21T15:44:33.962Z"
   },
   {
    "duration": 7,
    "start_time": "2022-10-21T15:44:33.980Z"
   },
   {
    "duration": 8,
    "start_time": "2022-10-21T15:44:33.989Z"
   },
   {
    "duration": 12,
    "start_time": "2022-10-21T15:44:33.999Z"
   },
   {
    "duration": 52,
    "start_time": "2022-10-21T15:44:34.013Z"
   },
   {
    "duration": 12,
    "start_time": "2022-10-21T15:44:34.066Z"
   },
   {
    "duration": 4,
    "start_time": "2022-10-21T15:44:34.081Z"
   },
   {
    "duration": 13,
    "start_time": "2022-10-21T15:44:34.087Z"
   },
   {
    "duration": 47,
    "start_time": "2022-10-21T15:44:34.102Z"
   },
   {
    "duration": 18,
    "start_time": "2022-10-21T15:44:34.150Z"
   },
   {
    "duration": 3,
    "start_time": "2022-10-21T15:44:34.170Z"
   },
   {
    "duration": 11,
    "start_time": "2022-10-21T15:44:34.175Z"
   },
   {
    "duration": 6,
    "start_time": "2022-10-21T15:44:34.188Z"
   },
   {
    "duration": 35,
    "start_time": "2022-10-21T15:44:34.195Z"
   },
   {
    "duration": 11,
    "start_time": "2022-10-21T15:44:34.231Z"
   },
   {
    "duration": 14,
    "start_time": "2022-10-21T15:44:34.243Z"
   },
   {
    "duration": 11,
    "start_time": "2022-10-21T15:44:34.258Z"
   },
   {
    "duration": 6,
    "start_time": "2022-10-21T15:44:34.271Z"
   },
   {
    "duration": 8,
    "start_time": "2022-10-21T15:44:34.279Z"
   },
   {
    "duration": 52,
    "start_time": "2022-10-21T15:44:34.289Z"
   },
   {
    "duration": 17,
    "start_time": "2022-10-21T15:44:34.343Z"
   },
   {
    "duration": 15,
    "start_time": "2022-10-21T15:44:34.362Z"
   },
   {
    "duration": 73,
    "start_time": "2022-10-21T15:45:00.248Z"
   },
   {
    "duration": 15,
    "start_time": "2022-10-21T15:45:00.323Z"
   },
   {
    "duration": 28,
    "start_time": "2022-10-21T15:45:00.340Z"
   },
   {
    "duration": 14,
    "start_time": "2022-10-21T15:45:00.369Z"
   },
   {
    "duration": 17,
    "start_time": "2022-10-21T15:45:00.385Z"
   },
   {
    "duration": 40,
    "start_time": "2022-10-21T15:45:00.403Z"
   },
   {
    "duration": 4,
    "start_time": "2022-10-21T15:45:00.445Z"
   },
   {
    "duration": 15,
    "start_time": "2022-10-21T15:45:00.450Z"
   },
   {
    "duration": 23,
    "start_time": "2022-10-21T15:45:00.467Z"
   },
   {
    "duration": 11,
    "start_time": "2022-10-21T15:45:00.491Z"
   },
   {
    "duration": 12,
    "start_time": "2022-10-21T15:45:00.503Z"
   },
   {
    "duration": 45,
    "start_time": "2022-10-21T15:45:00.516Z"
   },
   {
    "duration": 11,
    "start_time": "2022-10-21T15:45:00.562Z"
   },
   {
    "duration": 10,
    "start_time": "2022-10-21T15:45:00.575Z"
   },
   {
    "duration": 18,
    "start_time": "2022-10-21T15:45:00.586Z"
   },
   {
    "duration": 34,
    "start_time": "2022-10-21T15:45:00.606Z"
   },
   {
    "duration": 17,
    "start_time": "2022-10-21T15:45:00.642Z"
   },
   {
    "duration": 3,
    "start_time": "2022-10-21T15:45:00.661Z"
   },
   {
    "duration": 22,
    "start_time": "2022-10-21T15:45:00.666Z"
   },
   {
    "duration": 22,
    "start_time": "2022-10-21T15:45:00.690Z"
   },
   {
    "duration": 14,
    "start_time": "2022-10-21T15:45:00.714Z"
   },
   {
    "duration": 37,
    "start_time": "2022-10-21T15:45:00.730Z"
   },
   {
    "duration": 31,
    "start_time": "2022-10-21T15:45:00.769Z"
   },
   {
    "duration": 34,
    "start_time": "2022-10-21T15:45:00.802Z"
   },
   {
    "duration": 6,
    "start_time": "2022-10-21T15:45:00.838Z"
   },
   {
    "duration": 18,
    "start_time": "2022-10-21T15:45:00.846Z"
   },
   {
    "duration": 20,
    "start_time": "2022-10-21T15:45:00.866Z"
   },
   {
    "duration": 34,
    "start_time": "2022-10-21T15:45:00.887Z"
   },
   {
    "duration": 30,
    "start_time": "2022-10-21T15:45:00.923Z"
   },
   {
    "duration": 488,
    "start_time": "2022-10-21T15:45:20.778Z"
   },
   {
    "duration": 24,
    "start_time": "2022-10-21T15:45:21.268Z"
   },
   {
    "duration": 18,
    "start_time": "2022-10-21T15:45:21.293Z"
   },
   {
    "duration": 25,
    "start_time": "2022-10-21T15:45:21.313Z"
   },
   {
    "duration": 13,
    "start_time": "2022-10-21T15:45:21.339Z"
   },
   {
    "duration": 38,
    "start_time": "2022-10-21T15:45:21.353Z"
   },
   {
    "duration": 4,
    "start_time": "2022-10-21T15:45:21.393Z"
   },
   {
    "duration": 39,
    "start_time": "2022-10-21T15:45:21.398Z"
   },
   {
    "duration": 22,
    "start_time": "2022-10-21T15:45:21.439Z"
   },
   {
    "duration": 14,
    "start_time": "2022-10-21T15:45:21.465Z"
   },
   {
    "duration": 21,
    "start_time": "2022-10-21T15:45:21.481Z"
   },
   {
    "duration": 50,
    "start_time": "2022-10-21T15:45:21.503Z"
   },
   {
    "duration": 12,
    "start_time": "2022-10-21T15:45:21.555Z"
   },
   {
    "duration": 7,
    "start_time": "2022-10-21T15:45:21.569Z"
   },
   {
    "duration": 55,
    "start_time": "2022-10-21T15:45:21.579Z"
   },
   {
    "duration": 45,
    "start_time": "2022-10-21T15:45:21.637Z"
   },
   {
    "duration": 20,
    "start_time": "2022-10-21T15:45:21.684Z"
   },
   {
    "duration": 8,
    "start_time": "2022-10-21T15:45:21.706Z"
   },
   {
    "duration": 27,
    "start_time": "2022-10-21T15:45:21.716Z"
   },
   {
    "duration": 32,
    "start_time": "2022-10-21T15:45:21.747Z"
   },
   {
    "duration": 16,
    "start_time": "2022-10-21T15:45:21.781Z"
   },
   {
    "duration": 38,
    "start_time": "2022-10-21T15:45:21.799Z"
   },
   {
    "duration": 32,
    "start_time": "2022-10-21T15:45:21.839Z"
   },
   {
    "duration": 32,
    "start_time": "2022-10-21T15:45:21.873Z"
   },
   {
    "duration": 16,
    "start_time": "2022-10-21T15:45:21.907Z"
   },
   {
    "duration": 36,
    "start_time": "2022-10-21T15:45:21.925Z"
   },
   {
    "duration": 34,
    "start_time": "2022-10-21T15:45:21.963Z"
   },
   {
    "duration": 34,
    "start_time": "2022-10-21T15:45:22.001Z"
   },
   {
    "duration": 55,
    "start_time": "2022-10-21T15:45:22.037Z"
   },
   {
    "duration": 7,
    "start_time": "2022-10-21T15:46:01.241Z"
   },
   {
    "duration": 4,
    "start_time": "2022-10-21T15:48:26.062Z"
   },
   {
    "duration": 13,
    "start_time": "2022-10-21T15:50:16.618Z"
   },
   {
    "duration": 446,
    "start_time": "2022-10-21T15:50:54.378Z"
   },
   {
    "duration": 22,
    "start_time": "2022-10-21T15:50:54.825Z"
   },
   {
    "duration": 15,
    "start_time": "2022-10-21T15:50:54.849Z"
   },
   {
    "duration": 10,
    "start_time": "2022-10-21T15:50:54.865Z"
   },
   {
    "duration": 10,
    "start_time": "2022-10-21T15:50:54.877Z"
   },
   {
    "duration": 60,
    "start_time": "2022-10-21T15:50:54.889Z"
   },
   {
    "duration": 4,
    "start_time": "2022-10-21T15:50:54.950Z"
   },
   {
    "duration": 8,
    "start_time": "2022-10-21T15:50:54.955Z"
   },
   {
    "duration": 12,
    "start_time": "2022-10-21T15:50:54.965Z"
   },
   {
    "duration": 10,
    "start_time": "2022-10-21T15:50:54.978Z"
   },
   {
    "duration": 13,
    "start_time": "2022-10-21T15:50:54.990Z"
   },
   {
    "duration": 47,
    "start_time": "2022-10-21T15:50:55.004Z"
   },
   {
    "duration": 10,
    "start_time": "2022-10-21T15:50:55.053Z"
   },
   {
    "duration": 4,
    "start_time": "2022-10-21T15:50:55.066Z"
   },
   {
    "duration": 12,
    "start_time": "2022-10-21T15:50:55.071Z"
   },
   {
    "duration": 20,
    "start_time": "2022-10-21T15:50:55.085Z"
   },
   {
    "duration": 19,
    "start_time": "2022-10-21T15:50:55.128Z"
   },
   {
    "duration": 4,
    "start_time": "2022-10-21T15:50:55.149Z"
   },
   {
    "duration": 11,
    "start_time": "2022-10-21T15:50:55.154Z"
   },
   {
    "duration": 6,
    "start_time": "2022-10-21T15:50:55.166Z"
   },
   {
    "duration": 3,
    "start_time": "2022-10-21T15:50:55.174Z"
   },
   {
    "duration": 11,
    "start_time": "2022-10-21T15:50:55.178Z"
   },
   {
    "duration": 46,
    "start_time": "2022-10-21T15:50:55.190Z"
   },
   {
    "duration": 12,
    "start_time": "2022-10-21T15:50:55.237Z"
   },
   {
    "duration": 2,
    "start_time": "2022-10-21T15:50:55.251Z"
   },
   {
    "duration": 7,
    "start_time": "2022-10-21T15:50:55.255Z"
   },
   {
    "duration": 10,
    "start_time": "2022-10-21T15:50:55.264Z"
   },
   {
    "duration": 15,
    "start_time": "2022-10-21T15:50:55.276Z"
   },
   {
    "duration": 45,
    "start_time": "2022-10-21T15:50:55.293Z"
   },
   {
    "duration": 13,
    "start_time": "2022-10-21T16:01:27.966Z"
   },
   {
    "duration": 69,
    "start_time": "2022-10-21T16:03:09.073Z"
   },
   {
    "duration": 14,
    "start_time": "2022-10-21T16:03:46.298Z"
   },
   {
    "duration": 14,
    "start_time": "2022-10-21T16:03:59.464Z"
   },
   {
    "duration": 19,
    "start_time": "2022-10-21T16:06:26.743Z"
   },
   {
    "duration": 7,
    "start_time": "2022-10-21T16:08:06.560Z"
   },
   {
    "duration": 7,
    "start_time": "2022-10-21T16:08:12.947Z"
   },
   {
    "duration": 6,
    "start_time": "2022-10-21T16:08:14.617Z"
   },
   {
    "duration": 74,
    "start_time": "2022-10-21T16:09:07.790Z"
   },
   {
    "duration": 12,
    "start_time": "2022-10-21T16:10:32.197Z"
   },
   {
    "duration": 12,
    "start_time": "2022-10-21T16:10:44.807Z"
   },
   {
    "duration": 6,
    "start_time": "2022-10-21T16:11:00.584Z"
   },
   {
    "duration": 12,
    "start_time": "2022-10-21T16:11:02.646Z"
   },
   {
    "duration": 6,
    "start_time": "2022-10-21T16:11:13.399Z"
   },
   {
    "duration": 12,
    "start_time": "2022-10-21T16:11:17.260Z"
   },
   {
    "duration": 5,
    "start_time": "2022-10-21T16:11:26.344Z"
   },
   {
    "duration": 12,
    "start_time": "2022-10-21T16:11:27.978Z"
   },
   {
    "duration": 6,
    "start_time": "2022-10-21T16:11:37.590Z"
   },
   {
    "duration": 13,
    "start_time": "2022-10-21T16:11:39.150Z"
   },
   {
    "duration": 7,
    "start_time": "2022-10-21T16:11:42.774Z"
   },
   {
    "duration": 13,
    "start_time": "2022-10-21T16:11:46.318Z"
   },
   {
    "duration": 495,
    "start_time": "2022-10-21T16:11:52.394Z"
   },
   {
    "duration": 22,
    "start_time": "2022-10-21T16:11:52.891Z"
   },
   {
    "duration": 21,
    "start_time": "2022-10-21T16:11:52.915Z"
   },
   {
    "duration": 17,
    "start_time": "2022-10-21T16:11:52.938Z"
   },
   {
    "duration": 17,
    "start_time": "2022-10-21T16:11:52.957Z"
   },
   {
    "duration": 45,
    "start_time": "2022-10-21T16:11:52.975Z"
   },
   {
    "duration": 3,
    "start_time": "2022-10-21T16:11:53.022Z"
   },
   {
    "duration": 21,
    "start_time": "2022-10-21T16:11:53.029Z"
   },
   {
    "duration": 18,
    "start_time": "2022-10-21T16:11:53.052Z"
   },
   {
    "duration": 15,
    "start_time": "2022-10-21T16:11:53.072Z"
   },
   {
    "duration": 18,
    "start_time": "2022-10-21T16:11:53.089Z"
   },
   {
    "duration": 46,
    "start_time": "2022-10-21T16:11:53.109Z"
   },
   {
    "duration": 10,
    "start_time": "2022-10-21T16:11:53.157Z"
   },
   {
    "duration": 16,
    "start_time": "2022-10-21T16:11:53.169Z"
   },
   {
    "duration": 25,
    "start_time": "2022-10-21T16:11:53.186Z"
   },
   {
    "duration": 46,
    "start_time": "2022-10-21T16:11:53.213Z"
   },
   {
    "duration": 20,
    "start_time": "2022-10-21T16:11:53.261Z"
   },
   {
    "duration": 20,
    "start_time": "2022-10-21T16:11:53.282Z"
   },
   {
    "duration": 20,
    "start_time": "2022-10-21T16:11:53.304Z"
   },
   {
    "duration": 26,
    "start_time": "2022-10-21T16:11:53.325Z"
   },
   {
    "duration": 10,
    "start_time": "2022-10-21T16:11:53.353Z"
   },
   {
    "duration": 34,
    "start_time": "2022-10-21T16:11:53.365Z"
   },
   {
    "duration": 23,
    "start_time": "2022-10-21T16:11:53.401Z"
   },
   {
    "duration": 24,
    "start_time": "2022-10-21T16:11:53.426Z"
   },
   {
    "duration": 22,
    "start_time": "2022-10-21T16:11:53.452Z"
   },
   {
    "duration": 15,
    "start_time": "2022-10-21T16:11:53.477Z"
   },
   {
    "duration": 23,
    "start_time": "2022-10-21T16:11:53.494Z"
   },
   {
    "duration": 3,
    "start_time": "2022-10-21T16:11:53.519Z"
   },
   {
    "duration": 38,
    "start_time": "2022-10-21T16:11:53.524Z"
   },
   {
    "duration": 12,
    "start_time": "2022-10-21T16:11:53.564Z"
   },
   {
    "duration": 20,
    "start_time": "2022-10-21T16:11:53.578Z"
   },
   {
    "duration": 30,
    "start_time": "2022-10-21T16:11:53.600Z"
   },
   {
    "duration": 6,
    "start_time": "2022-10-21T16:12:27.258Z"
   },
   {
    "duration": 13,
    "start_time": "2022-10-21T16:12:29.025Z"
   },
   {
    "duration": 7,
    "start_time": "2022-10-21T16:12:38.991Z"
   },
   {
    "duration": 12,
    "start_time": "2022-10-21T16:12:40.724Z"
   },
   {
    "duration": 7,
    "start_time": "2022-10-21T16:13:01.086Z"
   },
   {
    "duration": 13,
    "start_time": "2022-10-21T16:13:02.645Z"
   },
   {
    "duration": 88,
    "start_time": "2022-10-21T16:17:29.764Z"
   },
   {
    "duration": 10,
    "start_time": "2022-10-21T16:18:47.840Z"
   },
   {
    "duration": 30,
    "start_time": "2022-10-21T16:18:58.005Z"
   },
   {
    "duration": 454,
    "start_time": "2022-10-21T16:20:34.879Z"
   },
   {
    "duration": 23,
    "start_time": "2022-10-21T16:20:35.336Z"
   },
   {
    "duration": 16,
    "start_time": "2022-10-21T16:20:35.361Z"
   },
   {
    "duration": 10,
    "start_time": "2022-10-21T16:20:35.379Z"
   },
   {
    "duration": 10,
    "start_time": "2022-10-21T16:20:35.391Z"
   },
   {
    "duration": 60,
    "start_time": "2022-10-21T16:20:35.402Z"
   },
   {
    "duration": 3,
    "start_time": "2022-10-21T16:20:35.464Z"
   },
   {
    "duration": 9,
    "start_time": "2022-10-21T16:20:35.469Z"
   },
   {
    "duration": 7,
    "start_time": "2022-10-21T16:20:35.479Z"
   },
   {
    "duration": 8,
    "start_time": "2022-10-21T16:20:35.487Z"
   },
   {
    "duration": 4,
    "start_time": "2022-10-21T16:20:35.497Z"
   },
   {
    "duration": 36,
    "start_time": "2022-10-21T16:20:35.529Z"
   },
   {
    "duration": 10,
    "start_time": "2022-10-21T16:20:35.567Z"
   },
   {
    "duration": 4,
    "start_time": "2022-10-21T16:20:35.579Z"
   },
   {
    "duration": 12,
    "start_time": "2022-10-21T16:20:35.584Z"
   },
   {
    "duration": 47,
    "start_time": "2022-10-21T16:20:35.598Z"
   },
   {
    "duration": 17,
    "start_time": "2022-10-21T16:20:35.647Z"
   },
   {
    "duration": 3,
    "start_time": "2022-10-21T16:20:35.666Z"
   },
   {
    "duration": 11,
    "start_time": "2022-10-21T16:20:35.671Z"
   },
   {
    "duration": 5,
    "start_time": "2022-10-21T16:20:35.684Z"
   },
   {
    "duration": 4,
    "start_time": "2022-10-21T16:20:35.690Z"
   },
   {
    "duration": 38,
    "start_time": "2022-10-21T16:20:35.695Z"
   },
   {
    "duration": 10,
    "start_time": "2022-10-21T16:20:35.735Z"
   },
   {
    "duration": 11,
    "start_time": "2022-10-21T16:20:35.747Z"
   },
   {
    "duration": 12,
    "start_time": "2022-10-21T16:20:35.759Z"
   },
   {
    "duration": 3,
    "start_time": "2022-10-21T16:20:35.772Z"
   },
   {
    "duration": 8,
    "start_time": "2022-10-21T16:20:35.776Z"
   },
   {
    "duration": 45,
    "start_time": "2022-10-21T16:20:35.785Z"
   },
   {
    "duration": 15,
    "start_time": "2022-10-21T16:20:35.832Z"
   },
   {
    "duration": 12,
    "start_time": "2022-10-21T16:20:35.849Z"
   },
   {
    "duration": 5,
    "start_time": "2022-10-21T16:20:35.862Z"
   },
   {
    "duration": 12,
    "start_time": "2022-10-21T16:20:35.869Z"
   },
   {
    "duration": 7,
    "start_time": "2022-10-21T16:20:35.882Z"
   },
   {
    "duration": 62,
    "start_time": "2022-10-21T16:20:35.891Z"
   },
   {
    "duration": 490,
    "start_time": "2022-10-21T16:27:01.188Z"
   },
   {
    "duration": 23,
    "start_time": "2022-10-21T16:27:01.680Z"
   },
   {
    "duration": 28,
    "start_time": "2022-10-21T16:27:01.704Z"
   },
   {
    "duration": 11,
    "start_time": "2022-10-21T16:27:01.734Z"
   },
   {
    "duration": 11,
    "start_time": "2022-10-21T16:27:01.747Z"
   },
   {
    "duration": 71,
    "start_time": "2022-10-21T16:27:01.760Z"
   },
   {
    "duration": 4,
    "start_time": "2022-10-21T16:27:01.833Z"
   },
   {
    "duration": 19,
    "start_time": "2022-10-21T16:27:01.839Z"
   },
   {
    "duration": 13,
    "start_time": "2022-10-21T16:27:01.859Z"
   },
   {
    "duration": 8,
    "start_time": "2022-10-21T16:27:01.876Z"
   },
   {
    "duration": 45,
    "start_time": "2022-10-21T16:27:01.886Z"
   },
   {
    "duration": 54,
    "start_time": "2022-10-21T16:27:01.933Z"
   },
   {
    "duration": 11,
    "start_time": "2022-10-21T16:27:01.989Z"
   },
   {
    "duration": 4,
    "start_time": "2022-10-21T16:27:02.002Z"
   },
   {
    "duration": 24,
    "start_time": "2022-10-21T16:27:02.007Z"
   },
   {
    "duration": 33,
    "start_time": "2022-10-21T16:27:02.033Z"
   },
   {
    "duration": 26,
    "start_time": "2022-10-21T16:27:02.068Z"
   },
   {
    "duration": 4,
    "start_time": "2022-10-21T16:27:02.096Z"
   },
   {
    "duration": 14,
    "start_time": "2022-10-21T16:27:02.102Z"
   },
   {
    "duration": 16,
    "start_time": "2022-10-21T16:27:02.118Z"
   },
   {
    "duration": 13,
    "start_time": "2022-10-21T16:27:02.136Z"
   },
   {
    "duration": 17,
    "start_time": "2022-10-21T16:27:02.150Z"
   },
   {
    "duration": 16,
    "start_time": "2022-10-21T16:27:02.169Z"
   },
   {
    "duration": 11,
    "start_time": "2022-10-21T16:27:02.187Z"
   },
   {
    "duration": 12,
    "start_time": "2022-10-21T16:27:02.200Z"
   },
   {
    "duration": 16,
    "start_time": "2022-10-21T16:27:02.214Z"
   },
   {
    "duration": 8,
    "start_time": "2022-10-21T16:27:02.232Z"
   },
   {
    "duration": 12,
    "start_time": "2022-10-21T16:27:02.244Z"
   },
   {
    "duration": 11,
    "start_time": "2022-10-21T16:27:02.258Z"
   },
   {
    "duration": 7,
    "start_time": "2022-10-21T16:27:02.271Z"
   },
   {
    "duration": 13,
    "start_time": "2022-10-21T16:27:02.279Z"
   },
   {
    "duration": 9,
    "start_time": "2022-10-21T16:27:02.330Z"
   },
   {
    "duration": 28,
    "start_time": "2022-10-21T16:27:02.341Z"
   },
   {
    "duration": 29,
    "start_time": "2022-10-21T16:37:43.187Z"
   },
   {
    "duration": 36,
    "start_time": "2022-10-21T16:39:32.828Z"
   },
   {
    "duration": 489,
    "start_time": "2022-10-21T17:03:13.986Z"
   },
   {
    "duration": 23,
    "start_time": "2022-10-21T17:03:14.477Z"
   },
   {
    "duration": 29,
    "start_time": "2022-10-21T17:03:14.501Z"
   },
   {
    "duration": 11,
    "start_time": "2022-10-21T17:03:14.532Z"
   },
   {
    "duration": 11,
    "start_time": "2022-10-21T17:03:14.545Z"
   },
   {
    "duration": 37,
    "start_time": "2022-10-21T17:03:14.558Z"
   },
   {
    "duration": 4,
    "start_time": "2022-10-21T17:03:14.630Z"
   },
   {
    "duration": 11,
    "start_time": "2022-10-21T17:03:14.636Z"
   },
   {
    "duration": 5,
    "start_time": "2022-10-21T17:03:14.648Z"
   },
   {
    "duration": 9,
    "start_time": "2022-10-21T17:03:14.658Z"
   },
   {
    "duration": 6,
    "start_time": "2022-10-21T17:03:14.669Z"
   },
   {
    "duration": 75,
    "start_time": "2022-10-21T17:03:14.677Z"
   },
   {
    "duration": 10,
    "start_time": "2022-10-21T17:03:14.754Z"
   },
   {
    "duration": 5,
    "start_time": "2022-10-21T17:03:14.765Z"
   },
   {
    "duration": 13,
    "start_time": "2022-10-21T17:03:14.771Z"
   },
   {
    "duration": 50,
    "start_time": "2022-10-21T17:03:14.786Z"
   },
   {
    "duration": 29,
    "start_time": "2022-10-21T17:03:14.839Z"
   },
   {
    "duration": 5,
    "start_time": "2022-10-21T17:03:14.870Z"
   },
   {
    "duration": 20,
    "start_time": "2022-10-21T17:03:14.877Z"
   },
   {
    "duration": 31,
    "start_time": "2022-10-21T17:03:14.900Z"
   },
   {
    "duration": 7,
    "start_time": "2022-10-21T17:03:14.934Z"
   },
   {
    "duration": 15,
    "start_time": "2022-10-21T17:03:14.943Z"
   },
   {
    "duration": 17,
    "start_time": "2022-10-21T17:03:14.960Z"
   },
   {
    "duration": 15,
    "start_time": "2022-10-21T17:03:14.979Z"
   },
   {
    "duration": 48,
    "start_time": "2022-10-21T17:03:14.995Z"
   },
   {
    "duration": 3,
    "start_time": "2022-10-21T17:03:15.045Z"
   },
   {
    "duration": 14,
    "start_time": "2022-10-21T17:03:15.050Z"
   },
   {
    "duration": 17,
    "start_time": "2022-10-21T17:03:15.069Z"
   },
   {
    "duration": 47,
    "start_time": "2022-10-21T17:03:15.088Z"
   },
   {
    "duration": 57,
    "start_time": "2022-10-21T17:03:15.137Z"
   },
   {
    "duration": 7,
    "start_time": "2022-10-21T17:03:15.196Z"
   },
   {
    "duration": 35,
    "start_time": "2022-10-21T17:03:15.205Z"
   },
   {
    "duration": 4,
    "start_time": "2022-10-21T17:03:15.242Z"
   },
   {
    "duration": 33,
    "start_time": "2022-10-21T17:03:15.248Z"
   },
   {
    "duration": 15,
    "start_time": "2022-10-21T17:09:35.262Z"
   },
   {
    "duration": 10,
    "start_time": "2022-10-21T17:09:41.436Z"
   },
   {
    "duration": 68,
    "start_time": "2022-10-21T17:09:55.992Z"
   },
   {
    "duration": 1369,
    "start_time": "2022-10-21T17:11:15.218Z"
   },
   {
    "duration": 2,
    "start_time": "2022-10-21T17:13:22.049Z"
   },
   {
    "duration": 2,
    "start_time": "2022-10-21T17:13:28.248Z"
   },
   {
    "duration": 7,
    "start_time": "2022-10-21T17:13:41.457Z"
   },
   {
    "duration": 8,
    "start_time": "2022-10-21T17:14:07.909Z"
   },
   {
    "duration": 450,
    "start_time": "2022-10-21T17:14:12.488Z"
   },
   {
    "duration": 22,
    "start_time": "2022-10-21T17:14:12.940Z"
   },
   {
    "duration": 20,
    "start_time": "2022-10-21T17:14:12.964Z"
   },
   {
    "duration": 16,
    "start_time": "2022-10-21T17:14:12.985Z"
   },
   {
    "duration": 28,
    "start_time": "2022-10-21T17:14:13.003Z"
   },
   {
    "duration": 11,
    "start_time": "2022-10-21T17:14:13.032Z"
   },
   {
    "duration": 36,
    "start_time": "2022-10-21T17:14:13.045Z"
   },
   {
    "duration": 3,
    "start_time": "2022-10-21T17:14:13.083Z"
   },
   {
    "duration": 9,
    "start_time": "2022-10-21T17:14:13.088Z"
   },
   {
    "duration": 4,
    "start_time": "2022-10-21T17:14:13.129Z"
   },
   {
    "duration": 8,
    "start_time": "2022-10-21T17:14:13.135Z"
   },
   {
    "duration": 4,
    "start_time": "2022-10-21T17:14:13.144Z"
   },
   {
    "duration": 33,
    "start_time": "2022-10-21T17:14:13.150Z"
   },
   {
    "duration": 9,
    "start_time": "2022-10-21T17:14:13.186Z"
   },
   {
    "duration": 4,
    "start_time": "2022-10-21T17:14:13.197Z"
   },
   {
    "duration": 12,
    "start_time": "2022-10-21T17:14:13.230Z"
   },
   {
    "duration": 24,
    "start_time": "2022-10-21T17:14:13.243Z"
   },
   {
    "duration": 17,
    "start_time": "2022-10-21T17:14:13.268Z"
   },
   {
    "duration": 3,
    "start_time": "2022-10-21T17:14:13.287Z"
   },
   {
    "duration": 26,
    "start_time": "2022-10-21T17:14:13.292Z"
   },
   {
    "duration": 5,
    "start_time": "2022-10-21T17:14:13.330Z"
   },
   {
    "duration": 16,
    "start_time": "2022-10-21T17:14:13.337Z"
   },
   {
    "duration": 36,
    "start_time": "2022-10-21T17:14:13.354Z"
   },
   {
    "duration": 17,
    "start_time": "2022-10-21T17:14:13.392Z"
   },
   {
    "duration": 12,
    "start_time": "2022-10-21T17:14:13.410Z"
   },
   {
    "duration": 13,
    "start_time": "2022-10-21T17:14:13.424Z"
   },
   {
    "duration": 3,
    "start_time": "2022-10-21T17:14:13.438Z"
   },
   {
    "duration": 7,
    "start_time": "2022-10-21T17:14:13.442Z"
   },
   {
    "duration": 12,
    "start_time": "2022-10-21T17:14:13.451Z"
   },
   {
    "duration": 13,
    "start_time": "2022-10-21T17:14:13.465Z"
   },
   {
    "duration": 62,
    "start_time": "2022-10-21T17:14:13.479Z"
   },
   {
    "duration": 6,
    "start_time": "2022-10-21T17:14:13.542Z"
   },
   {
    "duration": 15,
    "start_time": "2022-10-21T17:14:13.549Z"
   },
   {
    "duration": 4,
    "start_time": "2022-10-21T17:14:13.566Z"
   },
   {
    "duration": 43,
    "start_time": "2022-10-21T17:14:13.571Z"
   },
   {
    "duration": 29,
    "start_time": "2022-10-21T17:14:28.692Z"
   },
   {
    "duration": 492,
    "start_time": "2022-10-21T17:14:48.049Z"
   },
   {
    "duration": 22,
    "start_time": "2022-10-21T17:14:48.543Z"
   },
   {
    "duration": 15,
    "start_time": "2022-10-21T17:14:48.566Z"
   },
   {
    "duration": 10,
    "start_time": "2022-10-21T17:14:48.584Z"
   },
   {
    "duration": 37,
    "start_time": "2022-10-21T17:14:48.595Z"
   },
   {
    "duration": 36,
    "start_time": "2022-10-21T17:14:48.634Z"
   },
   {
    "duration": 3,
    "start_time": "2022-10-21T17:14:48.672Z"
   },
   {
    "duration": 8,
    "start_time": "2022-10-21T17:14:48.677Z"
   },
   {
    "duration": 6,
    "start_time": "2022-10-21T17:14:48.687Z"
   },
   {
    "duration": 33,
    "start_time": "2022-10-21T17:14:48.696Z"
   },
   {
    "duration": 4,
    "start_time": "2022-10-21T17:14:48.732Z"
   },
   {
    "duration": 36,
    "start_time": "2022-10-21T17:14:48.738Z"
   },
   {
    "duration": 10,
    "start_time": "2022-10-21T17:14:48.775Z"
   },
   {
    "duration": 3,
    "start_time": "2022-10-21T17:14:48.787Z"
   },
   {
    "duration": 13,
    "start_time": "2022-10-21T17:14:48.792Z"
   },
   {
    "duration": 20,
    "start_time": "2022-10-21T17:14:48.830Z"
   },
   {
    "duration": 17,
    "start_time": "2022-10-21T17:14:48.852Z"
   },
   {
    "duration": 3,
    "start_time": "2022-10-21T17:14:48.872Z"
   },
   {
    "duration": 12,
    "start_time": "2022-10-21T17:14:48.876Z"
   },
   {
    "duration": 5,
    "start_time": "2022-10-21T17:14:48.890Z"
   },
   {
    "duration": 3,
    "start_time": "2022-10-21T17:14:48.897Z"
   },
   {
    "duration": 9,
    "start_time": "2022-10-21T17:14:48.930Z"
   },
   {
    "duration": 12,
    "start_time": "2022-10-21T17:14:48.941Z"
   },
   {
    "duration": 12,
    "start_time": "2022-10-21T17:14:48.955Z"
   },
   {
    "duration": 11,
    "start_time": "2022-10-21T17:14:48.968Z"
   },
   {
    "duration": 2,
    "start_time": "2022-10-21T17:14:48.981Z"
   },
   {
    "duration": 18,
    "start_time": "2022-10-21T17:14:48.985Z"
   },
   {
    "duration": 12,
    "start_time": "2022-10-21T17:14:49.029Z"
   },
   {
    "duration": 11,
    "start_time": "2022-10-21T17:14:49.042Z"
   },
   {
    "duration": 42,
    "start_time": "2022-10-21T17:14:49.055Z"
   },
   {
    "duration": 36,
    "start_time": "2022-10-21T17:14:49.099Z"
   },
   {
    "duration": 12,
    "start_time": "2022-10-21T17:14:49.136Z"
   },
   {
    "duration": 4,
    "start_time": "2022-10-21T17:14:49.149Z"
   },
   {
    "duration": 29,
    "start_time": "2022-10-21T17:14:49.154Z"
   },
   {
    "duration": 4,
    "start_time": "2022-10-21T17:20:43.149Z"
   },
   {
    "duration": 14,
    "start_time": "2022-10-21T17:20:45.597Z"
   },
   {
    "duration": 5,
    "start_time": "2022-10-21T17:20:55.168Z"
   },
   {
    "duration": 16,
    "start_time": "2022-10-21T17:20:56.782Z"
   },
   {
    "duration": 5,
    "start_time": "2022-10-21T17:21:30.329Z"
   },
   {
    "duration": 38,
    "start_time": "2022-10-21T17:21:32.382Z"
   },
   {
    "duration": 448,
    "start_time": "2022-10-21T17:42:39.074Z"
   },
   {
    "duration": 23,
    "start_time": "2022-10-21T17:42:39.523Z"
   },
   {
    "duration": 15,
    "start_time": "2022-10-21T17:42:39.547Z"
   },
   {
    "duration": 9,
    "start_time": "2022-10-21T17:42:39.564Z"
   },
   {
    "duration": 10,
    "start_time": "2022-10-21T17:42:39.575Z"
   },
   {
    "duration": 59,
    "start_time": "2022-10-21T17:42:39.586Z"
   },
   {
    "duration": 3,
    "start_time": "2022-10-21T17:42:39.647Z"
   },
   {
    "duration": 9,
    "start_time": "2022-10-21T17:42:39.652Z"
   },
   {
    "duration": 4,
    "start_time": "2022-10-21T17:42:39.663Z"
   },
   {
    "duration": 7,
    "start_time": "2022-10-21T17:42:39.668Z"
   },
   {
    "duration": 4,
    "start_time": "2022-10-21T17:42:39.677Z"
   },
   {
    "duration": 64,
    "start_time": "2022-10-21T17:42:39.682Z"
   },
   {
    "duration": 10,
    "start_time": "2022-10-21T17:42:39.748Z"
   },
   {
    "duration": 4,
    "start_time": "2022-10-21T17:42:39.761Z"
   },
   {
    "duration": 12,
    "start_time": "2022-10-21T17:42:39.766Z"
   },
   {
    "duration": 20,
    "start_time": "2022-10-21T17:42:39.779Z"
   },
   {
    "duration": 42,
    "start_time": "2022-10-21T17:42:39.800Z"
   },
   {
    "duration": 4,
    "start_time": "2022-10-21T17:42:39.844Z"
   },
   {
    "duration": 20,
    "start_time": "2022-10-21T17:42:39.849Z"
   },
   {
    "duration": 8,
    "start_time": "2022-10-21T17:42:39.870Z"
   },
   {
    "duration": 5,
    "start_time": "2022-10-21T17:42:39.879Z"
   },
   {
    "duration": 10,
    "start_time": "2022-10-21T17:42:39.886Z"
   },
   {
    "duration": 14,
    "start_time": "2022-10-21T17:42:39.897Z"
   },
   {
    "duration": 13,
    "start_time": "2022-10-21T17:42:39.928Z"
   },
   {
    "duration": 12,
    "start_time": "2022-10-21T17:42:39.944Z"
   },
   {
    "duration": 3,
    "start_time": "2022-10-21T17:42:39.958Z"
   },
   {
    "duration": 7,
    "start_time": "2022-10-21T17:42:39.963Z"
   },
   {
    "duration": 13,
    "start_time": "2022-10-21T17:42:39.972Z"
   },
   {
    "duration": 45,
    "start_time": "2022-10-21T17:42:39.986Z"
   },
   {
    "duration": 43,
    "start_time": "2022-10-21T17:42:40.033Z"
   },
   {
    "duration": 7,
    "start_time": "2022-10-21T17:42:40.078Z"
   },
   {
    "duration": 12,
    "start_time": "2022-10-21T17:42:40.086Z"
   },
   {
    "duration": 4,
    "start_time": "2022-10-21T17:42:40.129Z"
   },
   {
    "duration": 28,
    "start_time": "2022-10-21T17:42:40.135Z"
   },
   {
    "duration": 493,
    "start_time": "2022-10-21T17:52:50.747Z"
   },
   {
    "duration": 27,
    "start_time": "2022-10-21T17:52:51.242Z"
   },
   {
    "duration": 17,
    "start_time": "2022-10-21T17:52:51.271Z"
   },
   {
    "duration": 20,
    "start_time": "2022-10-21T17:52:51.290Z"
   },
   {
    "duration": 9,
    "start_time": "2022-10-21T17:52:51.312Z"
   },
   {
    "duration": 55,
    "start_time": "2022-10-21T17:52:51.323Z"
   },
   {
    "duration": 4,
    "start_time": "2022-10-21T17:52:51.380Z"
   },
   {
    "duration": 24,
    "start_time": "2022-10-21T17:52:51.386Z"
   },
   {
    "duration": 4,
    "start_time": "2022-10-21T17:52:51.411Z"
   },
   {
    "duration": 8,
    "start_time": "2022-10-21T17:52:51.419Z"
   },
   {
    "duration": 5,
    "start_time": "2022-10-21T17:52:51.429Z"
   },
   {
    "duration": 37,
    "start_time": "2022-10-21T17:52:51.436Z"
   },
   {
    "duration": 39,
    "start_time": "2022-10-21T17:52:51.475Z"
   },
   {
    "duration": 5,
    "start_time": "2022-10-21T17:52:51.516Z"
   },
   {
    "duration": 22,
    "start_time": "2022-10-21T17:52:51.523Z"
   },
   {
    "duration": 29,
    "start_time": "2022-10-21T17:52:51.547Z"
   },
   {
    "duration": 36,
    "start_time": "2022-10-21T17:52:51.578Z"
   },
   {
    "duration": 6,
    "start_time": "2022-10-21T17:52:51.616Z"
   },
   {
    "duration": 24,
    "start_time": "2022-10-21T17:52:51.624Z"
   },
   {
    "duration": 8,
    "start_time": "2022-10-21T17:52:51.649Z"
   },
   {
    "duration": 5,
    "start_time": "2022-10-21T17:52:51.658Z"
   },
   {
    "duration": 16,
    "start_time": "2022-10-21T17:52:51.665Z"
   },
   {
    "duration": 30,
    "start_time": "2022-10-21T17:52:51.683Z"
   },
   {
    "duration": 11,
    "start_time": "2022-10-21T17:52:51.715Z"
   },
   {
    "duration": 13,
    "start_time": "2022-10-21T17:52:51.727Z"
   },
   {
    "duration": 2,
    "start_time": "2022-10-21T17:52:51.742Z"
   },
   {
    "duration": 13,
    "start_time": "2022-10-21T17:52:51.746Z"
   },
   {
    "duration": 9,
    "start_time": "2022-10-21T17:52:51.762Z"
   },
   {
    "duration": 42,
    "start_time": "2022-10-21T17:52:51.773Z"
   },
   {
    "duration": 40,
    "start_time": "2022-10-21T17:52:51.817Z"
   },
   {
    "duration": 6,
    "start_time": "2022-10-21T17:52:51.858Z"
   },
   {
    "duration": 14,
    "start_time": "2022-10-21T17:52:51.866Z"
   },
   {
    "duration": 28,
    "start_time": "2022-10-21T17:52:51.881Z"
   },
   {
    "duration": 37,
    "start_time": "2022-10-21T17:52:51.911Z"
   },
   {
    "duration": 536,
    "start_time": "2022-10-21T17:53:09.094Z"
   },
   {
    "duration": 25,
    "start_time": "2022-10-21T17:53:09.632Z"
   },
   {
    "duration": 17,
    "start_time": "2022-10-21T17:53:09.658Z"
   },
   {
    "duration": 9,
    "start_time": "2022-10-21T17:53:09.677Z"
   },
   {
    "duration": 30,
    "start_time": "2022-10-21T17:53:09.687Z"
   },
   {
    "duration": 37,
    "start_time": "2022-10-21T17:53:09.719Z"
   },
   {
    "duration": 4,
    "start_time": "2022-10-21T17:53:09.757Z"
   },
   {
    "duration": 11,
    "start_time": "2022-10-21T17:53:09.762Z"
   },
   {
    "duration": 7,
    "start_time": "2022-10-21T17:53:09.774Z"
   },
   {
    "duration": 8,
    "start_time": "2022-10-21T17:53:09.808Z"
   },
   {
    "duration": 5,
    "start_time": "2022-10-21T17:53:09.817Z"
   },
   {
    "duration": 34,
    "start_time": "2022-10-21T17:53:09.824Z"
   },
   {
    "duration": 9,
    "start_time": "2022-10-21T17:53:09.860Z"
   },
   {
    "duration": 10,
    "start_time": "2022-10-21T17:53:09.871Z"
   },
   {
    "duration": 28,
    "start_time": "2022-10-21T17:53:09.883Z"
   },
   {
    "duration": 21,
    "start_time": "2022-10-21T17:53:09.913Z"
   },
   {
    "duration": 25,
    "start_time": "2022-10-21T17:53:09.935Z"
   },
   {
    "duration": 4,
    "start_time": "2022-10-21T17:53:09.962Z"
   },
   {
    "duration": 12,
    "start_time": "2022-10-21T17:53:09.968Z"
   },
   {
    "duration": 33,
    "start_time": "2022-10-21T17:53:09.982Z"
   },
   {
    "duration": 5,
    "start_time": "2022-10-21T17:53:10.017Z"
   },
   {
    "duration": 10,
    "start_time": "2022-10-21T17:53:10.024Z"
   },
   {
    "duration": 13,
    "start_time": "2022-10-21T17:53:10.036Z"
   },
   {
    "duration": 12,
    "start_time": "2022-10-21T17:53:10.050Z"
   },
   {
    "duration": 12,
    "start_time": "2022-10-21T17:53:10.064Z"
   },
   {
    "duration": 3,
    "start_time": "2022-10-21T17:53:10.109Z"
   },
   {
    "duration": 12,
    "start_time": "2022-10-21T17:53:10.114Z"
   },
   {
    "duration": 13,
    "start_time": "2022-10-21T17:53:10.130Z"
   },
   {
    "duration": 15,
    "start_time": "2022-10-21T17:53:10.145Z"
   },
   {
    "duration": 64,
    "start_time": "2022-10-21T17:53:10.161Z"
   },
   {
    "duration": 6,
    "start_time": "2022-10-21T17:53:10.226Z"
   },
   {
    "duration": 11,
    "start_time": "2022-10-21T17:53:10.233Z"
   },
   {
    "duration": 4,
    "start_time": "2022-10-21T17:53:10.246Z"
   },
   {
    "duration": 56,
    "start_time": "2022-10-21T17:53:10.252Z"
   },
   {
    "duration": 46,
    "start_time": "2022-10-21T17:59:11.550Z"
   },
   {
    "duration": 57,
    "start_time": "2022-10-24T07:21:06.996Z"
   },
   {
    "duration": 552,
    "start_time": "2022-10-24T07:21:16.200Z"
   },
   {
    "duration": 21,
    "start_time": "2022-10-24T07:21:16.753Z"
   },
   {
    "duration": 15,
    "start_time": "2022-10-24T07:21:16.775Z"
   },
   {
    "duration": 17,
    "start_time": "2022-10-24T07:21:16.792Z"
   },
   {
    "duration": 19,
    "start_time": "2022-10-24T07:21:16.810Z"
   },
   {
    "duration": 46,
    "start_time": "2022-10-24T07:21:16.830Z"
   },
   {
    "duration": 4,
    "start_time": "2022-10-24T07:21:16.878Z"
   },
   {
    "duration": 26,
    "start_time": "2022-10-24T07:21:16.883Z"
   },
   {
    "duration": 5,
    "start_time": "2022-10-24T07:21:16.911Z"
   },
   {
    "duration": 18,
    "start_time": "2022-10-24T07:21:16.920Z"
   },
   {
    "duration": 5,
    "start_time": "2022-10-24T07:21:16.939Z"
   },
   {
    "duration": 33,
    "start_time": "2022-10-24T07:21:16.945Z"
   },
   {
    "duration": 10,
    "start_time": "2022-10-24T07:21:16.980Z"
   },
   {
    "duration": 22,
    "start_time": "2022-10-24T07:21:16.992Z"
   },
   {
    "duration": 14,
    "start_time": "2022-10-24T07:21:17.016Z"
   },
   {
    "duration": 21,
    "start_time": "2022-10-24T07:21:17.032Z"
   },
   {
    "duration": 17,
    "start_time": "2022-10-24T07:21:17.054Z"
   },
   {
    "duration": 4,
    "start_time": "2022-10-24T07:21:17.072Z"
   },
   {
    "duration": 11,
    "start_time": "2022-10-24T07:21:17.077Z"
   },
   {
    "duration": 7,
    "start_time": "2022-10-24T07:21:17.108Z"
   },
   {
    "duration": 3,
    "start_time": "2022-10-24T07:21:17.117Z"
   },
   {
    "duration": 16,
    "start_time": "2022-10-24T07:21:17.122Z"
   },
   {
    "duration": 25,
    "start_time": "2022-10-24T07:21:17.139Z"
   },
   {
    "duration": 21,
    "start_time": "2022-10-24T07:21:17.165Z"
   },
   {
    "duration": 17,
    "start_time": "2022-10-24T07:21:17.188Z"
   },
   {
    "duration": 24,
    "start_time": "2022-10-24T07:21:17.206Z"
   },
   {
    "duration": 3,
    "start_time": "2022-10-24T07:21:17.232Z"
   },
   {
    "duration": 10,
    "start_time": "2022-10-24T07:21:17.237Z"
   },
   {
    "duration": 10,
    "start_time": "2022-10-24T07:21:17.248Z"
   },
   {
    "duration": 11,
    "start_time": "2022-10-24T07:21:17.259Z"
   },
   {
    "duration": 55,
    "start_time": "2022-10-24T07:21:17.271Z"
   },
   {
    "duration": 7,
    "start_time": "2022-10-24T07:21:17.327Z"
   },
   {
    "duration": 24,
    "start_time": "2022-10-24T07:21:17.335Z"
   },
   {
    "duration": 4,
    "start_time": "2022-10-24T07:21:17.361Z"
   },
   {
    "duration": 32,
    "start_time": "2022-10-24T07:21:17.366Z"
   },
   {
    "duration": 48,
    "start_time": "2022-10-24T07:33:11.853Z"
   },
   {
    "duration": 19,
    "start_time": "2022-10-24T07:33:16.855Z"
   },
   {
    "duration": 26,
    "start_time": "2022-10-24T07:33:58.429Z"
   },
   {
    "duration": 52,
    "start_time": "2022-10-24T07:34:09.966Z"
   },
   {
    "duration": 34,
    "start_time": "2022-10-24T07:34:26.750Z"
   },
   {
    "duration": 90,
    "start_time": "2022-10-24T07:34:48.901Z"
   },
   {
    "duration": 23,
    "start_time": "2022-10-24T07:34:54.462Z"
   },
   {
    "duration": 432,
    "start_time": "2022-10-24T07:39:59.752Z"
   },
   {
    "duration": 22,
    "start_time": "2022-10-24T07:40:00.185Z"
   },
   {
    "duration": 37,
    "start_time": "2022-10-24T07:40:00.209Z"
   },
   {
    "duration": 19,
    "start_time": "2022-10-24T07:40:00.247Z"
   },
   {
    "duration": 32,
    "start_time": "2022-10-24T07:40:00.268Z"
   },
   {
    "duration": 50,
    "start_time": "2022-10-24T07:40:00.302Z"
   },
   {
    "duration": 3,
    "start_time": "2022-10-24T07:40:00.354Z"
   },
   {
    "duration": 26,
    "start_time": "2022-10-24T07:40:00.359Z"
   },
   {
    "duration": 23,
    "start_time": "2022-10-24T07:40:00.387Z"
   },
   {
    "duration": 29,
    "start_time": "2022-10-24T07:40:00.412Z"
   },
   {
    "duration": 18,
    "start_time": "2022-10-24T07:40:00.443Z"
   },
   {
    "duration": 58,
    "start_time": "2022-10-24T07:40:00.463Z"
   },
   {
    "duration": 35,
    "start_time": "2022-10-24T07:40:00.522Z"
   },
   {
    "duration": 32,
    "start_time": "2022-10-24T07:40:00.560Z"
   },
   {
    "duration": 52,
    "start_time": "2022-10-24T07:40:00.594Z"
   },
   {
    "duration": 59,
    "start_time": "2022-10-24T07:40:00.647Z"
   },
   {
    "duration": 39,
    "start_time": "2022-10-24T07:40:00.708Z"
   },
   {
    "duration": 20,
    "start_time": "2022-10-24T07:40:00.749Z"
   },
   {
    "duration": 25,
    "start_time": "2022-10-24T07:40:00.770Z"
   },
   {
    "duration": 43,
    "start_time": "2022-10-24T07:40:00.796Z"
   },
   {
    "duration": 28,
    "start_time": "2022-10-24T07:40:00.841Z"
   },
   {
    "duration": 88,
    "start_time": "2022-10-24T07:40:00.871Z"
   },
   {
    "duration": 58,
    "start_time": "2022-10-24T07:40:00.961Z"
   },
   {
    "duration": 21,
    "start_time": "2022-10-24T07:40:01.021Z"
   },
   {
    "duration": 54,
    "start_time": "2022-10-24T07:40:01.043Z"
   },
   {
    "duration": 29,
    "start_time": "2022-10-24T07:40:01.099Z"
   },
   {
    "duration": 55,
    "start_time": "2022-10-24T07:40:01.129Z"
   },
   {
    "duration": 59,
    "start_time": "2022-10-24T07:40:01.185Z"
   },
   {
    "duration": 111,
    "start_time": "2022-10-24T07:40:01.245Z"
   },
   {
    "duration": 99,
    "start_time": "2022-10-24T07:40:01.358Z"
   },
   {
    "duration": 23,
    "start_time": "2022-10-24T07:40:01.459Z"
   },
   {
    "duration": 40,
    "start_time": "2022-10-24T07:40:01.484Z"
   },
   {
    "duration": 38,
    "start_time": "2022-10-24T07:40:01.525Z"
   },
   {
    "duration": 77,
    "start_time": "2022-10-24T07:40:01.565Z"
   },
   {
    "duration": 73,
    "start_time": "2022-10-24T07:44:56.042Z"
   },
   {
    "duration": 6,
    "start_time": "2022-10-24T07:45:06.168Z"
   },
   {
    "duration": 3,
    "start_time": "2022-10-24T07:48:52.151Z"
   },
   {
    "duration": 26,
    "start_time": "2022-10-24T07:48:53.727Z"
   },
   {
    "duration": 18,
    "start_time": "2022-10-24T07:48:54.492Z"
   },
   {
    "duration": 2,
    "start_time": "2022-10-24T07:49:10.293Z"
   },
   {
    "duration": 25,
    "start_time": "2022-10-24T07:49:10.958Z"
   },
   {
    "duration": 19,
    "start_time": "2022-10-24T07:49:11.506Z"
   },
   {
    "duration": 2,
    "start_time": "2022-10-24T07:50:04.271Z"
   },
   {
    "duration": 28,
    "start_time": "2022-10-24T07:50:04.835Z"
   },
   {
    "duration": 6,
    "start_time": "2022-10-24T07:50:05.383Z"
   },
   {
    "duration": 15,
    "start_time": "2022-10-24T07:50:12.855Z"
   },
   {
    "duration": 3,
    "start_time": "2022-10-24T07:50:34.188Z"
   },
   {
    "duration": 23,
    "start_time": "2022-10-24T07:50:35.950Z"
   },
   {
    "duration": 15,
    "start_time": "2022-10-24T07:50:36.492Z"
   },
   {
    "duration": 15,
    "start_time": "2022-10-24T07:51:36.444Z"
   },
   {
    "duration": 16,
    "start_time": "2022-10-24T07:54:57.627Z"
   },
   {
    "duration": 6,
    "start_time": "2022-10-24T07:55:19.286Z"
   },
   {
    "duration": 17,
    "start_time": "2022-10-24T07:55:34.496Z"
   },
   {
    "duration": 26,
    "start_time": "2022-10-24T08:01:43.234Z"
   },
   {
    "duration": 7,
    "start_time": "2022-10-24T08:08:58.648Z"
   },
   {
    "duration": 4,
    "start_time": "2022-10-24T08:09:03.773Z"
   },
   {
    "duration": 3,
    "start_time": "2022-10-24T08:09:06.995Z"
   },
   {
    "duration": 6,
    "start_time": "2022-10-24T08:09:08.915Z"
   },
   {
    "duration": 30,
    "start_time": "2022-10-24T08:09:20.281Z"
   },
   {
    "duration": 25,
    "start_time": "2022-10-24T08:09:34.384Z"
   },
   {
    "duration": 435,
    "start_time": "2022-10-24T08:13:30.340Z"
   },
   {
    "duration": 3,
    "start_time": "2022-10-24T08:13:30.776Z"
   },
   {
    "duration": 42,
    "start_time": "2022-10-24T08:13:30.781Z"
   },
   {
    "duration": 36,
    "start_time": "2022-10-24T08:13:30.825Z"
   },
   {
    "duration": 17,
    "start_time": "2022-10-24T08:13:30.864Z"
   },
   {
    "duration": 19,
    "start_time": "2022-10-24T08:13:30.883Z"
   },
   {
    "duration": 52,
    "start_time": "2022-10-24T08:13:30.904Z"
   },
   {
    "duration": 4,
    "start_time": "2022-10-24T08:13:30.957Z"
   },
   {
    "duration": 47,
    "start_time": "2022-10-24T08:13:30.963Z"
   },
   {
    "duration": 35,
    "start_time": "2022-10-24T08:13:31.012Z"
   },
   {
    "duration": 34,
    "start_time": "2022-10-24T08:13:31.049Z"
   },
   {
    "duration": 27,
    "start_time": "2022-10-24T08:13:31.085Z"
   },
   {
    "duration": 60,
    "start_time": "2022-10-24T08:13:31.114Z"
   },
   {
    "duration": 8,
    "start_time": "2022-10-24T08:13:31.177Z"
   },
   {
    "duration": 29,
    "start_time": "2022-10-24T08:13:31.187Z"
   },
   {
    "duration": 45,
    "start_time": "2022-10-24T08:13:31.218Z"
   },
   {
    "duration": 46,
    "start_time": "2022-10-24T08:13:31.264Z"
   },
   {
    "duration": 37,
    "start_time": "2022-10-24T08:13:31.312Z"
   },
   {
    "duration": 3,
    "start_time": "2022-10-24T08:13:31.351Z"
   },
   {
    "duration": 38,
    "start_time": "2022-10-24T08:13:31.355Z"
   },
   {
    "duration": 31,
    "start_time": "2022-10-24T08:13:31.395Z"
   },
   {
    "duration": 23,
    "start_time": "2022-10-24T08:13:31.428Z"
   },
   {
    "duration": 41,
    "start_time": "2022-10-24T08:13:31.453Z"
   },
   {
    "duration": 62,
    "start_time": "2022-10-24T08:13:31.496Z"
   },
   {
    "duration": 3,
    "start_time": "2022-10-24T08:13:31.560Z"
   },
   {
    "duration": 52,
    "start_time": "2022-10-24T08:13:31.565Z"
   },
   {
    "duration": 12,
    "start_time": "2022-10-24T08:13:31.620Z"
   },
   {
    "duration": 33,
    "start_time": "2022-10-24T08:13:31.634Z"
   },
   {
    "duration": 26,
    "start_time": "2022-10-24T08:13:31.669Z"
   },
   {
    "duration": 30,
    "start_time": "2022-10-24T08:13:31.697Z"
   },
   {
    "duration": 29,
    "start_time": "2022-10-24T08:13:31.728Z"
   },
   {
    "duration": 49,
    "start_time": "2022-10-24T08:13:31.759Z"
   },
   {
    "duration": 8,
    "start_time": "2022-10-24T08:13:31.812Z"
   },
   {
    "duration": 30,
    "start_time": "2022-10-24T08:13:31.821Z"
   },
   {
    "duration": 14,
    "start_time": "2022-10-24T08:13:31.853Z"
   },
   {
    "duration": 52,
    "start_time": "2022-10-24T08:13:31.868Z"
   },
   {
    "duration": 28,
    "start_time": "2022-10-24T08:23:35.967Z"
   },
   {
    "duration": 27,
    "start_time": "2022-10-24T08:24:10.563Z"
   },
   {
    "duration": 80,
    "start_time": "2022-10-24T08:24:58.644Z"
   },
   {
    "duration": 9,
    "start_time": "2022-10-24T08:25:03.212Z"
   },
   {
    "duration": 8,
    "start_time": "2022-10-24T08:25:06.359Z"
   },
   {
    "duration": 11,
    "start_time": "2022-10-24T08:25:11.095Z"
   },
   {
    "duration": 16,
    "start_time": "2022-10-24T08:25:31.520Z"
   },
   {
    "duration": 454,
    "start_time": "2022-10-24T08:25:38.766Z"
   },
   {
    "duration": 6,
    "start_time": "2022-10-24T08:25:39.222Z"
   },
   {
    "duration": 35,
    "start_time": "2022-10-24T08:25:39.230Z"
   },
   {
    "duration": 17,
    "start_time": "2022-10-24T08:25:39.267Z"
   },
   {
    "duration": 13,
    "start_time": "2022-10-24T08:25:39.287Z"
   },
   {
    "duration": 16,
    "start_time": "2022-10-24T08:25:39.302Z"
   },
   {
    "duration": 46,
    "start_time": "2022-10-24T08:25:39.320Z"
   },
   {
    "duration": 3,
    "start_time": "2022-10-24T08:25:39.367Z"
   },
   {
    "duration": 33,
    "start_time": "2022-10-24T08:25:39.372Z"
   },
   {
    "duration": 35,
    "start_time": "2022-10-24T08:25:39.407Z"
   },
   {
    "duration": 25,
    "start_time": "2022-10-24T08:25:39.443Z"
   },
   {
    "duration": 30,
    "start_time": "2022-10-24T08:25:39.469Z"
   },
   {
    "duration": 93,
    "start_time": "2022-10-24T08:25:39.501Z"
   },
   {
    "duration": 8,
    "start_time": "2022-10-24T08:25:39.597Z"
   },
   {
    "duration": 4,
    "start_time": "2022-10-24T08:25:39.607Z"
   },
   {
    "duration": 24,
    "start_time": "2022-10-24T08:25:39.613Z"
   },
   {
    "duration": 21,
    "start_time": "2022-10-24T08:25:39.638Z"
   },
   {
    "duration": 17,
    "start_time": "2022-10-24T08:25:39.661Z"
   },
   {
    "duration": 5,
    "start_time": "2022-10-24T08:25:39.679Z"
   },
   {
    "duration": 32,
    "start_time": "2022-10-24T08:25:39.685Z"
   },
   {
    "duration": 8,
    "start_time": "2022-10-24T08:25:39.719Z"
   },
   {
    "duration": 8,
    "start_time": "2022-10-24T08:25:39.729Z"
   },
   {
    "duration": 11,
    "start_time": "2022-10-24T08:25:39.738Z"
   },
   {
    "duration": 27,
    "start_time": "2022-10-24T08:25:39.750Z"
   },
   {
    "duration": 3,
    "start_time": "2022-10-24T08:25:39.779Z"
   },
   {
    "duration": 46,
    "start_time": "2022-10-24T08:25:39.784Z"
   },
   {
    "duration": 12,
    "start_time": "2022-10-24T08:25:39.832Z"
   },
   {
    "duration": 11,
    "start_time": "2022-10-24T08:25:39.845Z"
   },
   {
    "duration": 24,
    "start_time": "2022-10-24T08:25:39.857Z"
   },
   {
    "duration": 107,
    "start_time": "2022-10-24T08:25:39.883Z"
   },
   {
    "duration": 0,
    "start_time": "2022-10-24T08:25:39.992Z"
   },
   {
    "duration": 0,
    "start_time": "2022-10-24T08:25:39.993Z"
   },
   {
    "duration": 0,
    "start_time": "2022-10-24T08:25:39.994Z"
   },
   {
    "duration": 0,
    "start_time": "2022-10-24T08:25:39.995Z"
   },
   {
    "duration": 0,
    "start_time": "2022-10-24T08:25:39.996Z"
   },
   {
    "duration": 0,
    "start_time": "2022-10-24T08:25:39.996Z"
   },
   {
    "duration": 0,
    "start_time": "2022-10-24T08:25:40.008Z"
   },
   {
    "duration": 12,
    "start_time": "2022-10-24T08:25:43.532Z"
   },
   {
    "duration": 13,
    "start_time": "2022-10-24T08:25:54.940Z"
   },
   {
    "duration": 7,
    "start_time": "2022-10-24T08:26:08.898Z"
   },
   {
    "duration": 13,
    "start_time": "2022-10-24T08:26:12.322Z"
   },
   {
    "duration": 23,
    "start_time": "2022-10-24T08:27:19.964Z"
   },
   {
    "duration": 8,
    "start_time": "2022-10-24T08:33:55.415Z"
   },
   {
    "duration": 13,
    "start_time": "2022-10-24T08:33:58.228Z"
   },
   {
    "duration": 6,
    "start_time": "2022-10-24T08:36:15.836Z"
   },
   {
    "duration": 6,
    "start_time": "2022-10-24T08:36:18.775Z"
   },
   {
    "duration": 10,
    "start_time": "2022-10-24T08:36:21.958Z"
   },
   {
    "duration": 435,
    "start_time": "2022-10-24T08:36:27.563Z"
   },
   {
    "duration": 3,
    "start_time": "2022-10-24T08:36:27.999Z"
   },
   {
    "duration": 34,
    "start_time": "2022-10-24T08:36:28.003Z"
   },
   {
    "duration": 16,
    "start_time": "2022-10-24T08:36:28.040Z"
   },
   {
    "duration": 11,
    "start_time": "2022-10-24T08:36:28.057Z"
   },
   {
    "duration": 15,
    "start_time": "2022-10-24T08:36:28.070Z"
   },
   {
    "duration": 58,
    "start_time": "2022-10-24T08:36:28.087Z"
   },
   {
    "duration": 4,
    "start_time": "2022-10-24T08:36:28.147Z"
   },
   {
    "duration": 29,
    "start_time": "2022-10-24T08:36:28.153Z"
   },
   {
    "duration": 21,
    "start_time": "2022-10-24T08:36:28.185Z"
   },
   {
    "duration": 13,
    "start_time": "2022-10-24T08:36:28.208Z"
   },
   {
    "duration": 6,
    "start_time": "2022-10-24T08:36:28.223Z"
   },
   {
    "duration": 35,
    "start_time": "2022-10-24T08:36:28.230Z"
   },
   {
    "duration": 9,
    "start_time": "2022-10-24T08:36:28.266Z"
   },
   {
    "duration": 25,
    "start_time": "2022-10-24T08:36:28.276Z"
   },
   {
    "duration": 20,
    "start_time": "2022-10-24T08:36:28.303Z"
   },
   {
    "duration": 24,
    "start_time": "2022-10-24T08:36:28.325Z"
   },
   {
    "duration": 18,
    "start_time": "2022-10-24T08:36:28.350Z"
   },
   {
    "duration": 7,
    "start_time": "2022-10-24T08:36:28.370Z"
   },
   {
    "duration": 27,
    "start_time": "2022-10-24T08:36:28.380Z"
   },
   {
    "duration": 28,
    "start_time": "2022-10-24T08:36:28.408Z"
   },
   {
    "duration": 19,
    "start_time": "2022-10-24T08:36:28.438Z"
   },
   {
    "duration": 27,
    "start_time": "2022-10-24T08:36:28.458Z"
   },
   {
    "duration": 52,
    "start_time": "2022-10-24T08:36:28.486Z"
   },
   {
    "duration": 4,
    "start_time": "2022-10-24T08:36:28.539Z"
   },
   {
    "duration": 40,
    "start_time": "2022-10-24T08:36:28.545Z"
   },
   {
    "duration": 11,
    "start_time": "2022-10-24T08:36:28.586Z"
   },
   {
    "duration": 13,
    "start_time": "2022-10-24T08:36:28.601Z"
   },
   {
    "duration": 45,
    "start_time": "2022-10-24T08:36:28.615Z"
   },
   {
    "duration": 6,
    "start_time": "2022-10-24T08:36:28.661Z"
   },
   {
    "duration": 22,
    "start_time": "2022-10-24T08:36:28.668Z"
   },
   {
    "duration": 43,
    "start_time": "2022-10-24T08:36:28.691Z"
   },
   {
    "duration": 21,
    "start_time": "2022-10-24T08:36:28.736Z"
   },
   {
    "duration": 41,
    "start_time": "2022-10-24T08:36:28.759Z"
   },
   {
    "duration": 12,
    "start_time": "2022-10-24T08:36:28.802Z"
   },
   {
    "duration": 27,
    "start_time": "2022-10-24T08:36:28.815Z"
   },
   {
    "duration": 7,
    "start_time": "2022-10-24T08:36:28.844Z"
   },
   {
    "duration": 58,
    "start_time": "2022-10-24T08:36:28.853Z"
   },
   {
    "duration": 6,
    "start_time": "2022-10-24T08:37:15.339Z"
   },
   {
    "duration": 12,
    "start_time": "2022-10-24T08:37:16.543Z"
   },
   {
    "duration": 7,
    "start_time": "2022-10-24T08:37:37.562Z"
   },
   {
    "duration": 10,
    "start_time": "2022-10-24T08:37:39.944Z"
   },
   {
    "duration": 28,
    "start_time": "2022-10-24T08:54:04.564Z"
   },
   {
    "duration": 37,
    "start_time": "2022-10-24T08:54:18.875Z"
   },
   {
    "duration": 51,
    "start_time": "2022-10-24T08:55:38.196Z"
   },
   {
    "duration": 85,
    "start_time": "2022-10-24T09:06:23.072Z"
   },
   {
    "duration": 18,
    "start_time": "2022-10-24T09:06:55.609Z"
   },
   {
    "duration": 13,
    "start_time": "2022-10-24T09:08:12.872Z"
   },
   {
    "duration": 16,
    "start_time": "2022-10-24T09:08:39.363Z"
   },
   {
    "duration": 12,
    "start_time": "2022-10-24T09:09:02.995Z"
   },
   {
    "duration": 17,
    "start_time": "2022-10-24T09:09:42.545Z"
   },
   {
    "duration": 6,
    "start_time": "2022-10-24T09:16:47.443Z"
   },
   {
    "duration": 7,
    "start_time": "2022-10-24T09:21:07.629Z"
   },
   {
    "duration": 10,
    "start_time": "2022-10-24T09:21:12.548Z"
   },
   {
    "duration": 12,
    "start_time": "2022-10-24T09:21:25.800Z"
   },
   {
    "duration": 9,
    "start_time": "2022-10-24T09:21:42.044Z"
   },
   {
    "duration": 14,
    "start_time": "2022-10-24T09:21:43.703Z"
   },
   {
    "duration": 8,
    "start_time": "2022-10-24T09:21:59.901Z"
   },
   {
    "duration": 12,
    "start_time": "2022-10-24T09:22:02.396Z"
   },
   {
    "duration": 61,
    "start_time": "2022-10-24T09:23:18.026Z"
   },
   {
    "duration": 2,
    "start_time": "2022-10-24T09:23:18.089Z"
   },
   {
    "duration": 30,
    "start_time": "2022-10-24T09:23:18.093Z"
   },
   {
    "duration": 53,
    "start_time": "2022-10-24T09:23:18.125Z"
   },
   {
    "duration": 11,
    "start_time": "2022-10-24T09:23:18.180Z"
   },
   {
    "duration": 27,
    "start_time": "2022-10-24T09:23:18.192Z"
   },
   {
    "duration": 36,
    "start_time": "2022-10-24T09:23:18.221Z"
   },
   {
    "duration": 3,
    "start_time": "2022-10-24T09:23:18.259Z"
   },
   {
    "duration": 13,
    "start_time": "2022-10-24T09:23:18.263Z"
   },
   {
    "duration": 4,
    "start_time": "2022-10-24T09:23:18.278Z"
   },
   {
    "duration": 7,
    "start_time": "2022-10-24T09:23:18.284Z"
   },
   {
    "duration": 5,
    "start_time": "2022-10-24T09:23:18.310Z"
   },
   {
    "duration": 40,
    "start_time": "2022-10-24T09:23:18.316Z"
   },
   {
    "duration": 8,
    "start_time": "2022-10-24T09:23:18.358Z"
   },
   {
    "duration": 3,
    "start_time": "2022-10-24T09:23:18.368Z"
   },
   {
    "duration": 18,
    "start_time": "2022-10-24T09:23:18.372Z"
   },
   {
    "duration": 34,
    "start_time": "2022-10-24T09:23:18.392Z"
   },
   {
    "duration": 18,
    "start_time": "2022-10-24T09:23:18.428Z"
   },
   {
    "duration": 3,
    "start_time": "2022-10-24T09:23:18.448Z"
   },
   {
    "duration": 12,
    "start_time": "2022-10-24T09:23:18.453Z"
   },
   {
    "duration": 9,
    "start_time": "2022-10-24T09:23:18.466Z"
   },
   {
    "duration": 3,
    "start_time": "2022-10-24T09:23:18.477Z"
   },
   {
    "duration": 42,
    "start_time": "2022-10-24T09:23:18.482Z"
   },
   {
    "duration": 30,
    "start_time": "2022-10-24T09:23:18.525Z"
   },
   {
    "duration": 4,
    "start_time": "2022-10-24T09:23:18.556Z"
   },
   {
    "duration": 23,
    "start_time": "2022-10-24T09:23:18.562Z"
   },
   {
    "duration": 28,
    "start_time": "2022-10-24T09:23:18.587Z"
   },
   {
    "duration": 13,
    "start_time": "2022-10-24T09:23:18.619Z"
   },
   {
    "duration": 26,
    "start_time": "2022-10-24T09:23:18.634Z"
   },
   {
    "duration": 5,
    "start_time": "2022-10-24T09:23:18.662Z"
   },
   {
    "duration": 11,
    "start_time": "2022-10-24T09:23:18.669Z"
   },
   {
    "duration": 57,
    "start_time": "2022-10-24T09:23:18.682Z"
   },
   {
    "duration": 52,
    "start_time": "2022-10-24T09:23:18.741Z"
   },
   {
    "duration": 15,
    "start_time": "2022-10-24T09:23:18.808Z"
   },
   {
    "duration": 8,
    "start_time": "2022-10-24T09:23:18.826Z"
   },
   {
    "duration": 12,
    "start_time": "2022-10-24T09:23:18.836Z"
   },
   {
    "duration": 480,
    "start_time": "2022-10-24T09:23:23.887Z"
   },
   {
    "duration": 3,
    "start_time": "2022-10-24T09:23:24.369Z"
   },
   {
    "duration": 31,
    "start_time": "2022-10-24T09:23:24.376Z"
   },
   {
    "duration": 18,
    "start_time": "2022-10-24T09:23:24.410Z"
   },
   {
    "duration": 11,
    "start_time": "2022-10-24T09:23:24.429Z"
   },
   {
    "duration": 10,
    "start_time": "2022-10-24T09:23:24.442Z"
   },
   {
    "duration": 37,
    "start_time": "2022-10-24T09:23:24.453Z"
   },
   {
    "duration": 19,
    "start_time": "2022-10-24T09:23:24.491Z"
   },
   {
    "duration": 12,
    "start_time": "2022-10-24T09:23:24.513Z"
   },
   {
    "duration": 9,
    "start_time": "2022-10-24T09:23:24.527Z"
   },
   {
    "duration": 7,
    "start_time": "2022-10-24T09:23:24.538Z"
   },
   {
    "duration": 4,
    "start_time": "2022-10-24T09:23:24.546Z"
   },
   {
    "duration": 59,
    "start_time": "2022-10-24T09:23:24.552Z"
   },
   {
    "duration": 13,
    "start_time": "2022-10-24T09:23:24.613Z"
   },
   {
    "duration": 4,
    "start_time": "2022-10-24T09:23:24.629Z"
   },
   {
    "duration": 13,
    "start_time": "2022-10-24T09:23:24.635Z"
   },
   {
    "duration": 22,
    "start_time": "2022-10-24T09:23:24.650Z"
   },
   {
    "duration": 44,
    "start_time": "2022-10-24T09:23:24.674Z"
   },
   {
    "duration": 6,
    "start_time": "2022-10-24T09:23:24.720Z"
   },
   {
    "duration": 12,
    "start_time": "2022-10-24T09:23:24.728Z"
   },
   {
    "duration": 6,
    "start_time": "2022-10-24T09:23:24.741Z"
   },
   {
    "duration": 3,
    "start_time": "2022-10-24T09:23:24.748Z"
   },
   {
    "duration": 10,
    "start_time": "2022-10-24T09:23:24.753Z"
   },
   {
    "duration": 59,
    "start_time": "2022-10-24T09:23:24.765Z"
   },
   {
    "duration": 5,
    "start_time": "2022-10-24T09:23:24.826Z"
   },
   {
    "duration": 38,
    "start_time": "2022-10-24T09:23:24.833Z"
   },
   {
    "duration": 20,
    "start_time": "2022-10-24T09:23:24.874Z"
   },
   {
    "duration": 29,
    "start_time": "2022-10-24T09:23:24.896Z"
   },
   {
    "duration": 30,
    "start_time": "2022-10-24T09:23:24.926Z"
   },
   {
    "duration": 6,
    "start_time": "2022-10-24T09:23:24.957Z"
   },
   {
    "duration": 10,
    "start_time": "2022-10-24T09:23:24.965Z"
   },
   {
    "duration": 54,
    "start_time": "2022-10-24T09:23:24.976Z"
   },
   {
    "duration": 45,
    "start_time": "2022-10-24T09:23:25.032Z"
   },
   {
    "duration": 12,
    "start_time": "2022-10-24T09:23:25.078Z"
   },
   {
    "duration": 9,
    "start_time": "2022-10-24T09:23:25.109Z"
   },
   {
    "duration": 21,
    "start_time": "2022-10-24T09:23:25.119Z"
   },
   {
    "duration": 34,
    "start_time": "2022-10-24T09:27:24.993Z"
   },
   {
    "duration": 503,
    "start_time": "2022-10-24T09:49:22.217Z"
   },
   {
    "duration": 4,
    "start_time": "2022-10-24T09:49:22.722Z"
   },
   {
    "duration": 47,
    "start_time": "2022-10-24T09:49:22.728Z"
   },
   {
    "duration": 26,
    "start_time": "2022-10-24T09:49:22.777Z"
   },
   {
    "duration": 13,
    "start_time": "2022-10-24T09:49:22.805Z"
   },
   {
    "duration": 27,
    "start_time": "2022-10-24T09:49:22.820Z"
   },
   {
    "duration": 34,
    "start_time": "2022-10-24T09:49:22.849Z"
   },
   {
    "duration": 4,
    "start_time": "2022-10-24T09:49:22.885Z"
   },
   {
    "duration": 19,
    "start_time": "2022-10-24T09:49:22.890Z"
   },
   {
    "duration": 6,
    "start_time": "2022-10-24T09:49:22.912Z"
   },
   {
    "duration": 17,
    "start_time": "2022-10-24T09:49:22.920Z"
   },
   {
    "duration": 4,
    "start_time": "2022-10-24T09:49:22.939Z"
   },
   {
    "duration": 46,
    "start_time": "2022-10-24T09:49:22.944Z"
   },
   {
    "duration": 9,
    "start_time": "2022-10-24T09:49:22.991Z"
   },
   {
    "duration": 10,
    "start_time": "2022-10-24T09:49:23.002Z"
   },
   {
    "duration": 21,
    "start_time": "2022-10-24T09:49:23.014Z"
   },
   {
    "duration": 18,
    "start_time": "2022-10-24T09:49:23.037Z"
   },
   {
    "duration": 18,
    "start_time": "2022-10-24T09:49:23.057Z"
   },
   {
    "duration": 3,
    "start_time": "2022-10-24T09:49:23.077Z"
   },
   {
    "duration": 36,
    "start_time": "2022-10-24T09:49:23.082Z"
   },
   {
    "duration": 8,
    "start_time": "2022-10-24T09:49:23.119Z"
   },
   {
    "duration": 10,
    "start_time": "2022-10-24T09:49:23.129Z"
   },
   {
    "duration": 22,
    "start_time": "2022-10-24T09:49:23.140Z"
   },
   {
    "duration": 60,
    "start_time": "2022-10-24T09:49:23.164Z"
   },
   {
    "duration": 35,
    "start_time": "2022-10-24T09:49:23.226Z"
   },
   {
    "duration": 46,
    "start_time": "2022-10-24T09:49:23.262Z"
   },
   {
    "duration": 42,
    "start_time": "2022-10-24T09:49:23.310Z"
   },
   {
    "duration": 54,
    "start_time": "2022-10-24T09:49:23.355Z"
   },
   {
    "duration": 52,
    "start_time": "2022-10-24T09:49:23.411Z"
   },
   {
    "duration": 27,
    "start_time": "2022-10-24T09:49:23.465Z"
   },
   {
    "duration": 74,
    "start_time": "2022-10-24T09:49:23.494Z"
   },
   {
    "duration": 65,
    "start_time": "2022-10-24T09:49:23.570Z"
   },
   {
    "duration": 11,
    "start_time": "2022-10-24T09:49:23.637Z"
   },
   {
    "duration": 30,
    "start_time": "2022-10-24T09:49:23.649Z"
   },
   {
    "duration": 40,
    "start_time": "2022-10-24T09:49:23.681Z"
   },
   {
    "duration": 780,
    "start_time": "2022-10-24T10:23:51.646Z"
   },
   {
    "duration": 3,
    "start_time": "2022-10-24T10:23:52.428Z"
   },
   {
    "duration": 28,
    "start_time": "2022-10-24T10:23:52.432Z"
   },
   {
    "duration": 19,
    "start_time": "2022-10-24T10:23:52.462Z"
   },
   {
    "duration": 11,
    "start_time": "2022-10-24T10:23:52.485Z"
   },
   {
    "duration": 34,
    "start_time": "2022-10-24T10:23:52.498Z"
   },
   {
    "duration": 37,
    "start_time": "2022-10-24T10:23:52.534Z"
   },
   {
    "duration": 4,
    "start_time": "2022-10-24T10:23:52.573Z"
   },
   {
    "duration": 11,
    "start_time": "2022-10-24T10:23:52.579Z"
   },
   {
    "duration": 33,
    "start_time": "2022-10-24T10:23:52.592Z"
   },
   {
    "duration": 8,
    "start_time": "2022-10-24T10:23:52.627Z"
   },
   {
    "duration": 5,
    "start_time": "2022-10-24T10:23:52.637Z"
   },
   {
    "duration": 39,
    "start_time": "2022-10-24T10:23:52.644Z"
   },
   {
    "duration": 38,
    "start_time": "2022-10-24T10:23:52.687Z"
   },
   {
    "duration": 4,
    "start_time": "2022-10-24T10:23:52.727Z"
   },
   {
    "duration": 15,
    "start_time": "2022-10-24T10:23:52.733Z"
   },
   {
    "duration": 27,
    "start_time": "2022-10-24T10:23:52.750Z"
   },
   {
    "duration": 46,
    "start_time": "2022-10-24T10:23:52.779Z"
   },
   {
    "duration": 3,
    "start_time": "2022-10-24T10:23:52.827Z"
   },
   {
    "duration": 15,
    "start_time": "2022-10-24T10:23:52.831Z"
   },
   {
    "duration": 9,
    "start_time": "2022-10-24T10:23:52.848Z"
   },
   {
    "duration": 4,
    "start_time": "2022-10-24T10:23:52.859Z"
   },
   {
    "duration": 15,
    "start_time": "2022-10-24T10:23:52.865Z"
   },
   {
    "duration": 60,
    "start_time": "2022-10-24T10:23:52.882Z"
   },
   {
    "duration": 5,
    "start_time": "2022-10-24T10:23:52.943Z"
   },
   {
    "duration": 33,
    "start_time": "2022-10-24T10:23:52.950Z"
   },
   {
    "duration": 13,
    "start_time": "2022-10-24T10:23:52.985Z"
   },
   {
    "duration": 34,
    "start_time": "2022-10-24T10:23:53.000Z"
   },
   {
    "duration": 34,
    "start_time": "2022-10-24T10:23:53.036Z"
   },
   {
    "duration": 6,
    "start_time": "2022-10-24T10:23:53.072Z"
   },
   {
    "duration": 54,
    "start_time": "2022-10-24T10:23:53.079Z"
   },
   {
    "duration": 30,
    "start_time": "2022-10-24T10:23:53.135Z"
   },
   {
    "duration": 13,
    "start_time": "2022-10-24T10:23:53.167Z"
   },
   {
    "duration": 8,
    "start_time": "2022-10-24T10:23:53.181Z"
   },
   {
    "duration": 37,
    "start_time": "2022-10-24T10:23:53.191Z"
   },
   {
    "duration": 8,
    "start_time": "2022-10-24T14:08:55.707Z"
   },
   {
    "duration": 3,
    "start_time": "2022-10-24T14:09:10.594Z"
   },
   {
    "duration": 48,
    "start_time": "2022-10-24T14:09:35.085Z"
   },
   {
    "duration": 1208,
    "start_time": "2022-10-24T14:09:43.649Z"
   },
   {
    "duration": 3,
    "start_time": "2022-10-24T14:09:44.859Z"
   },
   {
    "duration": 24,
    "start_time": "2022-10-24T14:09:44.863Z"
   },
   {
    "duration": 13,
    "start_time": "2022-10-24T14:09:44.889Z"
   },
   {
    "duration": 8,
    "start_time": "2022-10-24T14:09:44.904Z"
   },
   {
    "duration": 12,
    "start_time": "2022-10-24T14:09:44.914Z"
   },
   {
    "duration": 31,
    "start_time": "2022-10-24T14:09:44.927Z"
   },
   {
    "duration": 3,
    "start_time": "2022-10-24T14:09:44.959Z"
   },
   {
    "duration": 12,
    "start_time": "2022-10-24T14:09:44.963Z"
   },
   {
    "duration": 5,
    "start_time": "2022-10-24T14:09:44.978Z"
   },
   {
    "duration": 28,
    "start_time": "2022-10-24T14:09:44.984Z"
   },
   {
    "duration": 4,
    "start_time": "2022-10-24T14:09:45.014Z"
   },
   {
    "duration": 37,
    "start_time": "2022-10-24T14:09:45.019Z"
   },
   {
    "duration": 10,
    "start_time": "2022-10-24T14:09:45.057Z"
   },
   {
    "duration": 4,
    "start_time": "2022-10-24T14:09:45.069Z"
   },
   {
    "duration": 13,
    "start_time": "2022-10-24T14:09:45.074Z"
   },
   {
    "duration": 20,
    "start_time": "2022-10-24T14:09:45.108Z"
   },
   {
    "duration": 17,
    "start_time": "2022-10-24T14:09:45.130Z"
   },
   {
    "duration": 4,
    "start_time": "2022-10-24T14:09:45.149Z"
   },
   {
    "duration": 10,
    "start_time": "2022-10-24T14:09:45.155Z"
   },
   {
    "duration": 6,
    "start_time": "2022-10-24T14:09:45.167Z"
   },
   {
    "duration": 34,
    "start_time": "2022-10-24T14:09:45.175Z"
   },
   {
    "duration": 12,
    "start_time": "2022-10-24T14:09:45.211Z"
   },
   {
    "duration": 26,
    "start_time": "2022-10-24T14:09:45.224Z"
   },
   {
    "duration": 4,
    "start_time": "2022-10-24T14:09:45.251Z"
   },
   {
    "duration": 24,
    "start_time": "2022-10-24T14:09:45.256Z"
   },
   {
    "duration": 35,
    "start_time": "2022-10-24T14:09:45.281Z"
   },
   {
    "duration": 11,
    "start_time": "2022-10-24T14:09:45.319Z"
   },
   {
    "duration": 24,
    "start_time": "2022-10-24T14:09:45.332Z"
   },
   {
    "duration": 5,
    "start_time": "2022-10-24T14:09:45.358Z"
   },
   {
    "duration": 51,
    "start_time": "2022-10-24T14:09:45.365Z"
   },
   {
    "duration": 29,
    "start_time": "2022-10-24T14:09:45.418Z"
   },
   {
    "duration": 12,
    "start_time": "2022-10-24T14:09:45.449Z"
   },
   {
    "duration": 3,
    "start_time": "2022-10-24T14:09:45.462Z"
   },
   {
    "duration": 93,
    "start_time": "2022-10-24T14:09:45.467Z"
   },
   {
    "duration": 0,
    "start_time": "2022-10-24T14:09:45.561Z"
   },
   {
    "duration": 0,
    "start_time": "2022-10-24T14:09:45.563Z"
   },
   {
    "duration": 6,
    "start_time": "2022-10-24T14:09:51.719Z"
   },
   {
    "duration": 3,
    "start_time": "2022-10-24T14:10:03.217Z"
   },
   {
    "duration": 25,
    "start_time": "2022-10-24T14:10:04.971Z"
   },
   {
    "duration": 6,
    "start_time": "2022-10-24T14:10:21.129Z"
   },
   {
    "duration": 10,
    "start_time": "2022-10-24T14:10:24.681Z"
   },
   {
    "duration": 436,
    "start_time": "2022-10-24T14:11:00.164Z"
   },
   {
    "duration": 3,
    "start_time": "2022-10-24T14:11:00.602Z"
   },
   {
    "duration": 58,
    "start_time": "2022-10-24T14:11:00.606Z"
   },
   {
    "duration": 44,
    "start_time": "2022-10-24T14:11:00.665Z"
   },
   {
    "duration": 63,
    "start_time": "2022-10-24T14:11:00.711Z"
   },
   {
    "duration": 44,
    "start_time": "2022-10-24T14:11:00.776Z"
   },
   {
    "duration": 120,
    "start_time": "2022-10-24T14:11:00.821Z"
   },
   {
    "duration": 13,
    "start_time": "2022-10-24T14:11:00.943Z"
   },
   {
    "duration": 53,
    "start_time": "2022-10-24T14:11:00.957Z"
   },
   {
    "duration": 38,
    "start_time": "2022-10-24T14:11:01.011Z"
   },
   {
    "duration": 71,
    "start_time": "2022-10-24T14:11:01.050Z"
   },
   {
    "duration": 65,
    "start_time": "2022-10-24T14:11:01.123Z"
   },
   {
    "duration": 99,
    "start_time": "2022-10-24T14:11:01.190Z"
   },
   {
    "duration": 10,
    "start_time": "2022-10-24T14:11:01.291Z"
   },
   {
    "duration": 18,
    "start_time": "2022-10-24T14:11:01.303Z"
   },
   {
    "duration": 45,
    "start_time": "2022-10-24T14:11:01.323Z"
   },
   {
    "duration": 61,
    "start_time": "2022-10-24T14:11:01.370Z"
   },
   {
    "duration": 78,
    "start_time": "2022-10-24T14:11:01.433Z"
   },
   {
    "duration": 4,
    "start_time": "2022-10-24T14:11:01.513Z"
   },
   {
    "duration": 37,
    "start_time": "2022-10-24T14:11:01.518Z"
   },
   {
    "duration": 14,
    "start_time": "2022-10-24T14:11:01.556Z"
   },
   {
    "duration": 13,
    "start_time": "2022-10-24T14:11:01.572Z"
   },
   {
    "duration": 19,
    "start_time": "2022-10-24T14:11:01.587Z"
   },
   {
    "duration": 28,
    "start_time": "2022-10-24T14:11:01.608Z"
   },
   {
    "duration": 3,
    "start_time": "2022-10-24T14:11:01.638Z"
   },
   {
    "duration": 51,
    "start_time": "2022-10-24T14:11:01.642Z"
   },
   {
    "duration": 10,
    "start_time": "2022-10-24T14:11:01.694Z"
   },
   {
    "duration": 12,
    "start_time": "2022-10-24T14:11:01.706Z"
   },
   {
    "duration": 125,
    "start_time": "2022-10-24T14:11:01.719Z"
   },
   {
    "duration": 7,
    "start_time": "2022-10-24T14:11:01.846Z"
   },
   {
    "duration": 42,
    "start_time": "2022-10-24T14:11:01.855Z"
   },
   {
    "duration": 31,
    "start_time": "2022-10-24T14:11:01.908Z"
   },
   {
    "duration": 13,
    "start_time": "2022-10-24T14:11:01.940Z"
   },
   {
    "duration": 3,
    "start_time": "2022-10-24T14:11:01.954Z"
   },
   {
    "duration": 94,
    "start_time": "2022-10-24T14:11:01.958Z"
   },
   {
    "duration": 0,
    "start_time": "2022-10-24T14:11:02.053Z"
   },
   {
    "duration": 0,
    "start_time": "2022-10-24T14:11:02.055Z"
   },
   {
    "duration": 0,
    "start_time": "2022-10-24T14:11:02.055Z"
   },
   {
    "duration": 10,
    "start_time": "2022-10-24T14:11:14.571Z"
   },
   {
    "duration": 39,
    "start_time": "2022-10-24T14:11:39.423Z"
   },
   {
    "duration": 3,
    "start_time": "2022-10-24T14:11:44.829Z"
   },
   {
    "duration": 8,
    "start_time": "2022-10-24T14:11:46.667Z"
   },
   {
    "duration": 2,
    "start_time": "2022-10-24T14:11:51.858Z"
   },
   {
    "duration": 9,
    "start_time": "2022-10-24T14:11:52.978Z"
   },
   {
    "duration": 2,
    "start_time": "2022-10-24T14:12:17.068Z"
   },
   {
    "duration": 7,
    "start_time": "2022-10-24T14:12:18.381Z"
   },
   {
    "duration": 3,
    "start_time": "2022-10-24T14:12:38.681Z"
   },
   {
    "duration": 10,
    "start_time": "2022-10-24T14:12:39.226Z"
   },
   {
    "duration": 3,
    "start_time": "2022-10-24T14:13:16.835Z"
   },
   {
    "duration": 7,
    "start_time": "2022-10-24T14:13:17.499Z"
   },
   {
    "duration": 7,
    "start_time": "2022-10-24T14:13:42.300Z"
   },
   {
    "duration": 437,
    "start_time": "2022-10-24T14:13:59.057Z"
   },
   {
    "duration": 3,
    "start_time": "2022-10-24T14:13:59.495Z"
   },
   {
    "duration": 33,
    "start_time": "2022-10-24T14:13:59.500Z"
   },
   {
    "duration": 20,
    "start_time": "2022-10-24T14:13:59.534Z"
   },
   {
    "duration": 9,
    "start_time": "2022-10-24T14:13:59.555Z"
   },
   {
    "duration": 9,
    "start_time": "2022-10-24T14:13:59.566Z"
   },
   {
    "duration": 46,
    "start_time": "2022-10-24T14:13:59.576Z"
   },
   {
    "duration": 3,
    "start_time": "2022-10-24T14:13:59.624Z"
   },
   {
    "duration": 45,
    "start_time": "2022-10-24T14:13:59.628Z"
   },
   {
    "duration": 32,
    "start_time": "2022-10-24T14:13:59.676Z"
   },
   {
    "duration": 32,
    "start_time": "2022-10-24T14:13:59.709Z"
   },
   {
    "duration": 30,
    "start_time": "2022-10-24T14:13:59.742Z"
   },
   {
    "duration": 74,
    "start_time": "2022-10-24T14:13:59.773Z"
   },
   {
    "duration": 9,
    "start_time": "2022-10-24T14:13:59.848Z"
   },
   {
    "duration": 25,
    "start_time": "2022-10-24T14:13:59.858Z"
   },
   {
    "duration": 12,
    "start_time": "2022-10-24T14:13:59.884Z"
   },
   {
    "duration": 21,
    "start_time": "2022-10-24T14:13:59.898Z"
   },
   {
    "duration": 17,
    "start_time": "2022-10-24T14:13:59.920Z"
   },
   {
    "duration": 3,
    "start_time": "2022-10-24T14:13:59.939Z"
   },
   {
    "duration": 12,
    "start_time": "2022-10-24T14:13:59.943Z"
   },
   {
    "duration": 15,
    "start_time": "2022-10-24T14:13:59.956Z"
   },
   {
    "duration": 12,
    "start_time": "2022-10-24T14:13:59.972Z"
   },
   {
    "duration": 27,
    "start_time": "2022-10-24T14:13:59.985Z"
   },
   {
    "duration": 42,
    "start_time": "2022-10-24T14:14:00.014Z"
   },
   {
    "duration": 4,
    "start_time": "2022-10-24T14:14:00.058Z"
   },
   {
    "duration": 76,
    "start_time": "2022-10-24T14:14:00.063Z"
   },
   {
    "duration": 17,
    "start_time": "2022-10-24T14:14:00.141Z"
   },
   {
    "duration": 46,
    "start_time": "2022-10-24T14:14:00.162Z"
   },
   {
    "duration": 73,
    "start_time": "2022-10-24T14:14:00.210Z"
   },
   {
    "duration": 14,
    "start_time": "2022-10-24T14:14:00.284Z"
   },
   {
    "duration": 67,
    "start_time": "2022-10-24T14:14:00.300Z"
   },
   {
    "duration": 47,
    "start_time": "2022-10-24T14:14:00.369Z"
   },
   {
    "duration": 23,
    "start_time": "2022-10-24T14:14:00.418Z"
   },
   {
    "duration": 45,
    "start_time": "2022-10-24T14:14:00.442Z"
   },
   {
    "duration": 56,
    "start_time": "2022-10-24T14:14:00.489Z"
   },
   {
    "duration": 39,
    "start_time": "2022-10-24T14:14:00.547Z"
   },
   {
    "duration": 121,
    "start_time": "2022-10-24T14:14:00.587Z"
   },
   {
    "duration": 0,
    "start_time": "2022-10-24T14:14:00.709Z"
   },
   {
    "duration": 0,
    "start_time": "2022-10-24T14:14:00.710Z"
   },
   {
    "duration": 4,
    "start_time": "2022-10-24T14:14:22.737Z"
   },
   {
    "duration": 7,
    "start_time": "2022-10-24T14:14:23.246Z"
   },
   {
    "duration": 2,
    "start_time": "2022-10-24T14:14:23.773Z"
   },
   {
    "duration": 7,
    "start_time": "2022-10-24T14:14:24.205Z"
   },
   {
    "duration": 24,
    "start_time": "2022-10-24T14:14:57.785Z"
   },
   {
    "duration": 7,
    "start_time": "2022-10-24T14:15:25.663Z"
   },
   {
    "duration": 4,
    "start_time": "2022-10-24T14:15:32.645Z"
   },
   {
    "duration": 23,
    "start_time": "2022-10-24T14:15:34.376Z"
   },
   {
    "duration": 7,
    "start_time": "2022-10-24T14:15:35.109Z"
   },
   {
    "duration": 6,
    "start_time": "2022-10-24T14:15:37.679Z"
   },
   {
    "duration": 7,
    "start_time": "2022-10-24T14:15:58.738Z"
   },
   {
    "duration": 12,
    "start_time": "2022-10-24T14:16:24.136Z"
   },
   {
    "duration": 11,
    "start_time": "2022-10-24T14:17:31.131Z"
   },
   {
    "duration": 0,
    "start_time": "2022-10-24T14:19:17.534Z"
   },
   {
    "duration": 0,
    "start_time": "2022-10-24T14:19:17.535Z"
   },
   {
    "duration": 0,
    "start_time": "2022-10-24T14:19:17.536Z"
   },
   {
    "duration": 0,
    "start_time": "2022-10-24T14:19:17.537Z"
   },
   {
    "duration": 0,
    "start_time": "2022-10-24T14:19:17.538Z"
   },
   {
    "duration": 0,
    "start_time": "2022-10-24T14:19:17.539Z"
   },
   {
    "duration": 0,
    "start_time": "2022-10-24T14:19:17.540Z"
   },
   {
    "duration": 0,
    "start_time": "2022-10-24T14:19:17.541Z"
   },
   {
    "duration": 0,
    "start_time": "2022-10-24T14:19:17.542Z"
   },
   {
    "duration": 0,
    "start_time": "2022-10-24T14:19:17.543Z"
   },
   {
    "duration": 0,
    "start_time": "2022-10-24T14:19:17.544Z"
   },
   {
    "duration": 0,
    "start_time": "2022-10-24T14:19:17.545Z"
   },
   {
    "duration": 0,
    "start_time": "2022-10-24T14:19:17.545Z"
   },
   {
    "duration": 0,
    "start_time": "2022-10-24T14:19:17.546Z"
   },
   {
    "duration": 0,
    "start_time": "2022-10-24T14:19:17.547Z"
   },
   {
    "duration": 0,
    "start_time": "2022-10-24T14:19:17.548Z"
   },
   {
    "duration": 0,
    "start_time": "2022-10-24T14:19:17.549Z"
   },
   {
    "duration": 0,
    "start_time": "2022-10-24T14:19:17.550Z"
   },
   {
    "duration": 0,
    "start_time": "2022-10-24T14:19:17.551Z"
   },
   {
    "duration": 0,
    "start_time": "2022-10-24T14:19:17.552Z"
   },
   {
    "duration": 0,
    "start_time": "2022-10-24T14:19:17.553Z"
   },
   {
    "duration": 0,
    "start_time": "2022-10-24T14:19:17.554Z"
   },
   {
    "duration": 0,
    "start_time": "2022-10-24T14:19:17.554Z"
   },
   {
    "duration": 0,
    "start_time": "2022-10-24T14:19:17.555Z"
   },
   {
    "duration": 0,
    "start_time": "2022-10-24T14:19:17.556Z"
   },
   {
    "duration": 0,
    "start_time": "2022-10-24T14:19:17.557Z"
   },
   {
    "duration": 0,
    "start_time": "2022-10-24T14:19:17.557Z"
   },
   {
    "duration": 0,
    "start_time": "2022-10-24T14:19:17.558Z"
   },
   {
    "duration": 0,
    "start_time": "2022-10-24T14:19:17.559Z"
   },
   {
    "duration": 0,
    "start_time": "2022-10-24T14:19:17.560Z"
   },
   {
    "duration": 0,
    "start_time": "2022-10-24T14:19:17.609Z"
   },
   {
    "duration": 0,
    "start_time": "2022-10-24T14:19:17.610Z"
   },
   {
    "duration": 0,
    "start_time": "2022-10-24T14:19:17.611Z"
   },
   {
    "duration": 0,
    "start_time": "2022-10-24T14:19:17.612Z"
   },
   {
    "duration": 0,
    "start_time": "2022-10-24T14:19:17.612Z"
   },
   {
    "duration": 0,
    "start_time": "2022-10-24T14:19:17.613Z"
   },
   {
    "duration": 0,
    "start_time": "2022-10-24T14:19:17.614Z"
   },
   {
    "duration": 0,
    "start_time": "2022-10-24T14:19:17.615Z"
   },
   {
    "duration": 0,
    "start_time": "2022-10-24T14:19:17.616Z"
   },
   {
    "duration": 0,
    "start_time": "2022-10-24T14:19:17.617Z"
   },
   {
    "duration": 0,
    "start_time": "2022-10-24T14:19:17.618Z"
   },
   {
    "duration": 23,
    "start_time": "2022-10-24T14:19:41.231Z"
   },
   {
    "duration": 8,
    "start_time": "2022-10-24T14:19:45.091Z"
   },
   {
    "duration": 11,
    "start_time": "2022-10-24T14:19:50.056Z"
   },
   {
    "duration": 10,
    "start_time": "2022-10-24T14:19:58.646Z"
   },
   {
    "duration": 13,
    "start_time": "2022-10-24T14:20:20.343Z"
   },
   {
    "duration": 10,
    "start_time": "2022-10-24T14:20:38.602Z"
   },
   {
    "duration": 11,
    "start_time": "2022-10-24T14:22:17.474Z"
   },
   {
    "duration": 3,
    "start_time": "2022-10-24T14:23:13.504Z"
   },
   {
    "duration": 17,
    "start_time": "2022-10-24T14:23:15.204Z"
   },
   {
    "duration": 16,
    "start_time": "2022-10-24T14:23:24.840Z"
   },
   {
    "duration": 3,
    "start_time": "2022-10-24T14:23:26.935Z"
   },
   {
    "duration": 15,
    "start_time": "2022-10-24T14:23:28.176Z"
   },
   {
    "duration": 3,
    "start_time": "2022-10-24T14:23:31.342Z"
   },
   {
    "duration": 16,
    "start_time": "2022-10-24T14:23:33.250Z"
   },
   {
    "duration": 426,
    "start_time": "2022-10-24T14:23:37.564Z"
   },
   {
    "duration": 3,
    "start_time": "2022-10-24T14:23:37.992Z"
   },
   {
    "duration": 35,
    "start_time": "2022-10-24T14:23:37.997Z"
   },
   {
    "duration": 50,
    "start_time": "2022-10-24T14:23:38.034Z"
   },
   {
    "duration": 38,
    "start_time": "2022-10-24T14:23:38.085Z"
   },
   {
    "duration": 29,
    "start_time": "2022-10-24T14:23:38.124Z"
   },
   {
    "duration": 55,
    "start_time": "2022-10-24T14:23:38.155Z"
   },
   {
    "duration": 3,
    "start_time": "2022-10-24T14:23:38.212Z"
   },
   {
    "duration": 35,
    "start_time": "2022-10-24T14:23:38.217Z"
   },
   {
    "duration": 17,
    "start_time": "2022-10-24T14:23:38.254Z"
   },
   {
    "duration": 25,
    "start_time": "2022-10-24T14:23:38.273Z"
   },
   {
    "duration": 18,
    "start_time": "2022-10-24T14:23:38.300Z"
   },
   {
    "duration": 41,
    "start_time": "2022-10-24T14:23:38.320Z"
   },
   {
    "duration": 9,
    "start_time": "2022-10-24T14:23:38.363Z"
   },
   {
    "duration": 19,
    "start_time": "2022-10-24T14:23:38.373Z"
   },
   {
    "duration": 29,
    "start_time": "2022-10-24T14:23:38.393Z"
   },
   {
    "duration": 47,
    "start_time": "2022-10-24T14:23:38.424Z"
   },
   {
    "duration": 45,
    "start_time": "2022-10-24T14:23:38.473Z"
   },
   {
    "duration": 16,
    "start_time": "2022-10-24T14:23:38.519Z"
   },
   {
    "duration": 46,
    "start_time": "2022-10-24T14:23:38.537Z"
   },
   {
    "duration": 42,
    "start_time": "2022-10-24T14:23:38.584Z"
   },
   {
    "duration": 34,
    "start_time": "2022-10-24T14:23:38.628Z"
   },
   {
    "duration": 52,
    "start_time": "2022-10-24T14:23:38.664Z"
   },
   {
    "duration": 41,
    "start_time": "2022-10-24T14:23:38.717Z"
   },
   {
    "duration": 13,
    "start_time": "2022-10-24T14:23:38.761Z"
   },
   {
    "duration": 49,
    "start_time": "2022-10-24T14:23:38.776Z"
   },
   {
    "duration": 30,
    "start_time": "2022-10-24T14:23:38.827Z"
   },
   {
    "duration": 22,
    "start_time": "2022-10-24T14:23:38.861Z"
   },
   {
    "duration": 66,
    "start_time": "2022-10-24T14:23:38.885Z"
   },
   {
    "duration": 19,
    "start_time": "2022-10-24T14:23:38.953Z"
   },
   {
    "duration": 70,
    "start_time": "2022-10-24T14:23:38.974Z"
   },
   {
    "duration": 34,
    "start_time": "2022-10-24T14:23:39.046Z"
   },
   {
    "duration": 16,
    "start_time": "2022-10-24T14:23:39.082Z"
   },
   {
    "duration": 37,
    "start_time": "2022-10-24T14:23:39.100Z"
   },
   {
    "duration": 33,
    "start_time": "2022-10-24T14:23:39.139Z"
   },
   {
    "duration": 43,
    "start_time": "2022-10-24T14:23:39.173Z"
   },
   {
    "duration": 43,
    "start_time": "2022-10-24T14:23:39.218Z"
   },
   {
    "duration": 35,
    "start_time": "2022-10-24T14:23:39.263Z"
   },
   {
    "duration": 34,
    "start_time": "2022-10-24T14:23:39.300Z"
   },
   {
    "duration": 20,
    "start_time": "2022-10-24T14:23:39.336Z"
   },
   {
    "duration": 63,
    "start_time": "2022-10-24T14:23:39.357Z"
   },
   {
    "duration": 21,
    "start_time": "2022-10-24T14:23:39.421Z"
   },
   {
    "duration": 44,
    "start_time": "2022-10-24T14:23:39.443Z"
   },
   {
    "duration": 3,
    "start_time": "2022-10-24T14:35:36.373Z"
   },
   {
    "duration": 12,
    "start_time": "2022-10-24T14:35:38.451Z"
   },
   {
    "duration": 2,
    "start_time": "2022-10-24T14:35:56.449Z"
   },
   {
    "duration": 12,
    "start_time": "2022-10-24T14:35:57.986Z"
   },
   {
    "duration": 3,
    "start_time": "2022-10-24T14:36:04.529Z"
   },
   {
    "duration": 13,
    "start_time": "2022-10-24T14:36:05.093Z"
   },
   {
    "duration": 3,
    "start_time": "2022-10-24T14:36:15.891Z"
   },
   {
    "duration": 78,
    "start_time": "2022-10-24T14:36:16.493Z"
   },
   {
    "duration": 2,
    "start_time": "2022-10-24T14:36:23.275Z"
   },
   {
    "duration": 3,
    "start_time": "2022-10-24T14:36:25.477Z"
   },
   {
    "duration": 12,
    "start_time": "2022-10-24T14:36:26.002Z"
   },
   {
    "duration": 450,
    "start_time": "2022-10-24T14:36:49.736Z"
   },
   {
    "duration": 3,
    "start_time": "2022-10-24T14:36:50.187Z"
   },
   {
    "duration": 42,
    "start_time": "2022-10-24T14:36:50.191Z"
   },
   {
    "duration": 14,
    "start_time": "2022-10-24T14:36:50.236Z"
   },
   {
    "duration": 11,
    "start_time": "2022-10-24T14:36:50.252Z"
   },
   {
    "duration": 19,
    "start_time": "2022-10-24T14:36:50.264Z"
   },
   {
    "duration": 43,
    "start_time": "2022-10-24T14:36:50.284Z"
   },
   {
    "duration": 3,
    "start_time": "2022-10-24T14:36:50.329Z"
   },
   {
    "duration": 28,
    "start_time": "2022-10-24T14:36:50.333Z"
   },
   {
    "duration": 15,
    "start_time": "2022-10-24T14:36:50.364Z"
   },
   {
    "duration": 33,
    "start_time": "2022-10-24T14:36:50.380Z"
   },
   {
    "duration": 52,
    "start_time": "2022-10-24T14:36:50.414Z"
   },
   {
    "duration": 37,
    "start_time": "2022-10-24T14:36:50.468Z"
   },
   {
    "duration": 9,
    "start_time": "2022-10-24T14:36:50.507Z"
   },
   {
    "duration": 8,
    "start_time": "2022-10-24T14:36:50.517Z"
   },
   {
    "duration": 35,
    "start_time": "2022-10-24T14:36:50.526Z"
   },
   {
    "duration": 25,
    "start_time": "2022-10-24T14:36:50.562Z"
   },
   {
    "duration": 17,
    "start_time": "2022-10-24T14:36:50.589Z"
   },
   {
    "duration": 3,
    "start_time": "2022-10-24T14:36:50.608Z"
   },
   {
    "duration": 37,
    "start_time": "2022-10-24T14:36:50.613Z"
   },
   {
    "duration": 12,
    "start_time": "2022-10-24T14:36:50.652Z"
   },
   {
    "duration": 18,
    "start_time": "2022-10-24T14:36:50.666Z"
   },
   {
    "duration": 21,
    "start_time": "2022-10-24T14:36:50.686Z"
   },
   {
    "duration": 37,
    "start_time": "2022-10-24T14:36:50.709Z"
   },
   {
    "duration": 13,
    "start_time": "2022-10-24T14:36:50.748Z"
   },
   {
    "duration": 31,
    "start_time": "2022-10-24T14:36:50.762Z"
   },
   {
    "duration": 12,
    "start_time": "2022-10-24T14:36:50.795Z"
   },
   {
    "duration": 30,
    "start_time": "2022-10-24T14:36:50.810Z"
   },
   {
    "duration": 27,
    "start_time": "2022-10-24T14:36:50.842Z"
   },
   {
    "duration": 23,
    "start_time": "2022-10-24T14:36:50.871Z"
   },
   {
    "duration": 63,
    "start_time": "2022-10-24T14:36:50.896Z"
   },
   {
    "duration": 27,
    "start_time": "2022-10-24T14:36:50.960Z"
   },
   {
    "duration": 18,
    "start_time": "2022-10-24T14:36:50.989Z"
   },
   {
    "duration": 7,
    "start_time": "2022-10-24T14:36:51.008Z"
   },
   {
    "duration": 8,
    "start_time": "2022-10-24T14:36:51.017Z"
   },
   {
    "duration": 3,
    "start_time": "2022-10-24T14:36:51.027Z"
   },
   {
    "duration": 14,
    "start_time": "2022-10-24T14:36:51.031Z"
   },
   {
    "duration": 3,
    "start_time": "2022-10-24T14:36:51.046Z"
   },
   {
    "duration": 13,
    "start_time": "2022-10-24T14:36:51.050Z"
   },
   {
    "duration": 6,
    "start_time": "2022-10-24T14:36:51.064Z"
   },
   {
    "duration": 11,
    "start_time": "2022-10-24T14:36:51.072Z"
   },
   {
    "duration": 521,
    "start_time": "2022-10-25T09:50:50.056Z"
   },
   {
    "duration": 3,
    "start_time": "2022-10-25T09:50:50.579Z"
   },
   {
    "duration": 24,
    "start_time": "2022-10-25T09:50:50.584Z"
   },
   {
    "duration": 16,
    "start_time": "2022-10-25T09:50:50.611Z"
   },
   {
    "duration": 11,
    "start_time": "2022-10-25T09:50:50.628Z"
   },
   {
    "duration": 10,
    "start_time": "2022-10-25T09:50:50.640Z"
   },
   {
    "duration": 33,
    "start_time": "2022-10-25T09:50:50.652Z"
   },
   {
    "duration": 4,
    "start_time": "2022-10-25T09:50:50.686Z"
   },
   {
    "duration": 16,
    "start_time": "2022-10-25T09:50:50.691Z"
   },
   {
    "duration": 6,
    "start_time": "2022-10-25T09:50:50.728Z"
   },
   {
    "duration": 9,
    "start_time": "2022-10-25T09:50:50.736Z"
   },
   {
    "duration": 7,
    "start_time": "2022-10-25T09:50:50.746Z"
   },
   {
    "duration": 42,
    "start_time": "2022-10-25T09:50:50.754Z"
   },
   {
    "duration": 10,
    "start_time": "2022-10-25T09:50:50.798Z"
   },
   {
    "duration": 3,
    "start_time": "2022-10-25T09:50:50.829Z"
   },
   {
    "duration": 11,
    "start_time": "2022-10-25T09:50:50.834Z"
   },
   {
    "duration": 21,
    "start_time": "2022-10-25T09:50:50.847Z"
   },
   {
    "duration": 16,
    "start_time": "2022-10-25T09:50:50.870Z"
   },
   {
    "duration": 4,
    "start_time": "2022-10-25T09:50:50.887Z"
   },
   {
    "duration": 11,
    "start_time": "2022-10-25T09:50:50.893Z"
   },
   {
    "duration": 6,
    "start_time": "2022-10-25T09:50:50.929Z"
   },
   {
    "duration": 11,
    "start_time": "2022-10-25T09:50:50.937Z"
   },
   {
    "duration": 12,
    "start_time": "2022-10-25T09:50:50.950Z"
   },
   {
    "duration": 28,
    "start_time": "2022-10-25T09:50:50.964Z"
   },
   {
    "duration": 4,
    "start_time": "2022-10-25T09:50:50.993Z"
   },
   {
    "duration": 45,
    "start_time": "2022-10-25T09:50:50.999Z"
   },
   {
    "duration": 11,
    "start_time": "2022-10-25T09:50:51.045Z"
   },
   {
    "duration": 12,
    "start_time": "2022-10-25T09:50:51.059Z"
   },
   {
    "duration": 27,
    "start_time": "2022-10-25T09:50:51.073Z"
   },
   {
    "duration": 32,
    "start_time": "2022-10-25T09:50:51.101Z"
   },
   {
    "duration": 34,
    "start_time": "2022-10-25T09:50:51.135Z"
   },
   {
    "duration": 28,
    "start_time": "2022-10-25T09:50:51.170Z"
   },
   {
    "duration": 34,
    "start_time": "2022-10-25T09:50:51.200Z"
   },
   {
    "duration": 3,
    "start_time": "2022-10-25T09:50:51.235Z"
   },
   {
    "duration": 8,
    "start_time": "2022-10-25T09:50:51.239Z"
   },
   {
    "duration": 3,
    "start_time": "2022-10-25T09:50:51.248Z"
   },
   {
    "duration": 11,
    "start_time": "2022-10-25T09:50:51.253Z"
   },
   {
    "duration": 3,
    "start_time": "2022-10-25T09:50:51.265Z"
   },
   {
    "duration": 14,
    "start_time": "2022-10-25T09:50:51.269Z"
   },
   {
    "duration": 7,
    "start_time": "2022-10-25T09:50:51.284Z"
   },
   {
    "duration": 12,
    "start_time": "2022-10-25T09:50:51.329Z"
   },
   {
    "duration": 2,
    "start_time": "2022-10-25T09:52:12.325Z"
   },
   {
    "duration": 3,
    "start_time": "2022-10-25T09:52:13.796Z"
   },
   {
    "duration": 4,
    "start_time": "2022-10-25T09:52:14.913Z"
   },
   {
    "duration": 7,
    "start_time": "2022-10-25T09:52:15.527Z"
   },
   {
    "duration": 3,
    "start_time": "2022-10-25T09:52:16.146Z"
   },
   {
    "duration": 11,
    "start_time": "2022-10-25T09:52:16.711Z"
   },
   {
    "duration": 2,
    "start_time": "2022-10-25T09:52:17.200Z"
   },
   {
    "duration": 13,
    "start_time": "2022-10-25T09:52:17.732Z"
   },
   {
    "duration": 4,
    "start_time": "2022-10-25T09:53:04.440Z"
   },
   {
    "duration": 4,
    "start_time": "2022-10-25T09:53:11.928Z"
   },
   {
    "duration": 4,
    "start_time": "2022-10-25T09:53:13.156Z"
   },
   {
    "duration": 6,
    "start_time": "2022-10-25T09:53:20.092Z"
   },
   {
    "duration": 4,
    "start_time": "2022-10-25T10:16:20.936Z"
   },
   {
    "duration": 7,
    "start_time": "2022-10-25T10:16:21.516Z"
   },
   {
    "duration": 5,
    "start_time": "2022-10-25T10:16:36.736Z"
   },
   {
    "duration": 9,
    "start_time": "2022-10-25T10:16:37.196Z"
   },
   {
    "duration": 4,
    "start_time": "2022-10-25T10:16:57.040Z"
   },
   {
    "duration": 7,
    "start_time": "2022-10-25T10:16:57.496Z"
   },
   {
    "duration": 4,
    "start_time": "2022-10-25T10:17:10.192Z"
   },
   {
    "duration": 8,
    "start_time": "2022-10-25T10:17:10.672Z"
   }
  ],
  "colab": {
   "name": "dpp_template_part2.ipynb",
   "provenance": []
  },
  "kernelspec": {
   "display_name": "Python 3 (ipykernel)",
   "language": "python",
   "name": "python3"
  },
  "language_info": {
   "codemirror_mode": {
    "name": "ipython",
    "version": 3
   },
   "file_extension": ".py",
   "mimetype": "text/x-python",
   "name": "python",
   "nbconvert_exporter": "python",
   "pygments_lexer": "ipython3",
   "version": "3.9.13"
  },
  "toc": {
   "base_numbering": 1,
   "nav_menu": {},
   "number_sections": true,
   "sideBar": true,
   "skip_h1_title": true,
   "title_cell": "Table of Contents",
   "title_sidebar": "Contents",
   "toc_cell": false,
   "toc_position": {},
   "toc_section_display": true,
   "toc_window_display": false
  }
 },
 "nbformat": 4,
 "nbformat_minor": 5
}
